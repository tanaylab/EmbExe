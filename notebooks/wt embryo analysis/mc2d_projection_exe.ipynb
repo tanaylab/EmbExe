{
 "cells": [
  {
   "cell_type": "markdown",
   "id": "cbad6881",
   "metadata": {},
   "source": [
    "### Metacell 2d projection of ExE manifold"
   ]
  },
  {
   "cell_type": "code",
   "execution_count": null,
   "id": "f1c04c50",
   "metadata": {},
   "outputs": [],
   "source": [
    "setwd(here::here())"
   ]
  },
  {
   "cell_type": "code",
   "execution_count": 2,
   "id": "90fc5bce",
   "metadata": {},
   "outputs": [],
   "source": [
    "library(\"metacell\")\n",
    "library(\"umap\")"
   ]
  },
  {
   "cell_type": "code",
   "execution_count": 3,
   "id": "f677621b",
   "metadata": {},
   "outputs": [
    {
     "name": "stderr",
     "output_type": "stream",
     "text": [
      "initializing scdb to scrna_db/\n",
      "\n"
     ]
    }
   ],
   "source": [
    "scdb_init(\"scrna_db/\",force_reinit = T)\n",
    "scfigs_init('figs')"
   ]
  },
  {
   "cell_type": "code",
   "execution_count": 11,
   "id": "0b45ad00",
   "metadata": {},
   "outputs": [
    {
     "name": "stdout",
     "output_type": "stream",
     "text": [
      "Calculating gene statistics... "
     ]
    },
    {
     "name": "stderr",
     "output_type": "stream",
     "text": [
      "will downsamp\n",
      "\n",
      "done downsamp\n",
      "\n",
      "will gen mat_n\n",
      "\n",
      "done gen mat_n\n",
      "\n",
      "done computing basic gstat, will compute trends\n",
      "\n"
     ]
    },
    {
     "name": "stdout",
     "output_type": "stream",
     "text": [
      "..done\n"
     ]
    },
    {
     "name": "stderr",
     "output_type": "stream",
     "text": [
      "will downsample the matrix, N= 1850\n",
      "\n",
      "will build balanced knn graph on 8865 cells and 555 genes, this can be a bit heavy for >20,000 cells\n",
      "\n"
     ]
    }
   ],
   "source": [
    "add_bad_genes = read.table('data/embexe.bad_genes.txt',sep = '\\t',h= T,stringsAsFactors = F)$x\n",
    "\n",
    "mat_nm = \"exe\"\n",
    "mcell_add_gene_stat(mat_nm, mat_nm, force=T)\n",
    "mcell_gset_filter_varmean(mat_nm, mat_nm, T_vm=0.1, force_new=T)\n",
    "mcell_gset_filter_cov(mat_nm, mat_nm, T_tot=50, T_top3=3)\n",
    "\n",
    "gset = scdb_gset(mat_nm)\n",
    "nms = names(gset@gene_set)\n",
    "#bad gene that will be removed from list of genes that helps to mark metacell\n",
    "bad_g = c(grep(\"^Rpl\",nms,v=T),grep(\"^Gm\",nms,v=T),grep(\"Rps\",nms,v=T))\n",
    "bad_g = c(bad_g, add_bad_genes)\n",
    "\n",
    "gset_f = gset_new_restrict_nms(gset=gset, bad_g, inverse=T, \"feat filt\")\n",
    "scdb_add_gset(mat_nm, gset_f)\n",
    "\n",
    "mcell_add_cgraph_from_mat_bknn(mat_id=mat_nm,\n",
    "                               gset_id = mat_nm,\n",
    "                               graph_id=mat_nm,\n",
    "                               K=100,\n",
    "                               dsamp=T)"
   ]
  },
  {
   "cell_type": "code",
   "execution_count": 4,
   "id": "a768b867",
   "metadata": {},
   "outputs": [],
   "source": [
    "tgconfig::override_params(config_file = \"config/emb_exe.yaml\",package = \"metacell\")\n",
    "# mcell_mc2d_T_edge: 0.009\n",
    "# mcell_mc2d_K: 25\n",
    "# mcell_mc2d_max_confu_deg: 4\n",
    "\n",
    "# generate mgraph using logistic distance\n",
    "mat_nm = \"exe\"\n",
    "feat_gset = mat_nm\n",
    "mc_id = \"exe\"\n",
    "mgraph_id = paste0(mat_nm,\"_logist\")\n",
    "graph_id = \"exe\"\n",
    "mc2d_id = paste0(mc_id,\"_umap\")\n",
    "symmetrize = F\n",
    "umap_mgraph = F\n",
    "\n",
    "uconf = umap.defaults\n",
    "#uconf$n_neighbors=6\n",
    "#uconf$min_dist=0.9\n",
    "uconf$n_neighbors=4\n",
    "uconf$min_dist =0.9\n",
    "uconf$bandwidth=1.3"
   ]
  },
  {
   "cell_type": "code",
   "execution_count": 5,
   "id": "0cef00bf",
   "metadata": {},
   "outputs": [],
   "source": [
    "logist_loc = 1\n",
    "logist_scale = 0.2\n",
    "logist_eps = 4e-5\n",
    "max_d_fold = 2\n",
    "tgconfig::set_param(param = \"mcell_mgraph_max_confu_deg\",value = 4,package = \"metacell\")\n",
    "\n",
    "mc = scdb_mc(mc_id)\n",
    "gset = scdb_gset(feat_gset)\n",
    "feat_genes = names(gset@gene_set)\n",
    "\n",
    "mgraph = mgraph_comp_logist(mc = mc, \n",
    "                            genes = feat_genes, \n",
    "                            loc = logist_loc,\n",
    "                            scale =  logist_scale, \n",
    "                            eps = logist_eps, \n",
    "                            max_d_fold = max_d_fold)"
   ]
  },
  {
   "cell_type": "code",
   "execution_count": 11,
   "id": "03bb9210",
   "metadata": {},
   "outputs": [
    {
     "name": "stderr",
     "output_type": "stream",
     "text": [
      "Missing coordinates in some cells that are not ourliers or ignored - check this out! (total 25 cells are missing, maybe you used the wrong graph object? first nodes 181209_P03.181209_P03252190311_P01.190311_P01294190313_P09.190313_P09021190313_P12.190313_P12096190506_P120.190506_P120021190506_P120.190506_P120222190506_P120.190506_P120254190506_P125.190506_P125026190527_P152.190527_P152100190527_P153.190527_P153371\n",
      "\n"
     ]
    },
    {
     "data": {
      "text/html": [
       "<strong>png:</strong> 2"
      ],
      "text/latex": [
       "\\textbf{png:} 2"
      ],
      "text/markdown": [
       "**png:** 2"
      ],
      "text/plain": [
       "png \n",
       "  2 "
      ]
     },
     "metadata": {},
     "output_type": "display_data"
    }
   ],
   "source": [
    "uconf$random_state = 1234567\n",
    "mc_xy_umap = mc2d_comp_graph_coord_umap(mc, feat_genes, mgraph, uconf, umap_mgraph)\n",
    "xy_umap = mc2d_comp_cell_coord(mc_id = mc_id,graph_id =  graph_id, mgraph = mgraph, cl_xy = mc_xy_umap, symmetrize=symmetrize)\n",
    "scdb_add_mc2d(mc2d_id, tgMC2D(mc_id, mc_xy_umap$mc_x, mc_xy_umap$mc_y, xy_umap$x, xy_umap$y, mgraph))\n",
    "\n",
    "mcell_mc2d_plot(mc2d_id)"
   ]
  },
  {
   "cell_type": "code",
   "execution_count": null,
   "id": "c60f7684",
   "metadata": {},
   "outputs": [],
   "source": []
  }
 ],
 "metadata": {
  "kernelspec": {
   "display_name": "R",
   "language": "R",
   "name": "ir353"
  },
  "language_info": {
   "codemirror_mode": "r",
   "file_extension": ".r",
   "mimetype": "text/x-r-source",
   "name": "R",
   "pygments_lexer": "r",
   "version": "4.0.5"
  }
 },
 "nbformat": 4,
 "nbformat_minor": 5
}
