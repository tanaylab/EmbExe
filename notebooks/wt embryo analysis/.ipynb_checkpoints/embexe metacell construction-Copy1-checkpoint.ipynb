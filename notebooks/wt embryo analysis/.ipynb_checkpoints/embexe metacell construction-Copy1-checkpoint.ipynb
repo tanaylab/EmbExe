{
 "cells": [
  {
   "cell_type": "markdown",
   "id": "4a220fe3",
   "metadata": {},
   "source": [
    "### Metacell construction"
   ]
  },
  {
   "cell_type": "code",
   "execution_count": 1,
   "id": "3468535e",
   "metadata": {},
   "outputs": [],
   "source": [
    "setwd(here::here())"
   ]
  },
  {
   "cell_type": "code",
   "execution_count": 2,
   "id": "479c623c",
   "metadata": {},
   "outputs": [],
   "source": [
    "library(\"metacell\")\n",
    "source(\"scripts/generic_mc.r\")\n",
    "tgconfig::override_params(config_file = \"config/emb_exe.yaml\",package = \"metacell\")"
   ]
  },
  {
   "cell_type": "code",
   "execution_count": null,
   "id": "2dca743b",
   "metadata": {},
   "outputs": [],
   "source": [
    "scdb_init(\"scrna_db\",force_reinit = T)\n",
    "scfigs_init(\"figs\")\n",
    "\n",
    "# first iteration without out filtered genes\n",
    "# generate_mc(mat_nm, color_key=NA,recompute = T)\n",
    "# then run embdyn_find_bad_genes.r and filter bad gene modules\n",
    "# included bad genes in second iteration\n",
    "bad_genes = read.table(\"data/embexe.bad_genes.txt\",sep = \"\\t\",stringsAsFactors = F)\n",
    "bad_genes = bad_genes[,1]\n",
    "\n",
    "mat_nm = \"embexe\"\n",
    "\n",
    "generate_mc(mat_nm, color_key=NA,add_bad_genes = bad_genes,recompute = T)"
   ]
  },
  {
   "cell_type": "markdown",
   "id": "ad239bf0",
   "metadata": {},
   "source": [
    "The above function *generate_mc* creates an unannotated metacell object named *embexe_bs500f*. Metacells were subsequently annotated based on marker gene expression (see Fig. 1) and previous annotation (of embryonic cells). The mc_id of the annotated metacell object is *embexe_recolored*."
   ]
  },
  {
   "cell_type": "code",
   "execution_count": null,
   "id": "eb2a955e",
   "metadata": {},
   "outputs": [],
   "source": []
  }
 ],
 "metadata": {
  "kernelspec": {
   "display_name": "R",
   "language": "R",
   "name": "ir353"
  },
  "language_info": {
   "codemirror_mode": "r",
   "file_extension": ".r",
   "mimetype": "text/x-r-source",
   "name": "R",
   "pygments_lexer": "r",
   "version": "4.0.5"
  }
 },
 "nbformat": 4,
 "nbformat_minor": 5
}
