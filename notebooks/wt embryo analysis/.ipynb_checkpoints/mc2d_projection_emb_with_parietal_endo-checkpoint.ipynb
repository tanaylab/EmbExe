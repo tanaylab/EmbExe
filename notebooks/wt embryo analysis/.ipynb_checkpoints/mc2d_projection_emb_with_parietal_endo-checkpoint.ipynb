{
 "cells": [
  {
   "cell_type": "markdown",
   "id": "7d23ab96",
   "metadata": {},
   "source": [
    "### Metacell 2d projection of embryonic manifold"
   ]
  },
  {
   "cell_type": "code",
   "execution_count": null,
   "id": "5585dfa7",
   "metadata": {},
   "outputs": [],
   "source": [
    "setwd(here::here())"
   ]
  },
  {
   "cell_type": "code",
   "execution_count": 1,
   "id": "35076889",
   "metadata": {},
   "outputs": [],
   "source": [
    "library(\"metacell\")\n",
    "library(\"umap\")"
   ]
  },
  {
   "cell_type": "code",
   "execution_count": 2,
   "id": "defc262e",
   "metadata": {},
   "outputs": [
    {
     "name": "stderr",
     "output_type": "stream",
     "text": [
      "initializing scdb to scrna_db/\n",
      "\n"
     ]
    }
   ],
   "source": [
    "scdb_init(\"scrna_db/\",force_reinit = T)\n",
    "scfigs_init('figs')"
   ]
  },
  {
   "cell_type": "code",
   "execution_count": 3,
   "id": "2c9490bb",
   "metadata": {},
   "outputs": [
    {
     "name": "stdout",
     "output_type": "stream",
     "text": [
      "Calculating gene statistics... "
     ]
    },
    {
     "name": "stderr",
     "output_type": "stream",
     "text": [
      "will downsamp\n",
      "\n",
      "done downsamp\n",
      "\n",
      "will gen mat_n\n",
      "\n",
      "done gen mat_n\n",
      "\n",
      "done computing basic gstat, will compute trends\n",
      "\n"
     ]
    },
    {
     "name": "stdout",
     "output_type": "stream",
     "text": [
      "..done\n"
     ]
    },
    {
     "name": "stderr",
     "output_type": "stream",
     "text": [
      "will downsample the matrix, N= 1769\n",
      "\n",
      "will build balanced knn graph on 57555 cells and 1024 genes, this can be a bit heavy for >20,000 cells\n",
      "\n",
      "sim graph is missing 2 nodes, out of 57555\n",
      "\n"
     ]
    }
   ],
   "source": [
    "add_bad_genes = read.table('data/embexe.bad_genes.txt',sep = '\\t',h= T,stringsAsFactors = F)$x\n",
    "\n",
    "mat_nm = \"emb\"\n",
    "mcell_add_gene_stat(mat_nm, mat_nm, force=T)\n",
    "mcell_gset_filter_varmean(mat_nm, mat_nm, T_vm=0.1, force_new=T)\n",
    "mcell_gset_filter_cov(mat_nm, mat_nm, T_tot=50, T_top3=3)\n",
    "\n",
    "gset = scdb_gset(mat_nm)\n",
    "nms = names(gset@gene_set)\n",
    "#bad gene that will be removed from list of genes that helps to mark metacell\n",
    "bad_g = c(grep(\"^Rpl\",nms,v=T),grep(\"^Gm\",nms,v=T),grep(\"Rps\",nms,v=T))\n",
    "bad_g = c(bad_g, add_bad_genes)\n",
    "\n",
    "gset_f = gset_new_restrict_nms(gset=gset, bad_g, inverse=T, \"feat filt\")\n",
    "scdb_add_gset(mat_nm, gset_f)\n",
    "\n",
    "mcell_add_cgraph_from_mat_bknn(mat_id=mat_nm,\n",
    "                               gset_id = mat_nm,\n",
    "                               graph_id=mat_nm,\n",
    "                               K=100,\n",
    "                               dsamp=T)"
   ]
  },
  {
   "cell_type": "code",
   "execution_count": 4,
   "id": "4cc23a4c",
   "metadata": {},
   "outputs": [],
   "source": [
    "tgconfig::override_params(config_file = \"config/emb_exe.yaml\",package = \"metacell\")\n",
    "# mcell_mc2d_T_edge: 0.009\n",
    "# mcell_mc2d_K: 25\n",
    "# mcell_mc2d_max_confu_deg: 4\n",
    "\n",
    "# generate mgraph using logistic distance\n",
    "mat_nm = \"emb\"\n",
    "feat_gset = mat_nm\n",
    "mc_id = \"emb\"\n",
    "mgraph_id = paste0(mat_nm,\"_logist\")\n",
    "graph_id = \"emb\"\n",
    "mc2d_id = paste0(mc_id,\"_umap\")\n",
    "symmetrize = F\n",
    "umap_mgraph = F\n",
    "\n",
    "uconf = umap.defaults\n",
    "#uconf$n_neighbors=6\n",
    "#uconf$min_dist=0.9\n",
    "uconf$n_neighbors=4\n",
    "uconf$min_dist =0.9\n",
    "uconf$bandwidth=1.3"
   ]
  },
  {
   "cell_type": "code",
   "execution_count": 5,
   "id": "3f5e866b",
   "metadata": {},
   "outputs": [],
   "source": [
    "logist_loc = 1\n",
    "logist_scale = 0.2\n",
    "logist_eps = 4e-5\n",
    "max_d_fold = 2\n",
    "tgconfig::set_param(param = \"mcell_mgraph_max_confu_deg\",value = 4,package = \"metacell\")\n",
    "\n",
    "mc = scdb_mc(mc_id)\n",
    "gset = scdb_gset(feat_gset)\n",
    "feat_genes = names(gset@gene_set)\n",
    "\n",
    "mgraph = mgraph_comp_logist(mc = mc, \n",
    "                            genes = feat_genes, \n",
    "                            loc = logist_loc,\n",
    "                            scale =  logist_scale, \n",
    "                            eps = logist_eps, \n",
    "                            max_d_fold = max_d_fold)"
   ]
  },
  {
   "cell_type": "code",
   "execution_count": 12,
   "id": "08b27c43",
   "metadata": {},
   "outputs": [
    {
     "name": "stderr",
     "output_type": "stream",
     "text": [
      "Missing coordinates in some cells that are not ourliers or ignored - check this out! (total 878 cells are missing, maybe you used the wrong graph object? first nodes 181209_P01.181209_P01013181209_P01.181209_P01046181209_P01.181209_P01064181209_P01.181209_P01070181209_P01.181209_P01199181209_P01.181209_P01236181209_P01.181209_P01282181209_P01.181209_P01342181209_P03.181209_P03064181209_P03.181209_P03086\n",
      "\n"
     ]
    },
    {
     "data": {
      "text/html": [
       "<strong>png:</strong> 2"
      ],
      "text/latex": [
       "\\textbf{png:} 2"
      ],
      "text/markdown": [
       "**png:** 2"
      ],
      "text/plain": [
       "png \n",
       "  2 "
      ]
     },
     "metadata": {},
     "output_type": "display_data"
    }
   ],
   "source": [
    "uconf$random_state = 123456\n",
    "mc_xy_umap = mc2d_comp_graph_coord_umap(mc, feat_genes, mgraph, uconf, umap_mgraph)\n",
    "xy_umap = mc2d_comp_cell_coord(mc_id = mc_id,graph_id =  graph_id, mgraph = mgraph, cl_xy = mc_xy_umap, symmetrize=symmetrize)\n",
    "scdb_add_mc2d(mc2d_id, tgMC2D(mc_id, mc_xy_umap$mc_x, mc_xy_umap$mc_y, xy_umap$x, xy_umap$y, mgraph))\n",
    "\n",
    "mcell_mc2d_plot(mc2d_id)"
   ]
  },
  {
   "cell_type": "code",
   "execution_count": 17,
   "id": "315d2070",
   "metadata": {},
   "outputs": [],
   "source": [
    "#mcell_mc2d_plot_by_factor(mc2d_id = \"emb_umap\",mat_id = \"emb\",meta_field = \"transcriptional_rank\",single_plot = F)"
   ]
  },
  {
   "cell_type": "code",
   "execution_count": null,
   "id": "0daaf632",
   "metadata": {},
   "outputs": [],
   "source": []
  }
 ],
 "metadata": {
  "kernelspec": {
   "display_name": "R",
   "language": "R",
   "name": "ir353"
  },
  "language_info": {
   "codemirror_mode": "r",
   "file_extension": ".r",
   "mimetype": "text/x-r-source",
   "name": "R",
   "pygments_lexer": "r",
   "version": "4.0.5"
  }
 },
 "nbformat": 4,
 "nbformat_minor": 5
}
