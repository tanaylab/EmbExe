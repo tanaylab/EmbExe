{
 "cells": [
  {
   "cell_type": "code",
   "execution_count": 1,
   "id": "eb8a74e0",
   "metadata": {},
   "outputs": [],
   "source": [
    "setwd(here::here())"
   ]
  },
  {
   "cell_type": "code",
   "execution_count": 2,
   "id": "a20f64f2",
   "metadata": {},
   "outputs": [],
   "source": [
    "library(\"metacell\")\n",
    "library(\"umap\")"
   ]
  },
  {
   "cell_type": "code",
   "execution_count": 3,
   "id": "6934a1e0",
   "metadata": {},
   "outputs": [
    {
     "name": "stderr",
     "output_type": "stream",
     "text": [
      "initializing scdb to scrna_db/\n",
      "\n"
     ]
    }
   ],
   "source": [
    "scdb_init(\"scrna_db/\",force_reinit = T)\n",
    "scfigs_init('figs')"
   ]
  },
  {
   "cell_type": "code",
   "execution_count": 4,
   "id": "38a263c5",
   "metadata": {},
   "outputs": [],
   "source": [
    "tgconfig::override_params(config_file = \"config/emb_exe.yaml\",package = \"metacell\")\n",
    "# mcell_mc2d_T_edge: 0.009\n",
    "# mcell_mc2d_K: 25\n",
    "# mcell_mc2d_max_confu_deg: 4\n",
    "\n",
    "# generate mgraph using logistic distance\n",
    "mat_nm = \"embexe\"\n",
    "feat_gset = mat_nm\n",
    "mc_id = \"embexe_recolored\"\n",
    "mgraph_id = paste0(mat_nm,\"_logist\")\n",
    "graph_id = \"embexe\"\n",
    "mc2d_id = paste0(mc_id,\"_umap\")\n",
    "symmetrize = F\n",
    "umap_mgraph = F\n",
    "\n",
    "uconf = umap.defaults\n",
    "#uconf$n_neighbors=6\n",
    "#uconf$min_dist=0.9\n",
    "uconf$n_neighbors=4\n",
    "uconf$min_dist =0.9\n",
    "uconf$bandwidth=1.3"
   ]
  },
  {
   "cell_type": "code",
   "execution_count": 5,
   "id": "c736d80b",
   "metadata": {},
   "outputs": [],
   "source": [
    "logist_loc = 1\n",
    "logist_scale = 0.2\n",
    "logist_eps = 4e-5\n",
    "max_d_fold = 2\n",
    "tgconfig::set_param(param = \"mcell_mgraph_max_confu_deg\",value = 4,package = \"metacell\")\n",
    "\n",
    "mc = scdb_mc(mc_id)\n",
    "gset = scdb_gset(feat_gset)\n",
    "feat_genes = names(gset@gene_set)\n",
    "\n",
    "mgraph = mgraph_comp_logist(mc = mc, \n",
    "                            genes = feat_genes, \n",
    "                            loc = logist_loc,\n",
    "                            scale =  logist_scale, \n",
    "                            eps = logist_eps, \n",
    "                            max_d_fold = max_d_fold)"
   ]
  },
  {
   "cell_type": "code",
   "execution_count": 6,
   "id": "3a42d985",
   "metadata": {},
   "outputs": [
    {
     "name": "stderr",
     "output_type": "stream",
     "text": [
      "Missing coordinates in some cells that are not ourliers or ignored - check this out! (total 11 cells are missing, maybe you used the wrong graph object? first nodes 181209_P01.181209_P01064190307_P16.190307_P16117190311_P03.190311_P03060190506_P120.190506_P120141190506_P125.190506_P125355EXE_EXP10_E7.0_2.EXE_EXP10_E7.0_2333EXE23_P3.EXE23_P3080EXE24_P5.EXE24_P5094EXE25_P6.EXE25_P6080EXE25_P6.EXE25_P6262\n",
      "\n"
     ]
    },
    {
     "data": {
      "text/html": [
       "<strong>png:</strong> 2"
      ],
      "text/latex": [
       "\\textbf{png:} 2"
      ],
      "text/markdown": [
       "**png:** 2"
      ],
      "text/plain": [
       "png \n",
       "  2 "
      ]
     },
     "metadata": {},
     "output_type": "display_data"
    }
   ],
   "source": [
    "uconf$random_state = 123\n",
    "mc_xy_umap = mc2d_comp_graph_coord_umap(mc, feat_genes, mgraph, uconf, umap_mgraph)\n",
    "xy_umap = mc2d_comp_cell_coord(mc_id = mc_id,graph_id =  graph_id, mgraph = mgraph, cl_xy = mc_xy_umap, symmetrize=symmetrize)\n",
    "scdb_add_mc2d(mc2d_id, tgMC2D(mc_id, mc_xy_umap$mc_x, mc_xy_umap$mc_y, xy_umap$x, xy_umap$y, mgraph))\n",
    "\n",
    "mcell_mc2d_plot(mc2d_id)"
   ]
  },
  {
   "cell_type": "code",
   "execution_count": 7,
   "id": "93f54c14",
   "metadata": {},
   "outputs": [
    {
     "data": {
      "text/html": [
       "<strong>png:</strong> 2"
      ],
      "text/latex": [
       "\\textbf{png:} 2"
      ],
      "text/markdown": [
       "**png:** 2"
      ],
      "text/plain": [
       "png \n",
       "  2 "
      ]
     },
     "metadata": {},
     "output_type": "display_data"
    }
   ],
   "source": [
    "tgconfig::set_param(param = \"mcell_mc2d_height\",value = 2000,package = \"metacell\")\n",
    "tgconfig::set_param(param = \"mcell_mc2d_width\",value = 2000,package = \"metacell\")\n",
    "mcell_mc2d_plot(mc2d_id)"
   ]
  },
  {
   "cell_type": "code",
   "execution_count": null,
   "id": "cbb67cf3",
   "metadata": {},
   "outputs": [],
   "source": []
  }
 ],
 "metadata": {
  "kernelspec": {
   "display_name": "R",
   "language": "R",
   "name": "ir353"
  },
  "language_info": {
   "codemirror_mode": "r",
   "file_extension": ".r",
   "mimetype": "text/x-r-source",
   "name": "R",
   "pygments_lexer": "r",
   "version": "4.0.5"
  }
 },
 "nbformat": 4,
 "nbformat_minor": 5
}
