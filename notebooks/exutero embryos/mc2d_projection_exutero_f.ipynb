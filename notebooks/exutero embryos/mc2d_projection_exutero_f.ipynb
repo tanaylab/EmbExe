{
 "cells": [
  {
   "cell_type": "markdown",
   "id": "ba825374",
   "metadata": {},
   "source": [
    "### Generate metacell 2d projection for ex utero metacell object"
   ]
  },
  {
   "cell_type": "code",
   "execution_count": 1,
   "id": "354bf33d",
   "metadata": {},
   "outputs": [],
   "source": [
    "setwd(here::here())"
   ]
  },
  {
   "cell_type": "code",
   "execution_count": 1,
   "id": "84ca83d4",
   "metadata": {},
   "outputs": [],
   "source": [
    "library(\"metacell\")\n",
    "library(\"umap\")\n",
    "library(\"tgstat\")"
   ]
  },
  {
   "cell_type": "code",
   "execution_count": 2,
   "id": "c2ab02c5",
   "metadata": {},
   "outputs": [
    {
     "name": "stderr",
     "output_type": "stream",
     "text": [
      "initializing scdb to scrna_db/\n",
      "\n"
     ]
    }
   ],
   "source": [
    "scdb_init(\"scrna_db/\",force_reinit = T)\n",
    "scfigs_init('figs')"
   ]
  },
  {
   "cell_type": "code",
   "execution_count": 3,
   "id": "ab351472",
   "metadata": {},
   "outputs": [],
   "source": [
    "tgconfig::override_params(config_file = \"config/emb_exe.yaml\",package = \"metacell\")\n",
    " \n",
    "graph_id = \"exutero_f\"\n",
    "mc_id = graph_id\n",
    "mc2d_id = paste0(mc_id,\"_umap\")\n",
    "symmetrize = F\n",
    "umap_mgraph = F\n",
    "\n",
    "uconf = umap.defaults\n",
    "#uconf$n_neighbors=6\n",
    "#uconf$min_dist=0.9\n",
    "uconf$n_neighbors=4\n",
    "uconf$min_dist =0.9\n",
    "uconf$bandwidth=1.3"
   ]
  },
  {
   "cell_type": "code",
   "execution_count": 4,
   "id": "9930b3e9",
   "metadata": {},
   "outputs": [],
   "source": [
    "logist_loc = 1\n",
    "logist_scale = 0.2\n",
    "logist_eps = 4e-5\n",
    "max_d_fold = 2\n",
    "tgconfig::set_param(param = \"mcell_mgraph_max_confu_deg\",value = 4,package = \"metacell\")\n",
    "\n",
    "mc = scdb_mc(mc_id)\n",
    "gset = scdb_gset(graph_id)\n",
    "feat_genes = names(gset@gene_set)\n",
    "\n",
    "mgraph = mgraph_comp_logist(mc = mc, \n",
    "                            genes = feat_genes, \n",
    "                            loc = logist_loc,\n",
    "                            scale =  logist_scale, \n",
    "                            eps = logist_eps, \n",
    "                            max_d_fold = max_d_fold)"
   ]
  },
  {
   "cell_type": "code",
   "execution_count": 5,
   "id": "13e3de0f",
   "metadata": {},
   "outputs": [
    {
     "data": {
      "text/html": [
       "<strong>png:</strong> 2"
      ],
      "text/latex": [
       "\\textbf{png:} 2"
      ],
      "text/markdown": [
       "**png:** 2"
      ],
      "text/plain": [
       "png \n",
       "  2 "
      ]
     },
     "metadata": {},
     "output_type": "display_data"
    }
   ],
   "source": [
    "uconf$random_state = 1\n",
    "mc_xy_umap = mc2d_comp_graph_coord_umap(mc, feat_genes, mgraph, uconf, umap_mgraph)\n",
    "xy_umap = mc2d_comp_cell_coord(mc_id = mc_id,graph_id =  graph_id, mgraph = mgraph, cl_xy = mc_xy_umap, symmetrize=symmetrize)\n",
    "scdb_add_mc2d(mc2d_id, tgMC2D(mc_id, mc_xy_umap$mc_x, mc_xy_umap$mc_y, xy_umap$x, xy_umap$y, mgraph))\n",
    "\n",
    "mcell_mc2d_plot(mc2d_id)"
   ]
  },
  {
   "cell_type": "code",
   "execution_count": 6,
   "id": "52b29b8a",
   "metadata": {},
   "outputs": [],
   "source": [
    "mcell_mc2d_plot_by_factor(mc2d_id = \"exutero_f_umap\",mat_id = \"exutero_f\",meta_field = \"Experiment\",single_plot = F)"
   ]
  },
  {
   "cell_type": "code",
   "execution_count": null,
   "id": "a371d8d9",
   "metadata": {},
   "outputs": [],
   "source": []
  }
 ],
 "metadata": {
  "kernelspec": {
   "display_name": "R",
   "language": "R",
   "name": "ir353"
  },
  "language_info": {
   "codemirror_mode": "r",
   "file_extension": ".r",
   "mimetype": "text/x-r-source",
   "name": "R",
   "pygments_lexer": "r",
   "version": "4.0.5"
  }
 },
 "nbformat": 4,
 "nbformat_minor": 5
}
