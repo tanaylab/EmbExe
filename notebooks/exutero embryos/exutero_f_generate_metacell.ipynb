{
 "cells": [
  {
   "cell_type": "markdown",
   "id": "89203938",
   "metadata": {},
   "source": [
    "### Ex utero embryos metacell construction"
   ]
  },
  {
   "cell_type": "code",
   "execution_count": 1,
   "id": "51944199",
   "metadata": {},
   "outputs": [],
   "source": [
    "setwd(here::here())"
   ]
  },
  {
   "cell_type": "code",
   "execution_count": 2,
   "id": "cf1152b8",
   "metadata": {},
   "outputs": [],
   "source": [
    "library(\"metacell\")"
   ]
  },
  {
   "cell_type": "code",
   "execution_count": 3,
   "id": "05aba1c2",
   "metadata": {},
   "outputs": [
    {
     "name": "stderr",
     "output_type": "stream",
     "text": [
      "initializing scdb to scrna_db/\n",
      "\n"
     ]
    }
   ],
   "source": [
    "scdb_init(\"scrna_db/\")"
   ]
  },
  {
   "cell_type": "code",
   "execution_count": 4,
   "id": "bfcbede2",
   "metadata": {},
   "outputs": [],
   "source": [
    "source(\"scripts/generic_mc.r\")\n",
    "tgconfig::override_params(config_file = \"config/emb_exe.yaml\",package = \"metacell\")"
   ]
  },
  {
   "cell_type": "code",
   "execution_count": 5,
   "id": "48e77ad4",
   "metadata": {},
   "outputs": [],
   "source": [
    "scfigs_init(\"figs\")"
   ]
  },
  {
   "cell_type": "code",
   "execution_count": 6,
   "id": "4079bbc5",
   "metadata": {},
   "outputs": [],
   "source": [
    "bad_genes = read.table(\"data/exutero_f.bad_genes.txt\",sep = \"\\t\",stringsAsFactors = F)\n",
    "bad_genes = bad_genes[,1]"
   ]
  },
  {
   "cell_type": "code",
   "execution_count": 7,
   "id": "44b89e93",
   "metadata": {},
   "outputs": [
    {
     "name": "stdout",
     "output_type": "stream",
     "text": [
      "Calculating gene statistics... "
     ]
    },
    {
     "name": "stderr",
     "output_type": "stream",
     "text": [
      "will downsamp\n",
      "\n",
      "done downsamp\n",
      "\n",
      "will gen mat_n\n",
      "\n",
      "done gen mat_n\n",
      "\n",
      "done computing basic gstat, will compute trends\n",
      "\n"
     ]
    },
    {
     "name": "stdout",
     "output_type": "stream",
     "text": [
      "..done\n"
     ]
    },
    {
     "name": "stderr",
     "output_type": "stream",
     "text": [
      "will downsample the matrix, N= 3034\n",
      "\n",
      "will build balanced knn graph on 12110 cells and 829 genes, this can be a bit heavy for >20,000 cells\n",
      "\n",
      "running bootstrap to generate cocluster\n",
      "\n",
      "done resampling\n",
      "\n",
      "filtered 4588169 left with 797614 based on co-cluster imbalance\n",
      "\n",
      "building metacell object, #mc 151\n",
      "\n",
      "add batch counts\n",
      "\n",
      "compute footprints\n",
      "\n",
      "compute absolute ps\n",
      "\n",
      "compute coverage ps\n",
      "\n",
      "reordering metacells by hclust and most variable two markers\n",
      "\n",
      "reorder on Rhox5 vs Pou5f1\n",
      "\n",
      "starting split outliers \n",
      "\n",
      "add batch counts\n",
      "\n",
      "compute footprints\n",
      "\n",
      "compute absolute ps\n",
      "\n",
      "compute coverage ps\n",
      "\n"
     ]
    }
   ],
   "source": [
    "mat_nm = \"exutero_f\"\n",
    "\n",
    "generate_mc(mat_nm, color_key=NA,add_bad_genes = bad_genes,recompute = T)"
   ]
  },
  {
   "cell_type": "markdown",
   "id": "11910ee0",
   "metadata": {},
   "source": [
    "#### Next color metacells by projecting them on the WT atlas"
   ]
  },
  {
   "cell_type": "code",
   "execution_count": 8,
   "id": "7bd9e7d4",
   "metadata": {},
   "outputs": [],
   "source": [
    "source(\"scripts/atlas_proj.r\")"
   ]
  },
  {
   "cell_type": "code",
   "execution_count": 9,
   "id": "56eb50d0",
   "metadata": {},
   "outputs": [],
   "source": [
    "mat_exutero = scdb_mat(\"exutero_f\")\n",
    "mc_exutero = scdb_mc(\"exutero_f_bs500f\")\n",
    "mat_wt = scdb_mat(\"embexe\")\n",
    "mc_wt = scdb_mc(\"embexe_recolored\")\n",
    "gset_wt = scdb_gset(\"embexe\")\n",
    "gset_exutero = scdb_gset(\"exutero_f\")\n",
    "\n",
    "col_to_ct = mc_wt@color_key$group\n",
    "names(col_to_ct) = mc_wt@color_key$color\n",
    "ct_to_col = mc_wt@color_key$color\n",
    "names(ct_to_col) = mc_wt@color_key$group"
   ]
  },
  {
   "cell_type": "code",
   "execution_count": 12,
   "id": "b864e03f",
   "metadata": {},
   "outputs": [],
   "source": [
    "#common_genes = intersect(intersect(rownames(mat_wt@mat),rownames(mat_gotg@mat)),rownames(mat_exutero@mat))\n",
    "common_genes = intersect(rownames(mc_wt@e_gc),rownames(mc_exutero@e_gc))\n",
    "feat_genes = intersect(names(gset_wt@gene_set),common_genes)"
   ]
  },
  {
   "cell_type": "code",
   "execution_count": 14,
   "id": "67806d81",
   "metadata": {},
   "outputs": [],
   "source": [
    "exutero_to_wt_projection = project_query_mc_egc_on_reference_mc_egc(egc_query = mc_exutero@e_gc[feat_genes,],\n",
    "                                                              egc_reference = mc_wt@e_gc[feat_genes,])\n",
    "exutero_projected_cell_type = mc_wt@colors[exutero_to_wt_projection$best_reference_metacell]"
   ]
  },
  {
   "cell_type": "code",
   "execution_count": 15,
   "id": "19405ef9",
   "metadata": {},
   "outputs": [
    {
     "data": {
      "text/html": [
       "151"
      ],
      "text/latex": [
       "151"
      ],
      "text/markdown": [
       "151"
      ],
      "text/plain": [
       "[1] 151"
      ]
     },
     "metadata": {},
     "output_type": "display_data"
    },
    {
     "data": {
      "text/html": [
       "151"
      ],
      "text/latex": [
       "151"
      ],
      "text/markdown": [
       "151"
      ],
      "text/plain": [
       "[1] 151"
      ]
     },
     "metadata": {},
     "output_type": "display_data"
    }
   ],
   "source": [
    "length(exutero_projected_cell_type)\n",
    "ncol(mc_exutero@e_gc)"
   ]
  },
  {
   "cell_type": "code",
   "execution_count": 16,
   "id": "135891a2",
   "metadata": {},
   "outputs": [],
   "source": [
    "mc_exutero@colors = exutero_projected_cell_type"
   ]
  },
  {
   "cell_type": "code",
   "execution_count": 17,
   "id": "8e48dabd",
   "metadata": {},
   "outputs": [
    {
     "data": {
      "text/plain": [
       "exutero_projected_cell_type\n",
       "#0F4A9C #19ce5b #1A1A1A #354E23 #45d1c5 #532C8A #53f1fc #635547 #649146 #67000d \n",
       "      1       3       5       1       1       1       3      15       1       7 \n",
       "#7F6874 #824A09 #8870ad #8DB5CE #8e7e59 #90BF75 #9e6762 #C594BF #D96B2B #DABE99 \n",
       "     19       4       5       1       1       4       1      15       2       6 \n",
       "#DFCDE4 #EF5A9D #F25CD4 #F397C0 #F6BFCB #FACB12 #FBBE92 #FF5608 #b2b2b2 #c19f70 \n",
       "      1       1       1       1       2       1       1       6       2       2 \n",
       "#c9a997 #cc7818 #d6616b #f7f79e #ff891c #ffad1e #ffd854 \n",
       "      1       3       6       2       1       6      18 "
      ]
     },
     "metadata": {},
     "output_type": "display_data"
    }
   ],
   "source": [
    "table(exutero_projected_cell_type)"
   ]
  },
  {
   "cell_type": "code",
   "execution_count": 18,
   "id": "77f9cec6",
   "metadata": {},
   "outputs": [],
   "source": [
    "scdb_add_mc(id = \"exutero_f\",mc = mc_exutero)"
   ]
  },
  {
   "cell_type": "code",
   "execution_count": null,
   "id": "b4cedbc4",
   "metadata": {},
   "outputs": [],
   "source": []
  }
 ],
 "metadata": {
  "kernelspec": {
   "display_name": "R",
   "language": "R",
   "name": "ir353"
  },
  "language_info": {
   "codemirror_mode": "r",
   "file_extension": ".r",
   "mimetype": "text/x-r-source",
   "name": "R",
   "pygments_lexer": "r",
   "version": "4.0.5"
  }
 },
 "nbformat": 4,
 "nbformat_minor": 5
}
