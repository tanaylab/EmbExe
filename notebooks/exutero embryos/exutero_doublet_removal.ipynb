{
 "cells": [
  {
   "cell_type": "markdown",
   "id": "fcb4f48b",
   "metadata": {},
   "source": [
    "### Running DoubletFinder for doublet cell removal"
   ]
  },
  {
   "cell_type": "code",
   "execution_count": 1,
   "id": "4cb85d2c",
   "metadata": {},
   "outputs": [],
   "source": [
    "setwd(here::here())"
   ]
  },
  {
   "cell_type": "code",
   "execution_count": 1,
   "id": "037f4aae",
   "metadata": {},
   "outputs": [
    {
     "name": "stderr",
     "output_type": "stream",
     "text": [
      "Attaching SeuratObject\n",
      "\n"
     ]
    }
   ],
   "source": [
    "library(Seurat)"
   ]
  },
  {
   "cell_type": "code",
   "execution_count": 2,
   "id": "1985b87b",
   "metadata": {},
   "outputs": [],
   "source": [
    "library(DoubletFinder)\n",
    "library(metacell)"
   ]
  },
  {
   "cell_type": "code",
   "execution_count": 3,
   "id": "caf2ebd0",
   "metadata": {},
   "outputs": [
    {
     "name": "stderr",
     "output_type": "stream",
     "text": [
      "initializing scdb to scrna_db/\n",
      "\n"
     ]
    }
   ],
   "source": [
    "scdb_init(\"scrna_db/\")"
   ]
  },
  {
   "cell_type": "code",
   "execution_count": 4,
   "id": "61a6b5e5",
   "metadata": {},
   "outputs": [],
   "source": [
    "mat.name = 'exutero'\n",
    "mat = scdb_mat(\"exutero\")\n",
    "mc = scdb_mc(\"exutero\")"
   ]
  },
  {
   "cell_type": "code",
   "execution_count": 5,
   "id": "4aab3a13",
   "metadata": {},
   "outputs": [
    {
     "data": {
      "text/plain": [
       "\n",
       "  Head_fold Late_streak \n",
       "       5306       11398 "
      ]
     },
     "metadata": {},
     "output_type": "display_data"
    }
   ],
   "source": [
    "table(mat@cell_metadata$Experiment)\n",
    "cells_ls = colnames(mat@mat)[mat@cell_metadata[colnames(mat@mat),\"Experiment\"] == \"Late_streak\"]\n",
    "cells_hf = colnames(mat@mat)[mat@cell_metadata[colnames(mat@mat),\"Experiment\"] == \"Head_fold\"]\n",
    "mat_ls = mat@mat[,cells_ls]\n",
    "mat_hf = mat@mat[,cells_hf]"
   ]
  },
  {
   "cell_type": "code",
   "execution_count": 6,
   "id": "6a65da7c",
   "metadata": {},
   "outputs": [],
   "source": [
    "seu_ls = CreateSeuratObject(mat_ls)"
   ]
  },
  {
   "cell_type": "code",
   "execution_count": 7,
   "id": "f0c0e12c",
   "metadata": {
    "scrolled": false
   },
   "outputs": [
    {
     "name": "stderr",
     "output_type": "stream",
     "text": [
      "Centering and scaling data matrix\n",
      "\n",
      "PC_ 1 \n",
      "Positive:  Dab2, Ttr, Apom, Cubn, Apob, Ctsh, Amn, Apoa1, Apoc2, Spink1 \n",
      "\t   Lgmn, Myo6, Ctsb, Rbp4, Cited1, Tdh, Clic6, Lgals2, S100a1, S100g \n",
      "\t   Afp, Folr1, Ctsz, Slc2a3, Cotl1, Ctsl, Apoe, Mttp, Atp1b1, Fxyd2 \n",
      "Negative:  Fabp5, Ptma, Rps8, Tmsb10, Anp32a, Pou5f1, Ifitm2, Hsp90ab1, Rps4x, Pclaf \n",
      "\t   Tuba1a, Snrpn, Rps27a, Tdgf1, Nasp, Sms, Marcks, Pbx1, Sox11, Gapdh \n",
      "\t   Ccnd1, Sinhcaf, Anp32b, Npm3, Rps2, Ifitm1, Sox4, Mesp1, Pkm, Hmga2 \n",
      "PC_ 2 \n",
      "Positive:  Hsp90ab1, Ptma, Stmn1, Tceal8, Bex4, Nasp, Id3, Emb, Pou5f1, Gpc3 \n",
      "\t   Meg3, Gja1, Car4, Peg3, Pclaf, Ifitm2, Fabp5, Bex2, Anp32a, Sinhcaf \n",
      "\t   Lin28a, Fn1, Apoe, Mat2a, Sox4, Dnmt3b, Igfbp2, Pkm, Id1, Cd24a \n",
      "Negative:  S100a6, Plet1, Lgals1, Sfn, Krt19, Plac1, Cdh5, Tfap2c, Arpc1b, Anxa2 \n",
      "\t   Prl3d1, Plac8, Ldoc1, S100a11, Krt7, Capg, Cald1, Prl7a1, Arhgdib, Entpd1 \n",
      "\t   Hand1, Fxyd5, Sin3b, Adgrf5, Prl3d2, Anxa5, Cdkn1c, Fstl3, Nfkbiz, Sdc1 \n",
      "PC_ 3 \n",
      "Positive:  Gm1673, Pou3f1, Morc4, Ddah1, Htra1, Elf5, Cldn3, Bex1, Id2, Bex3 \n",
      "\t   Fabp3, Akap17b, Rhox5, Dppa4, Wnt6, Wnt7b, Cpne3, Sox21, Fbxo21, Gsto1 \n",
      "\t   Oxct1, Nat8l, Nexmif, Hsp90aa1, Inpp1, Bmp4, Nr0b1, Nup62cl, Utf1, Upp1 \n",
      "Negative:  Marcks, Plac8, Prl3d1, Tfpi, Cdh5, Prl7a1, Emb, Ptgis, Prl3d2, Tceal8 \n",
      "\t   Plac1, Fth1, Adgrf5, Entpd1, Fn1, Sms, C430049B03Rik, Pecam1, Tpm4, Prtg \n",
      "\t   Scin, Sdc1, Esam, Kctd12, Cd47, Ctsl, Ptma, Stmn1, Tpm1, Ifitm1 \n",
      "PC_ 4 \n",
      "Positive:  Chchd10, Dnmt3b, Emb, Bex4, Apoc2, Apob, Id3, Slc9a3r1, Ezr, Car7 \n",
      "\t   Slc13a4, Nrk, Afp, Fxyd2, Rbpms2, Apom, Gcat, Mt2, Mat2a, Gldc \n",
      "\t   Ncl, Aldob, Car4, Apoa1, Ddt, Fabp5, Id1, Apoe, Bex1, Reep6 \n",
      "Negative:  Lama1, Srgn, Lamc1, Lamb1, P4ha2, Plod2, Col4a2, Hs3st1, Fxyd3, Epas1 \n",
      "\t   Col4a1, Nid1, Serpinh1, Cryab, Sparc, Glipr1, Tinagl1, Timp2, Pth1r, F3 \n",
      "\t   Klf4, Adamts9, P4ha1, Ccn2, Ckap4, Fst, Stra6, Cd9, Sox7, Fabp3 \n",
      "PC_ 5 \n",
      "Positive:  Phlda2, Fn1, Mesp1, Pmp22, Fgf3, Ifitm1, Kdr, Foxf1, Hmga2, Tbx3 \n",
      "\t   Peg3, Ppic, S100a10, Ccnd2, Crabp1, Cdh11, Igfbp4, Rspo3, Hand1, Msx2 \n",
      "\t   Prtg, Msx1, Gm45889, Fbln2, Peg10, Wnt5a, Rbms1, Unc5c, Pcdh7, Myl7 \n",
      "Negative:  Pim2, Dnmt3b, Epcam, Wfdc2, Slc7a3, L1td1, Utf1, Sema6a, Otx2, Phc1 \n",
      "\t   Fgf5, Igfbp2, Gng3, Eras, Pou5f1, Trh, Pdzd4, Rab25, Dnmt3a, Syt11 \n",
      "\t   Meg3, Jph4, Uchl1, Map7d3, Rasgrp2, Gsta4, Chchd10, Foxd3, Cldn7, Snrpn \n",
      "\n",
      "Warning message:\n",
      "\"The default method for RunUMAP has changed from calling Python UMAP via reticulate to the R-native UWOT using the cosine metric\n",
      "To use Python UMAP via reticulate, set umap.method to 'umap-learn' and metric to 'correlation'\n",
      "This message will be shown once per session\"\n",
      "12:10:23 UMAP embedding parameters a = 0.9922 b = 1.112\n",
      "\n",
      "12:10:24 Read 9387 rows and found 10 numeric columns\n",
      "\n",
      "12:10:24 Using Annoy for neighbor search, n_neighbors = 30\n",
      "\n",
      "12:10:24 Building Annoy index with metric = cosine, n_trees = 50\n",
      "\n",
      "0%   10   20   30   40   50   60   70   80   90   100%\n",
      "\n",
      "[----|----|----|----|----|----|----|----|----|----|\n",
      "\n",
      "*\n",
      "*\n",
      "*\n",
      "*\n",
      "*\n",
      "*\n",
      "*\n",
      "*\n",
      "*\n",
      "*\n",
      "*\n",
      "*\n",
      "*\n",
      "*\n",
      "*\n",
      "*\n",
      "*\n",
      "*\n",
      "*\n",
      "*\n",
      "*\n",
      "*\n",
      "*\n",
      "*\n",
      "*\n",
      "*\n",
      "*\n",
      "*\n",
      "*\n",
      "*\n",
      "*\n",
      "*\n",
      "*\n",
      "*\n",
      "*\n",
      "*\n",
      "*\n",
      "*\n",
      "*\n",
      "*\n",
      "*\n",
      "*\n",
      "*\n",
      "*\n",
      "*\n",
      "*\n",
      "*\n",
      "*\n",
      "*\n",
      "*\n",
      "|\n",
      "\n",
      "12:10:25 Writing NN index file to temp file /tmp/6828965.1.all.q/Rtmpmt902x/file115f1371d946c\n",
      "\n",
      "12:10:25 Searching Annoy index using 1 thread, search_k = 3000\n",
      "\n",
      "12:10:27 Annoy recall = 100%\n",
      "\n",
      "12:10:28 Commencing smooth kNN distance calibration using 1 thread\n",
      "\n",
      "12:10:29 Initializing from normalized Laplacian + noise\n",
      "\n",
      "12:10:29 Commencing optimization for 500 epochs, with 383364 positive edges\n",
      "\n",
      "12:10:57 Optimization finished\n",
      "\n"
     ]
    }
   ],
   "source": [
    "seu_ls <- NormalizeData(seu_ls)\n",
    "seu_ls <- FindVariableFeatures(seu_ls, selection.method = \"vst\", nfeatures = 2000)\n",
    "seu_ls <- ScaleData(seu_ls)\n",
    "seu_ls <- RunPCA(seu_ls)\n",
    "seu_ls <- RunUMAP(seu_ls, dims = 1:10)"
   ]
  },
  {
   "cell_type": "code",
   "execution_count": 8,
   "id": "399f1ca5",
   "metadata": {
    "scrolled": true
   },
   "outputs": [
    {
     "name": "stderr",
     "output_type": "stream",
     "text": [
      "Loading required package: fields\n",
      "\n",
      "Loading required package: spam\n",
      "\n",
      "Loading required package: dotCall64\n",
      "\n",
      "Loading required package: grid\n",
      "\n",
      "Spam version 2.7-0 (2021-06-25) is loaded.\n",
      "Type 'help( Spam)' or 'demo( spam)' for a short introduction \n",
      "and overview of this package.\n",
      "Help for individual functions is also obtained by adding the\n",
      "suffix '.spam' to the function name, e.g. 'help( chol.spam)'.\n",
      "\n",
      "\n",
      "Attaching package: 'spam'\n",
      "\n",
      "\n",
      "The following objects are masked from 'package:base':\n",
      "\n",
      "    backsolve, forwardsolve\n",
      "\n",
      "\n",
      "Loading required package: viridis\n",
      "\n",
      "Loading required package: viridisLite\n",
      "\n",
      "\n",
      "Try help(fields) to get started.\n",
      "\n"
     ]
    },
    {
     "name": "stdout",
     "output_type": "stream",
     "text": [
      "[1] \"Creating artificial doublets for pN = 5%\"\n",
      "[1] \"Creating Seurat object...\"\n",
      "[1] \"Normalizing Seurat object...\"\n",
      "[1] \"Finding variable genes...\"\n",
      "[1] \"Scaling data...\"\n"
     ]
    },
    {
     "name": "stderr",
     "output_type": "stream",
     "text": [
      "Centering and scaling data matrix\n",
      "\n"
     ]
    },
    {
     "name": "stdout",
     "output_type": "stream",
     "text": [
      "[1] \"Running PCA...\"\n",
      "[1] \"Calculating PC distance matrix...\"\n",
      "[1] \"Defining neighborhoods...\"\n",
      "[1] \"Computing pANN across all pK...\"\n",
      "[1] \"pK = 0.005...\"\n",
      "[1] \"pK = 0.01...\"\n",
      "[1] \"pK = 0.02...\"\n",
      "[1] \"pK = 0.03...\"\n",
      "[1] \"pK = 0.04...\"\n",
      "[1] \"pK = 0.05...\"\n",
      "[1] \"pK = 0.06...\"\n",
      "[1] \"pK = 0.07...\"\n",
      "[1] \"pK = 0.08...\"\n",
      "[1] \"pK = 0.09...\"\n",
      "[1] \"pK = 0.1...\"\n",
      "[1] \"pK = 0.11...\"\n",
      "[1] \"pK = 0.12...\"\n",
      "[1] \"pK = 0.13...\"\n",
      "[1] \"pK = 0.14...\"\n",
      "[1] \"pK = 0.15...\"\n",
      "[1] \"pK = 0.16...\"\n",
      "[1] \"pK = 0.17...\"\n",
      "[1] \"pK = 0.18...\"\n",
      "[1] \"pK = 0.19...\"\n",
      "[1] \"pK = 0.2...\"\n",
      "[1] \"pK = 0.21...\"\n",
      "[1] \"pK = 0.22...\"\n",
      "[1] \"pK = 0.23...\"\n",
      "[1] \"pK = 0.24...\"\n",
      "[1] \"pK = 0.25...\"\n",
      "[1] \"pK = 0.26...\"\n",
      "[1] \"pK = 0.27...\"\n",
      "[1] \"pK = 0.28...\"\n",
      "[1] \"pK = 0.29...\"\n",
      "[1] \"pK = 0.3...\"\n",
      "[1] \"Creating artificial doublets for pN = 10%\"\n",
      "[1] \"Creating Seurat object...\"\n",
      "[1] \"Normalizing Seurat object...\"\n",
      "[1] \"Finding variable genes...\"\n",
      "[1] \"Scaling data...\"\n"
     ]
    },
    {
     "name": "stderr",
     "output_type": "stream",
     "text": [
      "Centering and scaling data matrix\n",
      "\n"
     ]
    },
    {
     "name": "stdout",
     "output_type": "stream",
     "text": [
      "[1] \"Running PCA...\"\n",
      "[1] \"Calculating PC distance matrix...\"\n",
      "[1] \"Defining neighborhoods...\"\n",
      "[1] \"Computing pANN across all pK...\"\n",
      "[1] \"pK = 0.005...\"\n",
      "[1] \"pK = 0.01...\"\n",
      "[1] \"pK = 0.02...\"\n",
      "[1] \"pK = 0.03...\"\n",
      "[1] \"pK = 0.04...\"\n",
      "[1] \"pK = 0.05...\"\n",
      "[1] \"pK = 0.06...\"\n",
      "[1] \"pK = 0.07...\"\n",
      "[1] \"pK = 0.08...\"\n",
      "[1] \"pK = 0.09...\"\n",
      "[1] \"pK = 0.1...\"\n",
      "[1] \"pK = 0.11...\"\n",
      "[1] \"pK = 0.12...\"\n",
      "[1] \"pK = 0.13...\"\n",
      "[1] \"pK = 0.14...\"\n",
      "[1] \"pK = 0.15...\"\n",
      "[1] \"pK = 0.16...\"\n",
      "[1] \"pK = 0.17...\"\n",
      "[1] \"pK = 0.18...\"\n",
      "[1] \"pK = 0.19...\"\n",
      "[1] \"pK = 0.2...\"\n",
      "[1] \"pK = 0.21...\"\n",
      "[1] \"pK = 0.22...\"\n",
      "[1] \"pK = 0.23...\"\n",
      "[1] \"pK = 0.24...\"\n",
      "[1] \"pK = 0.25...\"\n",
      "[1] \"pK = 0.26...\"\n",
      "[1] \"pK = 0.27...\"\n",
      "[1] \"pK = 0.28...\"\n",
      "[1] \"pK = 0.29...\"\n",
      "[1] \"pK = 0.3...\"\n",
      "[1] \"Creating artificial doublets for pN = 15%\"\n",
      "[1] \"Creating Seurat object...\"\n",
      "[1] \"Normalizing Seurat object...\"\n",
      "[1] \"Finding variable genes...\"\n",
      "[1] \"Scaling data...\"\n"
     ]
    },
    {
     "name": "stderr",
     "output_type": "stream",
     "text": [
      "Centering and scaling data matrix\n",
      "\n"
     ]
    },
    {
     "name": "stdout",
     "output_type": "stream",
     "text": [
      "[1] \"Running PCA...\"\n",
      "[1] \"Calculating PC distance matrix...\"\n",
      "[1] \"Defining neighborhoods...\"\n",
      "[1] \"Computing pANN across all pK...\"\n",
      "[1] \"pK = 0.005...\"\n",
      "[1] \"pK = 0.01...\"\n",
      "[1] \"pK = 0.02...\"\n",
      "[1] \"pK = 0.03...\"\n",
      "[1] \"pK = 0.04...\"\n",
      "[1] \"pK = 0.05...\"\n",
      "[1] \"pK = 0.06...\"\n",
      "[1] \"pK = 0.07...\"\n",
      "[1] \"pK = 0.08...\"\n",
      "[1] \"pK = 0.09...\"\n",
      "[1] \"pK = 0.1...\"\n",
      "[1] \"pK = 0.11...\"\n",
      "[1] \"pK = 0.12...\"\n",
      "[1] \"pK = 0.13...\"\n",
      "[1] \"pK = 0.14...\"\n",
      "[1] \"pK = 0.15...\"\n",
      "[1] \"pK = 0.16...\"\n",
      "[1] \"pK = 0.17...\"\n",
      "[1] \"pK = 0.18...\"\n",
      "[1] \"pK = 0.19...\"\n",
      "[1] \"pK = 0.2...\"\n",
      "[1] \"pK = 0.21...\"\n",
      "[1] \"pK = 0.22...\"\n",
      "[1] \"pK = 0.23...\"\n",
      "[1] \"pK = 0.24...\"\n",
      "[1] \"pK = 0.25...\"\n",
      "[1] \"pK = 0.26...\"\n",
      "[1] \"pK = 0.27...\"\n",
      "[1] \"pK = 0.28...\"\n",
      "[1] \"pK = 0.29...\"\n",
      "[1] \"pK = 0.3...\"\n",
      "[1] \"Creating artificial doublets for pN = 20%\"\n",
      "[1] \"Creating Seurat object...\"\n",
      "[1] \"Normalizing Seurat object...\"\n",
      "[1] \"Finding variable genes...\"\n",
      "[1] \"Scaling data...\"\n"
     ]
    },
    {
     "name": "stderr",
     "output_type": "stream",
     "text": [
      "Centering and scaling data matrix\n",
      "\n"
     ]
    },
    {
     "name": "stdout",
     "output_type": "stream",
     "text": [
      "[1] \"Running PCA...\"\n",
      "[1] \"Calculating PC distance matrix...\"\n",
      "[1] \"Defining neighborhoods...\"\n",
      "[1] \"Computing pANN across all pK...\"\n",
      "[1] \"pK = 0.005...\"\n",
      "[1] \"pK = 0.01...\"\n",
      "[1] \"pK = 0.02...\"\n",
      "[1] \"pK = 0.03...\"\n",
      "[1] \"pK = 0.04...\"\n",
      "[1] \"pK = 0.05...\"\n",
      "[1] \"pK = 0.06...\"\n",
      "[1] \"pK = 0.07...\"\n",
      "[1] \"pK = 0.08...\"\n",
      "[1] \"pK = 0.09...\"\n",
      "[1] \"pK = 0.1...\"\n",
      "[1] \"pK = 0.11...\"\n",
      "[1] \"pK = 0.12...\"\n",
      "[1] \"pK = 0.13...\"\n",
      "[1] \"pK = 0.14...\"\n",
      "[1] \"pK = 0.15...\"\n",
      "[1] \"pK = 0.16...\"\n",
      "[1] \"pK = 0.17...\"\n",
      "[1] \"pK = 0.18...\"\n",
      "[1] \"pK = 0.19...\"\n",
      "[1] \"pK = 0.2...\"\n",
      "[1] \"pK = 0.21...\"\n",
      "[1] \"pK = 0.22...\"\n",
      "[1] \"pK = 0.23...\"\n",
      "[1] \"pK = 0.24...\"\n",
      "[1] \"pK = 0.25...\"\n",
      "[1] \"pK = 0.26...\"\n",
      "[1] \"pK = 0.27...\"\n",
      "[1] \"pK = 0.28...\"\n",
      "[1] \"pK = 0.29...\"\n",
      "[1] \"pK = 0.3...\"\n",
      "[1] \"Creating artificial doublets for pN = 25%\"\n",
      "[1] \"Creating Seurat object...\"\n",
      "[1] \"Normalizing Seurat object...\"\n",
      "[1] \"Finding variable genes...\"\n",
      "[1] \"Scaling data...\"\n"
     ]
    },
    {
     "name": "stderr",
     "output_type": "stream",
     "text": [
      "Centering and scaling data matrix\n",
      "\n"
     ]
    },
    {
     "name": "stdout",
     "output_type": "stream",
     "text": [
      "[1] \"Running PCA...\"\n",
      "[1] \"Calculating PC distance matrix...\"\n",
      "[1] \"Defining neighborhoods...\"\n",
      "[1] \"Computing pANN across all pK...\"\n",
      "[1] \"pK = 0.005...\"\n",
      "[1] \"pK = 0.01...\"\n",
      "[1] \"pK = 0.02...\"\n",
      "[1] \"pK = 0.03...\"\n",
      "[1] \"pK = 0.04...\"\n",
      "[1] \"pK = 0.05...\"\n",
      "[1] \"pK = 0.06...\"\n",
      "[1] \"pK = 0.07...\"\n",
      "[1] \"pK = 0.08...\"\n",
      "[1] \"pK = 0.09...\"\n",
      "[1] \"pK = 0.1...\"\n",
      "[1] \"pK = 0.11...\"\n",
      "[1] \"pK = 0.12...\"\n",
      "[1] \"pK = 0.13...\"\n",
      "[1] \"pK = 0.14...\"\n",
      "[1] \"pK = 0.15...\"\n",
      "[1] \"pK = 0.16...\"\n",
      "[1] \"pK = 0.17...\"\n",
      "[1] \"pK = 0.18...\"\n",
      "[1] \"pK = 0.19...\"\n",
      "[1] \"pK = 0.2...\"\n",
      "[1] \"pK = 0.21...\"\n",
      "[1] \"pK = 0.22...\"\n",
      "[1] \"pK = 0.23...\"\n",
      "[1] \"pK = 0.24...\"\n",
      "[1] \"pK = 0.25...\"\n",
      "[1] \"pK = 0.26...\"\n",
      "[1] \"pK = 0.27...\"\n",
      "[1] \"pK = 0.28...\"\n",
      "[1] \"pK = 0.29...\"\n",
      "[1] \"pK = 0.3...\"\n",
      "[1] \"Creating artificial doublets for pN = 30%\"\n",
      "[1] \"Creating Seurat object...\"\n",
      "[1] \"Normalizing Seurat object...\"\n",
      "[1] \"Finding variable genes...\"\n",
      "[1] \"Scaling data...\"\n"
     ]
    },
    {
     "name": "stderr",
     "output_type": "stream",
     "text": [
      "Centering and scaling data matrix\n",
      "\n"
     ]
    },
    {
     "name": "stdout",
     "output_type": "stream",
     "text": [
      "[1] \"Running PCA...\"\n",
      "[1] \"Calculating PC distance matrix...\"\n",
      "[1] \"Defining neighborhoods...\"\n",
      "[1] \"Computing pANN across all pK...\"\n",
      "[1] \"pK = 0.005...\"\n",
      "[1] \"pK = 0.01...\"\n",
      "[1] \"pK = 0.02...\"\n",
      "[1] \"pK = 0.03...\"\n",
      "[1] \"pK = 0.04...\"\n",
      "[1] \"pK = 0.05...\"\n",
      "[1] \"pK = 0.06...\"\n",
      "[1] \"pK = 0.07...\"\n",
      "[1] \"pK = 0.08...\"\n",
      "[1] \"pK = 0.09...\"\n",
      "[1] \"pK = 0.1...\"\n",
      "[1] \"pK = 0.11...\"\n",
      "[1] \"pK = 0.12...\"\n",
      "[1] \"pK = 0.13...\"\n",
      "[1] \"pK = 0.14...\"\n",
      "[1] \"pK = 0.15...\"\n",
      "[1] \"pK = 0.16...\"\n",
      "[1] \"pK = 0.17...\"\n",
      "[1] \"pK = 0.18...\"\n",
      "[1] \"pK = 0.19...\"\n",
      "[1] \"pK = 0.2...\"\n",
      "[1] \"pK = 0.21...\"\n",
      "[1] \"pK = 0.22...\"\n",
      "[1] \"pK = 0.23...\"\n",
      "[1] \"pK = 0.24...\"\n",
      "[1] \"pK = 0.25...\"\n",
      "[1] \"pK = 0.26...\"\n",
      "[1] \"pK = 0.27...\"\n",
      "[1] \"pK = 0.28...\"\n",
      "[1] \"pK = 0.29...\"\n",
      "[1] \"pK = 0.3...\"\n"
     ]
    }
   ],
   "source": [
    "## pK Identification (no ground-truth) ---------------------------------------------------------------------------------------\n",
    "sweep.res.list_ls <- paramSweep_v3(seu_ls, PCs = 1:10, sct = FALSE)"
   ]
  },
  {
   "cell_type": "code",
   "execution_count": 9,
   "id": "0ce6cdcd",
   "metadata": {},
   "outputs": [
    {
     "name": "stderr",
     "output_type": "stream",
     "text": [
      "Loading required package: KernSmooth\n",
      "\n",
      "KernSmooth 2.23 loaded\n",
      "Copyright M. P. Wand 1997-2009\n",
      "\n",
      "Loading required package: ROCR\n",
      "\n"
     ]
    }
   ],
   "source": [
    "sweep.stats_ls <- summarizeSweep(sweep.res.list_ls, GT = FALSE)"
   ]
  },
  {
   "cell_type": "code",
   "execution_count": 10,
   "id": "9c654577",
   "metadata": {},
   "outputs": [],
   "source": [
    "nExp_poi_ls <- round(0.13*nrow(seu_ls@meta.data))"
   ]
  },
  {
   "cell_type": "code",
   "execution_count": 11,
   "id": "cdf9e352",
   "metadata": {},
   "outputs": [
    {
     "name": "stdout",
     "output_type": "stream",
     "text": [
      "[1] \"Creating 3129 artificial doublets...\"\n",
      "[1] \"Creating Seurat object...\"\n",
      "[1] \"Normalizing Seurat object...\"\n",
      "[1] \"Finding variable genes...\"\n",
      "[1] \"Scaling data...\"\n"
     ]
    },
    {
     "name": "stderr",
     "output_type": "stream",
     "text": [
      "Centering and scaling data matrix\n",
      "\n"
     ]
    },
    {
     "name": "stdout",
     "output_type": "stream",
     "text": [
      "[1] \"Running PCA...\"\n",
      "[1] \"Calculating PC distance matrix...\"\n",
      "[1] \"Computing pANN...\"\n",
      "[1] \"Classifying doublets..\"\n"
     ]
    }
   ],
   "source": [
    "## Run DoubletFinder with varying classification stringencies ----------------------------------------------------------------\n",
    "#optimal.pK = as.numeric(as.character(bcmvn$pK[which.max(bcmvn$BCmetric)]))\n",
    "optimal.pK_ls = 0.02\n",
    "seu_ls <- doubletFinder_v3(seu_ls, PCs = 1:10, pN = 0.25, pK = optimal.pK_ls, nExp = nExp_poi_ls, reuse.pANN = FALSE, sct = FALSE)\n",
    "md_ls = (seu_ls@meta.data)"
   ]
  },
  {
   "cell_type": "code",
   "execution_count": 12,
   "id": "ecc01be1",
   "metadata": {},
   "outputs": [
    {
     "data": {
      "text/html": [
       "<style>\n",
       ".list-inline {list-style: none; margin:0; padding: 0}\n",
       ".list-inline>li {display: inline-block}\n",
       ".list-inline>li:not(:last-child)::after {content: \"\\00b7\"; padding: 0 .5ex}\n",
       "</style>\n",
       "<ol class=list-inline><li>'orig.ident'</li><li>'nCount_RNA'</li><li>'nFeature_RNA'</li><li>'pANN_0.25_0.02_1220'</li><li>'DF.classifications_0.25_0.02_1220'</li></ol>\n"
      ],
      "text/latex": [
       "\\begin{enumerate*}\n",
       "\\item 'orig.ident'\n",
       "\\item 'nCount\\_RNA'\n",
       "\\item 'nFeature\\_RNA'\n",
       "\\item 'pANN\\_0.25\\_0.02\\_1220'\n",
       "\\item 'DF.classifications\\_0.25\\_0.02\\_1220'\n",
       "\\end{enumerate*}\n"
      ],
      "text/markdown": [
       "1. 'orig.ident'\n",
       "2. 'nCount_RNA'\n",
       "3. 'nFeature_RNA'\n",
       "4. 'pANN_0.25_0.02_1220'\n",
       "5. 'DF.classifications_0.25_0.02_1220'\n",
       "\n",
       "\n"
      ],
      "text/plain": [
       "[1] \"orig.ident\"                        \"nCount_RNA\"                       \n",
       "[3] \"nFeature_RNA\"                      \"pANN_0.25_0.02_1220\"              \n",
       "[5] \"DF.classifications_0.25_0.02_1220\""
      ]
     },
     "metadata": {},
     "output_type": "display_data"
    }
   ],
   "source": [
    "colnames(md_ls)"
   ]
  },
  {
   "cell_type": "code",
   "execution_count": 33,
   "id": "1aa6c429",
   "metadata": {},
   "outputs": [
    {
     "data": {
      "text/html": [
       "1753"
      ],
      "text/latex": [
       "1753"
      ],
      "text/markdown": [
       "1753"
      ],
      "text/plain": [
       "[1] 1753"
      ]
     },
     "metadata": {},
     "output_type": "display_data"
    },
    {
     "data": {
      "image/png": "[encoded data removed]",
      "text/plain": [
       "Plot with title \"density.default(x = md_ls$pANN_0.25_0.02_1220)\""
      ]
     },
     "metadata": {
      "image/png": {
       "height": 420,
       "width": 420
      }
     },
     "output_type": "display_data"
    }
   ],
   "source": [
    "plot(density(md_ls$pANN_0.25_0.02_1220))\n",
    "thr_ls = sort(md_ls$pANN_0.25_0.02_1220,decreasing = T)[nExp_poi_ls]\n",
    "thr_ls = 0.2\n",
    "\n",
    "sum(md_ls$pANN_0.25_0.02_1220 > thr_ls)\n"
   ]
  },
  {
   "cell_type": "code",
   "execution_count": 32,
   "id": "9ff4d74d",
   "metadata": {},
   "outputs": [
    {
     "data": {
      "image/png": "[encoded data removed]",
      "text/plain": [
       "plot without title"
      ]
     },
     "metadata": {
      "image/png": {
       "height": 420,
       "width": 420
      }
     },
     "output_type": "display_data"
    }
   ],
   "source": [
    "doublet_cells_ls = rownames(md_ls)[md_ls$pANN_0.25_0.02_1220 > thr_ls]\n",
    "doublet_ct_freq = table(mc@colors[mc@mc[doublet_cells_ls]])\n",
    "barplot(doublet_ct_freq,col = names(doublet_ct_freq))"
   ]
  },
  {
   "cell_type": "code",
   "execution_count": 34,
   "id": "12e34c63",
   "metadata": {},
   "outputs": [
    {
     "name": "stderr",
     "output_type": "stream",
     "text": [
      "Centering and scaling data matrix\n",
      "\n",
      "PC_ 1 \n",
      "Positive:  Apob, Apom, Cubn, Apoa1, Rbp4, Apoc2, Ttr, Ctsh, Amn, Lgmn \n",
      "\t   Tdh, S100g, Dab2, Afp, Slc13a4, Folr1, Spink1, Lgals2, Clic6, Mttp \n",
      "\t   Myo6, Cotl1, Ctsb, Car7, Atp1b1, Gipc2, Apoe, S100a1, Selenop, Fxyd2 \n",
      "Negative:  Tmsb10, Fabp5, Ifitm2, Pclaf, Tuba1a, Pbx1, Myh10, Ccnd2, Marcks, Prdx2 \n",
      "\t   Hdgf, Stmn1, Idi1, Basp1, Hmga2, Chd7, Msn, Mns1, Cald1, Sox11 \n",
      "\t   Mest, Fdps, H1fx, Grb10, Vim, H2afy2, Sox4, Gsta4, Flna, Zeb2 \n",
      "PC_ 2 \n",
      "Positive:  S100a6, Plet1, Sfn, Capg, Tfap2c, Krt7, Krt19, Fstl3, Entpd1, Serpinb6b \n",
      "\t   Arhgdib, Ldoc1, Plac1, Cdh5, Nfkbiz, Lgals1, Arpc1b, Lgals3, Fxyd5, Procr \n",
      "\t   Anxa2, Prl2a1, Satb1, S100a11, Capn1, Lipg, Gata3, Plac8, Ascl2, Ube2a \n",
      "Negative:  Mdk, Stmn1, Bex4, Cd24a, Pbx1, Gpc3, Ifitm2, Prtg, Pclaf, Fn1 \n",
      "\t   Mns1, Bex2, Ccnd2, Slc39a8, Cpox, Hbb-bh1, Gja1, Prkar2b, Hipk2, Cited4 \n",
      "\t   Hspd1, Hba-a1, Hba-x, Ncl, Lmo2, Klf1, Rgs10, Rasgrp2, Gypa, Gsta4 \n",
      "PC_ 3 \n",
      "Positive:  Hbb-bh1, Cited4, Car2, Hba-x, Hba-a1, Blvrb, Gata1, Klf1, Gypa, Cpox \n",
      "\t   Tspan33, Slc25a37, Hba-a2, Snca, Fermt3, Lmo2, Slc38a5, Smim1, Psmb10, Alas2 \n",
      "\t   Odc1, Glrx5, Prkar2b, Sptb, Tal1, Ddx21, Ncl, Epor, Trim10, Rgs10 \n",
      "Negative:  Peg3, Csrp2, Serpinh1, Mest, Tceal9, Meg3, Vim, Tuba1a, Marcks, Pmp22 \n",
      "\t   Actb, Rbpms, Dlk1, Basp1, Nrp1, Acta2, Myl6, Krt8, Vcan, App \n",
      "\t   Stard8, Actg1, Flna, Igfbp2, Tmsb4x, Slc2a1, Hmga2, Bex3, Spin2c, Tagln \n",
      "PC_ 4 \n",
      "Positive:  Fabp3, Bex1, Pou3f1, Id2, Gm1673, Utf1, Epcam, Rbp1, Gjb3, Cldn3 \n",
      "\t   Dnmt3l, Mkrn1, Wnt7b, Cdh1, Klhl13, Gadd45b, Htra1, Pcsk1n, L1td1, Kcnk1 \n",
      "\t   Tacstd2, Fbxo21, Wnt6, Dnmt3b, Bex3, Id1, Batf3, Elf5, Cdkn2a, Sox2 \n",
      "Negative:  Fth1, Lmo2, Pecam1, Cdh5, Prkar2b, Cited2, Hbb-bh1, Inka1, Cited4, Tfpi \n",
      "\t   Tal1, Cd47, Fermt3, Esam, Cpox, Prdx2, Plac8, Hba-x, Smim1, Fn1 \n",
      "\t   Blvrb, Tnfaip2, Hba-a1, Glipr2, Klf1, Ptpre, Runx1, Adgrf5, Ppic, Gypa \n",
      "PC_ 5 \n",
      "Positive:  Pou5f1, Cdx1, Crabp2, Ptn, Nr6a1, Ifitm1, Sp5, Stmn2, Sema6a, T \n",
      "\t   Hoxaas3, Hoxa1, Gja1, Ccnd1, Hotairm1, Crmp1, Zic3, Foxb1, Fst, Gbx2 \n",
      "\t   Zfp703, Ppp1r1a, Crabp1, Map1b, Sox11, Chd7, Maml3, Pak1, Ier2, Sfrp1 \n",
      "Negative:  Ahnak, Acta2, Hand1, Pmp22, Ccnd3, Igf2, Slc25a4, H19, Bex3, Fabp3 \n",
      "\t   Snai2, Cmtm7, Tdo2, Tagln, Dusp9, Col1a1, Morc4, Dlk1, Klhl13, Cnn2 \n",
      "\t   Stard8, S100a10, Phlda2, Dnmt3l, Tmem108, Krt18, Tbrg1, Ndrg1, Smoc2, Nexn \n",
      "\n",
      "13:35:08 UMAP embedding parameters a = 0.9922 b = 1.112\n",
      "\n",
      "Found more than one class \"dist\" in cache; using the first, from namespace 'BiocGenerics'\n",
      "\n",
      "Also defined by 'spam'\n",
      "\n",
      "13:35:08 Read 3916 rows and found 10 numeric columns\n",
      "\n",
      "13:35:08 Using Annoy for neighbor search, n_neighbors = 30\n",
      "\n",
      "Found more than one class \"dist\" in cache; using the first, from namespace 'BiocGenerics'\n",
      "\n",
      "Also defined by 'spam'\n",
      "\n",
      "13:35:08 Building Annoy index with metric = cosine, n_trees = 50\n",
      "\n",
      "0%   10   20   30   40   50   60   70   80   90   100%\n",
      "\n",
      "[----|----|----|----|----|----|----|----|----|----|\n",
      "\n",
      "*\n",
      "*\n",
      "*\n",
      "*\n",
      "*\n",
      "*\n",
      "*\n",
      "*\n",
      "*\n",
      "*\n",
      "*\n",
      "*\n",
      "*\n",
      "*\n",
      "*\n",
      "*\n",
      "*\n",
      "*\n",
      "*\n",
      "*\n",
      "*\n",
      "*\n",
      "*\n",
      "*\n",
      "*\n",
      "*\n",
      "*\n",
      "*\n",
      "*\n",
      "*\n",
      "*\n",
      "*\n",
      "*\n",
      "*\n",
      "*\n",
      "*\n",
      "*\n",
      "*\n",
      "*\n",
      "*\n",
      "*\n",
      "*\n",
      "*\n",
      "*\n",
      "*\n",
      "*\n",
      "*\n",
      "*\n",
      "*\n",
      "*\n",
      "|\n",
      "\n",
      "13:35:09 Writing NN index file to temp file /tmp/6828965.1.all.q/Rtmpmt902x/file115f141195ae0\n",
      "\n",
      "13:35:09 Searching Annoy index using 1 thread, search_k = 3000\n",
      "\n",
      "13:35:10 Annoy recall = 100%\n",
      "\n",
      "13:35:11 Commencing smooth kNN distance calibration using 1 thread\n",
      "\n",
      "13:35:11 Initializing from normalized Laplacian + noise\n",
      "\n",
      "13:35:11 Commencing optimization for 500 epochs, with 157226 positive edges\n",
      "\n",
      "13:35:23 Optimization finished\n",
      "\n"
     ]
    }
   ],
   "source": [
    "seu_hf = CreateSeuratObject(mat_hf)\n",
    "seu_hf <- NormalizeData(seu_hf)\n",
    "seu_hf <- FindVariableFeatures(seu_hf, selection.method = \"vst\", nfeatures = 2000)\n",
    "seu_hf <- ScaleData(seu_hf)\n",
    "seu_hf <- RunPCA(seu_hf)\n",
    "seu_hf <- RunUMAP(seu_hf, dims = 1:10)"
   ]
  },
  {
   "cell_type": "code",
   "execution_count": 35,
   "id": "433c9691",
   "metadata": {},
   "outputs": [
    {
     "name": "stdout",
     "output_type": "stream",
     "text": [
      "[1] \"Creating artificial doublets for pN = 5%\"\n",
      "[1] \"Creating Seurat object...\"\n",
      "[1] \"Normalizing Seurat object...\"\n",
      "[1] \"Finding variable genes...\"\n",
      "[1] \"Scaling data...\"\n"
     ]
    },
    {
     "name": "stderr",
     "output_type": "stream",
     "text": [
      "Centering and scaling data matrix\n",
      "\n"
     ]
    },
    {
     "name": "stdout",
     "output_type": "stream",
     "text": [
      "[1] \"Running PCA...\"\n",
      "[1] \"Calculating PC distance matrix...\"\n",
      "[1] \"Defining neighborhoods...\"\n",
      "[1] \"Computing pANN across all pK...\"\n",
      "[1] \"pK = 0.005...\"\n",
      "[1] \"pK = 0.01...\"\n",
      "[1] \"pK = 0.02...\"\n",
      "[1] \"pK = 0.03...\"\n",
      "[1] \"pK = 0.04...\"\n",
      "[1] \"pK = 0.05...\"\n",
      "[1] \"pK = 0.06...\"\n",
      "[1] \"pK = 0.07...\"\n",
      "[1] \"pK = 0.08...\"\n",
      "[1] \"pK = 0.09...\"\n",
      "[1] \"pK = 0.1...\"\n",
      "[1] \"pK = 0.11...\"\n",
      "[1] \"pK = 0.12...\"\n",
      "[1] \"pK = 0.13...\"\n",
      "[1] \"pK = 0.14...\"\n",
      "[1] \"pK = 0.15...\"\n",
      "[1] \"pK = 0.16...\"\n",
      "[1] \"pK = 0.17...\"\n",
      "[1] \"pK = 0.18...\"\n",
      "[1] \"pK = 0.19...\"\n",
      "[1] \"pK = 0.2...\"\n",
      "[1] \"pK = 0.21...\"\n",
      "[1] \"pK = 0.22...\"\n",
      "[1] \"pK = 0.23...\"\n",
      "[1] \"pK = 0.24...\"\n",
      "[1] \"pK = 0.25...\"\n",
      "[1] \"pK = 0.26...\"\n",
      "[1] \"pK = 0.27...\"\n",
      "[1] \"pK = 0.28...\"\n",
      "[1] \"pK = 0.29...\"\n",
      "[1] \"pK = 0.3...\"\n",
      "[1] \"Creating artificial doublets for pN = 10%\"\n",
      "[1] \"Creating Seurat object...\"\n",
      "[1] \"Normalizing Seurat object...\"\n",
      "[1] \"Finding variable genes...\"\n",
      "[1] \"Scaling data...\"\n"
     ]
    },
    {
     "name": "stderr",
     "output_type": "stream",
     "text": [
      "Centering and scaling data matrix\n",
      "\n"
     ]
    },
    {
     "name": "stdout",
     "output_type": "stream",
     "text": [
      "[1] \"Running PCA...\"\n",
      "[1] \"Calculating PC distance matrix...\"\n",
      "[1] \"Defining neighborhoods...\"\n",
      "[1] \"Computing pANN across all pK...\"\n",
      "[1] \"pK = 0.005...\"\n",
      "[1] \"pK = 0.01...\"\n",
      "[1] \"pK = 0.02...\"\n",
      "[1] \"pK = 0.03...\"\n",
      "[1] \"pK = 0.04...\"\n",
      "[1] \"pK = 0.05...\"\n",
      "[1] \"pK = 0.06...\"\n",
      "[1] \"pK = 0.07...\"\n",
      "[1] \"pK = 0.08...\"\n",
      "[1] \"pK = 0.09...\"\n",
      "[1] \"pK = 0.1...\"\n",
      "[1] \"pK = 0.11...\"\n",
      "[1] \"pK = 0.12...\"\n",
      "[1] \"pK = 0.13...\"\n",
      "[1] \"pK = 0.14...\"\n",
      "[1] \"pK = 0.15...\"\n",
      "[1] \"pK = 0.16...\"\n",
      "[1] \"pK = 0.17...\"\n",
      "[1] \"pK = 0.18...\"\n",
      "[1] \"pK = 0.19...\"\n",
      "[1] \"pK = 0.2...\"\n",
      "[1] \"pK = 0.21...\"\n",
      "[1] \"pK = 0.22...\"\n",
      "[1] \"pK = 0.23...\"\n",
      "[1] \"pK = 0.24...\"\n",
      "[1] \"pK = 0.25...\"\n",
      "[1] \"pK = 0.26...\"\n",
      "[1] \"pK = 0.27...\"\n",
      "[1] \"pK = 0.28...\"\n",
      "[1] \"pK = 0.29...\"\n",
      "[1] \"pK = 0.3...\"\n",
      "[1] \"Creating artificial doublets for pN = 15%\"\n",
      "[1] \"Creating Seurat object...\"\n",
      "[1] \"Normalizing Seurat object...\"\n",
      "[1] \"Finding variable genes...\"\n",
      "[1] \"Scaling data...\"\n"
     ]
    },
    {
     "name": "stderr",
     "output_type": "stream",
     "text": [
      "Centering and scaling data matrix\n",
      "\n"
     ]
    },
    {
     "name": "stdout",
     "output_type": "stream",
     "text": [
      "[1] \"Running PCA...\"\n",
      "[1] \"Calculating PC distance matrix...\"\n",
      "[1] \"Defining neighborhoods...\"\n",
      "[1] \"Computing pANN across all pK...\"\n",
      "[1] \"pK = 0.005...\"\n",
      "[1] \"pK = 0.01...\"\n",
      "[1] \"pK = 0.02...\"\n",
      "[1] \"pK = 0.03...\"\n",
      "[1] \"pK = 0.04...\"\n",
      "[1] \"pK = 0.05...\"\n",
      "[1] \"pK = 0.06...\"\n",
      "[1] \"pK = 0.07...\"\n",
      "[1] \"pK = 0.08...\"\n",
      "[1] \"pK = 0.09...\"\n",
      "[1] \"pK = 0.1...\"\n",
      "[1] \"pK = 0.11...\"\n",
      "[1] \"pK = 0.12...\"\n",
      "[1] \"pK = 0.13...\"\n",
      "[1] \"pK = 0.14...\"\n",
      "[1] \"pK = 0.15...\"\n",
      "[1] \"pK = 0.16...\"\n",
      "[1] \"pK = 0.17...\"\n",
      "[1] \"pK = 0.18...\"\n",
      "[1] \"pK = 0.19...\"\n",
      "[1] \"pK = 0.2...\"\n",
      "[1] \"pK = 0.21...\"\n",
      "[1] \"pK = 0.22...\"\n",
      "[1] \"pK = 0.23...\"\n",
      "[1] \"pK = 0.24...\"\n",
      "[1] \"pK = 0.25...\"\n",
      "[1] \"pK = 0.26...\"\n",
      "[1] \"pK = 0.27...\"\n",
      "[1] \"pK = 0.28...\"\n",
      "[1] \"pK = 0.29...\"\n",
      "[1] \"pK = 0.3...\"\n",
      "[1] \"Creating artificial doublets for pN = 20%\"\n",
      "[1] \"Creating Seurat object...\"\n",
      "[1] \"Normalizing Seurat object...\"\n",
      "[1] \"Finding variable genes...\"\n",
      "[1] \"Scaling data...\"\n"
     ]
    },
    {
     "name": "stderr",
     "output_type": "stream",
     "text": [
      "Centering and scaling data matrix\n",
      "\n"
     ]
    },
    {
     "name": "stdout",
     "output_type": "stream",
     "text": [
      "[1] \"Running PCA...\"\n",
      "[1] \"Calculating PC distance matrix...\"\n",
      "[1] \"Defining neighborhoods...\"\n",
      "[1] \"Computing pANN across all pK...\"\n",
      "[1] \"pK = 0.005...\"\n",
      "[1] \"pK = 0.01...\"\n",
      "[1] \"pK = 0.02...\"\n",
      "[1] \"pK = 0.03...\"\n",
      "[1] \"pK = 0.04...\"\n",
      "[1] \"pK = 0.05...\"\n",
      "[1] \"pK = 0.06...\"\n",
      "[1] \"pK = 0.07...\"\n",
      "[1] \"pK = 0.08...\"\n",
      "[1] \"pK = 0.09...\"\n",
      "[1] \"pK = 0.1...\"\n",
      "[1] \"pK = 0.11...\"\n",
      "[1] \"pK = 0.12...\"\n",
      "[1] \"pK = 0.13...\"\n",
      "[1] \"pK = 0.14...\"\n",
      "[1] \"pK = 0.15...\"\n",
      "[1] \"pK = 0.16...\"\n",
      "[1] \"pK = 0.17...\"\n",
      "[1] \"pK = 0.18...\"\n",
      "[1] \"pK = 0.19...\"\n",
      "[1] \"pK = 0.2...\"\n",
      "[1] \"pK = 0.21...\"\n",
      "[1] \"pK = 0.22...\"\n",
      "[1] \"pK = 0.23...\"\n",
      "[1] \"pK = 0.24...\"\n",
      "[1] \"pK = 0.25...\"\n",
      "[1] \"pK = 0.26...\"\n",
      "[1] \"pK = 0.27...\"\n",
      "[1] \"pK = 0.28...\"\n",
      "[1] \"pK = 0.29...\"\n",
      "[1] \"pK = 0.3...\"\n",
      "[1] \"Creating artificial doublets for pN = 25%\"\n",
      "[1] \"Creating Seurat object...\"\n",
      "[1] \"Normalizing Seurat object...\"\n",
      "[1] \"Finding variable genes...\"\n",
      "[1] \"Scaling data...\"\n"
     ]
    },
    {
     "name": "stderr",
     "output_type": "stream",
     "text": [
      "Centering and scaling data matrix\n",
      "\n"
     ]
    },
    {
     "name": "stdout",
     "output_type": "stream",
     "text": [
      "[1] \"Running PCA...\"\n",
      "[1] \"Calculating PC distance matrix...\"\n",
      "[1] \"Defining neighborhoods...\"\n",
      "[1] \"Computing pANN across all pK...\"\n",
      "[1] \"pK = 0.005...\"\n",
      "[1] \"pK = 0.01...\"\n",
      "[1] \"pK = 0.02...\"\n",
      "[1] \"pK = 0.03...\"\n",
      "[1] \"pK = 0.04...\"\n",
      "[1] \"pK = 0.05...\"\n",
      "[1] \"pK = 0.06...\"\n",
      "[1] \"pK = 0.07...\"\n",
      "[1] \"pK = 0.08...\"\n",
      "[1] \"pK = 0.09...\"\n",
      "[1] \"pK = 0.1...\"\n",
      "[1] \"pK = 0.11...\"\n",
      "[1] \"pK = 0.12...\"\n",
      "[1] \"pK = 0.13...\"\n",
      "[1] \"pK = 0.14...\"\n",
      "[1] \"pK = 0.15...\"\n",
      "[1] \"pK = 0.16...\"\n",
      "[1] \"pK = 0.17...\"\n",
      "[1] \"pK = 0.18...\"\n",
      "[1] \"pK = 0.19...\"\n",
      "[1] \"pK = 0.2...\"\n",
      "[1] \"pK = 0.21...\"\n",
      "[1] \"pK = 0.22...\"\n",
      "[1] \"pK = 0.23...\"\n",
      "[1] \"pK = 0.24...\"\n",
      "[1] \"pK = 0.25...\"\n",
      "[1] \"pK = 0.26...\"\n",
      "[1] \"pK = 0.27...\"\n",
      "[1] \"pK = 0.28...\"\n",
      "[1] \"pK = 0.29...\"\n",
      "[1] \"pK = 0.3...\"\n",
      "[1] \"Creating artificial doublets for pN = 30%\"\n",
      "[1] \"Creating Seurat object...\"\n",
      "[1] \"Normalizing Seurat object...\"\n",
      "[1] \"Finding variable genes...\"\n",
      "[1] \"Scaling data...\"\n"
     ]
    },
    {
     "name": "stderr",
     "output_type": "stream",
     "text": [
      "Centering and scaling data matrix\n",
      "\n"
     ]
    },
    {
     "name": "stdout",
     "output_type": "stream",
     "text": [
      "[1] \"Running PCA...\"\n",
      "[1] \"Calculating PC distance matrix...\"\n",
      "[1] \"Defining neighborhoods...\"\n",
      "[1] \"Computing pANN across all pK...\"\n",
      "[1] \"pK = 0.005...\"\n",
      "[1] \"pK = 0.01...\"\n",
      "[1] \"pK = 0.02...\"\n",
      "[1] \"pK = 0.03...\"\n",
      "[1] \"pK = 0.04...\"\n",
      "[1] \"pK = 0.05...\"\n",
      "[1] \"pK = 0.06...\"\n",
      "[1] \"pK = 0.07...\"\n",
      "[1] \"pK = 0.08...\"\n",
      "[1] \"pK = 0.09...\"\n",
      "[1] \"pK = 0.1...\"\n",
      "[1] \"pK = 0.11...\"\n",
      "[1] \"pK = 0.12...\"\n",
      "[1] \"pK = 0.13...\"\n",
      "[1] \"pK = 0.14...\"\n",
      "[1] \"pK = 0.15...\"\n",
      "[1] \"pK = 0.16...\"\n",
      "[1] \"pK = 0.17...\"\n",
      "[1] \"pK = 0.18...\"\n",
      "[1] \"pK = 0.19...\"\n",
      "[1] \"pK = 0.2...\"\n",
      "[1] \"pK = 0.21...\"\n",
      "[1] \"pK = 0.22...\"\n",
      "[1] \"pK = 0.23...\"\n",
      "[1] \"pK = 0.24...\"\n",
      "[1] \"pK = 0.25...\"\n",
      "[1] \"pK = 0.26...\"\n",
      "[1] \"pK = 0.27...\"\n",
      "[1] \"pK = 0.28...\"\n",
      "[1] \"pK = 0.29...\"\n",
      "[1] \"pK = 0.3...\"\n"
     ]
    }
   ],
   "source": [
    "## pK Identification (no ground-truth) ---------------------------------------------------------------------------------------\n",
    "sweep.res.list.hf <- paramSweep_v3(seu_hf, PCs = 1:10, sct = FALSE)"
   ]
  },
  {
   "cell_type": "code",
   "execution_count": 36,
   "id": "54a4947a",
   "metadata": {},
   "outputs": [],
   "source": [
    "sweep.stats.hf <- summarizeSweep(sweep.res.list.hf, GT = FALSE)"
   ]
  },
  {
   "cell_type": "code",
   "execution_count": 37,
   "id": "6481188f",
   "metadata": {},
   "outputs": [],
   "source": [
    "nExp_poi_hf <- round(0.075*nrow(seu_hf@meta.data))"
   ]
  },
  {
   "cell_type": "code",
   "execution_count": 40,
   "id": "32aeb333",
   "metadata": {},
   "outputs": [
    {
     "name": "stdout",
     "output_type": "stream",
     "text": [
      "NULL\n"
     ]
    },
    {
     "data": {
      "image/png": "[encoded data removed]",
      "text/plain": [
       "plot without title"
      ]
     },
     "metadata": {
      "image/png": {
       "height": 420,
       "width": 420
      }
     },
     "output_type": "display_data"
    }
   ],
   "source": [
    "bcmvn.hf <- find.pK(sweep.stats.hf)"
   ]
  },
  {
   "cell_type": "code",
   "execution_count": 41,
   "id": "8f50ded9",
   "metadata": {},
   "outputs": [
    {
     "data": {
      "image/png": "[encoded data removed]",
      "text/plain": [
       "plot without title"
      ]
     },
     "metadata": {
      "image/png": {
       "height": 420,
       "width": 420
      }
     },
     "output_type": "display_data"
    }
   ],
   "source": [
    "plot(x = bcmvn.hf$pK,y = bcmvn.hf$BCmetric)"
   ]
  },
  {
   "cell_type": "code",
   "execution_count": 43,
   "id": "6c03eca4",
   "metadata": {},
   "outputs": [
    {
     "data": {
      "text/html": [
       "294"
      ],
      "text/latex": [
       "294"
      ],
      "text/markdown": [
       "294"
      ],
      "text/plain": [
       "[1] 294"
      ]
     },
     "metadata": {},
     "output_type": "display_data"
    },
    {
     "data": {
      "text/html": [
       "0.06"
      ],
      "text/latex": [
       "0.06"
      ],
      "text/markdown": [
       "0.06"
      ],
      "text/plain": [
       "[1] 0.06"
      ]
     },
     "metadata": {},
     "output_type": "display_data"
    }
   ],
   "source": [
    "nExp_poi_hf\n",
    "\n",
    "optimal.pK.hf"
   ]
  },
  {
   "cell_type": "code",
   "execution_count": 92,
   "id": "fcced39f",
   "metadata": {},
   "outputs": [
    {
     "name": "stdout",
     "output_type": "stream",
     "text": [
      "[1] \"Creating 1305 artificial doublets...\"\n",
      "[1] \"Creating Seurat object...\"\n",
      "[1] \"Normalizing Seurat object...\"\n",
      "[1] \"Finding variable genes...\"\n",
      "[1] \"Scaling data...\"\n"
     ]
    },
    {
     "name": "stderr",
     "output_type": "stream",
     "text": [
      "Centering and scaling data matrix\n",
      "\n"
     ]
    },
    {
     "name": "stdout",
     "output_type": "stream",
     "text": [
      "[1] \"Running PCA...\"\n",
      "[1] \"Calculating PC distance matrix...\"\n",
      "[1] \"Computing pANN...\"\n",
      "[1] \"Classifying doublets..\"\n"
     ]
    }
   ],
   "source": [
    "## Run DoubletFinder with varying classification stringencies ----------------------------------------------------------------\n",
    "optimal.pK.hf = as.numeric(as.character(bcmvn.hf$pK[which.max(bcmvn.hf$BCmetric)]))\n",
    "optimal.pK.hf = 0.01\n",
    "seu_hf <- doubletFinder_v3(seu_hf, PCs = 1:10, pN = 0.25, pK = optimal.pK.hf, nExp = nExp_poi_hf, reuse.pANN = FALSE, sct = FALSE)\n",
    "md_hf = (seu_hf@meta.data)\n"
   ]
  },
  {
   "cell_type": "code",
   "execution_count": 99,
   "id": "ea54dfde",
   "metadata": {},
   "outputs": [
    {
     "data": {
      "text/html": [
       "291"
      ],
      "text/latex": [
       "291"
      ],
      "text/markdown": [
       "291"
      ],
      "text/plain": [
       "[1] 291"
      ]
     },
     "metadata": {},
     "output_type": "display_data"
    },
    {
     "data": {
      "text/html": [
       "3916"
      ],
      "text/latex": [
       "3916"
      ],
      "text/markdown": [
       "3916"
      ],
      "text/plain": [
       "[1] 3916"
      ]
     },
     "metadata": {},
     "output_type": "display_data"
    },
    {
     "data": {
      "image/png": "[encoded data removed]",
      "text/plain": [
       "Plot with title \"density.default(x = md_hf$pANN_0.25_0.01_294)\""
      ]
     },
     "metadata": {
      "image/png": {
       "height": 420,
       "width": 420
      }
     },
     "output_type": "display_data"
    }
   ],
   "source": [
    "plot(density(md_hf$pANN_0.25_0.01_294))\n",
    "thr_hf = sort(md_hf$pANN_0.25_0.01_294,decreasing = T)[nExp_poi_hf]\n",
    "abline(v = thr_hf)\n",
    "#thr_hf = 0.4\n",
    "abline(v = thr_hf)\n",
    "\n",
    "sum(md_hf$pANN_0.25_0.01_294 > thr_hf)\n",
    "nrow(md_hf)\n"
   ]
  },
  {
   "cell_type": "code",
   "execution_count": 101,
   "id": "e1f3a8b4",
   "metadata": {
    "scrolled": false
   },
   "outputs": [
    {
     "data": {
      "text/html": [
       "291"
      ],
      "text/latex": [
       "291"
      ],
      "text/markdown": [
       "291"
      ],
      "text/plain": [
       "[1] 291"
      ]
     },
     "metadata": {},
     "output_type": "display_data"
    },
    {
     "data": {
      "image/png": "[encoded data removed]",
      "text/plain": [
       "plot without title"
      ]
     },
     "metadata": {
      "image/png": {
       "height": 420,
       "width": 420
      }
     },
     "output_type": "display_data"
    }
   ],
   "source": [
    "doublet_cells_hf = rownames(md_hf)[md_hf$pANN_0.25_0.01_294 > thr_hf]\n",
    "doublet_ct_freq_hf = table(mc@colors[mc@mc[doublet_cells_hf]])\n",
    "barplot(doublet_ct_freq_hf,col = names(doublet_ct_freq_hf))\n",
    "length(doublet_cells_hf)"
   ]
  },
  {
   "cell_type": "code",
   "execution_count": 104,
   "id": "602cd0b8",
   "metadata": {},
   "outputs": [],
   "source": [
    "doublet_cells = c(doublet_cells_ls,doublet_cells_hf)\n",
    "mat_f = scm_ignore_cells(scmat = mat,ig_cells = c(doublet_cells,mat@ignore_cells))\n",
    "scdb_add_mat(id = \"exutero_f\",mat = mat_f)"
   ]
  },
  {
   "cell_type": "code",
   "execution_count": 102,
   "id": "af2d2651",
   "metadata": {},
   "outputs": [
    {
     "data": {
      "image/png": "[encoded data removed]",
      "text/plain": [
       "plot without title"
      ]
     },
     "metadata": {
      "image/png": {
       "height": 420,
       "width": 420
      }
     },
     "output_type": "display_data"
    },
    {
     "data": {
      "image/png": "[encoded data removed]",
      "text/plain": [
       "plot without title"
      ]
     },
     "metadata": {
      "image/png": {
       "height": 420,
       "width": 420
      }
     },
     "output_type": "display_data"
    }
   ],
   "source": [
    "barplot(table(mc@colors[mc@mc[cells_hf]]),col = names(table(mc@colors[mc@mc[cells_hf]])))\n",
    "barplot(table(mc@colors[mc@mc[cells_ls]]),col = names(table(mc@colors[mc@mc[cells_ls]])))"
   ]
  },
  {
   "cell_type": "code",
   "execution_count": null,
   "id": "5b7e0538",
   "metadata": {},
   "outputs": [],
   "source": []
  },
  {
   "cell_type": "code",
   "execution_count": null,
   "id": "ef629508",
   "metadata": {},
   "outputs": [],
   "source": []
  }
 ],
 "metadata": {
  "kernelspec": {
   "display_name": "R",
   "language": "R",
   "name": "ir353"
  },
  "language_info": {
   "codemirror_mode": "r",
   "file_extension": ".r",
   "mimetype": "text/x-r-source",
   "name": "R",
   "pygments_lexer": "r",
   "version": "4.0.5"
  }
 },
 "nbformat": 4,
 "nbformat_minor": 5
}
