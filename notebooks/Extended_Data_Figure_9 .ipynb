{
 "cells": [
  {
   "cell_type": "code",
   "execution_count": 1,
   "id": "4b2a7231",
   "metadata": {},
   "outputs": [
    {
     "name": "stderr",
     "output_type": "stream",
     "text": [
      "\n",
      "Attaching package: 'zoo'\n",
      "\n",
      "\n",
      "The following objects are masked from 'package:base':\n",
      "\n",
      "    as.Date, as.Date.numeric\n",
      "\n",
      "\n",
      "Loading required package: usethis\n",
      "\n",
      "-- \u001b[1mAttaching packages\u001b[22m --------------------------------------- tidyverse 1.3.1 --\n",
      "\n",
      "\u001b[32mv\u001b[39m \u001b[34mtibble \u001b[39m 3.1.2      \u001b[32mv\u001b[39m \u001b[34mdplyr  \u001b[39m 1.0.10\n",
      "\u001b[32mv\u001b[39m \u001b[34mtidyr  \u001b[39m 1.2.0      \u001b[32mv\u001b[39m \u001b[34mstringr\u001b[39m 1.4.0 \n",
      "\u001b[32mv\u001b[39m \u001b[34mreadr  \u001b[39m 2.1.0      \u001b[32mv\u001b[39m \u001b[34mforcats\u001b[39m 1.0.0 \n",
      "\u001b[32mv\u001b[39m \u001b[34mpurrr  \u001b[39m 0.3.4      \n",
      "\n",
      "-- \u001b[1mConflicts\u001b[22m ------------------------------------------ tidyverse_conflicts() --\n",
      "\u001b[31mx\u001b[39m \u001b[34mdplyr\u001b[39m::\u001b[32mbetween()\u001b[39m   masks \u001b[34mdata.table\u001b[39m::between()\n",
      "\u001b[31mx\u001b[39m \u001b[34mtidyr\u001b[39m::\u001b[32mexpand()\u001b[39m    masks \u001b[34mMatrix\u001b[39m::expand()\n",
      "\u001b[31mx\u001b[39m \u001b[34mdplyr\u001b[39m::\u001b[32mfilter()\u001b[39m    masks \u001b[34mstats\u001b[39m::filter()\n",
      "\u001b[31mx\u001b[39m \u001b[34mdplyr\u001b[39m::\u001b[32mfirst()\u001b[39m     masks \u001b[34mdata.table\u001b[39m::first()\n",
      "\u001b[31mx\u001b[39m \u001b[34mdplyr\u001b[39m::\u001b[32mlag()\u001b[39m       masks \u001b[34mstats\u001b[39m::lag()\n",
      "\u001b[31mx\u001b[39m \u001b[34mdplyr\u001b[39m::\u001b[32mlast()\u001b[39m      masks \u001b[34mdata.table\u001b[39m::last()\n",
      "\u001b[31mx\u001b[39m \u001b[34mtidyr\u001b[39m::\u001b[32mpack()\u001b[39m      masks \u001b[34mMatrix\u001b[39m::pack()\n",
      "\u001b[31mx\u001b[39m \u001b[34mpurrr\u001b[39m::\u001b[32mtranspose()\u001b[39m masks \u001b[34mdata.table\u001b[39m::transpose()\n",
      "\u001b[31mx\u001b[39m \u001b[34mtidyr\u001b[39m::\u001b[32munpack()\u001b[39m    masks \u001b[34mMatrix\u001b[39m::unpack()\n",
      "\n"
     ]
    }
   ],
   "source": [
    "library(\"metacell\")\n",
    "library(\"Matrix\")\n",
    "library(\"ggplot2\")\n",
    "library(\"ggrepel\")\n",
    "library(\"tgstat\")\n",
    "library(\"zoo\")\n",
    "library(\"qvalue\")\n",
    "library(\"devtools\")\n",
    "library(\"data.table\")\n",
    "library(\"tidyverse\")\n",
    "library(\"tglkmeans\")\n",
    "library('RColorBrewer')\n",
    "library('stats')\n",
    "\n",
    "setwd(here::here())"
   ]
  },
  {
   "cell_type": "code",
   "execution_count": 18,
   "id": "c45a0af4",
   "metadata": {},
   "outputs": [
    {
     "data": {
      "text/html": [
       "<table class=\"dataframe\">\n",
       "<caption>A data.frame: 5 × 3</caption>\n",
       "<thead>\n",
       "\t<tr><th scope=col>gene</th><th scope=col>pval_t</th><th scope=col>sign</th></tr>\n",
       "\t<tr><th scope=col>&lt;chr&gt;</th><th scope=col>&lt;dbl&gt;</th><th scope=col>&lt;chr&gt;</th></tr>\n",
       "</thead>\n",
       "<tbody>\n",
       "\t<tr><td>Pcdh12</td><td>0.09844327</td><td>ns </td></tr>\n",
       "\t<tr><td>Ascl2 </td><td>0.01841652</td><td>(*)</td></tr>\n",
       "\t<tr><td>Chsy1 </td><td>0.02470862</td><td>(*)</td></tr>\n",
       "\t<tr><td>Adm   </td><td>0.07504134</td><td>ns </td></tr>\n",
       "\t<tr><td>Hand1 </td><td>0.02616467</td><td>(*)</td></tr>\n",
       "</tbody>\n",
       "</table>\n"
      ],
      "text/latex": [
       "A data.frame: 5 × 3\n",
       "\\begin{tabular}{lll}\n",
       " gene & pval\\_t & sign\\\\\n",
       " <chr> & <dbl> & <chr>\\\\\n",
       "\\hline\n",
       "\t Pcdh12 & 0.09844327 & ns \\\\\n",
       "\t Ascl2  & 0.01841652 & (*)\\\\\n",
       "\t Chsy1  & 0.02470862 & (*)\\\\\n",
       "\t Adm    & 0.07504134 & ns \\\\\n",
       "\t Hand1  & 0.02616467 & (*)\\\\\n",
       "\\end{tabular}\n"
      ],
      "text/markdown": [
       "\n",
       "A data.frame: 5 × 3\n",
       "\n",
       "| gene &lt;chr&gt; | pval_t &lt;dbl&gt; | sign &lt;chr&gt; |\n",
       "|---|---|---|\n",
       "| Pcdh12 | 0.09844327 | ns  |\n",
       "| Ascl2  | 0.01841652 | (*) |\n",
       "| Chsy1  | 0.02470862 | (*) |\n",
       "| Adm    | 0.07504134 | ns  |\n",
       "| Hand1  | 0.02616467 | (*) |\n",
       "\n"
      ],
      "text/plain": [
       "  gene   pval_t     sign\n",
       "1 Pcdh12 0.09844327 ns  \n",
       "2 Ascl2  0.01841652 (*) \n",
       "3 Chsy1  0.02470862 (*) \n",
       "4 Adm    0.07504134 ns  \n",
       "5 Hand1  0.02616467 (*) "
      ]
     },
     "metadata": {},
     "output_type": "display_data"
    }
   ],
   "source": [
    "qPCR = read.table(\"~/wd_NEW/qPCR_explants.csv\", sep = \",\", header = T)\n",
    "\n",
    "# Initialize an empty data frame to store the results\n",
    "results <- data.frame()\n",
    "\n",
    "# Loop through each gene\n",
    "for (gene in unique(qPCR$gene)) {\n",
    "  # Subset the data for the current gene\n",
    "  gene_data <- qPCR[qPCR$gene == gene,]\n",
    "  \n",
    "  # Perform a t-test\n",
    "    t_test <- t.test(dCt ~ group, data = gene_data, paired = FALSE)\n",
    "    \n",
    "  # Store the results in the data frame\n",
    "  results <- rbind(results, data.frame(\n",
    "    gene = gene,\n",
    "    pval_t = t_test$p.value))\n",
    "}\n",
    "\n",
    "results$sign = case_when(round(results$pval_t,2) < 0.05 ~ \"(*)\",round(results$pval_t,2) > 0.05 ~ \"ns\")\n",
    "results"
   ]
  }
 ],
 "metadata": {
  "kernelspec": {
   "display_name": "R",
   "language": "R",
   "name": "ir"
  },
  "language_info": {
   "codemirror_mode": "r",
   "file_extension": ".r",
   "mimetype": "text/x-r-source",
   "name": "R",
   "pygments_lexer": "r",
   "version": "4.0.5"
  }
 },
 "nbformat": 4,
 "nbformat_minor": 5
}
