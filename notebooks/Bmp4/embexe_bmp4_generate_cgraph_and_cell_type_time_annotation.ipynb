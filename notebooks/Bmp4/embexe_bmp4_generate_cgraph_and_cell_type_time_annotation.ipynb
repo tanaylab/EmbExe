{
 "cells": [
  {
   "cell_type": "code",
   "execution_count": 1,
   "id": "529bae27",
   "metadata": {},
   "outputs": [
    {
     "name": "stderr",
     "output_type": "stream",
     "text": [
      "\n",
      "Attaching package: 'dplyr'\n",
      "\n",
      "\n",
      "The following objects are masked from 'package:stats':\n",
      "\n",
      "    filter, lag\n",
      "\n",
      "\n",
      "The following objects are masked from 'package:base':\n",
      "\n",
      "    intersect, setdiff, setequal, union\n",
      "\n",
      "\n"
     ]
    }
   ],
   "source": [
    "library(\"metacell\")\n",
    "library(\"tgstat\")\n",
    "library(\"Matrix\")\n",
    "library(\"dplyr\")"
   ]
  },
  {
   "cell_type": "code",
   "execution_count": 2,
   "id": "97441ec3",
   "metadata": {},
   "outputs": [],
   "source": [
    "setwd(here::here())"
   ]
  },
  {
   "cell_type": "code",
   "execution_count": 3,
   "id": "c177251d",
   "metadata": {},
   "outputs": [
    {
     "name": "stderr",
     "output_type": "stream",
     "text": [
      "initializing scdb to scrna_db_mm10_star/\n",
      "\n"
     ]
    }
   ],
   "source": [
    "scdb_init(\"scrna_db_mm10_star/\",force_reinit = T)"
   ]
  },
  {
   "cell_type": "code",
   "execution_count": 4,
   "id": "de69db38",
   "metadata": {},
   "outputs": [],
   "source": [
    "mat_new_name = \"embexe_bmp4\""
   ]
  },
  {
   "cell_type": "code",
   "execution_count": 6,
   "id": "cee31903",
   "metadata": {},
   "outputs": [],
   "source": [
    "tgconfig::override_params(config_file = \"config/emb_exe.yaml\",package = \"metacell\")"
   ]
  },
  {
   "cell_type": "code",
   "execution_count": 7,
   "id": "f0560d6a",
   "metadata": {},
   "outputs": [],
   "source": [
    "mat = scdb_mat(mat_new_name)"
   ]
  },
  {
   "cell_type": "code",
   "execution_count": 8,
   "id": "8864de33",
   "metadata": {},
   "outputs": [
    {
     "data": {
      "text/html": [
       "1500"
      ],
      "text/latex": [
       "1500"
      ],
      "text/markdown": [
       "1500"
      ],
      "text/plain": [
       "[1] 1500"
      ]
     },
     "metadata": {},
     "output_type": "display_data"
    }
   ],
   "source": [
    "min(colSums(mat@mat))"
   ]
  },
  {
   "cell_type": "code",
   "execution_count": 9,
   "id": "0e27500b",
   "metadata": {},
   "outputs": [],
   "source": [
    "if(0) {\n",
    "  bad_genes = read.csv('mc2/embexe_bmp4_og2.lateral_gene_names.csv',h = T)\n",
    "bad_genes = bad_genes$gene\n",
    "bad_genes = union(bad_genes,c('Bmp4','H19;Mir675'))\n",
    "\n",
    "mcell_add_gene_stat(mat_new_name, mat_new_name, force=T)\n",
    "\n",
    "mcell_gset_filter_varmean(mat_new_name, mat_new_name, T_vm=0.1, force_new=T)\n",
    "mcell_gset_filter_cov(mat_new_name, mat_new_name, T_tot=50, T_top3=3)\n",
    "\n",
    "gset = scdb_gset(mat_new_name)\n",
    "nms = names(gset@gene_set)\n",
    "#bad gene that will be removed from list of genes that helps to mark metacell \n",
    "bad_g = c(grep(\"^Rpl\",nms,v=T),grep(\"^Gm\",nms,v=T),grep(\"Rps\",nms,v=T), \"Bmp4\")\n",
    "\n",
    "bad_g = c(bad_g, bad_genes)\n",
    "\n",
    "gset_f = gset_new_restrict_nms(gset=gset, bad_g, inverse = T, \"feat filt\")\n",
    "scdb_add_gset(mat_new_name, gset_f)\n",
    "\n",
    "mcell_add_cgraph_from_mat_bknn(mat_id = mat_new_name, \n",
    "                                 gset_id = mat_new_name, \n",
    "                                 graph_id = mat_new_name,\n",
    "                                 K = 100,\n",
    "                                 dsamp = T)\n",
    "\n",
    "  \n",
    "}\n"
   ]
  },
  {
   "cell_type": "code",
   "execution_count": 1,
   "id": "55994fb1",
   "metadata": {},
   "outputs": [],
   "source": [
    "color_query_by_reference = function(cgraph_id,\n",
    "                                    query_cls_md,\n",
    "                                    ref_cls_color,\n",
    "                                    max_knn_cgraph = 50,\n",
    "                                    knn_color_space = 1,\n",
    "                                    color_query_cls_with_few_ref_neighbors = T,\n",
    "                                    threshold_few_ref_neighbors = 0.5) {\n",
    "  \n",
    "  cgraph = scdb_cgraph(cgraph_id)\n",
    "  \n",
    "  query_cls_f = intersect(names(query_cls_md),cgraph@nodes)\n",
    "  \n",
    "  ref_cls = names(ref_cls_color)\n",
    "  ref_cls_f = intersect(ref_cls,cgraph@nodes)\n",
    "  all_cls = c(query_cls_f,ref_cls_f)\n",
    "  \n",
    "  cls1 = levels(cgraph@edges$mc1)\n",
    "  cls2 = levels(cgraph@edges$mc2)\n",
    "  \n",
    "  # add color and type to \n",
    "  cl_to_type = c(query_cls_md[query_cls_f],rep(\"ref\",length(ref_cls_f)))\n",
    "  names(cl_to_type) = all_cls\n",
    "  \n",
    "  type_cls1 = cl_to_type[cls1]\n",
    "  names(type_cls1) = cls1\n",
    "  type_cls2 = cl_to_type[cls2]\n",
    "  names(type_cls2) = cls2\n",
    "  \n",
    "  color_cls1 = ref_cls_color[cls1]\n",
    "  names(color_cls1) = cls1\n",
    "  color_cls2 = ref_cls_color[cls2]\n",
    "  names(color_cls2) = cls2\n",
    "  \n",
    "  cgraph@edges$type1 = type_cls1[cgraph@edges$mc1]\n",
    "  cgraph@edges$type2 = type_cls2[cgraph@edges$mc2]  \n",
    "  cgraph@edges$color1 = color_cls1[cgraph@edges$mc1]\n",
    "  cgraph@edges$color2 = color_cls2[cgraph@edges$mc2]\n",
    "  \n",
    "  \n",
    "  # report on cells which have few reference neighbors\n",
    "  cl_vs_type = table(cgraph@edges$mc1,cgraph@edges$type2)\n",
    "  cl_vs_type = cl_vs_type[all_cls,]\n",
    "  cls_with_few_neighbors = rownames(cl_vs_type)[rowSums(cl_vs_type) <10]\n",
    "  cl_vs_type_n = cl_vs_type[rowSums(cl_vs_type) > 0,]\n",
    "  cl_vs_type_n = cl_vs_type_n/rowSums(cl_vs_type_n)\n",
    "  \n",
    "  cls_with_low_fraction_of_ref_cell_neighbors = rownames(cl_vs_type_n)[1 - cl_vs_type_n[,\"ref\"] > threshold_few_ref_neighbors]\n",
    "  \n",
    "  if(!color_query_cls_with_few_ref_neighbors) {\n",
    "    query_cls_f = setdiff(query_cls_f,cls_with_low_fraction_of_ref_cell_neighbors)\n",
    "  }\n",
    "  \n",
    "  # color annotation of query_cls - restrict to max_knn_cgraph neighbors in the cgraph\n",
    "  \n",
    "  f = cgraph@edges$w > (1 - max_knn_cgraph/100)\n",
    "  graph_f = cgraph@edges[f,]\n",
    "  \n",
    "  \n",
    "  # calculate color contingency table for query vs ref and ref vs ref\n",
    "  cl_vs_color = table(graph_f$mc1,graph_f$color2)\n",
    "  cl_vs_color_ref = cl_vs_color[ref_cls_f,]\n",
    "  cl_vs_color_query = cl_vs_color[query_cls_f,]\n",
    "  cl_vs_color_ref = cl_vs_color_ref[rowSums(cl_vs_color_ref) > 0,]\n",
    "  cl_vs_color_query = cl_vs_color_query[rowSums(cl_vs_color_query) > 0,]\n",
    "  \n",
    "  ref_ref_col_cor = tgs_cor_knn(x = t(cl_vs_color_ref),y = t(cl_vs_color_ref),knn = (knn_color_space + 1))\n",
    "  query_ref_col_cor = tgs_cor_knn(x = t(cl_vs_color_query),y = t(cl_vs_color_ref),knn = knn_color_space)\n",
    "  \n",
    "  \n",
    "  sample_nn = sample(2:(knn_color_space + 1),size = nrow(cl_vs_color_ref),replace = T)\n",
    "  sample_ind = c(0:(nrow(cl_vs_color_ref)-1))*(knn_color_space + 1) + sample_nn\n",
    "  \n",
    "  original_cl = ref_ref_col_cor$col1[sample_ind]\n",
    "  ref_sampled_color = ref_cls_color[as.character(ref_ref_col_cor$col2[sample_ind])]\n",
    "  ref_original_color = ref_cls_color[as.character(original_cl)]\n",
    "  names(ref_original_color) = original_cl\n",
    "  names(ref_sampled_color) = original_cl\n",
    "  \n",
    "  \n",
    "  # sample color for query cls\n",
    "  sample_nn = sample(1:knn_color_space,size = nrow(cl_vs_color_query),replace = T)\n",
    "  sample_ind = c(0:(nrow(cl_vs_color_query)-1))*knn_color_space + sample_nn\n",
    "  \n",
    "  query_cls_col = ref_cls_color[as.character(query_ref_col_cor$col2[sample_ind])]\n",
    "  names(query_cls_col) = as.character(query_ref_col_cor$col1[sample_ind])\n",
    "  \n",
    "  cmp_col_annot = list(query_cls_col = query_cls_col,\n",
    "                       cls_with_low_fraction_of_ref_cell_neighbors = cls_with_low_fraction_of_ref_cell_neighbors,\n",
    "                       ref_cls_orig_color = ref_original_color,\n",
    "                       ref_cls_sampled_color = ref_sampled_color,\n",
    "                       cls_with_few_neighbors = cls_with_few_neighbors,\n",
    "                       max_knn_cgraph = max_knn_cgraph,\n",
    "                       knn_color_space = knn_color_space,\n",
    "                       query_cls_col_dist = cl_vs_color_query,\n",
    "                       ref_cls_col_dist = cl_vs_color_ref,\n",
    "                       cl_type_dist = cl_vs_type)\n",
    "  \n",
    "  return(cmp_col_annot)\n",
    "}"
   ]
  },
  {
   "cell_type": "code",
   "execution_count": 11,
   "id": "f979cf20",
   "metadata": {},
   "outputs": [],
   "source": [
    "mat_nm = mat_new_name\n",
    "ref_mc_id = 'mm_embexe'\n",
    "cgraph_id = mat_nm\n",
    "mat = scdb_mat(mat_nm)\n",
    "mc_wt = scdb_mc(ref_mc_id)\n",
    "  \n",
    "query_cells = colnames(mat@mat)[(mat@cell_metadata[colnames(mat@mat),\"cell_genotype\"] %in% c(\"Bmp4 Emb unclear\",\"Bmp4 Emb-KO\",\"Bmp4 gKO\",\"Control Tetraploid\",\"WT/Het Bmp4\",\"OG2\",\"empty/ignored\"))]\n",
    "  \n",
    "ref_cells = names(mc_wt@mc)\n",
    "  \n",
    "query_cls_md = mat@cell_metadata[query_cells,\"cell_genotype\"] \n",
    "names(query_cls_md) = query_cells\n",
    "  \n",
    "ref_cls_color = mc_wt@colors[mc_wt@mc[ref_cells]]\n",
    "names(ref_cls_color)  = ref_cells\n",
    "\n",
    "\n",
    "\n",
    "cmp_annot = color_query_by_reference(cgraph_id = cgraph_id, \n",
    "                                     query_cls_md = query_cls_md, \n",
    "                                     ref_cls_color = ref_cls_color,\n",
    "                                     threshold_few_ref_neighbors = 0.9,\n",
    "                                     max_knn_cgraph = 100)\n",
    "   \n"
   ]
  },
  {
   "cell_type": "code",
   "execution_count": 12,
   "id": "1f73dc42",
   "metadata": {},
   "outputs": [
    {
     "data": {
      "text/html": [
       "171"
      ],
      "text/latex": [
       "171"
      ],
      "text/markdown": [
       "171"
      ],
      "text/plain": [
       "[1] 171"
      ]
     },
     "metadata": {},
     "output_type": "display_data"
    }
   ],
   "source": [
    "length(cmp_annot$cls_with_low_fraction_of_ref_cell_neighbors)"
   ]
  },
  {
   "cell_type": "code",
   "execution_count": 13,
   "id": "8ecf5657",
   "metadata": {},
   "outputs": [],
   "source": [
    "cells_all = intersect(colnames(mat@mat),names(mc_wt@mc))"
   ]
  },
  {
   "cell_type": "code",
   "execution_count": 14,
   "id": "712e8dfa",
   "metadata": {},
   "outputs": [],
   "source": [
    "egc_wt_old = t(tgs_matrix_tapply(mat@mat[,cells_all],mc_wt@mc[cells_all],sum))\n",
    "egc_wt_old = t(t(egc_wt_old)/colSums(egc_wt_old))"
   ]
  },
  {
   "cell_type": "code",
   "execution_count": 15,
   "id": "05a4fc65",
   "metadata": {},
   "outputs": [],
   "source": [
    "gset = scdb_gset('embexe')\n",
    "\n",
    "bad_genes = read.csv('mc2/embexe_bmp4_og2.lateral_gene_names.csv',h = T)\n",
    "bad_genes = bad_genes$gene\n",
    "bad_genes = union(bad_genes,c('Bmp4','H19;Mir675'))\n",
    "\n",
    "\n",
    "feat_genes = setdiff(names(gset@gene_set), bad_genes)"
   ]
  },
  {
   "cell_type": "code",
   "execution_count": 16,
   "id": "ea111dfb",
   "metadata": {},
   "outputs": [],
   "source": [
    "reg = 1e-5\n",
    "query_ref_cor = tgs_cor(log2(as.matrix(mat@mat[feat_genes,cmp_annot$cls_with_low_fraction_of_ref_cell_neighbors] + 1)),\n",
    "                        log2(egc_wt_old[feat_genes,] + reg))"
   ]
  },
  {
   "cell_type": "code",
   "execution_count": 17,
   "id": "608a5cc9",
   "metadata": {
    "scrolled": false
   },
   "outputs": [],
   "source": [
    "best_ref = apply(query_ref_cor,1,which.max)"
   ]
  },
  {
   "cell_type": "code",
   "execution_count": 18,
   "id": "91d8a714",
   "metadata": {},
   "outputs": [],
   "source": [
    "cmp_annot$query_cls_col[ cmp_annot$cls_with_low_fraction_of_ref_cell_neighbors] = mc_wt@colors[best_ref]"
   ]
  },
  {
   "cell_type": "code",
   "execution_count": 19,
   "id": "5700f8a1",
   "metadata": {},
   "outputs": [],
   "source": [
    "saveRDS(cmp_annot, file=sprintf(\"data/cmp_annot_%s.RData\",mat_nm))"
   ]
  },
  {
   "cell_type": "markdown",
   "id": "5f3b9df8",
   "metadata": {},
   "source": [
    "### Transfer time annotations"
   ]
  },
  {
   "cell_type": "code",
   "execution_count": 20,
   "id": "23c2ff1f",
   "metadata": {},
   "outputs": [],
   "source": [
    "excluded_colors = mc_wt@color_key$color[39:51]"
   ]
  },
  {
   "cell_type": "code",
   "execution_count": 25,
   "id": "6cce7b8d",
   "metadata": {},
   "outputs": [
    {
     "name": "stderr",
     "output_type": "stream",
     "text": [
      "Loading required package: slam\n",
      "\n",
      "Loading required package: sparsesvd\n",
      "\n"
     ]
    }
   ],
   "source": [
    "library(\"Matrix\")\n",
    "library(\"qlcMatrix\")"
   ]
  },
  {
   "cell_type": "code",
   "execution_count": 26,
   "id": "fb1bb14a",
   "metadata": {},
   "outputs": [],
   "source": [
    "get_query_time_dist = function(query_cls_md,atlas_time,graph_id) {\n",
    "  \n",
    "  cgraph = scdb_cgraph(graph_id)\n",
    "  \n",
    "  query_cls = intersect(names(query_cls_md),cgraph@nodes)\n",
    "  atlas_cls = intersect(names(atlas_time),cgraph@nodes)\n",
    "  atlas_time = atlas_time[atlas_cls]\n",
    "  query_cls_md = query_cls_md[query_cls]\n",
    "  \n",
    "  \n",
    "  cell_names = c(1:length(cgraph@nodes))\n",
    "  names(cell_names) = cgraph@nodes\n",
    "  \n",
    "  graph = cgraph@edges\n",
    "  graph$mc1 = as.factor(graph$mc1)\n",
    "  graph$mc2 = as.factor(graph$mc2)\n",
    "  levels(graph$mc1) = cell_names[levels(graph$mc1)]\n",
    "  levels(graph$mc2) = cell_names[levels(graph$mc2)]\n",
    "  \n",
    "  # adjacency matrix \n",
    "  knn_mat = sparseMatrix(as.numeric(graph$mc1),as.numeric(graph$mc2),x = graph$w)\n",
    "  colnames(knn_mat) = cgraph@nodes\n",
    "  rownames(knn_mat) = cgraph@nodes\n",
    "  \n",
    "  knn_mat_f = knn_mat[query_cls,atlas_cls]\n",
    "  \n",
    "  a = rowMax(X = knn_mat_f,which = T)\n",
    "  time_match_ind = summary(a$which)\n",
    "  \n",
    "  query_time_match = atlas_time[time_match_ind$j]\n",
    "  names(query_time_match) = query_cls[time_match_ind$i]\n",
    "  \n",
    "  query_time_dist = table(query_cls_md[time_match_ind$i],atlas_time[time_match_ind$j])\n",
    "  tmp = matrix(0,nrow = nrow(query_time_dist),ncol = length(unique(atlas_time)))\n",
    "  rownames(tmp) = rownames(query_time_dist)\n",
    "  colnames(tmp) = sort(unique(atlas_time))\n",
    "  tmp[rownames(query_time_dist),colnames(query_time_dist)] = query_time_dist\n",
    "  query_time_dist = tmp\n",
    "  \n",
    "  \n",
    "  return(list(query_time_dist = query_time_dist,query_time_match = query_time_match))\n",
    "}"
   ]
  },
  {
   "cell_type": "code",
   "execution_count": 27,
   "id": "cff6f90c",
   "metadata": {},
   "outputs": [],
   "source": [
    "get_atlas_time_dist = function(query_cls_md,atlas_time,graph_id) {\n",
    "  \n",
    "  \n",
    "  # query_cls_md is a named vector with query_cls as names and the embryo annotation or sth similar as value\n",
    "  # atlas_time is a named vector giving the atlas_time for each atlas cell\n",
    "  \n",
    "  cgraph = scdb_cgraph(graph_id)\n",
    "  \n",
    "  atlas_cls = intersect(names(atlas_time),cgraph@nodes)\n",
    "  atlas_time = atlas_time[atlas_cls]\n",
    "  \n",
    "  \n",
    "  cell_names = c(1:length(cgraph@nodes))\n",
    "  names(cell_names) = cgraph@nodes\n",
    "  \n",
    "  graph = cgraph@edges\n",
    "  graph$mc1 = as.factor(graph$mc1)\n",
    "  graph$mc2 = as.factor(graph$mc2)\n",
    "  levels(graph$mc1) = cell_names[levels(graph$mc1)]\n",
    "  levels(graph$mc2) = cell_names[levels(graph$mc2)]\n",
    "  \n",
    "  knn_mat = sparseMatrix(as.numeric(graph$mc1),as.numeric(graph$mc2),x = graph$w)\n",
    "  colnames(knn_mat) = cgraph@nodes\n",
    "  rownames(knn_mat) = cgraph@nodes\n",
    "  \n",
    "  knn_mat_f = knn_mat[atlas_cls,atlas_cls]\n",
    "  for(i in unique(atlas_time)) {\n",
    "    f = atlas_time == i\n",
    "    knn_mat_f[f,f] = 0\n",
    "  }\n",
    "  \n",
    "  a = rowMax(X = knn_mat_f,which = T)\n",
    "  time_match_ind = summary(a$which)\n",
    "  \n",
    "  atlas_time_match = atlas_time[time_match_ind$j]\n",
    "  names(atlas_time_match) = atlas_cls[time_match_ind$i]\n",
    "  \n",
    "  q_time_match_tmp = table(atlas_time[time_match_ind$i], atlas_time_match)\n",
    "  q_time_match = matrix(0,nrow = length(unique(atlas_time)),ncol = length(unique(atlas_time)))\n",
    "  rownames(q_time_match) = sort(unique(atlas_time))\n",
    "  colnames(q_time_match) = sort(unique(atlas_time))\n",
    "  q_time_match[rownames(q_time_match_tmp),colnames(q_time_match_tmp)] = q_time_match_tmp\n",
    "  \n",
    "  return(list(atlas_time_dist = q_time_match,atlas_time_match = atlas_time_match))\n",
    "}"
   ]
  },
  {
   "cell_type": "code",
   "execution_count": 28,
   "id": "6cfecdc2",
   "metadata": {},
   "outputs": [],
   "source": [
    "time_dist_best_match = function(query_time_dist,atlas_time_dist) {\n",
    "  \n",
    "  rank_to_time = read.table(file = \"data/embexe.transcriptional_rank_developmental_time.tsv\",stringsAsFactors = F,h = T,sep = \"\\t\")\n",
    "  dev_time = rank_to_time$developmental_time\n",
    "  \n",
    "  query_ref_cor = cor(t(as.matrix(as.data.frame.matrix(query_time_dist))),\n",
    "                          t(as.matrix(as.data.frame.matrix(atlas_time_dist))))\n",
    "  \n",
    "  \n",
    "  wt_dev_time = rank_to_time$developmental_time[as.numeric(colnames(query_ref_cor))] \n",
    "\n",
    "  best_fit = apply(query_ref_cor,1,function(emb_cor) {\n",
    "    smooth_spline = smooth.spline(x = wt_dev_time,y = emb_cor,spar = 0.8)\n",
    "    y = smooth_spline$y\n",
    "    return(which.max(y))\n",
    "  })\n",
    "  \n",
    "  best_fit = as.numeric(colnames(query_ref_cor))[best_fit]\n",
    "  return(best_fit)\n",
    "}"
   ]
  },
  {
   "cell_type": "code",
   "execution_count": 29,
   "id": "9107e9e9",
   "metadata": {},
   "outputs": [],
   "source": [
    "cgraph_id =  mat_nm\n",
    "mat = scdb_mat(mat_nm)\n",
    "mc_wt = scdb_mc(\"embexe_recolored\")\n",
    "  \n",
    "  # Exclude extraembryonic ectoderm and parietal endoderm\n",
    "  \n",
    "  cmp_annot = readRDS(file = sprintf(\"data/cmp_annot_%s.RData\",mat_nm))\n",
    "  \n",
    "  f = mat@cell_metadata[colnames(mat@mat),\"cell_genotype\"] %in% c(\"Bmp4 Emb unclear\",\"Bmp4 Emb-KO\",\"Bmp4 gKO\",\"Control Tetraploid\",\"WT/Het Bmp4\")\n",
    "  query_cells = colnames(mat@mat)[f]\n",
    "  query_cells = intersect(query_cells,names(cmp_annot$query_cls_col))\n",
    "  \n",
    "  if(!is.null(excluded_colors)) {\n",
    "    excluded_cls = query_cells[cmp_annot$query_cls_col[query_cells] %in% excluded_colors]\n",
    "    query_cells = setdiff(query_cells,excluded_cls)\n",
    "  } else {\n",
    "    message(\"Did not exclude any cell types for timing the embryos.\")\n",
    "  }\n",
    "  \n",
    "  n_cells_per_embryo = table(mat@cell_metadata[query_cells,\"embryo\"])\n",
    "  \n",
    "  query_embryos = names(n_cells_per_embryo)[n_cells_per_embryo > 10]\n",
    "  \n",
    "  \n",
    "  wt_cls = intersect(names(mc_wt@mc)[ !(mc_wt@colors[mc_wt@mc] %in% excluded_colors) ],colnames(mat@mat))\n",
    "  wt_cls = wt_cls[!is.na(mat@cell_metadata[wt_cls,\"transcriptional_rank\"])]\n",
    "  atlas_time = mat@cell_metadata[wt_cls,\"transcriptional_rank\"]\n",
    "  names(atlas_time) = wt_cls\n",
    "  \n",
    "  data_dir = sprintf(\"data/%s\",mat_nm)\n",
    "  if(!dir.exists(data_dir)) {\n",
    "    dir.create(data_dir)\n",
    "  }\n",
    "  \n",
    "  data_dir = sprintf(\"data/%s/time_match\",mat_nm)\n",
    "  if(!dir.exists(data_dir)) {\n",
    "    dir.create(data_dir)\n",
    "  }\n",
    "  \n",
    "  \n",
    "  # first get atlas time distribution\n",
    "  \n",
    "  atlas_time_dist = get_atlas_time_dist(atlas_time = atlas_time,graph_id = cgraph_id)\n",
    "  \n",
    "  # first timing using control cells only\n",
    "  query_cls = query_cells[( mat@cell_metadata[query_cells,\"cell_genotype\"] %in%  c(\"Bmp4 Emb unclear\",\"Bmp4 Emb-KO\",\"Bmp4 gKO\",\"Control Tetraploid\",\"WT/Het Bmp4\") ) & ( mat@cell_metadata[query_cells,\"embryo\"] %in%  query_embryos )]\n",
    "  query_cls_md = mat@cell_metadata[query_cls,\"embryo\"]\n",
    "  names(query_cls_md) = query_cls\n",
    "  \n",
    "  query_time_dist= get_query_time_dist(query_cls_md = query_cls_md,atlas_time = atlas_time,graph_id = cgraph_id)\n",
    "  \n",
    "  time_dist_query = list(atlas_time_dist = atlas_time_dist$atlas_time_dist,\n",
    "                        query = query_time_dist$query_time_dist)\n",
    "  \n",
    "  #saveRDS(time_dist_query,file = sprintf(\"%s/time_dist_query.RData\",data_dir))\n",
    "  \n",
    "  chim_emb_summary = as.data.frame.matrix(table(mat@cell_metadata[query_cells,\"embryo\"],mat@cell_metadata[query_cells,\"cell_type\"]))\n",
    "  chim_emb_summary$embryo = rownames(chim_emb_summary)\n",
    "  chim_emb_summary$best_rank_query = NA\n",
    "  chim_emb_summary[rownames(time_dist_query$query),\"best_rank_query\"] = time_dist_best_match(atlas_time_dist = time_dist_query$atlas_time_dist,\n",
    "                                                                                       query_time_dist = time_dist_query$query)\n",
    "  \n",
    "  #write.table(chim_emb_summary,file = sprintf(\"%s/time_match_summary.txt\",data_dir),sep =\"\\t\",row.names = F)"
   ]
  },
  {
   "cell_type": "code",
   "execution_count": null,
   "id": "1cd4232b",
   "metadata": {},
   "outputs": [],
   "source": []
  }
 ],
 "metadata": {
  "kernelspec": {
   "display_name": "R",
   "language": "R",
   "name": "ir"
  },
  "language_info": {
   "codemirror_mode": "r",
   "file_extension": ".r",
   "mimetype": "text/x-r-source",
   "name": "R",
   "pygments_lexer": "r",
   "version": "3.5.3"
  }
 },
 "nbformat": 4,
 "nbformat_minor": 5
}
