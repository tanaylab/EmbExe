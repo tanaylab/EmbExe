{
 "cells": [
  {
   "cell_type": "code",
   "execution_count": 1,
   "id": "7fab59f5",
   "metadata": {},
   "outputs": [],
   "source": [
    "setwd(here::here())"
   ]
  },
  {
   "cell_type": "code",
   "execution_count": 3,
   "id": "a623d4ee",
   "metadata": {},
   "outputs": [],
   "source": [
    "library(\"metacell\")\n",
    "library(\"Matrix\")\n",
    "#library(\"reticulate\")\n",
    "#library(\"anndata\")\n",
    "#sc = import(\"scanpy\")\n",
    "#mc2 = import(\"metacells\")"
   ]
  },
  {
   "cell_type": "code",
   "execution_count": 103,
   "id": "49bd56e2",
   "metadata": {},
   "outputs": [
    {
     "name": "stderr",
     "output_type": "stream",
     "text": [
      "initializing scdb to scrna_db_mm10_star/\n",
      "\n"
     ]
    }
   ],
   "source": [
    "scdb_init(\"scrna_db_mm10_star/\",force_reinit = T)"
   ]
  },
  {
   "cell_type": "code",
   "execution_count": 53,
   "id": "28eb9337",
   "metadata": {},
   "outputs": [],
   "source": [
    "list_of_all_plates = read.table('data/list_of_all_plates.tsv',sep = '\\t',h = T)"
   ]
  },
  {
   "cell_type": "code",
   "execution_count": 56,
   "id": "00f72597",
   "metadata": {},
   "outputs": [
    {
     "data": {
      "text/plain": [
       "\n",
       "  Bmp4 Embryo-KO Bmp4 germline KO  Elf5 Experiment      PGC project \n",
       "              47               26               44               13 \n",
       "        Wildtype \n",
       "             251 "
      ]
     },
     "metadata": {},
     "output_type": "display_data"
    }
   ],
   "source": [
    "table(list_of_all_plates$Experiment)"
   ]
  },
  {
   "cell_type": "code",
   "execution_count": 57,
   "id": "012d9a19",
   "metadata": {},
   "outputs": [],
   "source": [
    "included_plates = list_of_all_plates$plate[list_of_all_plates$Experiment %in% c(\"Bmp4 Embryo-KO\",\"Bmp4 germline KO\",\"PGC project\",\"Wildtype\")]\n",
    "ignored_plates = c('exe19_p11_NOVAseq')\n",
    "included_plates = setdiff(included_plates,ignored_plates)"
   ]
  },
  {
   "cell_type": "code",
   "execution_count": 60,
   "id": "793f4240",
   "metadata": {},
   "outputs": [],
   "source": [
    "plts_dir <- \"data/metadata_mars_seq_plates.csv\"\n",
    "metadata = read.csv(file = plts_dir, stringsAsFactors = F)\n",
    "metadata = metadata[ metadata$Plate %in% included_plates,]"
   ]
  },
  {
   "cell_type": "code",
   "execution_count": 64,
   "id": "03fc91ef",
   "metadata": {},
   "outputs": [],
   "source": [
    "mat_name = \"embexe_bmp4_og2_stelzer_star\""
   ]
  },
  {
   "cell_type": "code",
   "execution_count": 65,
   "id": "b0b2559b",
   "metadata": {},
   "outputs": [
    {
     "name": "stdout",
     "output_type": "stream",
     "text": [
      "[1] \"The following plates are missing/not sequenced yet:\"\n",
      "character(0)\n"
     ]
    }
   ],
   "source": [
    "\n",
    "metadata$Amp.Batch.ID = metadata$Plate\n",
    "metadata$Seq.Batch.ID = metadata$Sequencing.Dates\n",
    "metadata$Batch.Set.ID = metadata$Amp.Batch.ID\n",
    "\n",
    "print(\"The following plates are missing/not sequenced yet:\")\n",
    "print(metadata$Plate[!(paste0(metadata$Plate,\".txt\") %in% list.files(\"data/umi.tables/mars_seq\"))])\n",
    "\n",
    "\n",
    "\n",
    "write.table(x = metadata,file = paste(\"config/key_\",mat_name,\".txt\",sep = \"\"),quote = F,sep = \"\\t\",row.names = F)"
   ]
  },
  {
   "cell_type": "code",
   "execution_count": 66,
   "id": "fdedc6bf",
   "metadata": {},
   "outputs": [
    {
     "name": "stderr",
     "output_type": "stream",
     "text": [
      "will read 181209_P01\n",
      "\n",
      "will read 181209_P03\n",
      "\n",
      "will read 181209_P04\n",
      "\n",
      "will read 190108_P01\n",
      "\n",
      "will read 190108_P03\n",
      "\n",
      "will read 190214_P01\n",
      "\n",
      "will read 190214_P02\n",
      "\n",
      "will read 190214_P03\n",
      "\n",
      "will read 190214_P04\n",
      "\n",
      "will read 190214_P05\n",
      "\n",
      "will read 190223_P01\n",
      "\n",
      "will read 190223_P02\n",
      "\n",
      "will read 190223_P03\n",
      "\n",
      "will read 190223_P04\n",
      "\n",
      "will read 190223_P05\n",
      "\n",
      "will read 190223_P06\n",
      "\n",
      "will read 190223_P07\n",
      "\n",
      "will read 190223_P08\n",
      "\n",
      "will read 190223_P09\n",
      "\n",
      "will read 190223_P10\n",
      "\n",
      "will read 190301_P04\n",
      "\n",
      "will read 190304_P01\n",
      "\n",
      "will read 190304_P02\n",
      "\n",
      "will read 190304_P03\n",
      "\n",
      "will read 190307_P09\n",
      "\n",
      "will read 190307_P10\n",
      "\n",
      "will read 190307_P11\n",
      "\n",
      "will read 190307_P12\n",
      "\n",
      "will read 190307_P13\n",
      "\n",
      "will read 190307_P14\n",
      "\n",
      "will read 190307_P15\n",
      "\n",
      "will read 190307_P16\n",
      "\n",
      "will read 190311_P01\n",
      "\n",
      "will read 190311_P02\n",
      "\n",
      "will read 190311_P03\n",
      "\n",
      "will read 190313_P01\n",
      "\n",
      "will read 190313_P02\n",
      "\n",
      "will read 190313_P03\n",
      "\n",
      "will read 190313_P04\n",
      "\n",
      "will read 190313_P05\n",
      "\n",
      "will read 190313_P06\n",
      "\n",
      "will read 190313_P07\n",
      "\n",
      "will read 190313_P08\n",
      "\n",
      "will read 190313_P09\n",
      "\n",
      "will read 190313_P10\n",
      "\n",
      "will read 190313_P11\n",
      "\n",
      "will read 190313_P12\n",
      "\n",
      "will read 190313_P13\n",
      "\n",
      "will read 190313_P14\n",
      "\n",
      "will read 190313_P15\n",
      "\n",
      "will read 190313_P16\n",
      "\n",
      "will read 190401_P03\n",
      "\n",
      "will read 190416_P01\n",
      "\n",
      "will read 190416_P02\n",
      "\n",
      "will read 190416_P03\n",
      "\n",
      "will read 190506_P118\n",
      "\n",
      "will read 190506_P119\n",
      "\n",
      "will read 190506_P120\n",
      "\n",
      "will read 190506_P124\n",
      "\n",
      "will read 190506_P125\n",
      "\n",
      "will read 190506_P126\n",
      "\n",
      "will read 190506_P127\n",
      "\n",
      "will read 190506_P128\n",
      "\n",
      "will read 190506_P129\n",
      "\n",
      "will read 190527_P100\n",
      "\n",
      "will read 190527_P101\n",
      "\n",
      "will read 190527_P102\n",
      "\n",
      "will read 190527_P103\n",
      "\n",
      "will read 190527_P104\n",
      "\n",
      "will read 190527_P105\n",
      "\n",
      "will read 190527_P146\n",
      "\n",
      "will read 190527_P148\n",
      "\n",
      "will read 190527_P150\n",
      "\n",
      "will read 190527_P151\n",
      "\n",
      "will read 190527_P152\n",
      "\n",
      "will read 190527_P153\n",
      "\n",
      "will read 190527_P155\n",
      "\n",
      "will read 190527_P156\n",
      "\n",
      "will read 190625_P01_OG2\n",
      "\n",
      "will read 190703_P01_OG2\n",
      "\n",
      "will read 190703_P02_OG2\n",
      "\n",
      "will read 190710_112\n",
      "\n",
      "will read 190710_114\n",
      "\n",
      "will read 190710_164\n",
      "\n",
      "will read 190710_165\n",
      "\n",
      "will read 190710_166\n",
      "\n",
      "will read 190710_167\n",
      "\n",
      "will read 190710_168\n",
      "\n",
      "will read 190710_169\n",
      "\n",
      "will read 190710_172\n",
      "\n",
      "will read 190710_173\n",
      "\n",
      "will read 190710_175\n",
      "\n",
      "will read 190710_176\n",
      "\n",
      "will read 190814_P01\n",
      "\n",
      "will read 190814_P02\n",
      "\n",
      "will read 190908_E8.5_roni_EE02\n",
      "\n",
      "will read 190908_E8.5_roni_NOVA\n",
      "\n",
      "will read 20191217_ICR_e7.5_p1\n",
      "\n",
      "will read 20191217_ICR_e7.5_p10\n",
      "\n",
      "will read 20191217_ICR_e7.5_p11\n",
      "\n",
      "will read 20191217_ICR_e7.5_p12\n",
      "\n",
      "will read 20191217_ICR_e7.5_p13\n",
      "\n",
      "will read 20191217_ICR_e7.5_p14\n",
      "\n",
      "will read 20191217_ICR_e7.5_p15\n",
      "\n",
      "will read 20191217_ICR_e7.5_p16\n",
      "\n",
      "will read 20191217_ICR_e7.5_p2\n",
      "\n",
      "will read 20191217_ICR_e7.5_p3\n",
      "\n",
      "will read 20191217_ICR_e7.5_p4\n",
      "\n",
      "will read 20191217_ICR_e7.5_p5\n",
      "\n",
      "will read 20191217_ICR_e7.5_p6\n",
      "\n",
      "will read 20191217_ICR_e7.5_p7\n",
      "\n",
      "will read 20191217_ICR_e7.5_p8\n",
      "\n",
      "will read 20191217_ICR_e7.5_p9\n",
      "\n",
      "will read E775_PGC_P01_NOVA\n",
      "\n",
      "will read EXE_6_E7.5_P1_e1_e2\n",
      "\n",
      "will read EXE_6_E7.5_P2_e3_e4\n",
      "\n",
      "will read EXE_6_E7.5_P3_e5_e6_e7\n",
      "\n",
      "will read EXE_EXP10_E7.0_1\n",
      "\n",
      "will read EXE_EXP10_E7.0_2\n",
      "\n",
      "will read EXE_EXP10_E7.0_NOVA\n",
      "\n",
      "will read EXE_EXP11_E7.5_1\n",
      "\n",
      "will read EXE_EXP11_E7.5_2\n",
      "\n",
      "will read EXE_EXP12_E7.5_1\n",
      "\n",
      "will read EXE_EXP12_E7.5_2\n",
      "\n",
      "will read EXE_EXP12_E7.5_3\n",
      "\n",
      "will read EXE_EXP12_E7.5_4\n",
      "\n",
      "will read EXE_EXP13_E7.5_P1_E1_E2_E3_NOVA\n",
      "\n",
      "will read EXE_EXP13_E7.5_P1_E4_e5\n",
      "\n",
      "will read EXE_EXP13_E7.5_P1_E6_NOVA\n",
      "\n",
      "will read EXE_exp14_spatial_p1_E6.5_e1_e2_e3_NOVA\n",
      "\n",
      "will read EXE_exp14_spatial_p2_E6.5_e5_e6_NOVA\n",
      "\n",
      "will read EXE_exp15_spatial_p1_E6.5_e1_e2_e3_m1e2\n",
      "\n",
      "will read EXE_EXP8_E6.5_NOVA\n",
      "\n",
      "will read EXE_EXP8_E6.5_NOVA_701\n",
      "\n",
      "will read EXE1_e1-3_E6.25_1\n",
      "\n",
      "will read EXE17_E5.5_P1\n",
      "\n",
      "will read EXE18_P1\n",
      "\n",
      "will read EXE18_P10\n",
      "\n",
      "will read EXE18_P11_NOVA\n",
      "\n",
      "will read EXE18_P12\n",
      "\n",
      "will read EXE18_P2_NOVA\n",
      "\n",
      "will read EXE18_P3\n",
      "\n",
      "will read EXE18_P4\n",
      "\n",
      "will read EXE18_P5_NOVA\n",
      "\n",
      "will read EXE18_P6\n",
      "\n",
      "will read EXE18_P8\n",
      "\n",
      "will read EXE18_P9\n",
      "\n",
      "will read exe19_p1\n",
      "\n",
      "will read exe19_p10\n",
      "\n",
      "will read exe19_p2\n",
      "\n",
      "will read exe19_p3\n",
      "\n",
      "will read exe19_p4\n",
      "\n",
      "will read exe19_p5\n",
      "\n",
      "will read exe19_p6\n",
      "\n",
      "will read exe19_p8\n",
      "\n",
      "will read exe19_p9\n",
      "\n",
      "will read EXE2_e3_E7.5_2\n",
      "\n",
      "will read EXE2_e4_E7.5_3\n",
      "\n",
      "will read EXE2_e5_E7.5_4\n",
      "\n",
      "will read exe21_p1\n",
      "\n",
      "will read exe21_p2\n",
      "\n",
      "will read exe21_p3\n",
      "\n",
      "will read exe21_p4\n",
      "\n",
      "will read exe21_p5\n",
      "\n",
      "will read EXE22_p1_placenta_e1\n",
      "\n",
      "will read EXE22_p10_e4b_placenta_e5\n",
      "\n",
      "will read EXE22_p2_e1\n",
      "\n",
      "will read EXE22_p4_e2_placenta_e2\n",
      "\n",
      "will read EXE22_p5_e2b_placenta_e3\n",
      "\n",
      "will read EXE22_p6_e3\n",
      "\n",
      "will read EXE22_p7_e3b\n",
      "\n",
      "will read EXE22_p8_e3c\n",
      "\n",
      "will read EXE22_p9_e4\n",
      "\n",
      "will read EXE23_P1\n",
      "\n",
      "will read EXE23_P10\n",
      "\n",
      "will read EXE23_P11\n",
      "\n",
      "will read EXE23_P12\n",
      "\n",
      "will read EXE23_P13\n",
      "\n",
      "will read EXE23_P2\n",
      "\n",
      "will read EXE23_P3\n",
      "\n",
      "will read EXE23_P4\n",
      "\n",
      "will read EXE23_P5\n",
      "\n",
      "will read EXE23_P6\n",
      "\n",
      "will read EXE23_P7\n",
      "\n",
      "will read EXE23_P8\n",
      "\n",
      "will read EXE23_P9\n",
      "\n",
      "will read EXE24_P1\n",
      "\n",
      "will read EXE24_P10\n",
      "\n",
      "will read EXE24_P11\n",
      "\n",
      "will read EXE24_P12\n",
      "\n",
      "will read EXE24_P13\n",
      "\n",
      "will read EXE24_P14\n",
      "\n",
      "will read EXE24_P15\n",
      "\n",
      "will read EXE24_P16\n",
      "\n",
      "will read EXE24_P17\n",
      "\n",
      "will read EXE24_P18\n",
      "\n",
      "will read EXE24_P19\n",
      "\n",
      "will read EXE24_P2\n",
      "\n",
      "will read EXE24_P3\n",
      "\n",
      "will read EXE24_P4\n",
      "\n",
      "will read EXE24_P5\n",
      "\n",
      "will read EXE24_P6\n",
      "\n",
      "will read EXE24_P7\n",
      "\n",
      "will read EXE24_P8\n",
      "\n",
      "will read EXE24_P9\n",
      "\n",
      "will read EXE25_P1\n",
      "\n",
      "will read EXE25_P10\n",
      "\n",
      "will read EXE25_P11\n",
      "\n",
      "will read EXE25_P2\n",
      "\n",
      "will read EXE25_P3\n",
      "\n",
      "will read EXE25_P4\n",
      "\n",
      "will read EXE25_P5\n",
      "\n",
      "will read EXE25_P6\n",
      "\n",
      "will read EXE25_P7\n",
      "\n",
      "will read EXE25_P8\n",
      "\n",
      "will read EXE25_P9\n",
      "\n",
      "will read EXE26_P1\n",
      "\n",
      "will read EXE27_P1\n",
      "\n",
      "will read EXE28_P1\n",
      "\n",
      "will read EXE28_P10\n",
      "\n",
      "will read EXE28_P2\n",
      "\n",
      "will read EXE28_P3\n",
      "\n",
      "will read EXE28_P4\n",
      "\n",
      "will read EXE28_P5\n",
      "\n",
      "will read EXE28_P6\n",
      "\n",
      "will read EXE28_P7\n",
      "\n",
      "will read EXE28_P8\n",
      "\n",
      "will read EXE28_P9\n",
      "\n",
      "will read EXE3_e1_E6.5_1\n",
      "\n",
      "will read EXE3_e2-3_E6.5_2\n",
      "\n",
      "will read EXE3_e4-e5_E6.5_3\n",
      "\n",
      "will read EXE3_m2e1-e3_E6.5_4\n",
      "\n",
      "will read EXE3_m2e3cont-m3e1-e2_E6.5_5\n",
      "\n",
      "will read EXE4_M1E1-E4,M2E1-E2_E5.5_1\n",
      "\n",
      "will read EXE5_E1-E4_E6.5_1\n",
      "\n",
      "will read EXE5_E4cont-E6_E6.5_2\n",
      "\n",
      "will read EXE5_E6cont-E7_E6.5_3\n",
      "\n",
      "will read lin_trace_p1_exp1\n",
      "\n",
      "will read lin_trace_p10_exp1\n",
      "\n",
      "will read lin_trace_p11_exp1\n",
      "\n",
      "will read lin_trace_p12_exp1\n",
      "\n",
      "will read lin_trace_p13_exp1\n",
      "\n",
      "will read lin_trace_p15_exp1\n",
      "\n",
      "will read lin_trace_p2_exp1\n",
      "\n",
      "will read lin_trace_p3_exp1\n",
      "\n",
      "will read lin_trace_p4_exp1\n",
      "\n",
      "will read lin_trace_p5_exp1\n",
      "\n",
      "will read lin_trace_p6_exp1\n",
      "\n",
      "will read lin_trace_p7_exp1\n",
      "\n",
      "will read lin_trace_p9_exp1\n",
      "\n",
      "will read P1_EXE16_E6.5\n",
      "\n",
      "will read P2_EXE16_E6.5\n",
      "\n",
      "will read P3_EXE16_E6.5_NOVA\n",
      "\n",
      "will read P4_EXE16_E6.5\n",
      "\n",
      "will read roni2_e_001\n",
      "\n",
      "will read roni2_e_002\n",
      "\n",
      "will read roni2_p\n",
      "\n",
      "will read roni2e\n",
      "\n",
      "will read EXE29_P1\n",
      "\n",
      "will read EXE29_P2\n",
      "\n",
      "will read EXE31_p1\n",
      "\n",
      "will read EXE30_P1\n",
      "\n",
      "will read germline_x4_p1\n",
      "\n",
      "will read germline_x4_p2\n",
      "\n",
      "will read germline_x4_p3\n",
      "\n",
      "will read germline_x4_p4\n",
      "\n",
      "will read germline_x4_p5\n",
      "\n",
      "will read germline_x4_p6\n",
      "\n",
      "will read germline_x4_p7\n",
      "\n",
      "will read germline_x4_p8\n",
      "\n",
      "will read germline_x4_p9\n",
      "\n",
      "will read germline_x4_p10\n",
      "\n",
      "will read germline_x4_p14\n",
      "\n",
      "will read germline_x4_p15\n",
      "\n",
      "will read germline_x4_p16\n",
      "\n",
      "will read germline_x4_p11\n",
      "\n",
      "will read germline_x4_p12\n",
      "\n",
      "will read germline_x4_p13\n",
      "\n",
      "will read EXE33_P1\n",
      "\n",
      "will read 4n_x7_p1\n",
      "\n",
      "will read 4n_x7_p2\n",
      "\n",
      "will read 4n_x7_p3\n",
      "\n",
      "will read 4n_x7_p5\n",
      "\n",
      "will read 4n_x7_p6\n",
      "\n",
      "will read 4n_x7_p7\n",
      "\n",
      "will read 4n_x7_p8\n",
      "\n",
      "will read 4n_x7_p11\n",
      "\n",
      "will read 4n_x7_p13\n",
      "\n",
      "will read 4n_x7_p14\n",
      "\n",
      "will read 4n_x7_p15\n",
      "\n",
      "will read 4n_x7_p16\n",
      "\n",
      "will read 4n_x7_p17\n",
      "\n",
      "will read 4n_x8_p1\n",
      "\n",
      "will read 4n_x8_p2\n",
      "\n",
      "will read 4n_x8_p3\n",
      "\n",
      "will read 4n_x8_p4\n",
      "\n",
      "will read 4n_x8_p5\n",
      "\n",
      "will read 4n_x8_p6\n",
      "\n",
      "will read 4n_x8_p7\n",
      "\n",
      "will read 4n_x9_p3\n",
      "\n",
      "will read 4n_x10_p1\n",
      "\n",
      "will read 4n_x10_p2\n",
      "\n",
      "will read 4n_x10_p3\n",
      "\n",
      "will read 4n_x10_p4\n",
      "\n",
      "will read 4n_x10_p5\n",
      "\n",
      "will read 4n_x10_p6\n",
      "\n",
      "will read 4n_x10_p7\n",
      "\n",
      "will read 4n_x10_p8\n",
      "\n",
      "will read 4n_x10_p10\n",
      "\n",
      "will read 4n_x10_p11\n",
      "\n",
      "will read 4n_x10_p12\n",
      "\n",
      "will read 4n_x10_p13\n",
      "\n",
      "will read 4n_x10_p14\n",
      "\n",
      "will read 4n_x10_p15\n",
      "\n",
      "will read 4n_x10_p16\n",
      "\n",
      "will read 4n_x10_p17\n",
      "\n",
      "will read 4n_x10_p18\n",
      "\n",
      "will read 4n_x10_p19\n",
      "\n",
      "will read 4n_x10_p20\n",
      "\n",
      "will read 4n_x10_p21\n",
      "\n",
      "will read 4n_x10_p22\n",
      "\n",
      "will read 4n_x10_p23\n",
      "\n",
      "will read 4n_x10_p24\n",
      "\n",
      "will read 4n_x10_p25\n",
      "\n",
      "will read 4n_x10_p26\n",
      "\n",
      "will read germline_x6_p1\n",
      "\n",
      "will read germline_x6_p2\n",
      "\n",
      "will read germline_x6_p3\n",
      "\n",
      "will read germline_x6_p4\n",
      "\n",
      "will read germline_x6_p5\n",
      "\n",
      "will read germline_x6_p7\n",
      "\n",
      "will read germline_x6_p8\n",
      "\n",
      "will read germline_x6_p9\n",
      "\n",
      "will read germline_x6_p10\n",
      "\n",
      "will read germline_x6_p11\n",
      "\n",
      "will read 4n_x9_p1\n",
      "\n"
     ]
    },
    {
     "data": {
      "text/html": [
       "TRUE"
      ],
      "text/latex": [
       "TRUE"
      ],
      "text/markdown": [
       "TRUE"
      ],
      "text/plain": [
       "[1] TRUE"
      ]
     },
     "metadata": {},
     "output_type": "display_data"
    }
   ],
   "source": [
    "mcell_import_multi_mars(mat_nm = mat_name,\n",
    "                        dataset_table_fn = paste(\"config/key_\",mat_name,\".txt\",sep = \"\"),\n",
    "                        base_dir = \"data/umi.tables/mars_seq\",\n",
    "                        patch_cell_name=T,\n",
    "                        force=TRUE)"
   ]
  },
  {
   "cell_type": "code",
   "execution_count": 67,
   "id": "3fac9799",
   "metadata": {},
   "outputs": [],
   "source": [
    "mat = scdb_mat(mat_name)"
   ]
  },
  {
   "cell_type": "code",
   "execution_count": 75,
   "id": "622fb003",
   "metadata": {},
   "outputs": [],
   "source": [
    "metadata_cells = read.table(file = 'data/metadata_cells_embexe_bmp4_og2.tsv',sep = '\\t',h = T)\n",
    "rownames(metadata_cells) = metadata_cells$cell"
   ]
  },
  {
   "cell_type": "code",
   "execution_count": 108,
   "id": "99557d4d",
   "metadata": {},
   "outputs": [],
   "source": [
    "e_45_embryos = c('EXE27_pooled','EXE26_pooled')\n",
    "not_excluded_embryos = c(\"x10c7_Embryo_Bmp4_KO\",\"x4e13_Embryo_ExE_Bmp4_KO\",\"x7c16_Embryo_Bmp4_KO\",\"x7c17_Embryo_Bmp4_KO\")\n",
    "ignored_cells = metadata_cells$cell[ ( metadata_cells$cell_genotype == 'empty/ignored') |\n",
    "                                     ( metadata_cells$embryo %in% e_45_embryos )]\n",
    "ignored_cells = ignored_cells[!( metadata_cells[ignored_cells,'embryo'] %in% not_excluded_embryos )]"
   ]
  },
  {
   "cell_type": "code",
   "execution_count": 109,
   "id": "fbe1edc9",
   "metadata": {},
   "outputs": [],
   "source": [
    "mat_new = scm_ignore_cells(scmat = mat,ig_cells = ignored_cells)"
   ]
  },
  {
   "cell_type": "code",
   "execution_count": null,
   "id": "b42b2faa",
   "metadata": {},
   "outputs": [],
   "source": [
    "if(0) {\n",
    "    \n",
    "    mc2_db_dir = \"mc2/\"\n",
    "    # # 1. Write the umi matrix into h5ad format (I cleaned the matrix first using MC1, but MC2 can also clean it). This is horribly inefficient (writing 2 files to disk) but I lost myself in scanpy documentation and didn't bother solving it yet.\n",
    "    h5ad_fn = paste(mc2_db_dir , \"/embexe_bmp4_og2_cells.h5ad\", sep=\"\")\n",
    "    out_h5ad <- anndata::AnnData(\n",
    "    X = t(mat_new@mat) # obs = md_data_frame for passing metadata    \n",
    "    )\n",
    "    sc$write(adata = out_h5ad, filename = h5ad_fn)\n",
    "}"
   ]
  },
  {
   "cell_type": "code",
   "execution_count": 111,
   "id": "3312fde1",
   "metadata": {},
   "outputs": [
    {
     "name": "stderr",
     "output_type": "stream",
     "text": [
      "The following genes were ignored\n",
      "\n"
     ]
    },
    {
     "name": "stdout",
     "output_type": "stream",
     "text": [
      "  [1] \"ERCC-00002\" \"ERCC-00003\" \"ERCC-00004\" \"ERCC-00009\" \"ERCC-00012\"\n",
      "  [6] \"ERCC-00013\" \"ERCC-00014\" \"ERCC-00016\" \"ERCC-00017\" \"ERCC-00019\"\n",
      " [11] \"ERCC-00022\" \"ERCC-00024\" \"ERCC-00025\" \"ERCC-00028\" \"ERCC-00031\"\n",
      " [16] \"ERCC-00033\" \"ERCC-00034\" \"ERCC-00035\" \"ERCC-00039\" \"ERCC-00040\"\n",
      " [21] \"ERCC-00041\" \"ERCC-00042\" \"ERCC-00043\" \"ERCC-00044\" \"ERCC-00046\"\n",
      " [26] \"ERCC-00048\" \"ERCC-00051\" \"ERCC-00053\" \"ERCC-00054\" \"ERCC-00057\"\n",
      " [31] \"ERCC-00058\" \"ERCC-00059\" \"ERCC-00060\" \"ERCC-00061\" \"ERCC-00062\"\n",
      " [36] \"ERCC-00067\" \"ERCC-00069\" \"ERCC-00071\" \"ERCC-00073\" \"ERCC-00074\"\n",
      " [41] \"ERCC-00075\" \"ERCC-00076\" \"ERCC-00077\" \"ERCC-00078\" \"ERCC-00079\"\n",
      " [46] \"ERCC-00081\" \"ERCC-00083\" \"ERCC-00084\" \"ERCC-00085\" \"ERCC-00086\"\n",
      " [51] \"ERCC-00092\" \"ERCC-00095\" \"ERCC-00096\" \"ERCC-00097\" \"ERCC-00098\"\n",
      " [56] \"ERCC-00099\" \"ERCC-00104\" \"ERCC-00108\" \"ERCC-00109\" \"ERCC-00111\"\n",
      " [61] \"ERCC-00112\" \"ERCC-00113\" \"ERCC-00116\" \"ERCC-00117\" \"ERCC-00120\"\n",
      " [66] \"ERCC-00123\" \"ERCC-00126\" \"ERCC-00130\" \"ERCC-00131\" \"ERCC-00134\"\n",
      " [71] \"ERCC-00136\" \"ERCC-00137\" \"ERCC-00138\" \"ERCC-00142\" \"ERCC-00143\"\n",
      " [76] \"ERCC-00144\" \"ERCC-00145\" \"ERCC-00147\" \"ERCC-00148\" \"ERCC-00150\"\n",
      " [81] \"ERCC-00154\" \"ERCC-00156\" \"ERCC-00157\" \"ERCC-00158\" \"ERCC-00160\"\n",
      " [86] \"ERCC-00162\" \"ERCC-00163\" \"ERCC-00164\" \"ERCC-00165\" \"ERCC-00168\"\n",
      " [91] \"ERCC-00170\" \"ERCC-00171\" \"Neat1\"      \"Xist\"       \"Malat1\"    \n",
      " [96] \"AK140265\"   \"AK018753\"   \"AK163440\"   \"DQ539915\"   \"AK131586\"  \n",
      "[101] \"AK131579\"   \"AK142750\"   \"X57780\"     \"GU332589\"   \"BC071253\"  \n"
     ]
    }
   ],
   "source": [
    "mat = mat_new\n",
    "nms = c(rownames(mat@mat), rownames(mat@ignore_gmat))\n",
    "bad_genes = c(grep(\"ERCC\", nms,v=T),\"Neat1\", \"Xist\", \"Malat1\", \"AK140265\",\"AK018753\",\"AK163440\",\"DQ539915\",\"AK131586\",\"AK131579\",\"AK142750\",\"X57780\",\"GU332589\",\"BC071253\")\n",
    "\n",
    "mat = scm_ignore_genes(scmat = mat,ig_genes = bad_genes)\n",
    "message(\"The following genes were ignored\")\n",
    "print(bad_genes)"
   ]
  },
  {
   "cell_type": "code",
   "execution_count": 112,
   "id": "c6515863",
   "metadata": {},
   "outputs": [
    {
     "name": "stderr",
     "output_type": "stream",
     "text": [
      "21291 cells with <1500 UMIs\n",
      "\n",
      "4137 cells with >20000 UMIs\n",
      "\n"
     ]
    },
    {
     "data": {
      "image/png": "[encoded data removed]",
      "text/plain": [
       "Plot with title \"Single-cell UMI distribution\""
      ]
     },
     "metadata": {
      "image/png": {
       "height": 420,
       "width": 420
      }
     },
     "output_type": "display_data"
    }
   ],
   "source": [
    "n_umi_per_cell = colSums(mat@mat)\n",
    "n_min = 1500\n",
    "n_max = 20000\n",
    "hist(n_umi_per_cell[n_umi_per_cell <= n_max],breaks = seq(0,n_max,length.out = 41), main = \"Single-cell UMI distribution\")\n",
    "abline(v = n_min,col = \"red\",lty = \"dashed\")\n",
    "abline(v = n_max,col = \"red\",lty = \"dashed\")\n",
    "message(paste0(sum(n_umi_per_cell < n_min), \" cells with <\",n_min,\" UMIs\"))\n",
    "message(paste0(sum(n_umi_per_cell > n_max), \" cells with >\",n_max,\" UMIs\"))"
   ]
  },
  {
   "cell_type": "code",
   "execution_count": 113,
   "id": "99d291c6",
   "metadata": {},
   "outputs": [
    {
     "data": {
      "image/png": "[encoded data removed]",
      "text/plain": [
       "plot without title"
      ]
     },
     "metadata": {
      "image/png": {
       "height": 420,
       "width": 420
      }
     },
     "output_type": "display_data"
    },
    {
     "data": {
      "text/html": [
       "103"
      ],
      "text/latex": [
       "103"
      ],
      "text/markdown": [
       "103"
      ],
      "text/plain": [
       "[1] 103"
      ]
     },
     "metadata": {},
     "output_type": "display_data"
    },
    {
     "data": {
      "image/png": "[encoded data removed]",
      "text/plain": [
       "Plot with title \"Histogram of fr_excl[f_cls]\""
      ]
     },
     "metadata": {
      "image/png": {
       "height": 420,
       "width": 420
      }
     },
     "output_type": "display_data"
    }
   ],
   "source": [
    "small_cells = colnames(mat@mat)[n_umi_per_cell < n_min]\n",
    "large_cells = colnames(mat@mat)[n_umi_per_cell > n_max]\n",
    "\n",
    "f_cls = n_umi_per_cell <= n_max & n_umi_per_cell >= n_min\n",
    "\n",
    "fr_excl = colSums(mat@ignore_gmat)/colSums(mat@mat)\n",
    "\n",
    "plot(x = log2(n_umi_per_cell[f_cls]),y = fr_excl[f_cls],ylab = \"Fraction of mitochondrial genes\")\n",
    "hist(fr_excl[f_cls],breaks = 50)\n",
    "\n",
    "sum(fr_excl[f_cls] > 0.2)"
   ]
  },
  {
   "cell_type": "code",
   "execution_count": 115,
   "id": "6c493e6c",
   "metadata": {},
   "outputs": [],
   "source": [
    "cells_large_fr = colnames(mat@mat)[fr_excl > 0.18]"
   ]
  },
  {
   "cell_type": "code",
   "execution_count": 130,
   "id": "b7c014f0",
   "metadata": {},
   "outputs": [
    {
     "name": "stderr",
     "output_type": "stream",
     "text": [
      "excluded 25580 cells\n",
      "\n"
     ]
    }
   ],
   "source": [
    "mat = scm_ignore_cells(scmat = mat,ig_cells = unique(c(small_cells,large_cells,cells_large_fr,ignored_cells)))\n",
    "message(paste0(\"excluded \",length(unique(c(small_cells,large_cells,cells_large_fr))),\" cells\"))"
   ]
  },
  {
   "cell_type": "code",
   "execution_count": 136,
   "id": "c8d0a16b",
   "metadata": {},
   "outputs": [],
   "source": [
    "mat@cell_metadata = metadata_cells"
   ]
  },
  {
   "cell_type": "code",
   "execution_count": null,
   "id": "e71c70ee",
   "metadata": {},
   "outputs": [],
   "source": [
    "#scdb_add_mat(id = 'embexe_bmp4_og2_stelzer_star',mat = mat)"
   ]
  },
  {
   "cell_type": "markdown",
   "id": "c364ef00",
   "metadata": {},
   "source": [
    "#### Subset matrix to exclude cells from pgc-enriched Oct4 reporter mice"
   ]
  },
  {
   "cell_type": "code",
   "execution_count": 138,
   "id": "0aa76f6b",
   "metadata": {},
   "outputs": [],
   "source": [
    "mat = scdb_mat('embexe_bmp4_og2_stelzer_star')"
   ]
  },
  {
   "cell_type": "code",
   "execution_count": 139,
   "id": "3733f9d4",
   "metadata": {},
   "outputs": [
    {
     "data": {
      "text/html": [
       "4992"
      ],
      "text/latex": [
       "4992"
      ],
      "text/markdown": [
       "4992"
      ],
      "text/plain": [
       "[1] 4992"
      ]
     },
     "metadata": {},
     "output_type": "display_data"
    }
   ],
   "source": [
    "pgc_project_cells = mat@cell_metadata$cell[mat@cell_metadata$Experiment == \"PGC project\"]\n",
    "length(pgc_project_cells)"
   ]
  },
  {
   "cell_type": "code",
   "execution_count": 140,
   "id": "7d15b1ce",
   "metadata": {},
   "outputs": [],
   "source": [
    "mat_all = rbind(cbind(mat@mat,mat@ignore_cmat),cbind(mat@ignore_gmat,mat@ignore_gcmat))"
   ]
  },
  {
   "cell_type": "code",
   "execution_count": 143,
   "id": "2b3ad8ea",
   "metadata": {},
   "outputs": [
    {
     "data": {
      "text/html": [
       "4992"
      ],
      "text/latex": [
       "4992"
      ],
      "text/markdown": [
       "4992"
      ],
      "text/plain": [
       "[1] 4992"
      ]
     },
     "metadata": {},
     "output_type": "display_data"
    }
   ],
   "source": [
    "f = colnames(mat_all) %in% pgc_project_cells\n",
    "sum(f)\n",
    "f_md = mat@cell_metadata$cell %in% pgc_project_cells\n",
    "mat_embexe_bmp4 = scm_new_matrix(mat = mat_all[,!f],cell_metadata = mat@cell_metadata[!f_md,],stat_type = 'umi')"
   ]
  },
  {
   "cell_type": "code",
   "execution_count": 145,
   "id": "311f75b3",
   "metadata": {},
   "outputs": [],
   "source": [
    "mat_embexe_bmp4 = scm_ignore_genes(scmat = mat_embexe_bmp4,ig_genes = mat@ignore_genes)"
   ]
  },
  {
   "cell_type": "code",
   "execution_count": 146,
   "id": "d5380358",
   "metadata": {},
   "outputs": [],
   "source": [
    "mat_embexe_bmp4 = scm_ignore_cells(scmat = mat_embexe_bmp4,ig_cells = intersect(mat_embexe_bmp4@cells,mat@ignore_cells))"
   ]
  },
  {
   "cell_type": "code",
   "execution_count": 147,
   "id": "af58d362",
   "metadata": {},
   "outputs": [
    {
     "data": {
      "text/html": [
       "<style>\n",
       ".list-inline {list-style: none; margin:0; padding: 0}\n",
       ".list-inline>li {display: inline-block}\n",
       ".list-inline>li:not(:last-child)::after {content: \"\\00b7\"; padding: 0 .5ex}\n",
       "</style>\n",
       "<ol class=list-inline><li>30220</li><li>91378</li></ol>\n"
      ],
      "text/latex": [
       "\\begin{enumerate*}\n",
       "\\item 30220\n",
       "\\item 91378\n",
       "\\end{enumerate*}\n"
      ],
      "text/markdown": [
       "1. 30220\n",
       "2. 91378\n",
       "\n",
       "\n"
      ],
      "text/plain": [
       "[1] 30220 91378"
      ]
     },
     "metadata": {},
     "output_type": "display_data"
    }
   ],
   "source": [
    "dim(mat_embexe_bmp4@mat)"
   ]
  },
  {
   "cell_type": "code",
   "execution_count": null,
   "id": "16eb54a9",
   "metadata": {},
   "outputs": [],
   "source": [
    "#scdb_add_mat(id = 'embexe_bmp4',mat = mat_embexe_bmp4)"
   ]
  }
 ],
 "metadata": {
  "kernelspec": {
   "display_name": "R",
   "language": "R",
   "name": "ir"
  },
  "language_info": {
   "codemirror_mode": "r",
   "file_extension": ".r",
   "mimetype": "text/x-r-source",
   "name": "R",
   "pygments_lexer": "r",
   "version": "3.5.3"
  }
 },
 "nbformat": 4,
 "nbformat_minor": 5
}
