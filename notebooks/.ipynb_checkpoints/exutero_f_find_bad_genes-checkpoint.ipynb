{
 "cells": [
  {
   "cell_type": "markdown",
   "id": "e8307b6c",
   "metadata": {},
   "source": [
    "#### Filtering feature genes for metacell construction of cells from ex utero embryos"
   ]
  },
  {
   "cell_type": "code",
   "execution_count": 1,
   "id": "b6776eb7",
   "metadata": {},
   "outputs": [],
   "source": [
    "setwd(here::here())"
   ]
  },
  {
   "cell_type": "code",
   "execution_count": 1,
   "id": "bb958ee8",
   "metadata": {},
   "outputs": [],
   "source": [
    "library(\"metacell\")"
   ]
  },
  {
   "cell_type": "code",
   "execution_count": 2,
   "id": "c3ead4b5",
   "metadata": {},
   "outputs": [
    {
     "name": "stderr",
     "output_type": "stream",
     "text": [
      "initializing scdb to scrna_db/\n",
      "\n"
     ]
    }
   ],
   "source": [
    "scdb_init(\"scrna_db/\",force_reinit = T)\n",
    "scfigs_init(\"figs\")"
   ]
  },
  {
   "cell_type": "code",
   "execution_count": 14,
   "id": "c1a6622d",
   "metadata": {},
   "outputs": [],
   "source": [
    "mat_nm = \"exutero_f\"\n",
    "mat_fn = mat_nm\n",
    "gset_id = \"exutero_f_unfiltered_feat_genes\"\n",
    "#gset = scdb_gset(gset_id)\n",
    "\n",
    "T_vm=0.1\n",
    "T_top3 = 3\n",
    "T_tot = 50\n",
    "K=60"
   ]
  },
  {
   "cell_type": "code",
   "execution_count": 5,
   "id": "8705388f",
   "metadata": {},
   "outputs": [],
   "source": [
    "#mcell_add_gene_stat(mat_nm, mat_nm, force=T)\n",
    "mcell_gset_filter_varmean(mat_nm, \"exutero_f_unfiltered_feat_genes\", T_vm=T_vm, force_new=T)\n",
    "mcell_gset_filter_cov(mat_nm, \"exutero_f_unfiltered_feat_genes\", T_tot=T_tot, T_top3=T_top3)"
   ]
  },
  {
   "cell_type": "code",
   "execution_count": 6,
   "id": "28e96b53",
   "metadata": {},
   "outputs": [
    {
     "data": {
      "text/html": [
       "1017"
      ],
      "text/latex": [
       "1017"
      ],
      "text/markdown": [
       "1017"
      ],
      "text/plain": [
       "[1] 1017"
      ]
     },
     "metadata": {},
     "output_type": "display_data"
    }
   ],
   "source": [
    "gset = scdb_gset(\"exutero_f_unfiltered_feat_genes\")\n",
    "length(gset@gene_set)"
   ]
  },
  {
   "cell_type": "code",
   "execution_count": 8,
   "id": "df62cdf3",
   "metadata": {},
   "outputs": [
    {
     "name": "stderr",
     "output_type": "stream",
     "text": [
      "will downsample the matrix, N= 3034\n",
      "\n",
      "will downsample the matrix, N= 3034\n",
      "\n"
     ]
    }
   ],
   "source": [
    "mcell_gset_split_by_dsmat(gset_id = \"exutero_f_unfiltered_feat_genes\",mat_id = mat_nm , K)\n",
    "mcell_plot_gset_cor_mats(gset_id = \"exutero_f_unfiltered_feat_genes\",scmat_id = mat_nm)\n",
    "\n"
   ]
  },
  {
   "cell_type": "code",
   "execution_count": 15,
   "id": "faceaed3",
   "metadata": {},
   "outputs": [
    {
     "name": "stderr",
     "output_type": "stream",
     "text": [
      "Gset 1\n",
      "\n"
     ]
    },
    {
     "name": "stdout",
     "output_type": "stream",
     "text": [
      "   Sox17     Atf3  Dnajc10     Dstn  Txndc12     Pdpn   Insig1      Kit \n",
      "       1       53       79       96      200      230      241      252 \n",
      "  Kdelr2     Gkn2     Rcn3    Mfge8    Palld Colgalt1    Zfhx3     Myl3 \n",
      "     276      305      355      363      427      434      457      520 \n",
      "   Cmtm7     Btg1    Gata4   Fndc3a    Gata6   Tcf7l2 \n",
      "     523      572      778      782      887      945 \n"
     ]
    },
    {
     "name": "stderr",
     "output_type": "stream",
     "text": [
      "Gset 2\n",
      "\n"
     ]
    },
    {
     "name": "stdout",
     "output_type": "stream",
     "text": [
      "     Sgk3     Acsl3      Glul     Mgst3     Degs1      Sord     Jade1     Serp1 \n",
      "        2        12        31        36        48        93       133       135 \n",
      "   Atp1a1      Hadh  Atp6v1g1     Bend5   Atp6v0b      Evi5     Gng12     Vamp8 \n",
      "      156       167       193       201       206       260       295       298 \n",
      "   Washc2  Atp6v1e1     H2afj   Tmem160    Gtf2h1      Gga2    Sephs2     Lamp1 \n",
      "      313       314       325       334       358       383       389       416 \n",
      "    Vps35  Atp6v0d1      Gcsh     Fem1b    Rab11a    Rbpms2      Sgk1    Vps26a \n",
      "      446       454       459       494       495       496       533       547 \n",
      "   Agpat3    Hmg20b     Rab1a   Gabarap    Rnasek   Txndc17     Rab5c  Atp6v0a1 \n",
      "      555       565       593       616       617       619       635       636 \n",
      "     Jpt1      Snx6      Npc2      Glrx    Iqgap2    Prxl2a     Itm2b      Lcp1 \n",
      "      645       675       681       747       751       766       783       784 \n",
      "     Twf1   Atp6v1a Tnfrsf12a   Atp6v0c   Atp6v0e     Plin3     Dmxl1      Snx2 \n",
      "      813       836       853       855       857       878       898       899 \n",
      "      Me2      Ehd1      Stx3     Pcgf5     Pdcd4   Suv39h1      Apln      Fhl1 \n",
      "      906       914       922       932       944       950       960       966 \n",
      "    Foxo4    Ubqln2      Sat1 \n",
      "      981      1009      1011 \n"
     ]
    },
    {
     "name": "stderr",
     "output_type": "stream",
     "text": [
      "Gset 3\n",
      "\n"
     ]
    },
    {
     "name": "stdout",
     "output_type": "stream",
     "text": [
      "   Dst  Ptbp3  Plin2    Jun  Clic4   Fosb Iqgap1   Jund   Ier2    Cpm   Mdm2 \n",
      "     3    191    196    198    224    340    368    431    442    578    579 \n",
      " Ccng1  Spag9    Jup    Fos   Flnb   H1f0 Cdkn1a   Egr1 Sema6a   Rlim \n",
      "   602    626    634    682    761    806    858    890    897    986 \n"
     ]
    },
    {
     "name": "stderr",
     "output_type": "stream",
     "text": [
      "Gset 4\n",
      "\n"
     ]
    },
    {
     "name": "stdout",
     "output_type": "stream",
     "text": [
      "  Map4k4   Adgrl2     Chd7   Glipr2   Sept11     Asns     Calu   Mthfd2 \n",
      "       4      174      179      184      256      283      284      303 \n",
      "Eif4ebp1   Akap12    Sept9    Map1b    Rai14     Ext1  Slc38a1    Phf10 \n",
      "     418      530      651      754      794      798      814      852 \n",
      "   Hspa9     Nars  Htatsf1 \n",
      "     891      903      967 \n"
     ]
    },
    {
     "name": "stderr",
     "output_type": "stream",
     "text": [
      "Gset 5\n",
      "\n"
     ]
    },
    {
     "name": "stdout",
     "output_type": "stream",
     "text": [
      "  Inpp1 Lrrfip1  Mpped2   N4bp2    Cdx2 Timm10b   Ctbp2 Ubash3b    Rbp1   Cmtm8 \n",
      "      5      19      86     250     278     379     393     475     511     524 \n",
      " Arid5b Sec14l1   Paip1    Bmp4    Plec  Klhl22   Rpp21   Smad7    Klf9   Hdac6 \n",
      "    550     650     758     769     801     828     870     908     927     949 \n"
     ]
    },
    {
     "name": "stderr",
     "output_type": "stream",
     "text": [
      "Gset 6\n",
      "\n"
     ]
    },
    {
     "name": "stdout",
     "output_type": "stream",
     "text": [
      "   Hspd1      Ncl      Set    Nop10   Eif2s2     Hdgf   Anp32b     Lyar \n",
      "       6       15       63       87      106      141      187      246 \n",
      "  Serbp1    Ccne1   Psmb10    Hspa8    Ddx21  Slc16a3     Odc1     Rrm2 \n",
      "     296      353      456      474      549      655      664      665 \n",
      "Hsp90aa1 \n",
      "     691 \n"
     ]
    },
    {
     "name": "stderr",
     "output_type": "stream",
     "text": [
      "Gset 7\n",
      "\n"
     ]
    },
    {
     "name": "stdout",
     "output_type": "stream",
     "text": [
      "   Fn1  Meis2   Eid1   Lef1    Kdr   Asb4  Ccnd2   Peg3   Etv2 Ifitm1   Fgf3 \n",
      "     7     89     95    166    253    282    323    332    348    398    410 \n",
      " Fgf15 Crabp1   Mns1   Prtg  Rspo3  Hmga2  Wnt5a \n",
      "   411    488    503    505    538    580    763 \n"
     ]
    },
    {
     "name": "stderr",
     "output_type": "stream",
     "text": [
      "Gset 8\n",
      "\n"
     ]
    },
    {
     "name": "stdout",
     "output_type": "stream",
     "text": [
      " Igfbp2   Wfdc2   Mat2a    Phc1 Sinhcaf   Snrpn   Gsta4   Gnai2  Dnmt3a  Pou5f1 \n",
      "      8     113     299     315     328     360     506     515     657     867 \n",
      "   Gng3    Pim2  Slc7a3 \n",
      "    918     947     980 \n"
     ]
    },
    {
     "name": "stderr",
     "output_type": "stream",
     "text": [
      "Gset 9\n",
      "\n"
     ]
    },
    {
     "name": "stdout",
     "output_type": "stream",
     "text": [
      "  Igfbp5   Trip12  Caprin1    Macf1    Ap2a2 Kcnq1ot1     Tnks    Clcn3 \n",
      "       9       14       83      212      401      407      420      426 \n",
      "  Trim71   Golga4   Txnrd1   Sptbn1    Rock2    Glud1    Atad2   Kif21a \n",
      "     522      526      566      596      662      765      799      812 \n",
      "  Eif4g1  Atp13a3  Gm26917    Ddx3x \n",
      "     830      832      871      953 \n"
     ]
    },
    {
     "name": "stderr",
     "output_type": "stream",
     "text": [
      "Gset 10\n",
      "\n"
     ]
    },
    {
     "name": "stdout",
     "output_type": "stream",
     "text": [
      "        Arpc2         Mpzl1        Tagln2 1110008P14Rik          Thbd \n",
      "           10            35            41            64            99 \n",
      "        Efhd2         Ap1s1           Cd9          Vasp          Ate1 \n",
      "          229           273           322           339           390 \n",
      "     Arhgap10          Fdx1          Dag1        Cited2         Plpp2 \n",
      "          439           486           516           531           557 \n",
      "         Ugp2        Sqstm1        Map2k3          Epop         Lasp1 \n",
      "          594           603           610           629           630 \n",
      "         Grb2          Akt1        Prl2c3          Cltb       Tmem267 \n",
      "          646           694           700           734           759 \n",
      "        Mbnl2        Kctd17       Ccdc184         Prr13          Pkp2 \n",
      "          790           803           816           823           827 \n",
      "         Ets2          Snx9         Crim1          Lipg         Ostf1 \n",
      "          845           846           882           907           925 \n",
      "       Pdlim1          Bcor \n",
      "          937           952 \n"
     ]
    },
    {
     "name": "stderr",
     "output_type": "stream",
     "text": [
      "Gset 11\n",
      "\n"
     ]
    },
    {
     "name": "stdout",
     "output_type": "stream",
     "text": [
      "  Epha4     Id1   Sall4     Wls  Lin28a     Id3    Msx1    Tbx3  Mogat2    Nkd1 \n",
      "     11     102     119     177     221     225     245     264     371     447 \n",
      "   Gja1  Igfbp4 Laptm4b \n",
      "    542     632     797 \n"
     ]
    },
    {
     "name": "stderr",
     "output_type": "stream",
     "text": [
      "Gset 12\n",
      "\n"
     ]
    },
    {
     "name": "stdout",
     "output_type": "stream",
     "text": [
      "     Serpine2         Nol4l B230312C02Rik          Plk4           Agl \n",
      "           13           104           124           132           160 \n",
      "        Cdc20        Zfp512        Golga3          Dqx1         Resf1 \n",
      "          208           242           261           302           329 \n",
      "        Gfod2       Gm26737         Rpl29          Smc6        Spata7 \n",
      "          455           476           513           661           683 \n",
      "       Yae1d1  Olfr1369-ps1         Myo10          Comt          Cbr1 \n",
      "          703           704           796           829           843 \n",
      "      Gm26885       Zfp36l2           Gal         Cox7b 2810403D21Rik \n",
      "          859           883           910           988           991 \n",
      "      Rps6ka6          Wnk3 \n",
      "          993          1008 \n"
     ]
    },
    {
     "name": "stderr",
     "output_type": "stream",
     "text": [
      "Gset 13\n",
      "\n"
     ]
    },
    {
     "name": "stdout",
     "output_type": "stream",
     "text": [
      "    Ptma    Cdca7      Dut    Fabp5    H2afz     Nasp    Prdx1     Eno1 \n",
      "      16       75       94      127      170      203      204      234 \n",
      "   Gapdh     Ldhb     Ldha   Dctpp1    Hmgb2      Pkm   Anp32a      Mif \n",
      "     321      327      359      388      425      490      493      552 \n",
      "    Ppia     Npm1      Dek    Apex1  Hnrnpa1 Hsp90ab1   Eif1ax \n",
      "     589      600      731      772      824      875     1013 \n"
     ]
    },
    {
     "name": "stderr",
     "output_type": "stream",
     "text": [
      "Gset 14\n",
      "\n"
     ]
    },
    {
     "name": "stdout",
     "output_type": "stream",
     "text": [
      "         Spp2           Dbi         Apoa2        Slc2a2           Fgb \n",
      "           17            22            40           129           140 \n",
      "      S100a16         Gstm1 2610528J11Rik        Akr7a5          Espn \n",
      "          149           159           209           227           236 \n",
      "         Cyba          Hexa           Trf           Ddt          Tcn2 \n",
      "          463           489           512           551           586 \n",
      "      Tspan13          Gcat \n",
      "          672           807 \n"
     ]
    },
    {
     "name": "stderr",
     "output_type": "stream",
     "text": [
      "Gset 15\n",
      "\n"
     ]
    },
    {
     "name": "stdout",
     "output_type": "stream",
     "text": [
      "  Arl4c   Ptgds    Cnn3   Larp7   Pnrc1   Ift74   Ptprf   Aldh2   Auts2  Grcc10 \n",
      "     18      59     161     164     181     197     207     267     270     317 \n",
      " Cdkn1b Nectin2   Rbpms Col18a1   Arl4a   Crip1  Tubb2b   H2afy Ppp1r1a    Dnd1 \n",
      "    324     344     419     554     673     696     725     738     825     893 \n"
     ]
    },
    {
     "name": "stderr",
     "output_type": "stream",
     "text": [
      "Gset 16\n",
      "\n"
     ]
    },
    {
     "name": "stdout",
     "output_type": "stream",
     "text": [
      "   Hdlbp    Soat1    Marc2    Surf4    Hspa5    Pdia3    Rrbp1     Cst3 \n",
      "      20       32       49       61       65       92       97      100 \n",
      "    Glmp     Ssr2 Ctnnbip1    Erp29     Rpn1  Sec61a1  Selenos     Calr \n",
      "     143      145      233      266      307      309      362      443 \n",
      "   Stt3a     Ppib      Me1     Manf  Hsp90b1   Atp2b1     Xbp1  Tax1bp3 \n",
      "     471      498      508      514      569      573      587      620 \n",
      "    P4hb    Pdia6     Sypl   Dnajc3   Agpat4    Clic1 \n",
      "     654      663      670      789      849      863 \n"
     ]
    },
    {
     "name": "stderr",
     "output_type": "stream",
     "text": [
      "Gset 17\n",
      "\n"
     ]
    },
    {
     "name": "stdout",
     "output_type": "stream",
     "text": [
      "Tmem37 Atp1b1   Ctsa   Ctsz   Psph   Ftl1  Ifi30   Snx3   Ctsl   Ctsb   Neu1 \n",
      "    21     34    115    123    269    357    432    540    745    777    862 \n",
      " Cndp2   Fth1   Nxf7    Nrk \n",
      "   909    920    994   1002 \n"
     ]
    },
    {
     "name": "stderr",
     "output_type": "stream",
     "text": [
      "Gset 18\n",
      "\n"
     ]
    },
    {
     "name": "stdout",
     "output_type": "stream",
     "text": [
      "    Kdm5b    Hnrnpu     Parp1   Hnrnpa3    Anp32e     Psip1      Sfpq    Hnrnpd \n",
      "       23        42        43        76       153       195       214       258 \n",
      "Hnrnpa2b1      Chd4    Hirip3   Smarcc1     Myh10      Cbx1    Jarid2      Mcm4 \n",
      "      292       320       387       518       614       628       729       826 \n",
      "    Lmnb1 \n",
      "      901 \n"
     ]
    },
    {
     "name": "stderr",
     "output_type": "stream",
     "text": [
      "Gset 19\n",
      "\n"
     ]
    },
    {
     "name": "stdout",
     "output_type": "stream",
     "text": [
      "Csrp1 Arpc5   Sri  Actb Tbrg1  Myl6 Actg1 Calm1  Klf6  Krt8 Krt18 Reep5 Rbbp7 \n",
      "   24    28   239   274   473   582   653   684   697   821   822   889  1014 \n"
     ]
    },
    {
     "name": "stderr",
     "output_type": "stream",
     "text": [
      "Gset 20\n",
      "\n"
     ]
    },
    {
     "name": "stdout",
     "output_type": "stream",
     "text": [
      "       Phlda3          Hat1          Noct          Pmvk        Errfi1 \n",
      "           25            74           134           147           235 \n",
      "        Zfp42       Ankrd37          Irx3          Ldlr         Mpzl2 \n",
      "          421           422           448           470           479 \n",
      "         Perp       Gadd45b 1500009L16Rik          Upp1       Tex19.1 \n",
      "          532           564           567           591           656 \n",
      "          Ckb          Pfkp        Trim27          Gng2         Ndrg1 \n",
      "          693           698           705           762           800 \n",
      "       Syngr1          Pmm1          Ier3         Eif1a         Tubb6 \n",
      "          809           810           868           896           904 \n",
      "      Cdk2ap2        Pcsk1n        Klhl13         Rhox6         Rhox9 \n",
      "          911           948           954           958           959 \n"
     ]
    },
    {
     "name": "stderr",
     "output_type": "stream",
     "text": [
      "Gset 21\n",
      "\n"
     ]
    },
    {
     "name": "stdout",
     "output_type": "stream",
     "text": [
      " Tnni1  Tnnt2    Ttn  Actc1   Myl7   Myl4  Rbm24  Mef2c  Tnnc1 Ankrd1 \n",
      "    26     27     77     88    588    641    730    748    764    931 \n"
     ]
    },
    {
     "name": "stderr",
     "output_type": "stream",
     "text": [
      "Gset 22\n",
      "\n"
     ]
    },
    {
     "name": "stdout",
     "output_type": "stream",
     "text": [
      "  Lamc1      F3    Klf4   Gnai1  Hs3st1 Adamts9   Fxyd3   Cryab   Plod2    Ccn2 \n",
      "     29     162     189     240     247     312     351     485     510     536 \n",
      "   Srgn  Glipr1   P4ha2   Timp2   Lamb1    Nid1     Fst   Lama1   Epas1 \n",
      "    548     577     606     652     668     702     756     880     884 \n"
     ]
    },
    {
     "name": "stderr",
     "output_type": "stream",
     "text": [
      "Gset 23\n",
      "\n"
     ]
    },
    {
     "name": "stdout",
     "output_type": "stream",
     "text": [
      "          Npl          Cubn          Dpp4          Lrp2         Mfsd1 \n",
      "           30            57            70            72           137 \n",
      "       S100a1       Slc16a1       Slc39a8          Mttp         Gipc2 \n",
      "          148           157           169           171           175 \n",
      "        Aldob         Lpar1           Afp         Podxl       Slc13a4 \n",
      "          188           190           255           286           288 \n",
      "        Abcg2      Tmem150a        Slc2a3         Apoc2          Apoe \n",
      "          294           297           316           341           343 \n",
      "         Ctsc         Folr1           Oat 2210011C24Rik         Palm3 \n",
      "          370           374           392           440           441 \n",
      "         Car7           Maf         Cotl1         Rab4a         Fxyd2 \n",
      "          452           458           460           466           480 \n",
      "        Apoa1         Apoa4           Rdx          Myo6          Ctsh \n",
      "          482           483           487           507           509 \n",
      "         Stx7         Smlr1         Pcbd1         Reep6          Eea1 \n",
      "          535           537           545           563           571 \n",
      "          Gns          Gpx3          Car4          Cltc          Apob \n",
      "          581           607           624           625           658 \n",
      "         Lgmn          Meg3          Rian           Amn           Emb \n",
      "          685           689           690           692           757 \n",
      "       Slc7a7           Tdh       Selenop          Dab2        Lgals2 \n",
      "          773           779           791           793           804 \n",
      "        Clic6          Apom       Epb41l3           Ttr        Spink1 \n",
      "          842           865           881           888           895 \n",
      "         Rbp4         Clcn5          Gpc3 4933402E13Rik         Efnb1 \n",
      "          936           946           962           970           979 \n",
      "        Med12        Cited1          Bex4       Morf4l2          Amot \n",
      "          982           984           996          1001          1007 \n",
      "        S100g \n",
      "         1015 \n"
     ]
    },
    {
     "name": "stderr",
     "output_type": "stream",
     "text": [
      "Gset 24\n",
      "\n"
     ]
    },
    {
     "name": "stdout",
     "output_type": "stream",
     "text": [
      "         Gas5          Rcc2         Sap30         Prdx2         H2afx \n",
      "           33           228           424           444           477 \n",
      "2410006H16Rik         H3f3b          Rps2         Rps18         Snhg1 \n",
      "          612           648           856           861           917 \n",
      "       Fundc2           Sms \n",
      "          974          1012 \n"
     ]
    },
    {
     "name": "stderr",
     "output_type": "stream",
     "text": [
      "Gset 25\n",
      "\n"
     ]
    },
    {
     "name": "stdout",
     "output_type": "stream",
     "text": [
      "    Pbx1    H3f3a      Mdk     Nnat Marcksl1    Stmn1    Fscn1    Hmgb1 \n",
      "      37       45       81      108      217      223      275      280 \n",
      "  Tmsb10     H1fx    Tead2   Ifitm2    Ccnd1    Pclaf   Marcks   H2afy2 \n",
      "     301      306      356      397      412      497      539      546 \n",
      "   H2afv     Fzd2    Limd2    Sox11     Sox4     Dbn1    Basp1   Tuba1a \n",
      "     590      640      642      667      721      735      795      817 \n",
      "  Ddx39b    Tubb5     Tcf4     Flna \n",
      "     866      869      905      973 \n"
     ]
    },
    {
     "name": "stderr",
     "output_type": "stream",
     "text": [
      "Gset 26\n",
      "\n"
     ]
    },
    {
     "name": "stdout",
     "output_type": "stream",
     "text": [
      "    Rgs5      Vim     Tdo2 Arhgap29     Nexn     Mest    Foxf1     Nrp1 \n",
      "      38       58      139      163      176      285      461      468 \n",
      "   Tagln    Csrp2    Pmp22   Col1a1     Dlk1    Ptch1     Vcan    Acta2 \n",
      "     481      575      613      627      688      744      750      930 \n",
      "  Stard8   Spin2c \n",
      "     978     1010 \n"
     ]
    },
    {
     "name": "stderr",
     "output_type": "stream",
     "text": [
      "Gset 27\n",
      "\n"
     ]
    },
    {
     "name": "stdout",
     "output_type": "stream",
     "text": [
      "Cfap126    Mlf1   Foxj1    Ccno \n",
      "     39     136     649     755 \n"
     ]
    },
    {
     "name": "stderr",
     "output_type": "stream",
     "text": [
      "Gset 28\n",
      "\n"
     ]
    },
    {
     "name": "stdout",
     "output_type": "stream",
     "text": [
      "  Mixl1  Lefty2     Sp5    Slpi   Snai1   Pcdh7   Mesp1   Tdgf1   Eomes   Socs2 \n",
      "     44      46      73     111     118     249     365     521     525     570 \n",
      "   Lhx1    Gas1       T Cyp26a1 \n",
      "    623     740     848     935 \n"
     ]
    },
    {
     "name": "stderr",
     "output_type": "stream",
     "text": [
      "Gset 29\n",
      "\n"
     ]
    },
    {
     "name": "stdout",
     "output_type": "stream",
     "text": [
      "Lefty1  Foxa2   Fgf5    Gsc   Otx2   Hes1   Fgf8 \n",
      "    47     98    257    686    771    831    940 \n"
     ]
    },
    {
     "name": "stderr",
     "output_type": "stream",
     "text": [
      "Gset 30\n",
      "\n"
     ]
    },
    {
     "name": "stdout",
     "output_type": "stream",
     "text": [
      "   Tgfb2     Rnd3     Rcn1     Gnas   Pdgfra     Flt1   Slc6a6     Ptms \n",
      "      50       68       85      122      251      279      310      319 \n",
      "Ppp1r14a    Ptov1     Cd81    Nedd4    Cd24a     Kitl    Grb10   Twist1 \n",
      "     347      354      406      504      541      574      592      671 \n",
      " Zfp36l1      App     Ttc3    Ddah2    Bambi     Ppic     Add3    Hmgb3 \n",
      "     679      841      844      864      886      900      943      971 \n",
      "  Maged1     Bex2   Tceal8 \n",
      "     976      995      997 \n"
     ]
    },
    {
     "name": "stderr",
     "output_type": "stream",
     "text": [
      "Gset 31\n",
      "\n"
     ]
    },
    {
     "name": "stdout",
     "output_type": "stream",
     "text": [
      "   Cenpf   Nusap1     Tpx2    Ube2c     Smc4    Cenpe     Prc1  Arl6ip1 \n",
      "      51       90      103      114      138      168      367      382 \n",
      "    Plk1    Mki67     Hmmr    Top2a Mis18bp1    Kif11 \n",
      "     384      394      601      631      677      933 \n"
     ]
    },
    {
     "name": "stderr",
     "output_type": "stream",
     "text": [
      "Gset 32\n",
      "\n"
     ]
    },
    {
     "name": "stdout",
     "output_type": "stream",
     "text": [
      "    Batf3       Ada       Sct Serpinb9e     Gkap1    Lgals3      Tfrc     Hbegf \n",
      "       52       110       400       723       739       770       833       892 \n",
      "  Arhgef6 \n",
      "      968 \n"
     ]
    },
    {
     "name": "stderr",
     "output_type": "stream",
     "text": [
      "Gset 33\n",
      "\n"
     ]
    },
    {
     "name": "stdout",
     "output_type": "stream",
     "text": [
      "         Nenf         Rbms1       S100a10          Tln1        Slc2a1 \n",
      "           54            69           152           183           210 \n",
      "        Cald1          Tpm4          Tpm1           Bsg          Cnn2 \n",
      "          287           435           499           558           561 \n",
      "        Hand1        Pdlim7        Fermt2         Ahnak C430049B03Rik \n",
      "          609           736           768           919           963 \n",
      "       Tmsb4x \n",
      "         1016 \n"
     ]
    },
    {
     "name": "stderr",
     "output_type": "stream",
     "text": [
      "Gset 34\n",
      "\n"
     ]
    },
    {
     "name": "stdout",
     "output_type": "stream",
     "text": [
      "        Gata3         Ptgis        Tfap2c         Anxa5        S100a6 \n",
      "           55           117           120           131           150 \n",
      "      S100a11           Sfn         Plac8        Arpc1b          Capg \n",
      "          151           220           259           277           300 \n",
      "        Gata2       Arhgdib         Fxyd5       Arhgef7         Sin3b \n",
      "          308           326           350           415           437 \n",
      "        Hmox1          Junb          Cdh5          Esam         Plet1 \n",
      "          438           445           451           472           484 \n",
      "        Anxa2         Fstl3         Krt19          Sdc1        Prl2a1 \n",
      "          500           559           633           660           718 \n",
      "    Serpinb6b       Phactr1          Irx1           Efs          Rgcc \n",
      "          722           728           746           774           785 \n",
      "       Lgals1          Krt7        Nfkbiz         Satb1         Capn1 \n",
      "          805           820           839           877           913 \n",
      "       Entpd1         Ube2a         Plac1 1600025M17Rik         Ldoc1 \n",
      "          938           956           964           965           969 \n"
     ]
    },
    {
     "name": "stderr",
     "output_type": "stream",
     "text": [
      "Gset 35\n",
      "\n"
     ]
    },
    {
     "name": "stdout",
     "output_type": "stream",
     "text": [
      " Sfmbt2    Sdc4   Hspb1   Peg10    Polg     H19    Igf2 Slc25a4    Aprt    Cd63 \n",
      "     56     112     272     281     364     403     404     423     464     585 \n",
      "    Ezr   Rhox5  Trap1a Gm47283 \n",
      "    847     957    1003    1017 \n"
     ]
    },
    {
     "name": "stderr",
     "output_type": "stream",
     "text": [
      "Gset 36\n",
      "\n"
     ]
    },
    {
     "name": "stdout",
     "output_type": "stream",
     "text": [
      "   Egfl7 Sh3bgrl3   Phlda1     Pfn1    Ramp2    Crip2  Gadd45g   Ctla2a \n",
      "      60      222      576      618      637      695      733      741 \n",
      "  Hapln1  Rasgrp2      Msn    Itm2a \n",
      "     749      915      977      990 \n"
     ]
    },
    {
     "name": "stderr",
     "output_type": "stream",
     "text": [
      "Gset 37\n",
      "\n"
     ]
    },
    {
     "name": "stdout",
     "output_type": "stream",
     "text": [
      "Sptan1 Cobll1   Tjp1  Tead1  Itgb1   Uaca  Cgnl1  Daam1  Actn1    Dsp   Myh9 \n",
      "    62     71    361    381    469    491    502    678    680    726    802 \n",
      "Golgb1    Bbx  Igf2r   Afdn \n",
      "   835    838    850    851 \n"
     ]
    },
    {
     "name": "stderr",
     "output_type": "stream",
     "text": [
      "Gset 38\n",
      "\n"
     ]
    },
    {
     "name": "stdout",
     "output_type": "stream",
     "text": [
      "     Gsn     Lmna    Phgdh     Rhoc Pla2g12a    Tomm5      Srm      Ubc \n",
      "      66      144      155      158      165      186      232      268 \n",
      "   Anxa4     Cib1     Ctsd     Cstb     Gpx4   Mgat4b    Uqcrq   Tmem97 \n",
      "     304      366      402      556      562      604      605      621 \n",
      "   Ninj1    Ero1l   Atxn10   Tuba1c    Lima1   Slc3a2    Psat1 \n",
      "     732      767      811      818      819      916      924 \n"
     ]
    },
    {
     "name": "stderr",
     "output_type": "stream",
     "text": [
      "Gset 39\n",
      "\n"
     ]
    },
    {
     "name": "stdout",
     "output_type": "stream",
     "text": [
      "  Nr6a1   Stmn2  Crabp2   Grsf1     Ptn Hoxaas3    Cdx1    Cdx4 \n",
      "     67     125     142     254     289     293     902     985 \n"
     ]
    },
    {
     "name": "stderr",
     "output_type": "stream",
     "text": [
      "Gset 40\n",
      "\n"
     ]
    },
    {
     "name": "stdout",
     "output_type": "stream",
     "text": [
      "Itga4  Wnt4 Pitx1 \n",
      "   78   226   737 \n"
     ]
    },
    {
     "name": "stderr",
     "output_type": "stream",
     "text": [
      "Gset 41\n",
      "\n"
     ]
    },
    {
     "name": "stdout",
     "output_type": "stream",
     "text": [
      "  Tfpi  Procr Homer2    Adm Pecam1   Scin Prl3d1 Prl3d2 Prl3d3 Prl7a1 Prl4a1 \n",
      "    80    107    369    380    643    674    713    714    715    717    719 \n",
      "Prl5a1 Kctd12   Cd47 Adgrf5  Fosl1 \n",
      "   720    787    837    874    912 \n"
     ]
    },
    {
     "name": "stderr",
     "output_type": "stream",
     "text": [
      "Gset 42\n",
      "\n"
     ]
    },
    {
     "name": "stdout",
     "output_type": "stream",
     "text": [
      "  Elf5 Dnmt3b   Sox2   Lmo4  L1td1 Pou3f1 Gm1673  Cldn3  Mkrn1  Htra1   Utf1 \n",
      "    82    105    130    172    199    213    243    271    290    391    396 \n",
      " Oxct1  Epcam   Atrx \n",
      "   792    885    987 \n"
     ]
    },
    {
     "name": "stderr",
     "output_type": "stream",
     "text": [
      "Gset 43\n",
      "\n"
     ]
    },
    {
     "name": "stdout",
     "output_type": "stream",
     "text": [
      "    Lmo2     Tal1   Cited4    Smim1    Blvrb   Hbb-bs  Hbb-bh1    Hbb-y \n",
      "      84      202      211      237      345      376      377      378 \n",
      "   Hba-x   Hba-a1   Hba-a2  Prkar2b Slc25a37     Cpox  Slc38a5 \n",
      "     597      598      599      669      780      840      951 \n"
     ]
    },
    {
     "name": "stderr",
     "output_type": "stream",
     "text": [
      "Gset 44\n",
      "\n"
     ]
    },
    {
     "name": "stdout",
     "output_type": "stream",
     "text": [
      " Ehd4  Nppb   Zyx  Klf2 Tppp3  Rhob Anxa1 \n",
      "   91   231   291   436   453   659   926 \n"
     ]
    },
    {
     "name": "stderr",
     "output_type": "stream",
     "text": [
      "Gset 45\n",
      "\n"
     ]
    },
    {
     "name": "stdout",
     "output_type": "stream",
     "text": [
      "  Tcf15 Aldh1a2   Meox1 \n",
      "    101     501     638 \n"
     ]
    },
    {
     "name": "stderr",
     "output_type": "stream",
     "text": [
      "Gset 46\n",
      "\n"
     ]
    },
    {
     "name": "stdout",
     "output_type": "stream",
     "text": [
      "        Mybl2         Rbm38         Ddah1         Cpne3          Clta \n",
      "          109           121           173           180           185 \n",
      "      Tinagl1         Fabp3        Fbxo21 2200002D01Rik           Id2 \n",
      "          218           219           263           346           666 \n",
      "        Baz1a     Serpinb6a          Klf5         Gsto1       Akap17b \n",
      "          676           724           786           942           955 \n",
      "         Bex1        Tceal9          Bex3        Rnf128         Morc4 \n",
      "          998           999          1000          1004          1005 \n",
      "      Nup62cl \n",
      "         1006 \n"
     ]
    },
    {
     "name": "stderr",
     "output_type": "stream",
     "text": [
      "Gset 47\n",
      "\n"
     ]
    },
    {
     "name": "stdout",
     "output_type": "stream",
     "text": [
      "    Mmp9 Ceacam15    Psg29    Psg22     Cts8     Cts7     Pfpl \n",
      "     116      335      337      338      742      743      923 \n"
     ]
    },
    {
     "name": "stderr",
     "output_type": "stream",
     "text": [
      "Gset 48\n",
      "\n"
     ]
    },
    {
     "name": "stdout",
     "output_type": "stream",
     "text": [
      "   Tpd52    Apoc1  Stard10     Bst2      Mt2      Mt1  Chchd10    Cldn7 \n",
      "     126      342      373      433      449      450      553      615 \n",
      "Slc9a3r1    Cldn6     Gldc \n",
      "     644      854      928 \n"
     ]
    },
    {
     "name": "stderr",
     "output_type": "stream",
     "text": [
      "Gset 49\n",
      "\n"
     ]
    },
    {
     "name": "stdout",
     "output_type": "stream",
     "text": [
      "   Car2    Alad  Hbb-bt   Zfpm1  Abcb10    Hmbs    Gpx1   Glrx5 Tmem14c    Pim1 \n",
      "    128     192     375     462     467     478     517     687     727     860 \n",
      "  Ccnd3 \n",
      "    876 \n"
     ]
    },
    {
     "name": "stderr",
     "output_type": "stream",
     "text": [
      "Gset 50\n",
      "\n"
     ]
    },
    {
     "name": "stdout",
     "output_type": "stream",
     "text": [
      "  Fdps  Cyp51  Msmo1   Idi1  Hmgcr Hmgcs1   Scd2 \n",
      "   146    238    428    699    752    760    939 \n"
     ]
    },
    {
     "name": "stderr",
     "output_type": "stream",
     "text": [
      "Gset 51\n",
      "\n"
     ]
    },
    {
     "name": "stdout",
     "output_type": "stream",
     "text": [
      "Hist2h2ac  Hist1h1b  Hist1h1d Hist1h2ae  Hist1h4d  Hist1h1e  Hist1h3c  Hist1h1a \n",
      "      154       706       707       708       709       710       711       712 \n"
     ]
    },
    {
     "name": "stderr",
     "output_type": "stream",
     "text": [
      "Gset 52\n",
      "\n"
     ]
    },
    {
     "name": "stdout",
     "output_type": "stream",
     "text": [
      " Rps20   Rps8  Rplp0   Rpl6   Rps9  Rpl28   Rps5  Rpl13  Rplp1   Rpsa  Rps12 \n",
      "   178    205    262    265    330    331    333    465    492    527    534 \n",
      " Rpl41  Rps26 Rps27a  Rps4x \n",
      "   583    584    595    983 \n"
     ]
    },
    {
     "name": "stderr",
     "output_type": "stream",
     "text": [
      "Gset 53\n",
      "\n"
     ]
    },
    {
     "name": "stdout",
     "output_type": "stream",
     "text": [
      "   Tpm2    Gjb3    Gjb5  Fgfbp1    Sbsn   Ascl2  Cdkn1c  Phlda2     Lpl    Psap \n",
      "    182     215     216     248     349     405     408     409     430     544 \n",
      " Arid3a Slc38a4  Ralbp1   Dusp9 Fthl17a   Hmgn5 \n",
      "    560     815     879     972     975     992 \n"
     ]
    },
    {
     "name": "stderr",
     "output_type": "stream",
     "text": [
      "Gset 54\n",
      "\n"
     ]
    },
    {
     "name": "stdout",
     "output_type": "stream",
     "text": [
      " Cer1 Sfrp1  Pga5  Dkk1  Gpc4 \n",
      "  194   417   921   929   961 \n"
     ]
    },
    {
     "name": "stderr",
     "output_type": "stream",
     "text": [
      "Gset 55\n",
      "\n"
     ]
    },
    {
     "name": "stdout",
     "output_type": "stream",
     "text": [
      "  Lrpap1 Serpinh1     Aqp8   Col4a1   Col4a2    Pth1r    P4ha1    Ckap4 \n",
      "     244      372      385      413      414      519      543      568 \n",
      "   Sparc    Loxl2   Kdelr3 \n",
      "     608      781      808 \n"
     ]
    },
    {
     "name": "stderr",
     "output_type": "stream",
     "text": [
      "Gset 56\n",
      "\n"
     ]
    },
    {
     "name": "stdout",
     "output_type": "stream",
     "text": [
      "  Trh Apela   Pyy  Hhex \n",
      "  311   429   639   934 \n"
     ]
    },
    {
     "name": "stderr",
     "output_type": "stream",
     "text": [
      "Gset 57\n",
      "\n"
     ]
    },
    {
     "name": "stdout",
     "output_type": "stream",
     "text": [
      "   Tpi1    Gpi1   Aldoa   Bnip3  Higd1a   Galk1 Fam162a Prelid2    Pgk1 \n",
      "    318     352     386     395     528     647     834     894     989 \n"
     ]
    },
    {
     "name": "stderr",
     "output_type": "stream",
     "text": [
      "Gset 58\n",
      "\n"
     ]
    },
    {
     "name": "stdout",
     "output_type": "stream",
     "text": [
      "Ceacam9  Lgals9  Prl2c5  Prl6a1 \n",
      "    336     622     701     716 \n"
     ]
    },
    {
     "name": "stderr",
     "output_type": "stream",
     "text": [
      "Gset 59\n",
      "\n"
     ]
    },
    {
     "name": "stdout",
     "output_type": "stream",
     "text": [
      " Ifitm3     Ubb Gm10260   Psme1   Psme2 Gm10076    Npm3 \n",
      "    399     611     753     775     776     788     941 \n"
     ]
    },
    {
     "name": "stderr",
     "output_type": "stream",
     "text": [
      "Gset 60\n",
      "\n"
     ]
    },
    {
     "name": "stdout",
     "output_type": "stream",
     "text": [
      "   Lars2  Gm42418 AY036118 \n",
      "     529      872      873 \n"
     ]
    }
   ],
   "source": [
    "gset = scdb_gset(gset_id)\n",
    "ids = unique(gset@gene_set)\n",
    "if(1) {\n",
    "  for(i in ids) {\n",
    "    message(\"Gset \", i)\n",
    "    print(which(gset@gene_set == i))\n",
    "  }\n",
    "}"
   ]
  },
  {
   "cell_type": "code",
   "execution_count": 16,
   "id": "be1d5d6d",
   "metadata": {
    "scrolled": false
   },
   "outputs": [
    {
     "name": "stderr",
     "output_type": "stream",
     "text": [
      "Stress containung gset 6\n",
      "\n"
     ]
    },
    {
     "name": "stdout",
     "output_type": "stream",
     "text": [
      "   Hspd1      Ncl      Set    Nop10   Eif2s2     Hdgf   Anp32b     Lyar \n",
      "       6        6        6        6        6        6        6        6 \n",
      "  Serbp1    Ccne1   Psmb10    Hspa8    Ddx21  Slc16a3     Odc1     Rrm2 \n",
      "       6        6        6        6        6        6        6        6 \n",
      "Hsp90aa1 \n",
      "       6 \n"
     ]
    },
    {
     "name": "stderr",
     "output_type": "stream",
     "text": [
      "Stress containung gset 16\n",
      "\n"
     ]
    },
    {
     "name": "stdout",
     "output_type": "stream",
     "text": [
      "   Hdlbp    Soat1    Marc2    Surf4    Hspa5    Pdia3    Rrbp1     Cst3 \n",
      "      16       16       16       16       16       16       16       16 \n",
      "    Glmp     Ssr2 Ctnnbip1    Erp29     Rpn1  Sec61a1  Selenos     Calr \n",
      "      16       16       16       16       16       16       16       16 \n",
      "   Stt3a     Ppib      Me1     Manf  Hsp90b1   Atp2b1     Xbp1  Tax1bp3 \n",
      "      16       16       16       16       16       16       16       16 \n",
      "    P4hb    Pdia6     Sypl   Dnajc3   Agpat4    Clic1 \n",
      "      16       16       16       16       16       16 \n"
     ]
    },
    {
     "name": "stderr",
     "output_type": "stream",
     "text": [
      "Stress containung gset 35\n",
      "\n"
     ]
    },
    {
     "name": "stdout",
     "output_type": "stream",
     "text": [
      " Sfmbt2    Sdc4   Hspb1   Peg10    Polg     H19    Igf2 Slc25a4    Aprt    Cd63 \n",
      "     35      35      35      35      35      35      35      35      35      35 \n",
      "    Ezr   Rhox5  Trap1a Gm47283 \n",
      "     35      35      35      35 \n"
     ]
    },
    {
     "name": "stderr",
     "output_type": "stream",
     "text": [
      "Stress containung gset 13\n",
      "\n"
     ]
    },
    {
     "name": "stdout",
     "output_type": "stream",
     "text": [
      "    Ptma    Cdca7      Dut    Fabp5    H2afz     Nasp    Prdx1     Eno1 \n",
      "      13       13       13       13       13       13       13       13 \n",
      "   Gapdh     Ldhb     Ldha   Dctpp1    Hmgb2      Pkm   Anp32a      Mif \n",
      "      13       13       13       13       13       13       13       13 \n",
      "    Ppia     Npm1      Dek    Apex1  Hnrnpa1 Hsp90ab1   Eif1ax \n",
      "      13       13       13       13       13       13       13 \n"
     ]
    },
    {
     "name": "stderr",
     "output_type": "stream",
     "text": [
      "Stress containung gset 4\n",
      "\n"
     ]
    },
    {
     "name": "stdout",
     "output_type": "stream",
     "text": [
      "  Map4k4   Adgrl2     Chd7   Glipr2   Sept11     Asns     Calu   Mthfd2 \n",
      "       4        4        4        4        4        4        4        4 \n",
      "Eif4ebp1   Akap12    Sept9    Map1b    Rai14     Ext1  Slc38a1    Phf10 \n",
      "       4        4        4        4        4        4        4        4 \n",
      "   Hspa9     Nars  Htatsf1 \n",
      "       4        4        4 \n"
     ]
    }
   ],
   "source": [
    "mrps = grep(\"^Mrp\", names(gset@gene_set),v=T)\n",
    "hsps = grep(\"^Hsp\", names(gset@gene_set),v=T)\n",
    "nduf = grep(\"^Nduf\", names(gset@gene_set),v=T)\n",
    "nduf = grep(\"^Psmb\", names(gset@gene_set),v=T)\n",
    "#stress_ids = setdiff(unique(gset@gene_set[c(mrps, hsps, nduf)]), ids)\n",
    "stress_ids = unique(gset@gene_set[c(mrps, hsps, nduf)])\n",
    "for(i in stress_ids) {\n",
    "    message(\"Stress containung gset \", i)\n",
    "    nms_f = gset@gene_set[gset@gene_set == i]\n",
    "    names(nms_f) = substr(names(nms_f),start = 1,stop = 15)\n",
    "    print(nms_f)\n",
    "}\n",
    "ids = c(stress_ids)"
   ]
  },
  {
   "cell_type": "code",
   "execution_count": 17,
   "id": "9b682167",
   "metadata": {},
   "outputs": [
    {
     "name": "stderr",
     "output_type": "stream",
     "text": [
      "CC containung gset 31\n",
      "\n"
     ]
    },
    {
     "name": "stdout",
     "output_type": "stream",
     "text": [
      "   Cenpf   Nusap1     Tpx2    Ube2c     Smc4    Cenpe     Prc1  Arl6ip1 \n",
      "      51       90      103      114      138      168      367      382 \n",
      "    Plk1    Mki67     Hmmr    Top2a Mis18bp1    Kif11 \n",
      "     384      394      601      631      677      933 \n"
     ]
    },
    {
     "name": "stderr",
     "output_type": "stream",
     "text": [
      "CC containung gset NA\n",
      "\n"
     ]
    },
    {
     "name": "stdout",
     "output_type": "stream",
     "text": [
      "named integer(0)\n"
     ]
    },
    {
     "name": "stderr",
     "output_type": "stream",
     "text": [
      "CC containung gset 51\n",
      "\n"
     ]
    },
    {
     "name": "stdout",
     "output_type": "stream",
     "text": [
      "Hist2h2ac  Hist1h1b  Hist1h1d Hist1h2ae  Hist1h4d  Hist1h1e  Hist1h3c  Hist1h1a \n",
      "      154       706       707       708       709       710       711       712 \n"
     ]
    }
   ],
   "source": [
    "cc_anchors = c(\"Top2a\", \"Ube2c\", \"Pcna\", \"Mki67\", \"Cenpf\",\"Hist1h1a\", \"Hist1h1b\")\n",
    "cc_ids = setdiff(unique(gset@gene_set[cc_anchors]), ids)\n",
    "\n",
    "for(i in cc_ids) {\n",
    "\tmessage(\"CC containung gset \", i)\n",
    "\tprint(which(gset@gene_set == i))\n",
    "}\n",
    "\n",
    "ids = c(ids,cc_ids)"
   ]
  },
  {
   "cell_type": "code",
   "execution_count": 18,
   "id": "324a7051",
   "metadata": {
    "scrolled": false
   },
   "outputs": [
    {
     "name": "stderr",
     "output_type": "stream",
     "text": [
      "Containing RPs:\n",
      "\n",
      "Rp containung gset 52\n",
      "\n"
     ]
    },
    {
     "name": "stdout",
     "output_type": "stream",
     "text": [
      " Rps20   Rps8  Rplp0   Rpl6   Rps9  Rpl28   Rps5  Rpl13  Rplp1   Rpsa  Rps12 \n",
      "   178    205    262    265    330    331    333    465    492    527    534 \n",
      " Rpl41  Rps26 Rps27a  Rps4x \n",
      "   583    584    595    983 \n"
     ]
    },
    {
     "name": "stderr",
     "output_type": "stream",
     "text": [
      "Rp containung gset 12\n",
      "\n"
     ]
    },
    {
     "name": "stdout",
     "output_type": "stream",
     "text": [
      "     Serpine2         Nol4l B230312C02Rik          Plk4           Agl \n",
      "           13           104           124           132           160 \n",
      "        Cdc20        Zfp512        Golga3          Dqx1         Resf1 \n",
      "          208           242           261           302           329 \n",
      "        Gfod2       Gm26737         Rpl29          Smc6        Spata7 \n",
      "          455           476           513           661           683 \n",
      "       Yae1d1  Olfr1369-ps1         Myo10          Comt          Cbr1 \n",
      "          703           704           796           829           843 \n",
      "      Gm26885       Zfp36l2           Gal         Cox7b 2810403D21Rik \n",
      "          859           883           910           988           991 \n",
      "      Rps6ka6          Wnk3 \n",
      "          993          1008 \n"
     ]
    },
    {
     "name": "stderr",
     "output_type": "stream",
     "text": [
      "Rp containung gset 24\n",
      "\n"
     ]
    },
    {
     "name": "stdout",
     "output_type": "stream",
     "text": [
      "         Gas5          Rcc2         Sap30         Prdx2         H2afx \n",
      "           33           228           424           444           477 \n",
      "2410006H16Rik         H3f3b          Rps2         Rps18         Snhg1 \n",
      "          612           648           856           861           917 \n",
      "       Fundc2           Sms \n",
      "          974          1012 \n"
     ]
    }
   ],
   "source": [
    "message(\"Containing RPs:\")\n",
    "rps = grep(\"^Rp[l|s]\", names(gset@gene_set),v=T)\n",
    "#rp_ids = setdiff(unique(gset@gene_set[rps]), ids)\n",
    "rp_ids = setdiff(unique(gset@gene_set[rps]),ids)\n",
    "ids = c(rp_ids,ids)\n",
    "for(i in rp_ids) {\n",
    "  message(\"Rp containung gset \", i)\n",
    "  print(which(gset@gene_set == i))\n",
    "}"
   ]
  },
  {
   "cell_type": "code",
   "execution_count": 20,
   "id": "279d884f",
   "metadata": {},
   "outputs": [
    {
     "name": "stdout",
     "output_type": "stream",
     "text": [
      "[1]  6 18\n"
     ]
    },
    {
     "data": {
      "text/html": [],
      "text/latex": [],
      "text/markdown": [],
      "text/plain": [
       "named integer(0)"
      ]
     },
     "metadata": {},
     "output_type": "display_data"
    },
    {
     "name": "stderr",
     "output_type": "stream",
     "text": [
      "Additional gsets6\n",
      "\n"
     ]
    },
    {
     "name": "stdout",
     "output_type": "stream",
     "text": [
      "   Hspd1      Ncl      Set    Nop10   Eif2s2     Hdgf   Anp32b     Lyar \n",
      "       6       15       63       87      106      141      187      246 \n",
      "  Serbp1    Ccne1   Psmb10    Hspa8    Ddx21  Slc16a3     Odc1     Rrm2 \n",
      "     296      353      456      474      549      655      664      665 \n",
      "Hsp90aa1 \n",
      "     691 \n"
     ]
    },
    {
     "name": "stderr",
     "output_type": "stream",
     "text": [
      "Additional gsets18\n",
      "\n"
     ]
    },
    {
     "name": "stdout",
     "output_type": "stream",
     "text": [
      "    Kdm5b    Hnrnpu     Parp1   Hnrnpa3    Anp32e     Psip1      Sfpq    Hnrnpd \n",
      "       23        42        43        76       153       195       214       258 \n",
      "Hnrnpa2b1      Chd4    Hirip3   Smarcc1     Myh10      Cbx1    Jarid2      Mcm4 \n",
      "      292       320       387       518       614       628       729       826 \n",
      "    Lmnb1 \n",
      "      901 \n"
     ]
    }
   ],
   "source": [
    "additional_ids = c()\n",
    "for (g in c(\"Pcna\", \"Rrm2\", \"Mcm5\", \"Mcm6\", \"Mcm4\", \"Ung\", \"Mcm7\", \"Mcm2\",\"Uhrf1\", \"Orc6\", \"Tipin\")) {\n",
    "    new_ids = gset@gene_set[grep(g,names(gset@gene_set))]\n",
    "    additional_ids = union(additional_ids,new_ids)\n",
    "}\n",
    "\n",
    "print(additional_ids)\n",
    "\n",
    "gset@gene_set[grep(\"Pcna\",names(gset@gene_set))]\n",
    "for(i in additional_ids) {\n",
    "  message(\"Additional gsets \", i)\n",
    "  print(which(gset@gene_set == i))\n",
    "}"
   ]
  },
  {
   "cell_type": "code",
   "execution_count": 21,
   "id": "e2017d9c",
   "metadata": {},
   "outputs": [
    {
     "name": "stderr",
     "output_type": "stream",
     "text": [
      "Make sure you editted manually the list of gsets that are filtered!!!\n",
      "\n"
     ]
    }
   ],
   "source": [
    "#EDIT THIS\n",
    "if(1) {\n",
    "message(\"Make sure you editted manually the list of gsets that are filtered!!!\")\n",
    "\n",
    "bad_gsets_wt = c(6,16,18,13,4,31,51,52,12,24)\n",
    "    \n",
    "output_file = sprintf(\"data/%s.bad_genes.txt\",mat_nm)\n",
    "\n",
    "bad_gene_wt = names(gset@gene_set)[which(gset@gene_set %in% bad_gsets_wt)]\n",
    "\n",
    "write.table(bad_gene_wt,output_file,sep =\"\\t\")\n",
    "\n",
    "}"
   ]
  },
  {
   "cell_type": "code",
   "execution_count": null,
   "id": "21ea8c36",
   "metadata": {},
   "outputs": [],
   "source": []
  }
 ],
 "metadata": {
  "kernelspec": {
   "display_name": "R",
   "language": "R",
   "name": "ir353"
  },
  "language_info": {
   "codemirror_mode": "r",
   "file_extension": ".r",
   "mimetype": "text/x-r-source",
   "name": "R",
   "pygments_lexer": "r",
   "version": "4.0.5"
  }
 },
 "nbformat": 4,
 "nbformat_minor": 5
}
