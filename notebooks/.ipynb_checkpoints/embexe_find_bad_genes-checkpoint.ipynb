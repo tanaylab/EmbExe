{
 "cells": [
  {
   "cell_type": "code",
   "execution_count": 1,
   "id": "7a2e08c5",
   "metadata": {},
   "outputs": [],
   "source": [
    "setwd(here::here())"
   ]
  },
  {
   "cell_type": "code",
   "execution_count": 2,
   "id": "2f48aab1",
   "metadata": {},
   "outputs": [
    {
     "data": {
      "text/html": [
       "'/net/mraid14/export/tgdata/users/markusm/exe-gastrulation'"
      ],
      "text/latex": [
       "'/net/mraid14/export/tgdata/users/markusm/exe-gastrulation'"
      ],
      "text/markdown": [
       "'/net/mraid14/export/tgdata/users/markusm/exe-gastrulation'"
      ],
      "text/plain": [
       "[1] \"/net/mraid14/export/tgdata/users/markusm/exe-gastrulation\""
      ]
     },
     "metadata": {},
     "output_type": "display_data"
    }
   ],
   "source": [
    "getwd()"
   ]
  },
  {
   "cell_type": "code",
   "execution_count": 3,
   "id": "bb958ee8",
   "metadata": {},
   "outputs": [],
   "source": [
    "library(\"metacell\")"
   ]
  },
  {
   "cell_type": "code",
   "execution_count": 4,
   "id": "c3ead4b5",
   "metadata": {},
   "outputs": [
    {
     "name": "stderr",
     "output_type": "stream",
     "text": [
      "initializing scdb to scrna_db/\n",
      "\n"
     ]
    }
   ],
   "source": [
    "scdb_init(\"scrna_db/\",force_reinit = T)\n",
    "scfigs_init(\"figs\")"
   ]
  },
  {
   "cell_type": "code",
   "execution_count": 5,
   "id": "c1a6622d",
   "metadata": {},
   "outputs": [],
   "source": [
    "mat_nm = \"embexe\"\n",
    "mat_fn = mat_nm\n",
    "gset_id = mat_nm\n",
    "old_file = \"data/embexe.bad_genes_old.txt\"\n",
    "old_genes = c(as.character(read.table(old_file,sep=\"\\t\")$x))\n",
    "#gset = scdb_gset(gset_id)\n",
    "\n",
    "T_vm=0.1\n",
    "T_top3 = 3\n",
    "T_tot = 50\n",
    "K=120"
   ]
  },
  {
   "cell_type": "code",
   "execution_count": 5,
   "id": "8705388f",
   "metadata": {},
   "outputs": [
    {
     "name": "stdout",
     "output_type": "stream",
     "text": [
      "Calculating gene statistics... "
     ]
    },
    {
     "name": "stderr",
     "output_type": "stream",
     "text": [
      "will downsamp\n",
      "\n",
      "done downsamp\n",
      "\n",
      "will gen mat_n\n",
      "\n",
      "done gen mat_n\n",
      "\n",
      "done computing basic gstat, will compute trends\n",
      "\n"
     ]
    },
    {
     "name": "stdout",
     "output_type": "stream",
     "text": [
      "..done\n"
     ]
    }
   ],
   "source": [
    "mcell_add_gene_stat(mat_nm, mat_nm, force=T)\n",
    "mcell_gset_filter_varmean(mat_nm, mat_nm, T_vm=T_vm, force_new=T)\n",
    "mcell_gset_filter_cov(mat_nm, mat_nm, T_tot=T_tot, T_top3=T_top3)"
   ]
  },
  {
   "cell_type": "code",
   "execution_count": 7,
   "id": "df62cdf3",
   "metadata": {},
   "outputs": [
    {
     "name": "stderr",
     "output_type": "stream",
     "text": [
      "will downsample the matrix, N= 1771\n",
      "\n"
     ]
    }
   ],
   "source": [
    "#mcell_gset_split_by_dsmat(mat_nm,mat_nm , K)\n",
    "mcell_plot_gset_cor_mats(gset_id = mat_nm,scmat_id = mat_nm)\n",
    "\n"
   ]
  },
  {
   "cell_type": "code",
   "execution_count": 14,
   "id": "faceaed3",
   "metadata": {},
   "outputs": [
    {
     "name": "stderr",
     "output_type": "stream",
     "text": [
      "Gset 1\n",
      "\n"
     ]
    },
    {
     "name": "stdout",
     "output_type": "stream",
     "text": [
      "  1110017D15Rik   1700003E16Rik   1700007K13Rik   1700016K19Rik   1700028P14Rik \n",
      "              1               3               4               5               6 \n",
      "  1700088E04Rik AK161456;Cfap45             Ak7         Ccdc189         Cfap126 \n",
      "              8              71             136             265             299 \n",
      "        Cfap206          Cfap52   D230030E09Rik          Dnaja4         Dnajb13 \n",
      "            300             301             389             417             418 \n",
      "           Drc1         Dynlrb2         Efcab10           Enkur          Erich2 \n",
      "            434             444             450             475             489 \n",
      "        Fam183b    Foxj1;Rnf157             Hdc          Lrrc18          Lrrc48 \n",
      "            513             566             681             854             856 \n",
      "           Nme5            Noto           Odf3b            Pifo          Riiad1 \n",
      "            974             979             998            1056            1179 \n",
      "          Rsph1          Rsph4a           Tekt1           Tppp3 \n",
      "           1219            1220            1403            1452 \n"
     ]
    },
    {
     "name": "stderr",
     "output_type": "stream",
     "text": [
      "Gset 2\n",
      "\n"
     ]
    },
    {
     "name": "stdout",
     "output_type": "stream",
     "text": [
      "1600015I10Rik      Ceacam15       Ceacam9          Cts7         Psg22 \n",
      "            2           293           294           369          1127 \n",
      "        Psg29 \n",
      "         1128 \n"
     ]
    },
    {
     "name": "stderr",
     "output_type": "stream",
     "text": [
      "Gset 3\n",
      "\n"
     ]
    },
    {
     "name": "stdout",
     "output_type": "stream",
     "text": [
      "1700086L19Rik AK163478;Palm         Hmgn5        Lgals3        Lgals9 \n",
      "            7            75           702           825           827 \n",
      "        Mbnl3           Sct     Serpinb9b     Serpinb9e     Serpinb9g \n",
      "          875          1243          1256          1257          1258 \n",
      "        Sin3b          Tpm2         Vgll3 \n",
      "         1273          1450          1503 \n"
     ]
    },
    {
     "name": "stderr",
     "output_type": "stream",
     "text": [
      "Gset 4\n",
      "\n"
     ]
    },
    {
     "name": "stdout",
     "output_type": "stream",
     "text": [
      "  2200002D01Rik   2210409E12Rik AK089447;Glipr1         Adamts9            Aqp8 \n",
      "              9              11              56             120             184 \n",
      "            Cd9           Cryab            Ctgf           Epas1              F3 \n",
      "            281             356             365             478             506 \n",
      "          Fabp3           Fxyd3     Gp1bb;Sept5           Grem2          Hs3st1 \n",
      "            507             579             633             646             717 \n",
      "         Kdelr3            Klf5           Lama1           Lamc1    Mir702;Plod3 \n",
      "            788             797             808             810             898 \n",
      "           Nid1             Nog           Nr4a3           P4ha2           Plod2 \n",
      "            968             978             989            1009            1077 \n",
      "       Serping1          Slc6a2            Sox7            Srgn            Thbd \n",
      "           1260            1298            1339            1356            1415 \n",
      "        Tinagl1           Wfdc1 \n",
      "           1420            1510 \n"
     ]
    },
    {
     "name": "stderr",
     "output_type": "stream",
     "text": [
      "Gset 5\n",
      "\n"
     ]
    },
    {
     "name": "stdout",
     "output_type": "stream",
     "text": [
      "  2210011C24Rik;Mir1199           2610528J11Rik           4933402E13Rik \n",
      "                     10                      12                      18 \n",
      "          AK134451;Myo6                     Afp                     Amn \n",
      "                     57                     130                     153 \n",
      "             Ang;Rnase4                   Apoa1                   Apoa4 \n",
      "                    158                     174                     176 \n",
      "                   Apob Apoc2;Apoc4;Apoc4-apoc2                    Apoe \n",
      "                    177                     179                     180 \n",
      "                   Apom                  Cited1                   Cldn2 \n",
      "                    181                     309                     314 \n",
      "                  Clic6                   Cotl1                    Ctsh \n",
      "                    320                     339                     374 \n",
      "                   Cubn                    Dab2                     Fgb \n",
      "                    378                     392                     530 \n",
      "                  Folr1                   Gipc2                    Gpx3 \n",
      "                    554                     608                     640 \n",
      "                  Hnf4a                    Lgmn                    Mttp \n",
      "                    706                     828                     925 \n",
      "                    Npl                Pla2g12b                    Rbp4 \n",
      "                    980                    1064                    1160 \n",
      "                  Reep6                 Sec14l2                   Sepp1 \n",
      "                   1166                    1246                    1248 \n",
      "                Slc13a4                 Slc39a5                  Slc7a8 \n",
      "                   1277                    1291                    1303 \n",
      "                  Soat2                  Spink1                Tmem150a \n",
      "                   1328                    1347                    1428 \n",
      "                    Trf                     Ttr                    Vil1 \n",
      "                   1456                    1473                    1504 \n"
     ]
    },
    {
     "name": "stderr",
     "output_type": "stream",
     "text": [
      "Gset 6\n",
      "\n"
     ]
    },
    {
     "name": "stdout",
     "output_type": "stream",
     "text": [
      "  2810417H13Rik AK017779;Marcks           Basp1           Ccnd1          Dpysl2 \n",
      "             13              27             221             270             431 \n",
      "          Fscn1            Gnas            H1fx           H2afv           H2afx \n",
      "            572             627             661             664             665 \n",
      "       Marcksl1             Mdk           Mex3a             Ndn           Nedd4 \n",
      "            872             878             886             957             959 \n",
      "           Pbx1           Sox11            Sox4          Tceal8           Tead2 \n",
      "           1019            1332            1338            1389            1400 \n",
      "         Tspan6            Ttc3          Tuba1a \n",
      "           1468            1471            1474 \n"
     ]
    },
    {
     "name": "stderr",
     "output_type": "stream",
     "text": [
      "Gset 7\n",
      "\n"
     ]
    },
    {
     "name": "stdout",
     "output_type": "stream",
     "text": [
      "2810474O19Rik        Akap12          Enc1          G2e3         Hells \n",
      "           14           137           473           586           684 \n",
      "       Hmgcs1        Jarid2         Kdm5b       Mid1ip1       Mir6240 \n",
      "          701           780           789           889           894 \n",
      "        Msmo1           Myb         Myo10          Myrf         Rbpms \n",
      "          919           931           944           947          1161 \n",
      "         Rif1        Slc1a3        Tcf7l1          Tet1        Ubqln2 \n",
      "         1178          1281          1391          1405          1488 \n",
      "        Unc5b        Zmynd8 \n",
      "         1493          1534 \n"
     ]
    },
    {
     "name": "stderr",
     "output_type": "stream",
     "text": [
      "Gset 8\n",
      "\n"
     ]
    },
    {
     "name": "stdout",
     "output_type": "stream",
     "text": [
      "3632451O06Rik;AK087604    Accn1/Mpped2;Mpped2                   Cnn1 \n",
      "                    15                    107                    325 \n",
      "                   Des                 Fbxl22                    Gyg \n",
      "                   407                    523                    655 \n",
      "                  Myl2                   Nexn                 Popdc2 \n",
      "                   938                    965                   1089 \n"
     ]
    },
    {
     "name": "stderr",
     "output_type": "stream",
     "text": [
      "Gset 9\n",
      "\n"
     ]
    },
    {
     "name": "stdout",
     "output_type": "stream",
     "text": [
      "      3830417A13Rik                 Adm               Anxa2               Cald1 \n",
      "                 16                 126                 162                 242 \n",
      "               Capg                Cdh5              Cdkn1c            Dnase1l3 \n",
      "                249                 286                 289                 422 \n",
      "             Entpd1              Eps8l2               Fosl1               Fstl3 \n",
      "                476                 486                 557                 575 \n",
      "            Fthl17a               Gata2               Gata3              Gatsl3 \n",
      "                577                 601                 602                 605 \n",
      "              Hmox1               Hspb1               Hspb8 IkappaB-zeta;Nfkbiz \n",
      "                704                 727                 728                 752 \n",
      "              Itgb3               Krt19                Krt7               Ldoc1 \n",
      "                772                 803                 804                 819 \n",
      "             Lgals1                Lipg               Myadm               Plac1 \n",
      "                823                 839                 930                1065 \n",
      "              Plac8               Plet1               Ppard                Rgcc \n",
      "               1066                1072                1092                1169 \n",
      "             S100a6           Serpinb6b            Serpinb9                 Sfn \n",
      "               1228                1254                1255                1263 \n",
      "                Spn \n",
      "               1349 \n"
     ]
    },
    {
     "name": "stderr",
     "output_type": "stream",
     "text": [
      "Gset 10\n",
      "\n"
     ]
    },
    {
     "name": "stdout",
     "output_type": "stream",
     "text": [
      "   4930486L24Rik AK161748;Slco2a1          Adamts5           Amica1 \n",
      "              17               72              119              152 \n",
      "           Ampd3             Aoc1            Crct1    Csf1r;Mir6983 \n",
      "             156              167              351              357 \n",
      "            Ctsk             Ifnk            Inhba            Lmcd1 \n",
      "             375              742              755              841 \n",
      "          Mrgprg           Mustn1             Nbl1           Prl6a1 \n",
      "             915              928              954             1112 \n",
      "          Prl8a2           Prl8a9             Sbsn          Tcp11l2 \n",
      "            1114             1115             1237             1394 \n",
      "        Tnfrsf23            Tpsb2              Wt1 \n",
      "            1441             1454             1523 \n"
     ]
    },
    {
     "name": "stderr",
     "output_type": "stream",
     "text": [
      "Gset 11\n",
      "\n"
     ]
    },
    {
     "name": "stdout",
     "output_type": "stream",
     "text": [
      "         5430431A17Rik AK028659;AK163016;Nebl                  Acta1 \n",
      "                    19                     30                    110 \n",
      "                 Actc1                 Ankrd1                  Csrp3 \n",
      "                   113                    160                    361 \n",
      "                Mybpc3                   Myh6                   Myh7 \n",
      "                   932                    935                    936 \n",
      "                  Myl3                   Myl4                 Sh3bgr \n",
      "                   939                    940                   1269 \n",
      "                Slc8a1                  Smyd1                  Thbs4 \n",
      "                  1304                   1316                   1417 \n",
      "                 Tnnc1                  Tnni1                  Tnnt2 \n",
      "                  1443                   1444                   1445 \n",
      "                   Ttn                 Unc45b \n",
      "                  1472                   1492 \n"
     ]
    },
    {
     "name": "stderr",
     "output_type": "stream",
     "text": [
      "Gset 12\n",
      "\n"
     ]
    },
    {
     "name": "stdout",
     "output_type": "stream",
     "text": [
      "   5730457N03Rik AK039882;Hoxaas3            Axin2             Cdx4 \n",
      "              20               39              208              292 \n",
      "            Evx1            Hoxb6            Hoxb9            Hoxc8 \n",
      "             502              714              715              716 \n",
      "           Mllt3             Nkd1            Wnt5a            Wnt5b \n",
      "             906              970             1519             1520 \n"
     ]
    },
    {
     "name": "stderr",
     "output_type": "stream",
     "text": [
      "Gset 13\n",
      "\n"
     ]
    },
    {
     "name": "stdout",
     "output_type": "stream",
     "text": [
      "    A2m Ccdc155    Dmkn    Erv3   Il1r2    Ly6a   Ly6c1  S100a4  S100a8 Slc6a12 \n",
      "     21     264     416     493     754     861     862    1227    1229    1297 \n",
      "   Tac2 \n",
      "   1377 \n"
     ]
    },
    {
     "name": "stderr",
     "output_type": "stream",
     "text": [
      "Gset 14\n",
      "\n"
     ]
    },
    {
     "name": "stdout",
     "output_type": "stream",
     "text": [
      "AA465934;AI450353   AK196308;Tuba1b             Aldoa              Cap1 \n",
      "               22                82               147               247 \n",
      "            Eif5a             Pttg1             Rpl37             Rps10 \n",
      "              461              1142              1192              1200 \n",
      "            Rps21           Slc16a3 \n",
      "             1208              1280 \n"
     ]
    },
    {
     "name": "stderr",
     "output_type": "stream",
     "text": [
      "Gset 15\n",
      "\n"
     ]
    },
    {
     "name": "stdout",
     "output_type": "stream",
     "text": [
      "AA467197;Mir147        BC053393           Mylpf           Ptgr1 \n",
      "             23             218             943            1136 \n"
     ]
    },
    {
     "name": "stderr",
     "output_type": "stream",
     "text": [
      "Gset 16\n",
      "\n"
     ]
    },
    {
     "name": "stdout",
     "output_type": "stream",
     "text": [
      "AF465519;Tagln2   AK043676;Pfkp    Akt1;Mir6939   Anxa5;Mir7009           Anxa7 \n",
      "             24              42             141             164             166 \n",
      "           Asns           Baz1a            Bcor          Ctdspl            Dag1 \n",
      "            199             222             225             364             394 \n",
      "          Dusp9           Efhd2          Errfi1            Ets2   Fbxo6;Mir7022 \n",
      "            441             451             492             499             526 \n",
      "           Hic2            Klf2           Lasp1           Litaf           Mbnl2 \n",
      "            691             796             813             840             874 \n",
      "            Myc           Myo1c            Nek6         Plekha2            Plk3 \n",
      "            933             946             962            1070            1075 \n",
      "           Rlim        Serpine1           Smad7          Syngr1           Tbrg1 \n",
      "           1181            1259            1308            1374            1383 \n",
      "          Tead4           Tubb6           Ube2a \n",
      "           1401            1477            1486 \n"
     ]
    },
    {
     "name": "stderr",
     "output_type": "stream",
     "text": [
      "Gset 17\n",
      "\n"
     ]
    },
    {
     "name": "stdout",
     "output_type": "stream",
     "text": [
      "    AK011205        Aplnr       Igfbp4         Lhfp Mir5129;Zeb2 Mrps6;Slc5a3 \n",
      "          25          173          749          830          892          916 \n",
      "       Rbms1 \n",
      "        1158 \n"
     ]
    },
    {
     "name": "stderr",
     "output_type": "stream",
     "text": [
      "Gset 18\n",
      "\n"
     ]
    },
    {
     "name": "stdout",
     "output_type": "stream",
     "text": [
      "AK012046;Klhl22   AK211817;Gga2           Apoc1          Cystm1           Dgat2 \n",
      "             26              95             178             388             408 \n",
      "            Ezr          Fmr1nb            Gab1           Jade1            Lad1 \n",
      "            503             550             587             777             807 \n",
      "        Lncenc1           Mpzl2             Mt1             Mt2            Noct \n",
      "            846             913             922             923             976 \n",
      "          Rhox5            Scd1            Sdc4            Sord          Trap1a \n",
      "           1175            1240            1245            1331            1455 \n",
      "          Trim6            Upp1 \n",
      "           1458            1495 \n"
     ]
    },
    {
     "name": "stderr",
     "output_type": "stream",
     "text": [
      "Gset 19\n",
      "\n"
     ]
    },
    {
     "name": "stdout",
     "output_type": "stream",
     "text": [
      "         AK018679;Cd47      AK030443;Slc39a14 AK076304;AK142782;Ehd4 \n",
      "                    28                     31                     46 \n",
      "               Arhgdib                Arhgef7                   Bin1 \n",
      "                   188                    189                    229 \n",
      "                  Cltb                    Efs               Fam171a1 \n",
      "                   321                    455                    511 \n",
      "                  Fdx1                 Homer2                   Hopx \n",
      "                   527                    707                    708 \n",
      "               Htatsf1                   Irx1          Mir6909;Plpp2 \n",
      "                   730                    762                    895 \n",
      "                  Nppb                Phactr1                  Ptgis \n",
      "                   983                   1049                   1135 \n",
      "                  Sdc1                   Ugcg \n",
      "                  1244                   1490 \n"
     ]
    },
    {
     "name": "stderr",
     "output_type": "stream",
     "text": [
      "Gset 20\n",
      "\n"
     ]
    },
    {
     "name": "stdout",
     "output_type": "stream",
     "text": [
      "AK021383;Prrc2c  AK087340;Eif3a  AK165270;Rbm25         Ankrd11            Atrx \n",
      "             29              53              78             161             207 \n",
      "   Chd4;Mir7045           Eif5b           Kmt2a         Mir6236         Prpf40a \n",
      "            305             462             800             893            1119 \n",
      "          Rn45s             Son           Srrm2            Top1             Tpr \n",
      "           1182            1330            1359            1446            1453 \n"
     ]
    },
    {
     "name": "stderr",
     "output_type": "stream",
     "text": [
      "Gset 21\n",
      "\n"
     ]
    },
    {
     "name": "stdout",
     "output_type": "stream",
     "text": [
      "AK031066;Mir7225;Pde4dip                 AK217941             Afmid;Syngr2 \n",
      "                      32                       98                      129 \n",
      "                   Anxa4                     Aprt                  B4galt5 \n",
      "                     163                      183                      213 \n",
      "            Cd82;Mir7001                     Cstb                      Dbi \n",
      "                     280                      363                      397 \n",
      "           E130012A19Rik                   Elovl1                    Erdr1 \n",
      "                     445                      467                      488 \n",
      "                    Flnb                    Galk1                     Gm2a \n",
      "                     547                      593                      624 \n",
      "                     Gsn                   Iqgap1                   Kctd17 \n",
      "                     651                      759                      786 \n",
      "                   Lima1                     Lmna                    Ostf1 \n",
      "                     836                      842                     1003 \n",
      "             Parp10;Plec                   Pdlim1                    Plin2 \n",
      "                    1014                     1035                     1073 \n",
      "                   Prkch                    Prss8                     Psap \n",
      "                    1106                     1123                     1125 \n",
      "                 S100a13                   Sqstm1                      Sri \n",
      "                    1225                     1355                     1357 \n"
     ]
    },
    {
     "name": "stderr",
     "output_type": "stream",
     "text": [
      "Gset 22\n",
      "\n"
     ]
    },
    {
     "name": "stdout",
     "output_type": "stream",
     "text": [
      "AK031574;Mir6996;Notch1                    Car3                    Dll1 \n",
      "                     33                     257                     414 \n",
      "                   Dll3                   Fabp7                     Gal \n",
      "                    415                     508                     592 \n",
      "                  Hoxb2                  Ifitm1                    Lef1 \n",
      "                    713                     740                     820 \n",
      "                 Pcdh19                  Pdlim4                 Rasgrp3 \n",
      "                   1022                    1036                    1153 \n",
      "                  Rspo3                    Tbx6 \n",
      "                   1221                    1387 \n"
     ]
    },
    {
     "name": "stderr",
     "output_type": "stream",
     "text": [
      "Gset 23\n",
      "\n"
     ]
    },
    {
     "name": "stdout",
     "output_type": "stream",
     "text": [
      "AK032382;AK086749;BC086315;Slc25a37                               Alas2 \n",
      "                                 34                                 143 \n",
      "                              Blvrb                               Epb42 \n",
      "                                230                                 480 \n",
      "                               Gypa                              Hba-a2 \n",
      "                                656                                 673 \n",
      "                              Hba-x                             Hbb-bh1 \n",
      "                                674                                 676 \n",
      "                             Hbb-bs                               Hbb-y \n",
      "                                677                                 678 \n",
      "                            Slc38a5                              Slc4a1 \n",
      "                               1289                                1296 \n",
      "                             Tmem56 \n",
      "                               1435 \n"
     ]
    },
    {
     "name": "stderr",
     "output_type": "stream",
     "text": [
      "Gset 24\n",
      "\n"
     ]
    },
    {
     "name": "stdout",
     "output_type": "stream",
     "text": [
      "AK033756;Rab3il1    AK164737;Ell2             Alad             Cpox \n",
      "              35               76              142              347 \n",
      "Csf2rb;Mir7676-2             Fech            Glrx5             Gpx1 \n",
      "             358              528              617              639 \n",
      "          Hbb-b2            Mbnl1             Pnpo           Psmb10 \n",
      "             675              873             1086             1130 \n",
      "         Slc14a1             Smox            Spns2           Ssx2ip \n",
      "            1278             1314             1350             1361 \n",
      "         Tmem14c \n",
      "            1427 \n"
     ]
    },
    {
     "name": "stderr",
     "output_type": "stream",
     "text": [
      "Gset 25\n",
      "\n"
     ]
    },
    {
     "name": "stdout",
     "output_type": "stream",
     "text": [
      "AK034707;Pdlim5  AK160964;Rab8b          Agtrap           Dusp6           Egln3 \n",
      "             36              70             132             440             457 \n",
      "          Fgf15            Fgf4           Grrp1           Rai14           Sept8 \n",
      "            531             534             647            1149            1249 \n",
      "           Smc6           Spry2           Spry4           Tcea3             Zyx \n",
      "           1311            1353            1354            1388            1536 \n"
     ]
    },
    {
     "name": "stderr",
     "output_type": "stream",
     "text": [
      "Gset 26\n",
      "\n"
     ]
    },
    {
     "name": "stdout",
     "output_type": "stream",
     "text": [
      "AK035842;Unc5c           Bmp4          Capn6         Col1a1          Csrp2 \n",
      "            37            232            251            330            360 \n",
      "          Dlk1           Dok4          Hand2           Mest   Mir1903;Nrp1 \n",
      "           413            427            669            885            890 \n",
      "         Pmp22           Rgs5         Spin2c          Tbx20         Tmem88 \n",
      "          1085           1172           1346           1384           1436 \n",
      "           Vim \n",
      "          1505 \n"
     ]
    },
    {
     "name": "stderr",
     "output_type": "stream",
     "text": [
      "Gset 27\n",
      "\n"
     ]
    },
    {
     "name": "stdout",
     "output_type": "stream",
     "text": [
      "AK038736;Prrx1        Colec12           Fbn2           Mmp2           Npr3 \n",
      "            38            338            521            907            984 \n",
      "         Nr2f2           Nrp2           Vcan \n",
      "           988            995           1501 \n"
     ]
    },
    {
     "name": "stderr",
     "output_type": "stream",
     "text": [
      "Gset 28\n",
      "\n"
     ]
    },
    {
     "name": "stdout",
     "output_type": "stream",
     "text": [
      "AK041755;Cdh1         Epcam         L1td1         Mkrn1        Pou3f1 \n",
      "           40           481           806           904          1091 \n",
      "         Utf1 \n",
      "         1496 \n"
     ]
    },
    {
     "name": "stderr",
     "output_type": "stream",
     "text": [
      "Gset 29\n",
      "\n"
     ]
    },
    {
     "name": "stdout",
     "output_type": "stream",
     "text": [
      "AK043267;Mef2c           Cap2          Meis1           Myl7         Nkx2-5 \n",
      "            41            248            880            941            971 \n",
      "         Rbm24          Sfrp5        Smarcd3           Wnt2 \n",
      "          1156           1266           1309           1517 \n"
     ]
    },
    {
     "name": "stderr",
     "output_type": "stream",
     "text": [
      "Gset 30\n",
      "\n"
     ]
    },
    {
     "name": "stdout",
     "output_type": "stream",
     "text": [
      "     AK047175;Kit  AK086757;Creb3l2    AK162078;Zfhx3  AK208136;Fam129b \n",
      "               43                51                74                93 \n",
      "AK208648;Colgalt1             Abhd5             Asah1    BC024571;Itga6 \n",
      "               94               105               196               216 \n",
      "              Cck               Dap           Dnajc10             Ephb3 \n",
      "              268               396               419               484 \n",
      "           Fam46a            Frmd4a            Galnt2             Gnai1 \n",
      "              516               570               594               625 \n",
      "            Mfge8              Msl3             Parvb             Pdia5 \n",
      "              887               918              1016              1033 \n",
      "             Plat             Plod1            Pmepa1            Slc7a1 \n",
      "             1068              1076              1084              1300 \n",
      "            Stat1             Stra6            Tcf7l2           Txndc12 \n",
      "             1366              1368              1392              1480 \n"
     ]
    },
    {
     "name": "stderr",
     "output_type": "stream",
     "text": [
      "Gset 31\n",
      "\n"
     ]
    },
    {
     "name": "stdout",
     "output_type": "stream",
     "text": [
      "AK047243;AK080416;Pax6         AK159995;Nceh1                Adamts1 \n",
      "                    44                     69                    117 \n",
      "                  Cd81                 Dpysl3                  Gap43 \n",
      "                   279                    432                    596 \n",
      "                  Il15                Kctd12b                   Lhx2 \n",
      "                   753                    785                    834 \n",
      "                  Mafb                 Nkx2-9                  Pde4b \n",
      "                   865                    972                   1030 \n",
      "               Slc23a2                  Timp3                Tmem45a \n",
      "                  1282                   1419                   1432 \n",
      "                  Utrn                   Wfs1                  Wipf1 \n",
      "                  1497                   1513                   1514 \n",
      "                Zfp536 \n",
      "                  1530 \n"
     ]
    },
    {
     "name": "stderr",
     "output_type": "stream",
     "text": [
      "Gset 32\n",
      "\n"
     ]
    },
    {
     "name": "stdout",
     "output_type": "stream",
     "text": [
      "AK053895;Morc4 AK208069;Gsto1            Ak4        Akap17b          Bmp8b \n",
      "            45             92            135            138            234 \n",
      "         Cpne3       Dcaf12l1          Ddah1         Dnmt3l           Elf5 \n",
      "           346            399            400            425            464 \n",
      "         Esrrb          Fgfr2      Gabarapl1         Gm1673          Htra1 \n",
      "           496            539            588            621            731 \n",
      "           Id2          Nat8l          Nr0b1          Oxct1          Pcsk6 \n",
      "           734            953            986           1005           1028 \n",
      "          Perp         Rnf128          Sox21          Wnt7b \n",
      "          1045           1184           1336           1522 \n"
     ]
    },
    {
     "name": "stderr",
     "output_type": "stream",
     "text": [
      "Gset 33\n",
      "\n"
     ]
    },
    {
     "name": "stdout",
     "output_type": "stream",
     "text": [
      "        AK080469;Sgk3 AK081796;AK219583;Gns         AK154184;Cyba \n",
      "                   47                    49                    62 \n",
      "       AK156971;Rbm47               Aldh7a1      Atp6v0a1;Mir6928 \n",
      "                   66                   146                   204 \n",
      "              Atp6v0b      Atp6v1a;BC050135                  Cd63 \n",
      "                  205                   206                   278 \n",
      "                Clic5                  Cltc                 Cndp2 \n",
      "                  319                   322                   324 \n",
      "                 Ctsa                 Degs1                  Eea1 \n",
      "                  370                   405                   449 \n",
      "                 Ehd1                  Eml1                  Eps8 \n",
      "                  460                   470                   485 \n",
      "                Foxo4            Galr3;Gcat          Glul;Mir8114 \n",
      "                  567                   595                   618 \n",
      "                Gng12                Golga4                 Gstm1 \n",
      "                  629                   632                   653 \n",
      "                 Hexa             Hist1h2bc                 Lamp1 \n",
      "                  688                   698                   811 \n",
      "                  Lxn         Marc2;Mir1981                 Mfsd1 \n",
      "                  860                   871                   888 \n",
      "               Myo18a                 Pqlc2                  Psph \n",
      "                  945                  1097                  1133 \n",
      "               Rnf181                S100a1               S100a16 \n",
      "                 1186                  1223                  1226 \n",
      "               Scpep1                  Sgk1                Slc3a2 \n",
      "                 1242                  1268                  1293 \n",
      "              Slc40a1                  Snx2                  Snx3 \n",
      "                 1294                  1325                  1326 \n",
      "              Stard10                  Stx3               Tfcp2l1 \n",
      "                 1364                  1369                  1409 \n",
      "                Tpcn1                Vkorc1                Vps26a \n",
      "                 1448                  1507                  1508 \n"
     ]
    },
    {
     "name": "stderr",
     "output_type": "stream",
     "text": [
      "Gset 34\n",
      "\n"
     ]
    },
    {
     "name": "stdout",
     "output_type": "stream",
     "text": [
      "AK081204;Rragd AK144056;Tgif1          Acsl4         Dnmt3a         Dnmt3b \n",
      "            48             61            109            423            424 \n",
      "          Fgf5          Foxd3           Fzd7           Gng3         Igfbp2 \n",
      "           535            563            584            630            747 \n",
      "      KT932382          Lpar4           Otx2          Pdzd4           Phc1 \n",
      "           782            849           1004           1038           1050 \n",
      "          Pim2         Pmaip1         Rbpms2           Skil         Slc7a3 \n",
      "          1057           1083           1162           1276           1301 \n",
      "        Snhg14    Snrpn;Snurf          Socs2          Wfdc2        Zscan10 \n",
      "          1320           1324           1329           1511           1535 \n"
     ]
    },
    {
     "name": "stderr",
     "output_type": "stream",
     "text": [
      "Gset 35\n",
      "\n"
     ]
    },
    {
     "name": "stdout",
     "output_type": "stream",
     "text": [
      "AK085097;Akap2;Pakap;Palm2                        Bbx \n",
      "                        50                        223 \n",
      "                     Cgnl1                      Daam1 \n",
      "                       303                        391 \n",
      "                       Lpp                       Peg3 \n",
      "                       850                       1043 \n",
      "                      Rnd3                      Tead1 \n",
      "                      1183                       1399 \n",
      "                      Uaca \n",
      "                      1482 \n"
     ]
    },
    {
     "name": "stderr",
     "output_type": "stream",
     "text": [
      "Gset 36\n",
      "\n"
     ]
    },
    {
     "name": "stdout",
     "output_type": "stream",
     "text": [
      "AK086914    Foxq1     Fzd5     Gpc4     Irs4   Lefty1 \n",
      "      52      569      583      635      761      821 \n"
     ]
    },
    {
     "name": "stderr",
     "output_type": "stream",
     "text": [
      "Gset 37\n",
      "\n"
     ]
    },
    {
     "name": "stdout",
     "output_type": "stream",
     "text": [
      "                           AK088668                               Aldh2 \n",
      "                                 54                                 145 \n",
      "                             Alox15                                Car1 \n",
      "                                149                                 254 \n",
      "Cyb5r3;NADH-cytochrome b5 reductase                                Gzmb \n",
      "                                383                                 658 \n",
      "                               H1f0                                Hey1 \n",
      "                                660                                 689 \n",
      "                                Ipp                       Itpr3;Mir7677 \n",
      "                                757                                 775 \n",
      "                             Limch1                             Morf4l2 \n",
      "                                837                                 912 \n",
      "                             Nfkbia                                 Nmb \n",
      "                                966                                 973 \n",
      "                               Nrgn                               Olfm1 \n",
      "                                992                                1000 \n",
      "                               Plek                                Rgs2 \n",
      "                               1069                                1171 \n",
      "                              Taco1                             Tsc22d3 \n",
      "                               1378                                1463 \n"
     ]
    },
    {
     "name": "stderr",
     "output_type": "stream",
     "text": [
      "Gset 38\n",
      "\n"
     ]
    },
    {
     "name": "stdout",
     "output_type": "stream",
     "text": [
      "      AK089379;Golgb1       AK137356;Sptbn1                 Akap9 \n",
      "                   55                    58                   139 \n",
      "         Dbn1;Mir6944           Dst;Mir6896               Dync1h1 \n",
      "                  398                   437                   443 \n",
      "                 Flna              Kcnq1ot1 Meg3;Mir1906-1;Mir770 \n",
      "                  546                   783                   879 \n"
     ]
    },
    {
     "name": "stderr",
     "output_type": "stream",
     "text": [
      "Gset 39\n",
      "\n"
     ]
    },
    {
     "name": "stdout",
     "output_type": "stream",
     "text": [
      "    AK138361;Gbx2              Cdx1             Grsf1 Hotairm1;KR231010 \n",
      "               59               290               648               709 \n",
      "            Hoxa1             Hoxb1              Rbp1            Zfp703 \n",
      "              710               712              1159              1531 \n"
     ]
    },
    {
     "name": "stderr",
     "output_type": "stream",
     "text": [
      "Gset 40\n",
      "\n"
     ]
    },
    {
     "name": "stdout",
     "output_type": "stream",
     "text": [
      "       AK141794   AK154966;Glrx AK219268;Sccpdh            Car4          Cobll1 \n",
      "             60              63             100             258             328 \n",
      "           Cpn1            Ctsc            Dpp4             Emb            Gjb2 \n",
      "            345             372             428             468             611 \n",
      "        Gramd1b           Hnf1b           Itm2b            Klc4            Lcp1 \n",
      "            641             705             774             794             816 \n",
      "          Lpar1            Lrp2           Mtus1           Palm3           Pcbd1 \n",
      "            848             852             926            1012            1020 \n",
      "           Phyh           Podxl          Prss12           Rab4a         Slc16a1 \n",
      "           1055            1087            1122            1148            1279 \n",
      "        Slc39a4          Slc7a7            Stx7            Tcn2         Tmprss2 \n",
      "           1290            1302            1370            1393            1437 \n",
      "          Vamp8 \n",
      "           1498 \n"
     ]
    },
    {
     "name": "stderr",
     "output_type": "stream",
     "text": [
      "Gset 41\n",
      "\n"
     ]
    },
    {
     "name": "stdout",
     "output_type": "stream",
     "text": [
      "AK155917;AK170106;Lpl                  Chd7                Fignl2 \n",
      "                   64                   306                   543 \n",
      "                 Irx3                  Irx5 \n",
      "                  764                   765 \n"
     ]
    },
    {
     "name": "stderr",
     "output_type": "stream",
     "text": [
      "Gset 42\n",
      "\n"
     ]
    },
    {
     "name": "stdout",
     "output_type": "stream",
     "text": [
      "AK156288;Tpd52   Acsl3;Utp14b           Bst2           Cbx7        Chchd10 \n",
      "            65            108            236            263            304 \n",
      "          Dsg2           F11r         Fblim1         Gprc5a          Hdac6 \n",
      "           435            504            519            637            680 \n",
      "       Plekhf2          Rab15          Rell1          Rps4l          Soat1 \n",
      "          1071           1147           1167           1212           1327 \n",
      "        Spint1           Tjp2 \n",
      "          1348           1421 \n"
     ]
    },
    {
     "name": "stderr",
     "output_type": "stream",
     "text": [
      "Gset 43\n",
      "\n"
     ]
    },
    {
     "name": "stdout",
     "output_type": "stream",
     "text": [
      "AK158346;Snrpd2           Cox8a            Pfn1         Rpl22l1           Rpl41 \n",
      "             67             342            1046            1189            1195 \n",
      "           Rpl7           Rps11           Rps14           Rps15           Rps20 \n",
      "           1196            1201            1202            1203            1207 \n",
      "          Rps25 \n",
      "           1209 \n"
     ]
    },
    {
     "name": "stderr",
     "output_type": "stream",
     "text": [
      "Gset 44\n",
      "\n"
     ]
    },
    {
     "name": "stdout",
     "output_type": "stream",
     "text": [
      "AK158452;Cd34        Calcrl          Cd93         Cldn5         Ecscr \n",
      "           68           241           282           315           448 \n",
      "          Eng         Gng11         Gngt2         Icam2          Igf1 \n",
      "          474           628           631           732           744 \n",
      "        Lyve1          Mcam          Mrc1          Oit3          Plk2 \n",
      "          864           876           914           999          1074 \n",
      "        Plvap        Plxnd1         S1pr1         Stab1 \n",
      "         1080          1082          1231          1362 \n"
     ]
    },
    {
     "name": "stderr",
     "output_type": "stream",
     "text": [
      "Gset 45\n",
      "\n"
     ]
    },
    {
     "name": "stdout",
     "output_type": "stream",
     "text": [
      "AK161964   Crabp2      En1  Fam181b    Foxb1     Hes3    Map1b    Nr6a1 \n",
      "      73      349      472      512      560      686      870      990 \n",
      "    Pak1      Ptn     Rgma      Sp8 Tnfrsf19     Zic3 \n",
      "    1010     1139     1170     1342     1440     1533 \n"
     ]
    },
    {
     "name": "stderr",
     "output_type": "stream",
     "text": [
      "Gset 46\n",
      "\n"
     ]
    },
    {
     "name": "stdout",
     "output_type": "stream",
     "text": [
      "AK165059;Smarca2            Actn1            Efnb1            Itm2a \n",
      "              77              114              453              773 \n",
      "          Maged2            Palld           Phldb2            Plpp3 \n",
      "             867             1011             1054             1078 \n",
      "            Rhou             Sgce           Twist2            Vcam1 \n",
      "            1174             1267             1479             1500 \n",
      "           Vegfa \n",
      "            1502 \n"
     ]
    },
    {
     "name": "stderr",
     "output_type": "stream",
     "text": [
      "Gset 47\n",
      "\n"
     ]
    },
    {
     "name": "stdout",
     "output_type": "stream",
     "text": [
      "AK170612;Anxa1   Ecm1;Mir7014            Fos           Fosb          Krt14 \n",
      "            79            447            555            556            801 \n"
     ]
    },
    {
     "name": "stderr",
     "output_type": "stream",
     "text": [
      "Gset 48\n",
      "\n"
     ]
    },
    {
     "name": "stdout",
     "output_type": "stream",
     "text": [
      "AK171586;Spint2           Ap1m2            Bex1         Camsap3           Cldn6 \n",
      "             80             168             226             246             316 \n",
      "          Cldn7           Esrp1            Gldc            Grb7          Slc2a3 \n",
      "            317             495             614             643            1287 \n",
      "       Slc9a3r1 \n",
      "           1305 \n"
     ]
    },
    {
     "name": "stderr",
     "output_type": "stream",
     "text": [
      "Gset 49\n",
      "\n"
     ]
    },
    {
     "name": "stdout",
     "output_type": "stream",
     "text": [
      "AK187594;Ccnd2         Crabp1            Fn1          Fstl1          Grb10 \n",
      "            81            348            551            574            642 \n",
      "        Greb1l          H2afy         H2afy2          Hmga2           Prtg \n",
      "           645            666            667            700           1124 \n",
      "           Wls \n",
      "          1516 \n"
     ]
    },
    {
     "name": "stderr",
     "output_type": "stream",
     "text": [
      "Gset 50\n",
      "\n"
     ]
    },
    {
     "name": "stdout",
     "output_type": "stream",
     "text": [
      "AK197085;BC023829            Ifitm3            Igfbp3             Psme1 \n",
      "               83               741               748              1131 \n",
      "            Psme2             Tapbp \n",
      "             1132              1382 \n"
     ]
    },
    {
     "name": "stderr",
     "output_type": "stream",
     "text": [
      "Gset 51\n",
      "\n"
     ]
    },
    {
     "name": "stdout",
     "output_type": "stream",
     "text": [
      "AK198029;Mapkapk2              Actb              Cnn2             Csrp1 \n",
      "               84               112               326               359 \n",
      "   Mir6945;Pdlim7             Parva             Rbbp7            Slc2a1 \n",
      "              896              1015              1155              1285 \n",
      "           Tmsb4x              Tpm1              Tpm4 \n",
      "             1438              1449              1451 \n"
     ]
    },
    {
     "name": "stderr",
     "output_type": "stream",
     "text": [
      "Gset 52\n",
      "\n"
     ]
    },
    {
     "name": "stdout",
     "output_type": "stream",
     "text": [
      "AK201505;Sbk1           Aes         Ajuba         Arl4c       Col18a1 \n",
      "           85           127           134           193           329 \n",
      "       Cxcl12          Eras         Gnai2         Gsta4        Hs6st1 \n",
      "          380           487           626           652           718 \n",
      "Mir7226;Ptprf       Mtap7d3        Pcsk1n          Pls3         Sall2 \n",
      "          900           924          1026          1079          1232 \n",
      "         Sox2          Sox3         Stmn2         Syt11         Uchl1 \n",
      "         1335          1337          1367          1375          1489 \n",
      "       Zfp462 \n",
      "         1527 \n"
     ]
    },
    {
     "name": "stderr",
     "output_type": "stream",
     "text": [
      "Gset 53\n",
      "\n"
     ]
    },
    {
     "name": "stdout",
     "output_type": "stream",
     "text": [
      "AK202516;P4hb          Calr       Hsp90b1         Hspa5          Manf \n",
      "           86           244           724           725           869 \n",
      "        Pdia6 \n",
      "         1034 \n"
     ]
    },
    {
     "name": "stderr",
     "output_type": "stream",
     "text": [
      "Gset 54\n",
      "\n"
     ]
    },
    {
     "name": "stdout",
     "output_type": "stream",
     "text": [
      "AK202768;Ednrb         Col1a2         Col3a1         Col5a2            Lum \n",
      "            87            331            334            337            859 \n",
      "        Plagl1          Postn \n",
      "          1067           1090 \n"
     ]
    },
    {
     "name": "stderr",
     "output_type": "stream",
     "text": [
      "Gset 55\n",
      "\n"
     ]
    },
    {
     "name": "stdout",
     "output_type": "stream",
     "text": [
      "AK204572;Eef1a1            Npm1           Prdx2           Prmt1            Ptma \n",
      "             88             981            1101            1116            1138 \n",
      "          Rplp0           Rps18            Rps2            Rps5 \n",
      "           1197            1205            1206            1213 \n"
     ]
    },
    {
     "name": "stderr",
     "output_type": "stream",
     "text": [
      "Gset 56\n",
      "\n"
     ]
    },
    {
     "name": "stdout",
     "output_type": "stream",
     "text": [
      "AK205023;Ccnd3  Mir8108;Tacc1          Prdx3          Psat1         Ptp4a3 \n",
      "            89            901           1102           1126           1140 \n",
      "       Slc29a1            Srm        Ubash3b \n",
      "          1284           1358           1484 \n"
     ]
    },
    {
     "name": "stderr",
     "output_type": "stream",
     "text": [
      "Gset 57\n",
      "\n"
     ]
    },
    {
     "name": "stdout",
     "output_type": "stream",
     "text": [
      "    AK206280;Fbln1 AK217856;mKIAA1554   AK218069;Laptm4b               Cpa2 \n",
      "                90                 97                 99                343 \n",
      "            Dpysl5            Epb41l3              Epha4              Fgfr1 \n",
      "               433                479                483                538 \n",
      "             Gfra3              Greb1             Lhfpl2              Meis2 \n",
      "               607                644                831                881 \n",
      "              Osr1              Pcsk5             Pdzrn3             Plxna2 \n",
      "              1002               1027               1040               1081 \n",
      "             Tenm4 \n",
      "              1404 \n"
     ]
    },
    {
     "name": "stderr",
     "output_type": "stream",
     "text": [
      "Gset 58\n",
      "\n"
     ]
    },
    {
     "name": "stdout",
     "output_type": "stream",
     "text": [
      "AK207499;Cpe        Bcat1        Car14        Casp3        Cdca7        Crmp1 \n",
      "          91          224          255          260          284          355 \n",
      "         Dut        Efna5      Fam162a         Gja1      Hdgfrp3         Ldhb \n",
      "         442          452          510          609          683          818 \n",
      "      Lin28a         Ly6e         Phf6        Prps1        Sall4        Sfrp2 \n",
      "         838          863         1051         1120         1234         1265 \n",
      "      Tmem47 \n",
      "        1433 \n"
     ]
    },
    {
     "name": "stderr",
     "output_type": "stream",
     "text": [
      "Gset 59\n",
      "\n"
     ]
    },
    {
     "name": "stdout",
     "output_type": "stream",
     "text": [
      "AK215788;Sox10        Gadd45a          Nr2f1           Pax3           Sox9 \n",
      "            96            589            987           1017           1340 \n"
     ]
    },
    {
     "name": "stderr",
     "output_type": "stream",
     "text": [
      "Gset 60\n",
      "\n"
     ]
    },
    {
     "name": "stdout",
     "output_type": "stream",
     "text": [
      "AU015836    Cul4b     Esx1   Fbxo21  Gadd45b     Hat1   Klhl13  Tacstd2 \n",
      "     101      379      497      525      590      672      799     1379 \n",
      "  Tmem54     Wnt6 \n",
      "    1434     1521 \n"
     ]
    },
    {
     "name": "stderr",
     "output_type": "stream",
     "text": [
      "Gset 61\n",
      "\n"
     ]
    },
    {
     "name": "stdout",
     "output_type": "stream",
     "text": [
      "AU018091   Arpc1b    Ascl2     Gjb3     Gjb5     Irx2    Satb1   Sfmbt2 \n",
      "     102      195      198      612      613      763     1236     1262 \n",
      " Tex19.1   Tfap2c \n",
      "    1406     1408 \n"
     ]
    },
    {
     "name": "stderr",
     "output_type": "stream",
     "text": [
      "Gset 62\n",
      "\n"
     ]
    },
    {
     "name": "stdout",
     "output_type": "stream",
     "text": [
      "         Abcb10 Adgrg1;AK199844            Car2          Cited4           Gata1 \n",
      "            103             123             256             311             600 \n",
      "           Gypc            Klf1           Rbm38           Smim1            Snca \n",
      "            657             795            1157            1312            1319 \n",
      "          Zfpm1 \n",
      "           1532 \n"
     ]
    },
    {
     "name": "stderr",
     "output_type": "stream",
     "text": [
      "Gset 63\n",
      "\n"
     ]
    },
    {
     "name": "stdout",
     "output_type": "stream",
     "text": [
      "        Abcg2          Agrn          Amot  BC147413;Rdx          Bex2 \n",
      "          104           131           154           219           227 \n",
      "DQ724448;Tnks           Ddt       Fam213a          Gpc3           Id1 \n",
      "          390           403           515           634           733 \n",
      "          Id3        Mogat2        Mum1l1          Nid2           Oat \n",
      "          735           911           927           969           997 \n",
      "         Pxdn        Rnf130         Sulf2 \n",
      "         1144          1185          1371 \n"
     ]
    },
    {
     "name": "stderr",
     "output_type": "stream",
     "text": [
      "Gset 64\n",
      "\n"
     ]
    },
    {
     "name": "stdout",
     "output_type": "stream",
     "text": [
      "Ablim1;AK041356           Ap1s3           Cd24a           Ddah2           Elmo1 \n",
      "            106             169             275             401             466 \n",
      "           Fzd8            Jag1             Lbh            Lgr5           Nptx2 \n",
      "            585             778             814             829             985 \n",
      "          Pdcd4           Pkdcc           Sfrp1          Shisa2          Tspan7 \n",
      "           1029            1060            1264            1272            1469 \n"
     ]
    },
    {
     "name": "stderr",
     "output_type": "stream",
     "text": [
      "Gset 65\n",
      "\n"
     ]
    },
    {
     "name": "stdout",
     "output_type": "stream",
     "text": [
      "   Acta2    Ahnak Arhgap29    Cbln1     Ece1     Gas6      Hlx  Hsd11b2 \n",
      "     111      133      187      262      446      599      699      720 \n",
      " Lrrfip1     Myl9   Pard6b    Ptch1    Snai2   Stard8    Tagln     Tdo2 \n",
      "     858      942     1013     1134     1318     1365     1380     1398 \n",
      " Tgfb1i1  Tmem108   Tspan9    Wisp1 \n",
      "    1412     1426     1470     1515 \n"
     ]
    },
    {
     "name": "stderr",
     "output_type": "stream",
     "text": [
      "Gset 66\n",
      "\n"
     ]
    },
    {
     "name": "stdout",
     "output_type": "stream",
     "text": [
      " Ada Dio3 Olr1 \n",
      " 115  410 1001 \n"
     ]
    },
    {
     "name": "stderr",
     "output_type": "stream",
     "text": [
      "Gset 67\n",
      "\n"
     ]
    },
    {
     "name": "stdout",
     "output_type": "stream",
     "text": [
      "        Adam19          Cdh11          Chst2          Cxcr4          Dact1 \n",
      "           116            285            308            381            393 \n",
      "          Dlc1           Gas1         Lefty2           Lmo1         Maged1 \n",
      "           412            597            822            843            866 \n",
      "         Mesp2 Mir7025;Pdgfra          Pcdh7          Robo1          Smad1 \n",
      "           884            897           1023           1187           1306 \n",
      "         Snai1 \n",
      "          1317 \n"
     ]
    },
    {
     "name": "stderr",
     "output_type": "stream",
     "text": [
      "Gset 68\n",
      "\n"
     ]
    },
    {
     "name": "stdout",
     "output_type": "stream",
     "text": [
      "Adamts15;AK142774       Atn1;Grcc10              B9d1           Cntnap2 \n",
      "              118               201               215               327 \n",
      "            Dand5             Ddit4              Emp1             Gstm5 \n",
      "              395               402               471               654 \n",
      "            Larp7              Mxi1             Nodal     Prn;Prnd;Prnp \n",
      "              812               929               977              1117 \n",
      "           Scara3           Sparcl1          Tmem176b \n",
      "             1238              1345              1429 \n"
     ]
    },
    {
     "name": "stderr",
     "output_type": "stream",
     "text": [
      "Gset 69\n",
      "\n"
     ]
    },
    {
     "name": "stdout",
     "output_type": "stream",
     "text": [
      "        Add3       Adgrl2        Cadm1        Efnb2       Fam64a        Fgf18 \n",
      "         121          125          238          454          517          532 \n",
      "     Fndc3c1        Foxp1         Fzd1         Gli3       Igdcc3         Lmo4 \n",
      "         553          568          581          615          743          845 \n",
      "       Magi1 Mir5114;Scd2         Mycn        Ncam1       Pknox2        Tshz1 \n",
      "         868          891          934          955         1062         1464 \n",
      "      Zfp503 \n",
      "        1528 \n"
     ]
    },
    {
     "name": "stderr",
     "output_type": "stream",
     "text": [
      "Gset 70\n",
      "\n"
     ]
    },
    {
     "name": "stdout",
     "output_type": "stream",
     "text": [
      "          Adgrf5 Afap1l1;AK045591             Esam    Fxyd5;Mir7050 \n",
      "             122              128              494              580 \n",
      "          Kctd12           Pecam1            Procr          Tnfaip2 \n",
      "             784             1041             1118             1439 \n"
     ]
    },
    {
     "name": "stderr",
     "output_type": "stream",
     "text": [
      "Gset 71\n",
      "\n"
     ]
    },
    {
     "name": "stdout",
     "output_type": "stream",
     "text": [
      " Adgrg3  Angpt2   Clca2  Ctla2a  Ctla2b    Emcn   Fbln5 Gpihbp1   Ifi44   Inhbb \n",
      "    124     159     313     367     368     469     520     636     738     756 \n",
      "   Jam2   Mmrn2   Ramp3  Tm4sf1 \n",
      "    779     909    1152    1424 \n"
     ]
    },
    {
     "name": "stderr",
     "output_type": "stream",
     "text": [
      "Gset 72\n",
      "\n"
     ]
    },
    {
     "name": "stdout",
     "output_type": "stream",
     "text": [
      "Akr1b8 Apcdd1 Ccdc80   Cd44 Hs6st2  Igf2r  Igsf3  Itga4  Pitx2   Wnt4 \n",
      "   140    170    267    276    719    746    751    770   1059   1518 \n"
     ]
    },
    {
     "name": "stderr",
     "output_type": "stream",
     "text": [
      "Gset 73\n",
      "\n"
     ]
    },
    {
     "name": "stdout",
     "output_type": "stream",
     "text": [
      "Aldh1a2    Arg1   Foxc1   Foxc2   Meox1   Prrx2   Smoc1   Tcf15  Twist1  Wfdc21 \n",
      "    144     186     561     562     882    1121    1313    1390    1478    1512 \n"
     ]
    },
    {
     "name": "stderr",
     "output_type": "stream",
     "text": [
      "Gset 74\n",
      "\n"
     ]
    },
    {
     "name": "stdout",
     "output_type": "stream",
     "text": [
      " Aldob  Apoa2   Car7    Fgg  Fxyd2 Lgals2  Pdzk1  S100g Slc2a2   Spp2    Tdh \n",
      "   148    175    259    540    578    824   1039   1230   1286   1352   1397 \n"
     ]
    },
    {
     "name": "stderr",
     "output_type": "stream",
     "text": [
      "Gset 75\n",
      "\n"
     ]
    },
    {
     "name": "stdout",
     "output_type": "stream",
     "text": [
      "    Alpl     Apln   Arid3b   B3gnt7     Cdx2     Etv4     Lhpp      Mcc \n",
      "     150      172      191      211      291      501      832      877 \n",
      "    Nefm Prickle1   Sema6a  Tspan13 \n",
      "     961     1103     1247     1465 \n"
     ]
    },
    {
     "name": "stderr",
     "output_type": "stream",
     "text": [
      "Gset 76\n",
      "\n"
     ]
    },
    {
     "name": "stdout",
     "output_type": "stream",
     "text": [
      "    Alx1  Col23a1     Fzd2    Lrig3     Nnat     Nrep     Penk  Ppp1r1a \n",
      "     151      332      582      851      975      991     1044     1095 \n",
      "Trp53i11 \n",
      "    1460 \n"
     ]
    },
    {
     "name": "stderr",
     "output_type": "stream",
     "text": [
      "Gset 77\n",
      "\n"
     ]
    },
    {
     "name": "stdout",
     "output_type": "stream",
     "text": [
      "   Amotl2       App       Clu     Crip1     Cyr61      Egr1      Fhl1     Flrt3 \n",
      "      155       182       323       353       387       458       541       548 \n",
      "   Gprc5c     Itga3   Ngfrap1     Pvrl2    Rassf3 Serpinb6a     Thbs1   Tsc22d1 \n",
      "      638       769       967      1143      1154      1253      1416      1462 \n",
      "   Tubb2a      Wbp5 \n",
      "     1475      1509 \n"
     ]
    },
    {
     "name": "stderr",
     "output_type": "stream",
     "text": [
      "Gset 78\n",
      "\n"
     ]
    },
    {
     "name": "stdout",
     "output_type": "stream",
     "text": [
      "   Amph    Asb4  B3gnt5 B4galt6   Bambi    Bmp7    Cfc1    Crb2   Gfpt2    Has2 \n",
      "    157     197     210     214     220     233     302     350     606     671 \n",
      "   Hes1    Isl1     Lbr  Pcdh18 Rps6ka6  Slc6a6   Tgfb2    Tln2  Zfp516 \n",
      "    685     767     815    1021    1214    1299    1413    1423    1529 \n"
     ]
    },
    {
     "name": "stderr",
     "output_type": "stream",
     "text": [
      "Gset 79\n",
      "\n"
     ]
    },
    {
     "name": "stdout",
     "output_type": "stream",
     "text": [
      "  Anxa6 Creb3l1  Glipr2    Jdp2    P3h1    P3h4    Rcn3   Timp2 \n",
      "    165     352     616     781    1006    1007    1164    1418 \n"
     ]
    },
    {
     "name": "stderr",
     "output_type": "stream",
     "text": [
      "Gset 80\n",
      "\n"
     ]
    },
    {
     "name": "stdout",
     "output_type": "stream",
     "text": [
      "Apela   Cpm Foxa1  Kitl  Nepn   Trh \n",
      "  171   344   558   793   963  1457 \n"
     ]
    },
    {
     "name": "stderr",
     "output_type": "stream",
     "text": [
      "Gset 81\n",
      "\n"
     ]
    },
    {
     "name": "stdout",
     "output_type": "stream",
     "text": [
      "Arap3;Mir6980;Mir6981                 Crip2                 Dusp2 \n",
      "                  185                   354                   438 \n",
      "                Egfl7                  Elk3                  Ets1 \n",
      "                  456                   465                   498 \n",
      "                 Fli1                  Flt4                Hapln1 \n",
      "                  545                   549                   670 \n",
      "        Izumo1;Rasip1                  Rhoj                 Sox18 \n",
      "                  776                  1173                  1334 \n",
      "                  Tek               Tspan18 \n",
      "                 1402                  1466 \n"
     ]
    },
    {
     "name": "stderr",
     "output_type": "stream",
     "text": [
      "Gset 82\n",
      "\n"
     ]
    },
    {
     "name": "stdout",
     "output_type": "stream",
     "text": [
      "Arid3a  Cebpb    Dsp   Elf3  Ero1l Fgfbp1  Hbegf  N4bp2  Nabp1  Ndrg1 Ralbp1 \n",
      "   190    295    436    463    490    537    679    948    949    958   1150 \n",
      "Zbtb10 \n",
      "  1525 \n"
     ]
    },
    {
     "name": "stderr",
     "output_type": "stream",
     "text": [
      "Gset 83\n",
      "\n"
     ]
    },
    {
     "name": "stdout",
     "output_type": "stream",
     "text": [
      "   Arl4a    Bicc1    Calca    Capsl   Ccdc40     Ccno  Ccpg1os     Chrd \n",
      "     192      228      239      253      266      273      274      307 \n",
      "  Cthrc1   Cyb561  Dnajc12    Epha2     Iqcg   Lrrc46   Lrrc56     Mlf1 \n",
      "     366      382      420      482      758      855      857      905 \n",
      "   Samd3      Shh    Spa17 Tctex1d1  Tmem107  Zcchc18 \n",
      "    1235     1271     1343     1395     1425     1526 \n"
     ]
    },
    {
     "name": "stderr",
     "output_type": "stream",
     "text": [
      "Gset 84\n",
      "\n"
     ]
    },
    {
     "name": "stdout",
     "output_type": "stream",
     "text": [
      "Arl6ip1   Ccnb1   Cenpe   Cenpf    Hmmr  Kif20b   Mki67    Prc1    Smc4   Top2a \n",
      "    194     269     296     297     703     792     903    1099    1310    1447 \n",
      "  Ube2c \n",
      "   1487 \n"
     ]
    },
    {
     "name": "stderr",
     "output_type": "stream",
     "text": [
      "Gset 85\n",
      "\n"
     ]
    },
    {
     "name": "stdout",
     "output_type": "stream",
     "text": [
      "       Atf3       Clic1       Dusp3     Fam107b Ramp2;Vps25      Scarb1 \n",
      "        200         318         439         509        1151        1239 \n",
      "      Sipa1       Txnip        Vat1 \n",
      "       1274        1481        1499 \n"
     ]
    },
    {
     "name": "stderr",
     "output_type": "stream",
     "text": [
      "Gset 86\n",
      "\n"
     ]
    },
    {
     "name": "stdout",
     "output_type": "stream",
     "text": [
      "Atp1b1   Ctsb   Ctsl   Ctsz  Ifi30   Neu1    Nrk Tmem37 \n",
      "   202    371    376    377    737    964    994   1431 \n"
     ]
    },
    {
     "name": "stderr",
     "output_type": "stream",
     "text": [
      "Gset 87\n",
      "\n"
     ]
    },
    {
     "name": "stdout",
     "output_type": "stream",
     "text": [
      "   Atp5j    Cox7b    Cox7c Hsp90aa1     Naca    Rpl23    Rpl38   Rps27l \n",
      "     203      340      341      722      950     1190     1193     1211 \n"
     ]
    },
    {
     "name": "stderr",
     "output_type": "stream",
     "text": [
      "Gset 88\n",
      "\n"
     ]
    },
    {
     "name": "stdout",
     "output_type": "stream",
     "text": [
      "    B2m;BC002288 H2-D1;H2-L;H2-Q1            H2-K1            Ifit3 \n",
      "             209              662              663              739 \n",
      "          Igfbp7             Irf7            Isg15         Lgals3bp \n",
      "             750              760              766              826 \n",
      "         Prkcdbp             Ptrf            Rsad2          Tnfrsf9 \n",
      "            1105             1141             1218             1442 \n"
     ]
    },
    {
     "name": "stderr",
     "output_type": "stream",
     "text": [
      "Gset 89\n",
      "\n"
     ]
    },
    {
     "name": "stdout",
     "output_type": "stream",
     "text": [
      "      B4galt1          Calu          Cst3          Ctsd        Dnajc3 \n",
      "          212           245           362           373           421 \n",
      "        Erp29         Fkbp9        Kdelr2          Lifr Loxl2;Mir6950 \n",
      "          491           544           787           835           847 \n",
      "          Oaf         Pdia3       Ppfibp2          Rcn1         Reep5 \n",
      "          996          1032          1093          1163          1165 \n",
      "        Rpph1         Rrbp1         Serp1          Ssr3         Surf4 \n",
      "         1199          1216          1252          1360          1372 \n",
      "         Tfpi        Tgfbr3       Tmem263          Vimp          Xbp1 \n",
      "         1410          1414          1430          1506          1524 \n"
     ]
    },
    {
     "name": "stderr",
     "output_type": "stream",
     "text": [
      "Gset 90\n",
      "\n"
     ]
    },
    {
     "name": "stdout",
     "output_type": "stream",
     "text": [
      "BC039192;Igfbp5            Cdh6          Col2a1            Pax9             Pyy \n",
      "            217             287             333            1018            1145 \n"
     ]
    },
    {
     "name": "stderr",
     "output_type": "stream",
     "text": [
      "Gset 91\n",
      "\n"
     ]
    },
    {
     "name": "stdout",
     "output_type": "stream",
     "text": [
      "   Bmp2    Etv2 Gadd45g    Gja4    Hhex     Kdr \n",
      "    231     500     591     610     690     790 \n"
     ]
    },
    {
     "name": "stderr",
     "output_type": "stream",
     "text": [
      "Gset 92\n",
      "\n"
     ]
    },
    {
     "name": "stdout",
     "output_type": "stream",
     "text": [
      "   Bmper    Ckap4   Col4a1   Col4a2    Gata4    Gata6    Lamb1   Lrpap1 \n",
      "     235      312      335      336      603      604      809      853 \n",
      "   P4ha1     Pdpn     Pga5    Pth1r Serpinh1    Sparc \n",
      "    1008     1037     1048     1137     1261     1344 \n"
     ]
    },
    {
     "name": "stderr",
     "output_type": "stream",
     "text": [
      "Gset 93\n",
      "\n"
     ]
    },
    {
     "name": "stdout",
     "output_type": "stream",
     "text": [
      "C430049B03Rik;Mir322;Mir351;Mir503                              Calm1 \n",
      "                               237                                243 \n",
      "                             Capn2                             Capns1 \n",
      "                               250                                252 \n",
      "                    Fam65a;Mir1966                             Fermt2 \n",
      "                               518                                529 \n",
      "                              Fhl2                             Fndc3b \n",
      "                               542                                552 \n",
      "                             Itgb1                               Myh9 \n",
      "                               771                                937 \n",
      "                              Pkp2                              Sept9 \n",
      "                              1063                               1250 \n",
      "                           Slc44a2                               Tln1 \n",
      "                              1295                               1422 \n",
      "                             Trim8                             Tspan4 \n",
      "                              1459                               1467 \n",
      "                     Uba52;Ubb;Ubc                               Ugp2 \n",
      "                              1483                               1491 \n"
     ]
    },
    {
     "name": "stderr",
     "output_type": "stream",
     "text": [
      "Gset 94\n",
      "\n"
     ]
    },
    {
     "name": "stdout",
     "output_type": "stream",
     "text": [
      "Calcoco2    Dppa3   Dppa5a     Fbp2   Fbxo15    Khdc3   Rpl39l     Spp1 \n",
      "     240      429      430      522      524      791     1194     1351 \n"
     ]
    },
    {
     "name": "stderr",
     "output_type": "stream",
     "text": [
      "Gset 95\n",
      "\n"
     ]
    },
    {
     "name": "stdout",
     "output_type": "stream",
     "text": [
      "Cbfa2t3     F2r Fam212a    Lmo2   Nrip3 Prkar2b    Reln   Runx1    Tal1 \n",
      "    261     505     514     844     993    1104    1168    1222    1381 \n"
     ]
    },
    {
     "name": "stderr",
     "output_type": "stream",
     "text": [
      "Gset 96\n",
      "\n"
     ]
    },
    {
     "name": "stdout",
     "output_type": "stream",
     "text": [
      " Ccne1  Ddx21   Gse1   Hdgf Isyna1   Msh6   Rrm2   Tfrc    Ung \n",
      "   271    404    650    682    768    917   1217   1411   1494 \n"
     ]
    },
    {
     "name": "stderr",
     "output_type": "stream",
     "text": [
      "Gset 97\n",
      "\n"
     ]
    },
    {
     "name": "stdout",
     "output_type": "stream",
     "text": [
      "    Ccng1    Cdkn1a Trp53inp1 \n",
      "      272       288      1461 \n"
     ]
    },
    {
     "name": "stderr",
     "output_type": "stream",
     "text": [
      "Gset 98\n",
      "\n"
     ]
    },
    {
     "name": "stdout",
     "output_type": "stream",
     "text": [
      "  Cd59a    Fth1  Phlda1  Rab11a Slc39a8 \n",
      "    277     576    1052    1146    1292 \n"
     ]
    },
    {
     "name": "stderr",
     "output_type": "stream",
     "text": [
      "Gset 99\n",
      "\n"
     ]
    },
    {
     "name": "stdout",
     "output_type": "stream",
     "text": [
      "Cdc42ep4   Cited2     Fgf3     Mns1  Serinc3 Sh3bgrl3   Smtnl2 \n",
      "     283      310      533      910     1251     1270     1315 \n"
     ]
    },
    {
     "name": "stderr",
     "output_type": "stream",
     "text": [
      "Gset 100\n",
      "\n"
     ]
    },
    {
     "name": "stdout",
     "output_type": "stream",
     "text": [
      " Cer1  Dgkk  Dkk1 Foxa2 Sox17 \n",
      "  298   409   411   559  1333 \n"
     ]
    },
    {
     "name": "stderr",
     "output_type": "stream",
     "text": [
      "Gset 101\n",
      "\n"
     ]
    },
    {
     "name": "stdout",
     "output_type": "stream",
     "text": [
      "Cyfip2   Npnt  Pdgfa Tfap2a \n",
      "   384    982   1031   1407 \n"
     ]
    },
    {
     "name": "stderr",
     "output_type": "stream",
     "text": [
      "Gset 102\n",
      "\n"
     ]
    },
    {
     "name": "stdout",
     "output_type": "stream",
     "text": [
      "Cyp11a1  Hsd3b6    Star \n",
      "    385     721    1363 \n"
     ]
    },
    {
     "name": "stderr",
     "output_type": "stream",
     "text": [
      "Gset 103\n",
      "\n"
     ]
    },
    {
     "name": "stdout",
     "output_type": "stream",
     "text": [
      "Cyp26a1   Eomes     Gsc    Lhx1   Mesp1   Mixl1   Tdgf1 \n",
      "    386     477     649     833     883     902    1396 \n"
     ]
    },
    {
     "name": "stderr",
     "output_type": "stream",
     "text": [
      "Gset 104\n",
      "\n"
     ]
    },
    {
     "name": "stdout",
     "output_type": "stream",
     "text": [
      "     Dek Hsp90ab1     Nasp      Ncl    Psip1 \n",
      "     406      723      952      956     1129 \n"
     ]
    },
    {
     "name": "stderr",
     "output_type": "stream",
     "text": [
      "Gset 105\n",
      "\n"
     ]
    },
    {
     "name": "stdout",
     "output_type": "stream",
     "text": [
      "Dock11   Frzb    Fst  Sall3    Sp5      T \n",
      "   426    571    573   1233   1341   1376 \n"
     ]
    },
    {
     "name": "stderr",
     "output_type": "stream",
     "text": [
      "Gset 106\n",
      "\n"
     ]
    },
    {
     "name": "stdout",
     "output_type": "stream",
     "text": [
      "   Egr2 Ppp1r1b \n",
      "    459    1096 \n"
     ]
    },
    {
     "name": "stderr",
     "output_type": "stream",
     "text": [
      "Gset 107\n",
      "\n"
     ]
    },
    {
     "name": "stdout",
     "output_type": "stream",
     "text": [
      " Fgf8 Nanog  Nefl \n",
      "  536   951   960 \n"
     ]
    },
    {
     "name": "stderr",
     "output_type": "stream",
     "text": [
      "Gset 108\n",
      "\n"
     ]
    },
    {
     "name": "stdout",
     "output_type": "stream",
     "text": [
      "Foxd4 Hesx1  Six3 \n",
      "  564   687  1275 \n"
     ]
    },
    {
     "name": "stderr",
     "output_type": "stream",
     "text": [
      "Gset 109\n",
      "\n"
     ]
    },
    {
     "name": "stdout",
     "output_type": "stream",
     "text": [
      "  Foxf1   Hand1    Msx1    Msx2  Phlda2    Ppic   Prdm6 Slc38a4   Smad6    Tbx3 \n",
      "    565     668     920     921    1053    1094    1100    1288    1307    1385 \n"
     ]
    },
    {
     "name": "stderr",
     "output_type": "stream",
     "text": [
      "Gset 110\n",
      "\n"
     ]
    },
    {
     "name": "stdout",
     "output_type": "stream",
     "text": [
      "          Gas5  Gm25500;Taf1d          Snhg3 Snhg4;Snora74a          Snhg5 \n",
      "           598            623           1321           1322           1323 \n"
     ]
    },
    {
     "name": "stderr",
     "output_type": "stream",
     "text": [
      "Gset 111\n",
      "\n"
     ]
    },
    {
     "name": "stdout",
     "output_type": "stream",
     "text": [
      "      Gm12338 Gm15772;Rpl26        Gm1821         Hspa8     Rpl14-ps1 \n",
      "          619           620           622           726          1188 \n",
      "   Rps15a-ps6          Rpsa           Ubb \n",
      "         1204          1215          1485 \n"
     ]
    },
    {
     "name": "stderr",
     "output_type": "stream",
     "text": [
      "Gset 112\n",
      "\n"
     ]
    },
    {
     "name": "stdout",
     "output_type": "stream",
     "text": [
      "H19;Mir675       Igf2       Klf6      Krt18       Krt8      Pcgf5      Peg10 \n",
      "       659        745        798        802        805       1025       1042 \n",
      "      Polg    S100a10    Slc25a4 \n",
      "      1088       1224       1283 \n"
     ]
    },
    {
     "name": "stderr",
     "output_type": "stream",
     "text": [
      "Gset 113\n",
      "\n"
     ]
    },
    {
     "name": "stdout",
     "output_type": "stream",
     "text": [
      " Hist1h1a  Hist1h1b  Hist1h1c  Hist1h1d  Hist1h1e Hist1h2ae \n",
      "      692       693       694       695       696       697 \n"
     ]
    },
    {
     "name": "stderr",
     "output_type": "stream",
     "text": [
      "Gset 114\n",
      "\n"
     ]
    },
    {
     "name": "stdout",
     "output_type": "stream",
     "text": [
      " Hoxa10   Pitx1 Suv39h1    Tbx4 \n",
      "    711    1058    1373    1386 \n"
     ]
    },
    {
     "name": "stderr",
     "output_type": "stream",
     "text": [
      "Gset 115\n",
      "\n"
     ]
    },
    {
     "name": "stdout",
     "output_type": "stream",
     "text": [
      "        Hspe1 Mir7079;Rpl13         Rpl32         Rps26 \n",
      "          729           899          1191          1210 \n"
     ]
    },
    {
     "name": "stderr",
     "output_type": "stream",
     "text": [
      "Gset 116\n",
      "\n"
     ]
    },
    {
     "name": "stdout",
     "output_type": "stream",
     "text": [
      "  Ier3 Prl2a1 Prl4a1 \n",
      "   736   1107   1110 \n"
     ]
    },
    {
     "name": "stderr",
     "output_type": "stream",
     "text": [
      "Gset 117\n",
      "\n"
     ]
    },
    {
     "name": "stdout",
     "output_type": "stream",
     "text": [
      " Ldha   Pkm Rplp1 Tubb5 \n",
      "  817  1061  1198  1476 \n"
     ]
    },
    {
     "name": "stderr",
     "output_type": "stream",
     "text": [
      "Gset 118\n",
      "\n"
     ]
    },
    {
     "name": "stdout",
     "output_type": "stream",
     "text": [
      "  Mmp9   Pfpl Prl3d1 Prl3d3 Prl5a1 Prl7a1   Scin \n",
      "   908   1047   1108   1109   1111   1113   1241 \n"
     ]
    },
    {
     "name": "stderr",
     "output_type": "stream",
     "text": [
      "Gset 119\n",
      "\n"
     ]
    },
    {
     "name": "stdout",
     "output_type": "stream",
     "text": [
      "  Pcdh8 Ripply2 \n",
      "   1024    1180 \n"
     ]
    },
    {
     "name": "stderr",
     "output_type": "stream",
     "text": [
      "Gset 120\n",
      "\n"
     ]
    },
    {
     "name": "stdout",
     "output_type": "stream",
     "text": [
      "Pramef12    Rhox6    Rhox9 \n",
      "    1098     1176     1177 \n"
     ]
    }
   ],
   "source": [
    "gset = scdb_gset(gset_id)\n",
    "ids = unique(gset@gene_set)\n",
    "if(1) {\n",
    "  for(i in ids) {\n",
    "    message(\"Gset \", i)\n",
    "    print(which(gset@gene_set == i))\n",
    "  }\n",
    "}"
   ]
  },
  {
   "cell_type": "code",
   "execution_count": 15,
   "id": "be1d5d6d",
   "metadata": {
    "scrolled": false
   },
   "outputs": [
    {
     "name": "stderr",
     "output_type": "stream",
     "text": [
      "Stress containung gset 17\n",
      "\n"
     ]
    },
    {
     "name": "stdout",
     "output_type": "stream",
     "text": [
      "    AK011205        Aplnr       Igfbp4         Lhfp Mir5129;Zeb2 Mrps6;Slc5a3 \n",
      "          17           17           17           17           17           17 \n",
      "       Rbms1 \n",
      "          17 \n"
     ]
    },
    {
     "name": "stderr",
     "output_type": "stream",
     "text": [
      "Stress containung gset 87\n",
      "\n"
     ]
    },
    {
     "name": "stdout",
     "output_type": "stream",
     "text": [
      "   Atp5j    Cox7b    Cox7c Hsp90aa1     Naca    Rpl23    Rpl38   Rps27l \n",
      "      87       87       87       87       87       87       87       87 \n"
     ]
    },
    {
     "name": "stderr",
     "output_type": "stream",
     "text": [
      "Stress containung gset 104\n",
      "\n"
     ]
    },
    {
     "name": "stdout",
     "output_type": "stream",
     "text": [
      "     Dek Hsp90ab1     Nasp      Ncl    Psip1 \n",
      "     104      104      104      104      104 \n"
     ]
    },
    {
     "name": "stderr",
     "output_type": "stream",
     "text": [
      "Stress containung gset 53\n",
      "\n"
     ]
    },
    {
     "name": "stdout",
     "output_type": "stream",
     "text": [
      "AK202516;P4hb          Calr       Hsp90b1         Hspa5          Manf \n",
      "           53            53            53            53            53 \n",
      "        Pdia6 \n",
      "           53 \n"
     ]
    },
    {
     "name": "stderr",
     "output_type": "stream",
     "text": [
      "Stress containung gset 111\n",
      "\n"
     ]
    },
    {
     "name": "stdout",
     "output_type": "stream",
     "text": [
      "      Gm12338 Gm15772;Rpl26        Gm1821         Hspa8     Rpl14-ps1 \n",
      "          111           111           111           111           111 \n",
      "   Rps15a-ps6          Rpsa           Ubb \n",
      "          111           111           111 \n"
     ]
    },
    {
     "name": "stderr",
     "output_type": "stream",
     "text": [
      "Stress containung gset 9\n",
      "\n"
     ]
    },
    {
     "name": "stdout",
     "output_type": "stream",
     "text": [
      "  3830417A13Rik             Adm           Anxa2           Cald1            Capg \n",
      "              9               9               9               9               9 \n",
      "           Cdh5          Cdkn1c        Dnase1l3          Entpd1          Eps8l2 \n",
      "              9               9               9               9               9 \n",
      "          Fosl1           Fstl3         Fthl17a           Gata2           Gata3 \n",
      "              9               9               9               9               9 \n",
      "         Gatsl3           Hmox1           Hspb1           Hspb8 IkappaB-zeta;Nf \n",
      "              9               9               9               9               9 \n",
      "          Itgb3           Krt19            Krt7           Ldoc1          Lgals1 \n",
      "              9               9               9               9               9 \n",
      "           Lipg           Myadm           Plac1           Plac8           Plet1 \n",
      "              9               9               9               9               9 \n",
      "          Ppard            Rgcc          S100a6       Serpinb6b        Serpinb9 \n",
      "              9               9               9               9               9 \n",
      "            Sfn             Spn \n",
      "              9               9 \n"
     ]
    },
    {
     "name": "stderr",
     "output_type": "stream",
     "text": [
      "Stress containung gset 115\n",
      "\n"
     ]
    },
    {
     "name": "stdout",
     "output_type": "stream",
     "text": [
      "        Hspe1 Mir7079;Rpl13         Rpl32         Rps26 \n",
      "          115           115           115           115 \n"
     ]
    },
    {
     "name": "stderr",
     "output_type": "stream",
     "text": [
      "Stress containung gset 24\n",
      "\n"
     ]
    },
    {
     "name": "stdout",
     "output_type": "stream",
     "text": [
      "AK033756;Rab3il   AK164737;Ell2            Alad            Cpox Csf2rb;Mir7676- \n",
      "             24              24              24              24              24 \n",
      "           Fech           Glrx5            Gpx1          Hbb-b2           Mbnl1 \n",
      "             24              24              24              24              24 \n",
      "           Pnpo          Psmb10         Slc14a1            Smox           Spns2 \n",
      "             24              24              24              24              24 \n",
      "         Ssx2ip         Tmem14c \n",
      "             24              24 \n"
     ]
    }
   ],
   "source": [
    "mrps = grep(\"^Mrp\", names(gset@gene_set),v=T)\n",
    "hsps = grep(\"^Hsp\", names(gset@gene_set),v=T)\n",
    "nduf = grep(\"^Nduf\", names(gset@gene_set),v=T)\n",
    "nduf = grep(\"^Psmb\", names(gset@gene_set),v=T)\n",
    "#stress_ids = setdiff(unique(gset@gene_set[c(mrps, hsps, nduf)]), ids)\n",
    "stress_ids = unique(gset@gene_set[c(mrps, hsps, nduf)])\n",
    "for(i in stress_ids) {\n",
    "    message(\"Stress containung gset \", i)\n",
    "    nms_f = gset@gene_set[gset@gene_set == i]\n",
    "    names(nms_f) = substr(names(nms_f),start = 1,stop = 15)\n",
    "    print(nms_f)\n",
    "}\n",
    "ids = c(stress_ids)"
   ]
  },
  {
   "cell_type": "code",
   "execution_count": 16,
   "id": "9b682167",
   "metadata": {},
   "outputs": [
    {
     "name": "stderr",
     "output_type": "stream",
     "text": [
      "CC containung gset 84\n",
      "\n"
     ]
    },
    {
     "name": "stdout",
     "output_type": "stream",
     "text": [
      "Arl6ip1   Ccnb1   Cenpe   Cenpf    Hmmr  Kif20b   Mki67    Prc1    Smc4   Top2a \n",
      "    194     269     296     297     703     792     903    1099    1310    1447 \n",
      "  Ube2c \n",
      "   1487 \n"
     ]
    },
    {
     "name": "stderr",
     "output_type": "stream",
     "text": [
      "CC containung gset NA\n",
      "\n"
     ]
    },
    {
     "name": "stdout",
     "output_type": "stream",
     "text": [
      "named integer(0)\n"
     ]
    },
    {
     "name": "stderr",
     "output_type": "stream",
     "text": [
      "CC containung gset 113\n",
      "\n"
     ]
    },
    {
     "name": "stdout",
     "output_type": "stream",
     "text": [
      " Hist1h1a  Hist1h1b  Hist1h1c  Hist1h1d  Hist1h1e Hist1h2ae \n",
      "      692       693       694       695       696       697 \n"
     ]
    }
   ],
   "source": [
    "cc_anchors = c(\"Top2a\", \"Ube2c\", \"Pcna\", \"Mki67\", \"Cenpf\",\"Hist1h1a\", \"Hist1h1b\")\n",
    "cc_ids = setdiff(unique(gset@gene_set[cc_anchors]), ids)\n",
    "\n",
    "for(i in cc_ids) {\n",
    "\tmessage(\"CC containung gset \", i)\n",
    "\tprint(which(gset@gene_set == i))\n",
    "}\n",
    "\n",
    "ids = c(ids,cc_ids)"
   ]
  },
  {
   "cell_type": "code",
   "execution_count": 17,
   "id": "324a7051",
   "metadata": {
    "scrolled": false
   },
   "outputs": [
    {
     "name": "stderr",
     "output_type": "stream",
     "text": [
      "Containing RPs:\n",
      "\n",
      "Rp containung gset 43\n",
      "\n"
     ]
    },
    {
     "name": "stdout",
     "output_type": "stream",
     "text": [
      "AK158346;Snrpd2           Cox8a            Pfn1         Rpl22l1           Rpl41 \n",
      "             67             342            1046            1189            1195 \n",
      "           Rpl7           Rps11           Rps14           Rps15           Rps20 \n",
      "           1196            1201            1202            1203            1207 \n",
      "          Rps25 \n",
      "           1209 \n"
     ]
    },
    {
     "name": "stderr",
     "output_type": "stream",
     "text": [
      "Rp containung gset 14\n",
      "\n"
     ]
    },
    {
     "name": "stdout",
     "output_type": "stream",
     "text": [
      "AA465934;AI450353   AK196308;Tuba1b             Aldoa              Cap1 \n",
      "               22                82               147               247 \n",
      "            Eif5a             Pttg1             Rpl37             Rps10 \n",
      "              461              1142              1192              1200 \n",
      "            Rps21           Slc16a3 \n",
      "             1208              1280 \n"
     ]
    },
    {
     "name": "stderr",
     "output_type": "stream",
     "text": [
      "Rp containung gset 94\n",
      "\n"
     ]
    },
    {
     "name": "stdout",
     "output_type": "stream",
     "text": [
      "Calcoco2    Dppa3   Dppa5a     Fbp2   Fbxo15    Khdc3   Rpl39l     Spp1 \n",
      "     240      429      430      522      524      791     1194     1351 \n"
     ]
    },
    {
     "name": "stderr",
     "output_type": "stream",
     "text": [
      "Rp containung gset 55\n",
      "\n"
     ]
    },
    {
     "name": "stdout",
     "output_type": "stream",
     "text": [
      "AK204572;Eef1a1            Npm1           Prdx2           Prmt1            Ptma \n",
      "             88             981            1101            1116            1138 \n",
      "          Rplp0           Rps18            Rps2            Rps5 \n",
      "           1197            1205            1206            1213 \n"
     ]
    },
    {
     "name": "stderr",
     "output_type": "stream",
     "text": [
      "Rp containung gset 117\n",
      "\n"
     ]
    },
    {
     "name": "stdout",
     "output_type": "stream",
     "text": [
      " Ldha   Pkm Rplp1 Tubb5 \n",
      "  817  1061  1198  1476 \n"
     ]
    },
    {
     "name": "stderr",
     "output_type": "stream",
     "text": [
      "Rp containung gset 42\n",
      "\n"
     ]
    },
    {
     "name": "stdout",
     "output_type": "stream",
     "text": [
      "AK156288;Tpd52   Acsl3;Utp14b           Bst2           Cbx7        Chchd10 \n",
      "            65            108            236            263            304 \n",
      "          Dsg2           F11r         Fblim1         Gprc5a          Hdac6 \n",
      "           435            504            519            637            680 \n",
      "       Plekhf2          Rab15          Rell1          Rps4l          Soat1 \n",
      "          1071           1147           1167           1212           1327 \n",
      "        Spint1           Tjp2 \n",
      "          1348           1421 \n"
     ]
    },
    {
     "name": "stderr",
     "output_type": "stream",
     "text": [
      "Rp containung gset 78\n",
      "\n"
     ]
    },
    {
     "name": "stdout",
     "output_type": "stream",
     "text": [
      "   Amph    Asb4  B3gnt5 B4galt6   Bambi    Bmp7    Cfc1    Crb2   Gfpt2    Has2 \n",
      "    157     197     210     214     220     233     302     350     606     671 \n",
      "   Hes1    Isl1     Lbr  Pcdh18 Rps6ka6  Slc6a6   Tgfb2    Tln2  Zfp516 \n",
      "    685     767     815    1021    1214    1299    1413    1423    1529 \n"
     ]
    }
   ],
   "source": [
    "message(\"Containing RPs:\")\n",
    "rps = grep(\"^Rp[l|s]\", names(gset@gene_set),v=T)\n",
    "#rp_ids = setdiff(unique(gset@gene_set[rps]), ids)\n",
    "rp_ids = setdiff(unique(gset@gene_set[rps]),ids)\n",
    "ids = c(rp_ids,ids)\n",
    "for(i in rp_ids) {\n",
    "  message(\"Rp containung gset \", i)\n",
    "  print(which(gset@gene_set == i))\n",
    "}"
   ]
  },
  {
   "cell_type": "code",
   "execution_count": 18,
   "id": "c32efbfa",
   "metadata": {
    "scrolled": false
   },
   "outputs": [
    {
     "name": "stderr",
     "output_type": "stream",
     "text": [
      "old batch genes\n",
      "\n"
     ]
    },
    {
     "name": "stdout",
     "output_type": "stream",
     "text": [
      "\n",
      " 20  89  43  84  55  96  13  14  16  53 113 104 110   9  93 117  58  87 111  10 \n",
      " 13  11  10  10   7   7   6   6   6   6   6   5   5   4   4   4   3   3   3   2 \n",
      "115 \n",
      "  2 \n"
     ]
    },
    {
     "name": "stderr",
     "output_type": "stream",
     "text": [
      "Containing old batchy genes containing gset 20\n",
      "\n"
     ]
    },
    {
     "name": "stdout",
     "output_type": "stream",
     "text": [
      "AK021383;Prrc2c  AK087340;Eif3a  AK165270;Rbm25         Ankrd11            Atrx \n",
      "             29              53              78             161             207 \n",
      "   Chd4;Mir7045           Eif5b           Kmt2a         Mir6236         Prpf40a \n",
      "            305             462             800             893            1119 \n",
      "          Rn45s             Son           Srrm2            Top1             Tpr \n",
      "           1182            1330            1359            1446            1453 \n"
     ]
    },
    {
     "name": "stderr",
     "output_type": "stream",
     "text": [
      "Containing old batchy genes containing gset 89\n",
      "\n"
     ]
    },
    {
     "name": "stdout",
     "output_type": "stream",
     "text": [
      "      B4galt1          Calu          Cst3          Ctsd        Dnajc3 \n",
      "          212           245           362           373           421 \n",
      "        Erp29         Fkbp9        Kdelr2          Lifr Loxl2;Mir6950 \n",
      "          491           544           787           835           847 \n",
      "          Oaf         Pdia3       Ppfibp2          Rcn1         Reep5 \n",
      "          996          1032          1093          1163          1165 \n",
      "        Rpph1         Rrbp1         Serp1          Ssr3         Surf4 \n",
      "         1199          1216          1252          1360          1372 \n",
      "         Tfpi        Tgfbr3       Tmem263          Vimp          Xbp1 \n",
      "         1410          1414          1430          1506          1524 \n"
     ]
    },
    {
     "name": "stderr",
     "output_type": "stream",
     "text": [
      "Containing old batchy genes containing gset 96\n",
      "\n"
     ]
    },
    {
     "name": "stdout",
     "output_type": "stream",
     "text": [
      " Ccne1  Ddx21   Gse1   Hdgf Isyna1   Msh6   Rrm2   Tfrc    Ung \n",
      "   271    404    650    682    768    917   1217   1411   1494 \n"
     ]
    },
    {
     "name": "stderr",
     "output_type": "stream",
     "text": [
      "Containing old batchy genes containing gset 13\n",
      "\n"
     ]
    },
    {
     "name": "stdout",
     "output_type": "stream",
     "text": [
      "    A2m Ccdc155    Dmkn    Erv3   Il1r2    Ly6a   Ly6c1  S100a4  S100a8 Slc6a12 \n",
      "     21     264     416     493     754     861     862    1227    1229    1297 \n",
      "   Tac2 \n",
      "   1377 \n"
     ]
    },
    {
     "name": "stderr",
     "output_type": "stream",
     "text": [
      "Containing old batchy genes containing gset 16\n",
      "\n"
     ]
    },
    {
     "name": "stdout",
     "output_type": "stream",
     "text": [
      "AF465519;Tagln2   AK043676;Pfkp    Akt1;Mir6939   Anxa5;Mir7009           Anxa7 \n",
      "             24              42             141             164             166 \n",
      "           Asns           Baz1a            Bcor          Ctdspl            Dag1 \n",
      "            199             222             225             364             394 \n",
      "          Dusp9           Efhd2          Errfi1            Ets2   Fbxo6;Mir7022 \n",
      "            441             451             492             499             526 \n",
      "           Hic2            Klf2           Lasp1           Litaf           Mbnl2 \n",
      "            691             796             813             840             874 \n",
      "            Myc           Myo1c            Nek6         Plekha2            Plk3 \n",
      "            933             946             962            1070            1075 \n",
      "           Rlim        Serpine1           Smad7          Syngr1           Tbrg1 \n",
      "           1181            1259            1308            1374            1383 \n",
      "          Tead4           Tubb6           Ube2a \n",
      "           1401            1477            1486 \n"
     ]
    },
    {
     "name": "stderr",
     "output_type": "stream",
     "text": [
      "Containing old batchy genes containing gset 110\n",
      "\n"
     ]
    },
    {
     "name": "stdout",
     "output_type": "stream",
     "text": [
      "          Gas5  Gm25500;Taf1d          Snhg3 Snhg4;Snora74a          Snhg5 \n",
      "           598            623           1321           1322           1323 \n"
     ]
    },
    {
     "name": "stderr",
     "output_type": "stream",
     "text": [
      "Containing old batchy genes containing gset 93\n",
      "\n"
     ]
    },
    {
     "name": "stdout",
     "output_type": "stream",
     "text": [
      "C430049B03Rik;Mir322;Mir351;Mir503                              Calm1 \n",
      "                               237                                243 \n",
      "                             Capn2                             Capns1 \n",
      "                               250                                252 \n",
      "                    Fam65a;Mir1966                             Fermt2 \n",
      "                               518                                529 \n",
      "                              Fhl2                             Fndc3b \n",
      "                               542                                552 \n",
      "                             Itgb1                               Myh9 \n",
      "                               771                                937 \n",
      "                              Pkp2                              Sept9 \n",
      "                              1063                               1250 \n",
      "                           Slc44a2                               Tln1 \n",
      "                              1295                               1422 \n",
      "                             Trim8                             Tspan4 \n",
      "                              1459                               1467 \n",
      "                     Uba52;Ubb;Ubc                               Ugp2 \n",
      "                              1483                               1491 \n"
     ]
    },
    {
     "name": "stderr",
     "output_type": "stream",
     "text": [
      "Containing old batchy genes containing gset 58\n",
      "\n"
     ]
    },
    {
     "name": "stdout",
     "output_type": "stream",
     "text": [
      "AK207499;Cpe        Bcat1        Car14        Casp3        Cdca7        Crmp1 \n",
      "          91          224          255          260          284          355 \n",
      "         Dut        Efna5      Fam162a         Gja1      Hdgfrp3         Ldhb \n",
      "         442          452          510          609          683          818 \n",
      "      Lin28a         Ly6e         Phf6        Prps1        Sall4        Sfrp2 \n",
      "         838          863         1051         1120         1234         1265 \n",
      "      Tmem47 \n",
      "        1433 \n"
     ]
    },
    {
     "name": "stderr",
     "output_type": "stream",
     "text": [
      "Containing old batchy genes containing gset 10\n",
      "\n"
     ]
    },
    {
     "name": "stdout",
     "output_type": "stream",
     "text": [
      "   4930486L24Rik AK161748;Slco2a1          Adamts5           Amica1 \n",
      "              17               72              119              152 \n",
      "           Ampd3             Aoc1            Crct1    Csf1r;Mir6983 \n",
      "             156              167              351              357 \n",
      "            Ctsk             Ifnk            Inhba            Lmcd1 \n",
      "             375              742              755              841 \n",
      "          Mrgprg           Mustn1             Nbl1           Prl6a1 \n",
      "             915              928              954             1112 \n",
      "          Prl8a2           Prl8a9             Sbsn          Tcp11l2 \n",
      "            1114             1115             1237             1394 \n",
      "        Tnfrsf23            Tpsb2              Wt1 \n",
      "            1441             1454             1523 \n"
     ]
    }
   ],
   "source": [
    "#potentially batchy genes\n",
    "old_batches = sort(table(gset@gene_set[old_genes]),decreasing = T)\n",
    "\n",
    "message(\"old batch genes\")\n",
    "print(old_batches[old_batches > 1])\n",
    "\n",
    "bat_ids = names(old_batches[old_batches > 1])\n",
    "\n",
    "bat_ids = setdiff(bat_ids,ids)\n",
    "\n",
    "for(i in bat_ids) {\n",
    "  message(\"Containing old batchy genes containing gset \", i)\n",
    "  print(which(gset@gene_set == i))\n",
    "}\n",
    "\n"
   ]
  },
  {
   "cell_type": "code",
   "execution_count": 20,
   "id": "e2017d9c",
   "metadata": {},
   "outputs": [
    {
     "name": "stderr",
     "output_type": "stream",
     "text": [
      "Make sure you editted manually the list of gsets that are filtered!!!\n",
      "\n"
     ]
    }
   ],
   "source": [
    "#EDIT THIS\n",
    "if(1) {\n",
    "message(\"Make sure you editted manually the list of gsets that are filtered!!!\")\n",
    "\n",
    "bad_gsets_wt = c(87,104,53,111,115,24,84,113,43,14,55,117,42,20,96,13)\n",
    "    \n",
    "output_file = sprintf(\"data/%s.bad_genes.txt\",mat_nm)\n",
    "\n",
    "bad_gene_wt = names(gset@gene_set)[which(gset@gene_set %in% bad_gsets_wt)]\n",
    "bad_gene_wt = c(bad_gene_wt,\"Hspb1\",\"Hspb8\")\n",
    "\n",
    "write.table(bad_gene_wt,output_file,sep =\"\\t\")\n",
    "\n",
    "}"
   ]
  },
  {
   "cell_type": "code",
   "execution_count": 21,
   "id": "8de31456",
   "metadata": {},
   "outputs": [
    {
     "data": {
      "text/html": [
       "'data/embexe.bad_genes.txt'"
      ],
      "text/latex": [
       "'data/embexe.bad\\_genes.txt'"
      ],
      "text/markdown": [
       "'data/embexe.bad_genes.txt'"
      ],
      "text/plain": [
       "[1] \"data/embexe.bad_genes.txt\""
      ]
     },
     "metadata": {},
     "output_type": "display_data"
    }
   ],
   "source": []
  },
  {
   "cell_type": "code",
   "execution_count": 18,
   "id": "3b883385",
   "metadata": {},
   "outputs": [
    {
     "data": {
      "text/html": [
       "<style>\n",
       ".list-inline {list-style: none; margin:0; padding: 0}\n",
       ".list-inline>li {display: inline-block}\n",
       ".list-inline>li:not(:last-child)::after {content: \"\\00b7\"; padding: 0 .5ex}\n",
       "</style>\n",
       "<ol class=list-inline><li>'2810417H13Rik'</li><li>'AK089379;Golgb1'</li><li>'Akap9'</li><li>'Dync1h1'</li><li>'Golga4'</li><li>'H2afz'</li><li>'Hmgcs1'</li><li>'Kcnq1ot1'</li><li>'Marcksl1'</li><li>'Meg3;Mir1906-1;Mir770'</li><li>'Mir5129;Zeb2'</li><li>'Mns1'</li><li>'Msmo1'</li><li>'Phf6'</li><li>'Prdx2'</li><li>'Tfrc'</li><li>'Tuba1a'</li><li>'Mt1'</li><li>'Mt2'</li></ol>\n"
      ],
      "text/latex": [
       "\\begin{enumerate*}\n",
       "\\item '2810417H13Rik'\n",
       "\\item 'AK089379;Golgb1'\n",
       "\\item 'Akap9'\n",
       "\\item 'Dync1h1'\n",
       "\\item 'Golga4'\n",
       "\\item 'H2afz'\n",
       "\\item 'Hmgcs1'\n",
       "\\item 'Kcnq1ot1'\n",
       "\\item 'Marcksl1'\n",
       "\\item 'Meg3;Mir1906-1;Mir770'\n",
       "\\item 'Mir5129;Zeb2'\n",
       "\\item 'Mns1'\n",
       "\\item 'Msmo1'\n",
       "\\item 'Phf6'\n",
       "\\item 'Prdx2'\n",
       "\\item 'Tfrc'\n",
       "\\item 'Tuba1a'\n",
       "\\item 'Mt1'\n",
       "\\item 'Mt2'\n",
       "\\end{enumerate*}\n"
      ],
      "text/markdown": [
       "1. '2810417H13Rik'\n",
       "2. 'AK089379;Golgb1'\n",
       "3. 'Akap9'\n",
       "4. 'Dync1h1'\n",
       "5. 'Golga4'\n",
       "6. 'H2afz'\n",
       "7. 'Hmgcs1'\n",
       "8. 'Kcnq1ot1'\n",
       "9. 'Marcksl1'\n",
       "10. 'Meg3;Mir1906-1;Mir770'\n",
       "11. 'Mir5129;Zeb2'\n",
       "12. 'Mns1'\n",
       "13. 'Msmo1'\n",
       "14. 'Phf6'\n",
       "15. 'Prdx2'\n",
       "16. 'Tfrc'\n",
       "17. 'Tuba1a'\n",
       "18. 'Mt1'\n",
       "19. 'Mt2'\n",
       "\n",
       "\n"
      ],
      "text/plain": [
       " [1] \"2810417H13Rik\"         \"AK089379;Golgb1\"       \"Akap9\"                \n",
       " [4] \"Dync1h1\"               \"Golga4\"                \"H2afz\"                \n",
       " [7] \"Hmgcs1\"                \"Kcnq1ot1\"              \"Marcksl1\"             \n",
       "[10] \"Meg3;Mir1906-1;Mir770\" \"Mir5129;Zeb2\"          \"Mns1\"                 \n",
       "[13] \"Msmo1\"                 \"Phf6\"                  \"Prdx2\"                \n",
       "[16] \"Tfrc\"                  \"Tuba1a\"                \"Mt1\"                  \n",
       "[19] \"Mt2\"                  "
      ]
     },
     "metadata": {},
     "output_type": "display_data"
    }
   ],
   "source": [
    "setdiff(old_genes,bad_gene_wt)[setdiff(old_genes,bad_gene_wt) %in% names(gset@gene_set)]"
   ]
  },
  {
   "cell_type": "code",
   "execution_count": 20,
   "id": "1db07509",
   "metadata": {},
   "outputs": [
    {
     "data": {
      "text/html": [
       "'embexe'"
      ],
      "text/latex": [
       "'embexe'"
      ],
      "text/markdown": [
       "'embexe'"
      ],
      "text/plain": [
       "[1] \"embexe\""
      ]
     },
     "metadata": {},
     "output_type": "display_data"
    }
   ],
   "source": [
    "mat_nm"
   ]
  },
  {
   "cell_type": "code",
   "execution_count": 24,
   "id": "a36a8f54",
   "metadata": {},
   "outputs": [],
   "source": [
    "gset_f = scdb_gset(\"embexe\")"
   ]
  },
  {
   "cell_type": "code",
   "execution_count": 25,
   "id": "b1b8a38c",
   "metadata": {},
   "outputs": [
    {
     "data": {
      "text/html": [
       "<style>\n",
       ".list-inline {list-style: none; margin:0; padding: 0}\n",
       ".list-inline>li {display: inline-block}\n",
       ".list-inline>li:not(:last-child)::after {content: \"\\00b7\"; padding: 0 .5ex}\n",
       "</style>\n",
       "<ol class=list-inline><li>FALSE</li><li>FALSE</li><li>FALSE</li><li>FALSE</li><li>FALSE</li><li>FALSE</li><li>FALSE</li><li>FALSE</li><li>FALSE</li><li>FALSE</li><li>FALSE</li><li>FALSE</li><li>FALSE</li><li>FALSE</li><li>FALSE</li><li>FALSE</li><li>FALSE</li><li>FALSE</li><li>FALSE</li><li>FALSE</li><li>FALSE</li><li>FALSE</li><li>FALSE</li><li>FALSE</li><li>FALSE</li><li>FALSE</li><li>FALSE</li><li>FALSE</li><li>FALSE</li><li>FALSE</li><li>FALSE</li><li>FALSE</li><li>FALSE</li><li>FALSE</li><li>FALSE</li><li>FALSE</li><li>FALSE</li><li>FALSE</li><li>FALSE</li><li>FALSE</li><li>FALSE</li><li>FALSE</li><li>FALSE</li><li>FALSE</li><li>FALSE</li><li>FALSE</li><li>FALSE</li><li>FALSE</li><li>FALSE</li><li>FALSE</li><li>FALSE</li><li>FALSE</li><li>FALSE</li><li>FALSE</li><li>FALSE</li><li>FALSE</li><li>FALSE</li><li>FALSE</li><li>FALSE</li><li>FALSE</li><li>FALSE</li><li>FALSE</li><li>FALSE</li><li>FALSE</li><li>FALSE</li><li>FALSE</li><li>FALSE</li><li>FALSE</li><li>FALSE</li><li>FALSE</li><li>FALSE</li><li>FALSE</li><li>FALSE</li><li>FALSE</li><li>FALSE</li><li>FALSE</li><li>FALSE</li><li>FALSE</li><li>FALSE</li><li>FALSE</li><li>FALSE</li><li>FALSE</li><li>FALSE</li><li>FALSE</li><li>FALSE</li><li>FALSE</li><li>FALSE</li><li>FALSE</li><li>FALSE</li><li>FALSE</li><li>FALSE</li><li>FALSE</li><li>FALSE</li><li>FALSE</li><li>FALSE</li><li>FALSE</li><li>FALSE</li><li>FALSE</li><li>FALSE</li><li>FALSE</li><li>FALSE</li><li>FALSE</li><li>FALSE</li><li>FALSE</li><li>FALSE</li><li>FALSE</li><li>FALSE</li><li>FALSE</li><li>FALSE</li><li>FALSE</li><li>FALSE</li><li>FALSE</li><li>FALSE</li><li>FALSE</li><li>FALSE</li><li>FALSE</li><li>FALSE</li><li>FALSE</li><li>FALSE</li><li>FALSE</li><li>FALSE</li><li>FALSE</li><li>FALSE</li><li>FALSE</li><li>FALSE</li><li>FALSE</li><li>FALSE</li><li>FALSE</li><li>FALSE</li><li>FALSE</li><li>FALSE</li><li>FALSE</li><li>FALSE</li><li>FALSE</li><li>FALSE</li><li>FALSE</li><li>FALSE</li><li>FALSE</li><li>FALSE</li><li>FALSE</li><li>FALSE</li><li>FALSE</li><li>FALSE</li><li>FALSE</li><li>FALSE</li><li>FALSE</li><li>FALSE</li><li>FALSE</li><li>FALSE</li><li>FALSE</li><li>FALSE</li></ol>\n"
      ],
      "text/latex": [
       "\\begin{enumerate*}\n",
       "\\item FALSE\n",
       "\\item FALSE\n",
       "\\item FALSE\n",
       "\\item FALSE\n",
       "\\item FALSE\n",
       "\\item FALSE\n",
       "\\item FALSE\n",
       "\\item FALSE\n",
       "\\item FALSE\n",
       "\\item FALSE\n",
       "\\item FALSE\n",
       "\\item FALSE\n",
       "\\item FALSE\n",
       "\\item FALSE\n",
       "\\item FALSE\n",
       "\\item FALSE\n",
       "\\item FALSE\n",
       "\\item FALSE\n",
       "\\item FALSE\n",
       "\\item FALSE\n",
       "\\item FALSE\n",
       "\\item FALSE\n",
       "\\item FALSE\n",
       "\\item FALSE\n",
       "\\item FALSE\n",
       "\\item FALSE\n",
       "\\item FALSE\n",
       "\\item FALSE\n",
       "\\item FALSE\n",
       "\\item FALSE\n",
       "\\item FALSE\n",
       "\\item FALSE\n",
       "\\item FALSE\n",
       "\\item FALSE\n",
       "\\item FALSE\n",
       "\\item FALSE\n",
       "\\item FALSE\n",
       "\\item FALSE\n",
       "\\item FALSE\n",
       "\\item FALSE\n",
       "\\item FALSE\n",
       "\\item FALSE\n",
       "\\item FALSE\n",
       "\\item FALSE\n",
       "\\item FALSE\n",
       "\\item FALSE\n",
       "\\item FALSE\n",
       "\\item FALSE\n",
       "\\item FALSE\n",
       "\\item FALSE\n",
       "\\item FALSE\n",
       "\\item FALSE\n",
       "\\item FALSE\n",
       "\\item FALSE\n",
       "\\item FALSE\n",
       "\\item FALSE\n",
       "\\item FALSE\n",
       "\\item FALSE\n",
       "\\item FALSE\n",
       "\\item FALSE\n",
       "\\item FALSE\n",
       "\\item FALSE\n",
       "\\item FALSE\n",
       "\\item FALSE\n",
       "\\item FALSE\n",
       "\\item FALSE\n",
       "\\item FALSE\n",
       "\\item FALSE\n",
       "\\item FALSE\n",
       "\\item FALSE\n",
       "\\item FALSE\n",
       "\\item FALSE\n",
       "\\item FALSE\n",
       "\\item FALSE\n",
       "\\item FALSE\n",
       "\\item FALSE\n",
       "\\item FALSE\n",
       "\\item FALSE\n",
       "\\item FALSE\n",
       "\\item FALSE\n",
       "\\item FALSE\n",
       "\\item FALSE\n",
       "\\item FALSE\n",
       "\\item FALSE\n",
       "\\item FALSE\n",
       "\\item FALSE\n",
       "\\item FALSE\n",
       "\\item FALSE\n",
       "\\item FALSE\n",
       "\\item FALSE\n",
       "\\item FALSE\n",
       "\\item FALSE\n",
       "\\item FALSE\n",
       "\\item FALSE\n",
       "\\item FALSE\n",
       "\\item FALSE\n",
       "\\item FALSE\n",
       "\\item FALSE\n",
       "\\item FALSE\n",
       "\\item FALSE\n",
       "\\item FALSE\n",
       "\\item FALSE\n",
       "\\item FALSE\n",
       "\\item FALSE\n",
       "\\item FALSE\n",
       "\\item FALSE\n",
       "\\item FALSE\n",
       "\\item FALSE\n",
       "\\item FALSE\n",
       "\\item FALSE\n",
       "\\item FALSE\n",
       "\\item FALSE\n",
       "\\item FALSE\n",
       "\\item FALSE\n",
       "\\item FALSE\n",
       "\\item FALSE\n",
       "\\item FALSE\n",
       "\\item FALSE\n",
       "\\item FALSE\n",
       "\\item FALSE\n",
       "\\item FALSE\n",
       "\\item FALSE\n",
       "\\item FALSE\n",
       "\\item FALSE\n",
       "\\item FALSE\n",
       "\\item FALSE\n",
       "\\item FALSE\n",
       "\\item FALSE\n",
       "\\item FALSE\n",
       "\\item FALSE\n",
       "\\item FALSE\n",
       "\\item FALSE\n",
       "\\item FALSE\n",
       "\\item FALSE\n",
       "\\item FALSE\n",
       "\\item FALSE\n",
       "\\item FALSE\n",
       "\\item FALSE\n",
       "\\item FALSE\n",
       "\\item FALSE\n",
       "\\item FALSE\n",
       "\\item FALSE\n",
       "\\item FALSE\n",
       "\\item FALSE\n",
       "\\item FALSE\n",
       "\\item FALSE\n",
       "\\item FALSE\n",
       "\\item FALSE\n",
       "\\item FALSE\n",
       "\\item FALSE\n",
       "\\item FALSE\n",
       "\\end{enumerate*}\n"
      ],
      "text/markdown": [
       "1. FALSE\n",
       "2. FALSE\n",
       "3. FALSE\n",
       "4. FALSE\n",
       "5. FALSE\n",
       "6. FALSE\n",
       "7. FALSE\n",
       "8. FALSE\n",
       "9. FALSE\n",
       "10. FALSE\n",
       "11. FALSE\n",
       "12. FALSE\n",
       "13. FALSE\n",
       "14. FALSE\n",
       "15. FALSE\n",
       "16. FALSE\n",
       "17. FALSE\n",
       "18. FALSE\n",
       "19. FALSE\n",
       "20. FALSE\n",
       "21. FALSE\n",
       "22. FALSE\n",
       "23. FALSE\n",
       "24. FALSE\n",
       "25. FALSE\n",
       "26. FALSE\n",
       "27. FALSE\n",
       "28. FALSE\n",
       "29. FALSE\n",
       "30. FALSE\n",
       "31. FALSE\n",
       "32. FALSE\n",
       "33. FALSE\n",
       "34. FALSE\n",
       "35. FALSE\n",
       "36. FALSE\n",
       "37. FALSE\n",
       "38. FALSE\n",
       "39. FALSE\n",
       "40. FALSE\n",
       "41. FALSE\n",
       "42. FALSE\n",
       "43. FALSE\n",
       "44. FALSE\n",
       "45. FALSE\n",
       "46. FALSE\n",
       "47. FALSE\n",
       "48. FALSE\n",
       "49. FALSE\n",
       "50. FALSE\n",
       "51. FALSE\n",
       "52. FALSE\n",
       "53. FALSE\n",
       "54. FALSE\n",
       "55. FALSE\n",
       "56. FALSE\n",
       "57. FALSE\n",
       "58. FALSE\n",
       "59. FALSE\n",
       "60. FALSE\n",
       "61. FALSE\n",
       "62. FALSE\n",
       "63. FALSE\n",
       "64. FALSE\n",
       "65. FALSE\n",
       "66. FALSE\n",
       "67. FALSE\n",
       "68. FALSE\n",
       "69. FALSE\n",
       "70. FALSE\n",
       "71. FALSE\n",
       "72. FALSE\n",
       "73. FALSE\n",
       "74. FALSE\n",
       "75. FALSE\n",
       "76. FALSE\n",
       "77. FALSE\n",
       "78. FALSE\n",
       "79. FALSE\n",
       "80. FALSE\n",
       "81. FALSE\n",
       "82. FALSE\n",
       "83. FALSE\n",
       "84. FALSE\n",
       "85. FALSE\n",
       "86. FALSE\n",
       "87. FALSE\n",
       "88. FALSE\n",
       "89. FALSE\n",
       "90. FALSE\n",
       "91. FALSE\n",
       "92. FALSE\n",
       "93. FALSE\n",
       "94. FALSE\n",
       "95. FALSE\n",
       "96. FALSE\n",
       "97. FALSE\n",
       "98. FALSE\n",
       "99. FALSE\n",
       "100. FALSE\n",
       "101. FALSE\n",
       "102. FALSE\n",
       "103. FALSE\n",
       "104. FALSE\n",
       "105. FALSE\n",
       "106. FALSE\n",
       "107. FALSE\n",
       "108. FALSE\n",
       "109. FALSE\n",
       "110. FALSE\n",
       "111. FALSE\n",
       "112. FALSE\n",
       "113. FALSE\n",
       "114. FALSE\n",
       "115. FALSE\n",
       "116. FALSE\n",
       "117. FALSE\n",
       "118. FALSE\n",
       "119. FALSE\n",
       "120. FALSE\n",
       "121. FALSE\n",
       "122. FALSE\n",
       "123. FALSE\n",
       "124. FALSE\n",
       "125. FALSE\n",
       "126. FALSE\n",
       "127. FALSE\n",
       "128. FALSE\n",
       "129. FALSE\n",
       "130. FALSE\n",
       "131. FALSE\n",
       "132. FALSE\n",
       "133. FALSE\n",
       "134. FALSE\n",
       "135. FALSE\n",
       "136. FALSE\n",
       "137. FALSE\n",
       "138. FALSE\n",
       "139. FALSE\n",
       "140. FALSE\n",
       "141. FALSE\n",
       "142. FALSE\n",
       "143. FALSE\n",
       "144. FALSE\n",
       "145. FALSE\n",
       "146. FALSE\n",
       "147. FALSE\n",
       "148. FALSE\n",
       "149. FALSE\n",
       "150. FALSE\n",
       "151. FALSE\n",
       "\n",
       "\n"
      ],
      "text/plain": [
       "  [1] FALSE FALSE FALSE FALSE FALSE FALSE FALSE FALSE FALSE FALSE FALSE FALSE\n",
       " [13] FALSE FALSE FALSE FALSE FALSE FALSE FALSE FALSE FALSE FALSE FALSE FALSE\n",
       " [25] FALSE FALSE FALSE FALSE FALSE FALSE FALSE FALSE FALSE FALSE FALSE FALSE\n",
       " [37] FALSE FALSE FALSE FALSE FALSE FALSE FALSE FALSE FALSE FALSE FALSE FALSE\n",
       " [49] FALSE FALSE FALSE FALSE FALSE FALSE FALSE FALSE FALSE FALSE FALSE FALSE\n",
       " [61] FALSE FALSE FALSE FALSE FALSE FALSE FALSE FALSE FALSE FALSE FALSE FALSE\n",
       " [73] FALSE FALSE FALSE FALSE FALSE FALSE FALSE FALSE FALSE FALSE FALSE FALSE\n",
       " [85] FALSE FALSE FALSE FALSE FALSE FALSE FALSE FALSE FALSE FALSE FALSE FALSE\n",
       " [97] FALSE FALSE FALSE FALSE FALSE FALSE FALSE FALSE FALSE FALSE FALSE FALSE\n",
       "[109] FALSE FALSE FALSE FALSE FALSE FALSE FALSE FALSE FALSE FALSE FALSE FALSE\n",
       "[121] FALSE FALSE FALSE FALSE FALSE FALSE FALSE FALSE FALSE FALSE FALSE FALSE\n",
       "[133] FALSE FALSE FALSE FALSE FALSE FALSE FALSE FALSE FALSE FALSE FALSE FALSE\n",
       "[145] FALSE FALSE FALSE FALSE FALSE FALSE FALSE"
      ]
     },
     "metadata": {},
     "output_type": "display_data"
    }
   ],
   "source": [
    "bad_gene_wt %in% names(gset_f@gene_set)"
   ]
  },
  {
   "cell_type": "code",
   "execution_count": null,
   "id": "65c7ebf2",
   "metadata": {},
   "outputs": [],
   "source": []
  }
 ],
 "metadata": {
  "kernelspec": {
   "display_name": "R",
   "language": "R",
   "name": "ir353"
  },
  "language_info": {
   "codemirror_mode": "r",
   "file_extension": ".r",
   "mimetype": "text/x-r-source",
   "name": "R",
   "pygments_lexer": "r",
   "version": "4.0.5"
  }
 },
 "nbformat": 4,
 "nbformat_minor": 5
}
