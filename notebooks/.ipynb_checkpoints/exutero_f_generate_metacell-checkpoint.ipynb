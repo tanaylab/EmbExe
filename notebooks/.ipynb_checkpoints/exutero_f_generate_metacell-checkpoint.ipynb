{
 "cells": [
  {
   "cell_type": "markdown",
   "id": "3fe93e37",
   "metadata": {},
   "source": [
    "### Ex utero embryos metacell construction"
   ]
  },
  {
   "cell_type": "code",
   "execution_count": 1,
   "id": "e0b30f70",
   "metadata": {},
   "outputs": [],
   "source": [
    "setwd(here::here())"
   ]
  },
  {
   "cell_type": "code",
   "execution_count": 2,
   "id": "776f812c",
   "metadata": {},
   "outputs": [],
   "source": [
    "library(\"metacell\")"
   ]
  },
  {
   "cell_type": "code",
   "execution_count": 3,
   "id": "91036c69",
   "metadata": {},
   "outputs": [
    {
     "name": "stderr",
     "output_type": "stream",
     "text": [
      "initializing scdb to scrna_db/\n",
      "\n"
     ]
    }
   ],
   "source": [
    "scdb_init(\"scrna_db/\")"
   ]
  },
  {
   "cell_type": "code",
   "execution_count": 4,
   "id": "96a635bc",
   "metadata": {},
   "outputs": [],
   "source": [
    "source(\"scripts/generic_mc.r\")\n",
    "tgconfig::override_params(config_file = \"config/emb_exe.yaml\",package = \"metacell\")"
   ]
  },
  {
   "cell_type": "code",
   "execution_count": null,
   "id": "031400dd",
   "metadata": {},
   "outputs": [],
   "source": []
  }
 ],
 "metadata": {
  "kernelspec": {
   "display_name": "R",
   "language": "R",
   "name": "ir353"
  },
  "language_info": {
   "codemirror_mode": "r",
   "file_extension": ".r",
   "mimetype": "text/x-r-source",
   "name": "R",
   "pygments_lexer": "r",
   "version": "4.0.5"
  }
 },
 "nbformat": 4,
 "nbformat_minor": 5
}
