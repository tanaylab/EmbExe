{
 "cells": [
  {
   "cell_type": "markdown",
   "id": "483a7835",
   "metadata": {},
   "source": [
    "### Translate transcriptional ranks into developmental time"
   ]
  },
  {
   "cell_type": "markdown",
   "id": "c972cefa",
   "metadata": {},
   "source": [
    "Based on the nominal harvest time of each embryo and its calculated transcriptional rank, we infer for each embryo a corresponding developmental time (ranging from ~E5.5 to E8.5). Developmental time is calculated through spline interpolation of nominal harvest time vs transcriptional rank"
   ]
  },
  {
   "cell_type": "code",
   "execution_count": 2,
   "id": "8b5194c7",
   "metadata": {},
   "outputs": [],
   "source": [
    "setwd(here::here())"
   ]
  },
  {
   "cell_type": "code",
   "execution_count": 3,
   "id": "c6b3ed69",
   "metadata": {},
   "outputs": [
    {
     "name": "stderr",
     "output_type": "stream",
     "text": [
      "initializing scdb to scrna_db/\n",
      "\n"
     ]
    }
   ],
   "source": [
    "library(\"metacell\")\n",
    "scdb_init(\"scrna_db/\",force_reinit = T)\n",
    "scfigs_init('figs')"
   ]
  },
  {
   "cell_type": "code",
   "execution_count": 4,
   "id": "e16e575c",
   "metadata": {},
   "outputs": [
    {
     "name": "stderr",
     "output_type": "stream",
     "text": [
      "\n",
      "Attaching package: 'dplyr'\n",
      "\n",
      "\n",
      "The following objects are masked from 'package:stats':\n",
      "\n",
      "    filter, lag\n",
      "\n",
      "\n",
      "The following objects are masked from 'package:base':\n",
      "\n",
      "    intersect, setdiff, setequal, union\n",
      "\n",
      "\n"
     ]
    }
   ],
   "source": [
    "library(dplyr)\n",
    "mat = scdb_mat(\"embexe\")\n",
    "mc = scdb_mc(\"embexe_recolored\")"
   ]
  },
  {
   "cell_type": "code",
   "execution_count": 5,
   "id": "35643397",
   "metadata": {},
   "outputs": [
    {
     "data": {
      "text/html": [
       "<table class=\"dataframe\">\n",
       "<caption>A data.frame: 6 × 4</caption>\n",
       "<thead>\n",
       "\t<tr><th></th><th scope=col>embryo</th><th scope=col>embryo_nominal_time</th><th scope=col>morphological_stage</th><th scope=col>morphological_rank</th></tr>\n",
       "\t<tr><th></th><th scope=col>&lt;chr&gt;</th><th scope=col>&lt;dbl&gt;</th><th scope=col>&lt;chr&gt;</th><th scope=col>&lt;int&gt;</th></tr>\n",
       "</thead>\n",
       "<tbody>\n",
       "\t<tr><th scope=row>1</th><td>EXE26_pooled</td><td>4.5</td><td>pre implantation       </td><td>1</td></tr>\n",
       "\t<tr><th scope=row>2</th><td>EXE27_pooled</td><td>4.5</td><td>pre implantation       </td><td>2</td></tr>\n",
       "\t<tr><th scope=row>3</th><td>EXE17_e1    </td><td>5.5</td><td>pre cavitated/cavitated</td><td>3</td></tr>\n",
       "\t<tr><th scope=row>4</th><td>EXE7_e5     </td><td>5.5</td><td>pre cavitated/cavitated</td><td>4</td></tr>\n",
       "\t<tr><th scope=row>5</th><td>EXE4_M1e1   </td><td>5.5</td><td>pre cavitated/cavitated</td><td>5</td></tr>\n",
       "\t<tr><th scope=row>6</th><td>EXE7_e8     </td><td>5.5</td><td>pre cavitated/cavitated</td><td>6</td></tr>\n",
       "</tbody>\n",
       "</table>\n"
      ],
      "text/latex": [
       "A data.frame: 6 × 4\n",
       "\\begin{tabular}{r|llll}\n",
       "  & embryo & embryo\\_nominal\\_time & morphological\\_stage & morphological\\_rank\\\\\n",
       "  & <chr> & <dbl> & <chr> & <int>\\\\\n",
       "\\hline\n",
       "\t1 & EXE26\\_pooled & 4.5 & pre implantation        & 1\\\\\n",
       "\t2 & EXE27\\_pooled & 4.5 & pre implantation        & 2\\\\\n",
       "\t3 & EXE17\\_e1     & 5.5 & pre cavitated/cavitated & 3\\\\\n",
       "\t4 & EXE7\\_e5      & 5.5 & pre cavitated/cavitated & 4\\\\\n",
       "\t5 & EXE4\\_M1e1    & 5.5 & pre cavitated/cavitated & 5\\\\\n",
       "\t6 & EXE7\\_e8      & 5.5 & pre cavitated/cavitated & 6\\\\\n",
       "\\end{tabular}\n"
      ],
      "text/markdown": [
       "\n",
       "A data.frame: 6 × 4\n",
       "\n",
       "| <!--/--> | embryo &lt;chr&gt; | embryo_nominal_time &lt;dbl&gt; | morphological_stage &lt;chr&gt; | morphological_rank &lt;int&gt; |\n",
       "|---|---|---|---|---|\n",
       "| 1 | EXE26_pooled | 4.5 | pre implantation        | 1 |\n",
       "| 2 | EXE27_pooled | 4.5 | pre implantation        | 2 |\n",
       "| 3 | EXE17_e1     | 5.5 | pre cavitated/cavitated | 3 |\n",
       "| 4 | EXE7_e5      | 5.5 | pre cavitated/cavitated | 4 |\n",
       "| 5 | EXE4_M1e1    | 5.5 | pre cavitated/cavitated | 5 |\n",
       "| 6 | EXE7_e8      | 5.5 | pre cavitated/cavitated | 6 |\n",
       "\n"
      ],
      "text/plain": [
       "  embryo       embryo_nominal_time morphological_stage     morphological_rank\n",
       "1 EXE26_pooled 4.5                 pre implantation        1                 \n",
       "2 EXE27_pooled 4.5                 pre implantation        2                 \n",
       "3 EXE17_e1     5.5                 pre cavitated/cavitated 3                 \n",
       "4 EXE7_e5      5.5                 pre cavitated/cavitated 4                 \n",
       "5 EXE4_M1e1    5.5                 pre cavitated/cavitated 5                 \n",
       "6 EXE7_e8      5.5                 pre cavitated/cavitated 6                 "
      ]
     },
     "metadata": {},
     "output_type": "display_data"
    },
    {
     "data": {
      "text/html": [
       "<table class=\"dataframe\">\n",
       "<caption>A data.frame: 6 × 2</caption>\n",
       "<thead>\n",
       "\t<tr><th></th><th scope=col>embryo</th><th scope=col>transcriptional_rank</th></tr>\n",
       "\t<tr><th></th><th scope=col>&lt;chr&gt;</th><th scope=col>&lt;int&gt;</th></tr>\n",
       "</thead>\n",
       "<tbody>\n",
       "\t<tr><th scope=row>1</th><td>EXE27_pooled</td><td>1</td></tr>\n",
       "\t<tr><th scope=row>2</th><td>EXE26_pooled</td><td>2</td></tr>\n",
       "\t<tr><th scope=row>3</th><td>EXE4_M2e2   </td><td>3</td></tr>\n",
       "\t<tr><th scope=row>4</th><td>EXE4_M2e1   </td><td>4</td></tr>\n",
       "\t<tr><th scope=row>5</th><td>EXE4_M1e3   </td><td>5</td></tr>\n",
       "\t<tr><th scope=row>6</th><td>EXE4_M1e1   </td><td>6</td></tr>\n",
       "</tbody>\n",
       "</table>\n"
      ],
      "text/latex": [
       "A data.frame: 6 × 2\n",
       "\\begin{tabular}{r|ll}\n",
       "  & embryo & transcriptional\\_rank\\\\\n",
       "  & <chr> & <int>\\\\\n",
       "\\hline\n",
       "\t1 & EXE27\\_pooled & 1\\\\\n",
       "\t2 & EXE26\\_pooled & 2\\\\\n",
       "\t3 & EXE4\\_M2e2    & 3\\\\\n",
       "\t4 & EXE4\\_M2e1    & 4\\\\\n",
       "\t5 & EXE4\\_M1e3    & 5\\\\\n",
       "\t6 & EXE4\\_M1e1    & 6\\\\\n",
       "\\end{tabular}\n"
      ],
      "text/markdown": [
       "\n",
       "A data.frame: 6 × 2\n",
       "\n",
       "| <!--/--> | embryo &lt;chr&gt; | transcriptional_rank &lt;int&gt; |\n",
       "|---|---|---|\n",
       "| 1 | EXE27_pooled | 1 |\n",
       "| 2 | EXE26_pooled | 2 |\n",
       "| 3 | EXE4_M2e2    | 3 |\n",
       "| 4 | EXE4_M2e1    | 4 |\n",
       "| 5 | EXE4_M1e3    | 5 |\n",
       "| 6 | EXE4_M1e1    | 6 |\n",
       "\n"
      ],
      "text/plain": [
       "  embryo       transcriptional_rank\n",
       "1 EXE27_pooled 1                   \n",
       "2 EXE26_pooled 2                   \n",
       "3 EXE4_M2e2    3                   \n",
       "4 EXE4_M2e1    4                   \n",
       "5 EXE4_M1e3    5                   \n",
       "6 EXE4_M1e1    6                   "
      ]
     },
     "metadata": {},
     "output_type": "display_data"
    }
   ],
   "source": [
    "# read new transcriptional rank of embexe embryos\n",
    "embexe_nominal_time = read.csv('data/embexe.morphology_nominal_time.csv',stringsAsFactors = F)\n",
    "embexe_rank = read.table('data/embexe.transcriptional_ranks.tsv',sep = '\\t',h = T,stringsAsFactors = F)\n",
    "# wt10_age = read.table('data/wt10_transcriptional_rank_developmental_time.txt',sep = '\\t',h = T,stringsAsFactors = F)\n",
    "# wt10_embryo = read.table('data/wt10.size_morphology_measurements.txt',sep = '\\t',h = T,stringsAsFactors = F)\n",
    "# wt10_age_all = left_join(wt10_age,wt10_embryo,by = \"transcriptional_rank\")\n",
    "head(embexe_nominal_time)\n",
    "head(embexe_rank)"
   ]
  },
  {
   "cell_type": "code",
   "execution_count": 6,
   "id": "93ea5963",
   "metadata": {},
   "outputs": [],
   "source": [
    "embexe_time = left_join(embexe_rank,embexe_nominal_time,by= \"embryo\")"
   ]
  },
  {
   "cell_type": "code",
   "execution_count": 7,
   "id": "49b23724",
   "metadata": {},
   "outputs": [
    {
     "data": {
      "image/png": "[encoded data removed]",
      "text/plain": [
       "plot without title"
      ]
     },
     "metadata": {
      "image/png": {
       "height": 420,
       "width": 420
      }
     },
     "output_type": "display_data"
    }
   ],
   "source": [
    "f = !is.na(embexe_time$embryo_nominal_time) & !is.na(embexe_time$transcriptional_rank)\n",
    "\n",
    "\n",
    "time_interpolation_spline = smooth.spline(x = embexe_time$transcriptional_rank[f],\n",
    "                                          y = embexe_time$embryo_nominal_time[f],spar = 0.85)\n",
    "\n",
    "plot(embexe_time$transcriptional_rank[f],embexe_time$embryo_nominal_time[f],pch = 19,\n",
    "     xlab= \"Transcriptional Rank\",\n",
    "     ylab = \"Embryo Nominal Time\")\n",
    "\n",
    "lines(time_interpolation_spline$x,time_interpolation_spline$y)"
   ]
  },
  {
   "cell_type": "code",
   "execution_count": 8,
   "id": "b784ea94",
   "metadata": {},
   "outputs": [],
   "source": [
    "embexe_time$developmental_time = NA\n",
    "embexe_time$developmental_time[f] = time_interpolation_spline$y"
   ]
  },
  {
   "cell_type": "code",
   "execution_count": 9,
   "id": "32ad1e45",
   "metadata": {},
   "outputs": [],
   "source": [
    "missing_ranks = embexe_time$transcriptional_rank[!f]\n",
    "\n",
    "ranks_filtered = embexe_time$transcriptional_rank[f]\n",
    "\n",
    "times_filtered = time_interpolation_spline$y\n",
    "names(times_filtered) = ranks_filtered\n",
    "\n",
    "\n",
    "\n",
    "for (r in missing_ranks) {\n",
    "    \n",
    "    next_lower_rank = max(ranks_filtered[ranks_filtered < r])\n",
    "    next_higher_rank = min(ranks_filtered[ranks_filtered > r])\n",
    "    \n",
    "    next_lower_time = times_filtered[as.character(next_lower_rank)]\n",
    "    next_higher_time = times_filtered[as.character(next_higher_rank)]\n",
    "    \n",
    "    time_inter = (r - next_lower_rank)/(next_higher_rank - next_lower_rank)*next_higher_time + \n",
    "                 (next_higher_rank - r)/(next_higher_rank - next_lower_rank)*next_lower_time\n",
    "    \n",
    "    f_r = embexe_time$transcriptional_rank == r\n",
    "    \n",
    "    \n",
    "    embexe_time$developmental_time[f_r] = time_inter\n",
    "    \n",
    "    \n",
    "    \n",
    "}"
   ]
  },
  {
   "cell_type": "code",
   "execution_count": 10,
   "id": "e476141e",
   "metadata": {},
   "outputs": [
    {
     "data": {
      "text/html": [
       "<table class=\"dataframe\">\n",
       "<caption>A data.frame: 6 × 6</caption>\n",
       "<thead>\n",
       "\t<tr><th></th><th scope=col>embryo</th><th scope=col>transcriptional_rank</th><th scope=col>embryo_nominal_time</th><th scope=col>morphological_stage</th><th scope=col>morphological_rank</th><th scope=col>developmental_time</th></tr>\n",
       "\t<tr><th></th><th scope=col>&lt;chr&gt;</th><th scope=col>&lt;int&gt;</th><th scope=col>&lt;dbl&gt;</th><th scope=col>&lt;chr&gt;</th><th scope=col>&lt;int&gt;</th><th scope=col>&lt;dbl&gt;</th></tr>\n",
       "</thead>\n",
       "<tbody>\n",
       "\t<tr><th scope=row>1</th><td>EXE27_pooled</td><td>1</td><td>4.5</td><td>pre implantation       </td><td> 2</td><td>5.356873</td></tr>\n",
       "\t<tr><th scope=row>2</th><td>EXE26_pooled</td><td>2</td><td>4.5</td><td>pre implantation       </td><td> 1</td><td>5.396876</td></tr>\n",
       "\t<tr><th scope=row>3</th><td>EXE4_M2e2   </td><td>3</td><td> NA</td><td>NA                     </td><td>NA</td><td>5.436775</td></tr>\n",
       "\t<tr><th scope=row>4</th><td>EXE4_M2e1   </td><td>4</td><td>5.5</td><td>pre cavitated/cavitated</td><td> 8</td><td>5.476675</td></tr>\n",
       "\t<tr><th scope=row>5</th><td>EXE4_M1e3   </td><td>5</td><td> NA</td><td>NA                     </td><td>NA</td><td>5.516211</td></tr>\n",
       "\t<tr><th scope=row>6</th><td>EXE4_M1e1   </td><td>6</td><td>5.5</td><td>pre cavitated/cavitated</td><td> 5</td><td>5.555747</td></tr>\n",
       "</tbody>\n",
       "</table>\n"
      ],
      "text/latex": [
       "A data.frame: 6 × 6\n",
       "\\begin{tabular}{r|llllll}\n",
       "  & embryo & transcriptional\\_rank & embryo\\_nominal\\_time & morphological\\_stage & morphological\\_rank & developmental\\_time\\\\\n",
       "  & <chr> & <int> & <dbl> & <chr> & <int> & <dbl>\\\\\n",
       "\\hline\n",
       "\t1 & EXE27\\_pooled & 1 & 4.5 & pre implantation        &  2 & 5.356873\\\\\n",
       "\t2 & EXE26\\_pooled & 2 & 4.5 & pre implantation        &  1 & 5.396876\\\\\n",
       "\t3 & EXE4\\_M2e2    & 3 &  NA & NA                      & NA & 5.436775\\\\\n",
       "\t4 & EXE4\\_M2e1    & 4 & 5.5 & pre cavitated/cavitated &  8 & 5.476675\\\\\n",
       "\t5 & EXE4\\_M1e3    & 5 &  NA & NA                      & NA & 5.516211\\\\\n",
       "\t6 & EXE4\\_M1e1    & 6 & 5.5 & pre cavitated/cavitated &  5 & 5.555747\\\\\n",
       "\\end{tabular}\n"
      ],
      "text/markdown": [
       "\n",
       "A data.frame: 6 × 6\n",
       "\n",
       "| <!--/--> | embryo &lt;chr&gt; | transcriptional_rank &lt;int&gt; | embryo_nominal_time &lt;dbl&gt; | morphological_stage &lt;chr&gt; | morphological_rank &lt;int&gt; | developmental_time &lt;dbl&gt; |\n",
       "|---|---|---|---|---|---|---|\n",
       "| 1 | EXE27_pooled | 1 | 4.5 | pre implantation        |  2 | 5.356873 |\n",
       "| 2 | EXE26_pooled | 2 | 4.5 | pre implantation        |  1 | 5.396876 |\n",
       "| 3 | EXE4_M2e2    | 3 |  NA | NA                      | NA | 5.436775 |\n",
       "| 4 | EXE4_M2e1    | 4 | 5.5 | pre cavitated/cavitated |  8 | 5.476675 |\n",
       "| 5 | EXE4_M1e3    | 5 |  NA | NA                      | NA | 5.516211 |\n",
       "| 6 | EXE4_M1e1    | 6 | 5.5 | pre cavitated/cavitated |  5 | 5.555747 |\n",
       "\n"
      ],
      "text/plain": [
       "  embryo       transcriptional_rank embryo_nominal_time morphological_stage    \n",
       "1 EXE27_pooled 1                    4.5                 pre implantation       \n",
       "2 EXE26_pooled 2                    4.5                 pre implantation       \n",
       "3 EXE4_M2e2    3                     NA                 NA                     \n",
       "4 EXE4_M2e1    4                    5.5                 pre cavitated/cavitated\n",
       "5 EXE4_M1e3    5                     NA                 NA                     \n",
       "6 EXE4_M1e1    6                    5.5                 pre cavitated/cavitated\n",
       "  morphological_rank developmental_time\n",
       "1  2                 5.356873          \n",
       "2  1                 5.396876          \n",
       "3 NA                 5.436775          \n",
       "4  8                 5.476675          \n",
       "5 NA                 5.516211          \n",
       "6  5                 5.555747          "
      ]
     },
     "metadata": {},
     "output_type": "display_data"
    }
   ],
   "source": [
    "head(embexe_time)"
   ]
  },
  {
   "cell_type": "code",
   "execution_count": 11,
   "id": "4677f289",
   "metadata": {},
   "outputs": [
    {
     "data": {
      "image/png": "[encoded data removed]",
      "text/plain": [
       "plot without title"
      ]
     },
     "metadata": {
      "image/png": {
       "height": 420,
       "width": 420
      }
     },
     "output_type": "display_data"
    }
   ],
   "source": [
    "plot(x = embexe_time$transcriptional_rank,y = embexe_time$developmental_time,pch = 19)"
   ]
  },
  {
   "cell_type": "code",
   "execution_count": 12,
   "id": "dae62b93",
   "metadata": {},
   "outputs": [],
   "source": [
    "write.table(x = embexe_time,file = \"data/embexe.transcriptional_rank_developmental_time.tsv\",sep = '\\t')\n"
   ]
  },
  {
   "cell_type": "code",
   "execution_count": 13,
   "id": "2b03b10e",
   "metadata": {},
   "outputs": [
    {
     "data": {
      "text/html": [
       "<style>\n",
       ".list-inline {list-style: none; margin:0; padding: 0}\n",
       ".list-inline>li {display: inline-block}\n",
       ".list-inline>li:not(:last-child)::after {content: \"\\00b7\"; padding: 0 .5ex}\n",
       "</style>\n",
       "<ol class=list-inline><li>'type'</li><li>'Plate'</li><li>'Plate.Date'</li><li>'Sort.Date'</li><li>'Production.Date'</li><li>'Internal.Index'</li><li>'External.Index'</li><li>'Sequencing.Dates'</li><li>'amp_batch_id'</li><li>'seq_batch_id'</li><li>'batch_set_id'</li><li>'spike_count'</li><li>'cell'</li><li>'plate'</li><li>'coordinates'</li><li>'embryo'</li><li>'source'</li><li>'time'</li><li>'fsc_a'</li><li>'fsc_w'</li><li>'fsc_h'</li><li>'ssc_a'</li><li>'ssc_w'</li><li>'ssc_h'</li><li>'tdtomato_a'</li><li>'pi_a'</li><li>'apc_cy7_a'</li><li>'gfp_a'</li><li>'pacific_blue_a'</li><li>'x568_a'</li><li>'embryo_with_placenta_information'</li></ol>\n"
      ],
      "text/latex": [
       "\\begin{enumerate*}\n",
       "\\item 'type'\n",
       "\\item 'Plate'\n",
       "\\item 'Plate.Date'\n",
       "\\item 'Sort.Date'\n",
       "\\item 'Production.Date'\n",
       "\\item 'Internal.Index'\n",
       "\\item 'External.Index'\n",
       "\\item 'Sequencing.Dates'\n",
       "\\item 'amp\\_batch\\_id'\n",
       "\\item 'seq\\_batch\\_id'\n",
       "\\item 'batch\\_set\\_id'\n",
       "\\item 'spike\\_count'\n",
       "\\item 'cell'\n",
       "\\item 'plate'\n",
       "\\item 'coordinates'\n",
       "\\item 'embryo'\n",
       "\\item 'source'\n",
       "\\item 'time'\n",
       "\\item 'fsc\\_a'\n",
       "\\item 'fsc\\_w'\n",
       "\\item 'fsc\\_h'\n",
       "\\item 'ssc\\_a'\n",
       "\\item 'ssc\\_w'\n",
       "\\item 'ssc\\_h'\n",
       "\\item 'tdtomato\\_a'\n",
       "\\item 'pi\\_a'\n",
       "\\item 'apc\\_cy7\\_a'\n",
       "\\item 'gfp\\_a'\n",
       "\\item 'pacific\\_blue\\_a'\n",
       "\\item 'x568\\_a'\n",
       "\\item 'embryo\\_with\\_placenta\\_information'\n",
       "\\end{enumerate*}\n"
      ],
      "text/markdown": [
       "1. 'type'\n",
       "2. 'Plate'\n",
       "3. 'Plate.Date'\n",
       "4. 'Sort.Date'\n",
       "5. 'Production.Date'\n",
       "6. 'Internal.Index'\n",
       "7. 'External.Index'\n",
       "8. 'Sequencing.Dates'\n",
       "9. 'amp_batch_id'\n",
       "10. 'seq_batch_id'\n",
       "11. 'batch_set_id'\n",
       "12. 'spike_count'\n",
       "13. 'cell'\n",
       "14. 'plate'\n",
       "15. 'coordinates'\n",
       "16. 'embryo'\n",
       "17. 'source'\n",
       "18. 'time'\n",
       "19. 'fsc_a'\n",
       "20. 'fsc_w'\n",
       "21. 'fsc_h'\n",
       "22. 'ssc_a'\n",
       "23. 'ssc_w'\n",
       "24. 'ssc_h'\n",
       "25. 'tdtomato_a'\n",
       "26. 'pi_a'\n",
       "27. 'apc_cy7_a'\n",
       "28. 'gfp_a'\n",
       "29. 'pacific_blue_a'\n",
       "30. 'x568_a'\n",
       "31. 'embryo_with_placenta_information'\n",
       "\n",
       "\n"
      ],
      "text/plain": [
       " [1] \"type\"                             \"Plate\"                           \n",
       " [3] \"Plate.Date\"                       \"Sort.Date\"                       \n",
       " [5] \"Production.Date\"                  \"Internal.Index\"                  \n",
       " [7] \"External.Index\"                   \"Sequencing.Dates\"                \n",
       " [9] \"amp_batch_id\"                     \"seq_batch_id\"                    \n",
       "[11] \"batch_set_id\"                     \"spike_count\"                     \n",
       "[13] \"cell\"                             \"plate\"                           \n",
       "[15] \"coordinates\"                      \"embryo\"                          \n",
       "[17] \"source\"                           \"time\"                            \n",
       "[19] \"fsc_a\"                            \"fsc_w\"                           \n",
       "[21] \"fsc_h\"                            \"ssc_a\"                           \n",
       "[23] \"ssc_w\"                            \"ssc_h\"                           \n",
       "[25] \"tdtomato_a\"                       \"pi_a\"                            \n",
       "[27] \"apc_cy7_a\"                        \"gfp_a\"                           \n",
       "[29] \"pacific_blue_a\"                   \"x568_a\"                          \n",
       "[31] \"embryo_with_placenta_information\""
      ]
     },
     "metadata": {},
     "output_type": "display_data"
    }
   ],
   "source": [
    "md = mat@cell_metadata\n",
    "f = !(colnames(md) %in% c(\"transcriptional_rank\",\"developmental_time\"))\n",
    "colnames(md[,f])\n"
   ]
  },
  {
   "cell_type": "code",
   "execution_count": 14,
   "id": "53f9bada",
   "metadata": {},
   "outputs": [
    {
     "data": {
      "text/html": [
       "252"
      ],
      "text/latex": [
       "252"
      ],
      "text/markdown": [
       "252"
      ],
      "text/plain": [
       "[1] 252"
      ]
     },
     "metadata": {},
     "output_type": "display_data"
    },
    {
     "data": {
      "text/html": [
       "1"
      ],
      "text/latex": [
       "1"
      ],
      "text/markdown": [
       "1"
      ],
      "text/plain": [
       "[1] 1"
      ]
     },
     "metadata": {},
     "output_type": "display_data"
    }
   ],
   "source": [
    "md = mat@cell_metadata\n",
    "f = !(colnames(md) %in% c(\"transcriptional_rank\",\"developmental_time\"))\n",
    "md = left_join(md[,f],embexe_time[,c(\"embryo\",\"transcriptional_rank\",\"developmental_time\")],by = \"embryo\")\n",
    "rownames(md) = md$cell\n",
    "\n",
    "length(unique(md[colnames(mat@mat),\"transcriptional_rank\"]))\n",
    "sum(is.na(unique(md[colnames(mat@mat),\"transcriptional_rank\"])))"
   ]
  },
  {
   "cell_type": "code",
   "execution_count": 15,
   "id": "6d46cb71",
   "metadata": {},
   "outputs": [],
   "source": [
    "mat@cell_metadata = md"
   ]
  },
  {
   "cell_type": "code",
   "execution_count": 16,
   "id": "984c6327",
   "metadata": {},
   "outputs": [],
   "source": [
    "scdb_add_mat(id = \"embexe\",mat = mat)"
   ]
  },
  {
   "cell_type": "code",
   "execution_count": null,
   "id": "7d030cf2",
   "metadata": {},
   "outputs": [],
   "source": []
  }
 ],
 "metadata": {
  "kernelspec": {
   "display_name": "R",
   "language": "R",
   "name": "ir353"
  },
  "language_info": {
   "codemirror_mode": "r",
   "file_extension": ".r",
   "mimetype": "text/x-r-source",
   "name": "R",
   "pygments_lexer": "r",
   "version": "4.0.5"
  }
 },
 "nbformat": 4,
 "nbformat_minor": 5
}
