{
 "cells": [
  {
   "cell_type": "markdown",
   "id": "5a811e23",
   "metadata": {},
   "source": [
    "### Preprocessing of ExE-specific Elf5 KO and control embryos"
   ]
  },
  {
   "cell_type": "code",
   "execution_count": 2,
   "id": "517d17aa",
   "metadata": {},
   "outputs": [],
   "source": [
    "setwd(here::here())"
   ]
  },
  {
   "cell_type": "code",
   "execution_count": 2,
   "id": "dae1cbc2",
   "metadata": {},
   "outputs": [
    {
     "name": "stderr",
     "output_type": "stream",
     "text": [
      "\n",
      "Attaching package: 'dplyr'\n",
      "\n",
      "\n",
      "The following objects are masked from 'package:stats':\n",
      "\n",
      "    filter, lag\n",
      "\n",
      "\n",
      "The following objects are masked from 'package:base':\n",
      "\n",
      "    intersect, setdiff, setequal, union\n",
      "\n",
      "\n"
     ]
    }
   ],
   "source": [
    "library(\"metacell\")\n",
    "library(\"tgstat\")\n",
    "library(\"Matrix\")\n",
    "library(\"dplyr\")\n",
    "scfigs_init('figs')"
   ]
  },
  {
   "cell_type": "code",
   "execution_count": 3,
   "id": "4596b5ec",
   "metadata": {},
   "outputs": [
    {
     "name": "stderr",
     "output_type": "stream",
     "text": [
      "initializing scdb to scrna_db/\n",
      "\n"
     ]
    }
   ],
   "source": [
    "scdb_init(\"scrna_db/\",force_reinit = T)"
   ]
  },
  {
   "cell_type": "code",
   "execution_count": 4,
   "id": "db8f3872",
   "metadata": {},
   "outputs": [],
   "source": [
    "mat = scdb_mat(\"elf5_new\")"
   ]
  },
  {
   "cell_type": "code",
   "execution_count": 6,
   "id": "3a2b5bb9",
   "metadata": {},
   "outputs": [],
   "source": [
    "mat@cell_metadata$cell_type = NA\n",
    "mat@cell_metadata[colnames(mat@mat),\"cell_type\"] = \"Elf5\""
   ]
  },
  {
   "cell_type": "code",
   "execution_count": 8,
   "id": "60686740",
   "metadata": {},
   "outputs": [],
   "source": [
    "scdb_add_mat(id = \"elf5_new\",mat = mat)"
   ]
  },
  {
   "cell_type": "code",
   "execution_count": 9,
   "id": "1959e634",
   "metadata": {},
   "outputs": [],
   "source": [
    "source(\"scripts/elf5/merge_umi_mat_with_embexe.R\")"
   ]
  },
  {
   "cell_type": "code",
   "execution_count": 10,
   "id": "e5423f58",
   "metadata": {},
   "outputs": [],
   "source": [
    "mat = scdb_mat(\"elf5_new\")"
   ]
  },
  {
   "cell_type": "code",
   "execution_count": 11,
   "id": "85b6b141",
   "metadata": {},
   "outputs": [],
   "source": [
    "mat_new = merge_umi_mat_with_embexe(scmat = mat)"
   ]
  },
  {
   "cell_type": "code",
   "execution_count": 12,
   "id": "bca3f890",
   "metadata": {},
   "outputs": [],
   "source": [
    "scdb_add_mat(id = \"elf5_embexe\",mat = mat_new)"
   ]
  },
  {
   "cell_type": "code",
   "execution_count": 13,
   "id": "619c3bcc",
   "metadata": {},
   "outputs": [
    {
     "name": "stderr",
     "output_type": "stream",
     "text": [
      "initializing scdb to scrna_db\n",
      "\n"
     ]
    }
   ],
   "source": [
    "source(\"scripts/elf5/gen_cgraph_elf5.R\")"
   ]
  },
  {
   "cell_type": "code",
   "execution_count": 14,
   "id": "24593bee",
   "metadata": {},
   "outputs": [
    {
     "name": "stdout",
     "output_type": "stream",
     "text": [
      "Calculating gene statistics... "
     ]
    },
    {
     "name": "stderr",
     "output_type": "stream",
     "text": [
      "will downsamp\n",
      "\n",
      "done downsamp\n",
      "\n",
      "will gen mat_n\n",
      "\n",
      "done gen mat_n\n",
      "\n",
      "done computing basic gstat, will compute trends\n",
      "\n"
     ]
    },
    {
     "name": "stdout",
     "output_type": "stream",
     "text": [
      "..done\n"
     ]
    },
    {
     "name": "stderr",
     "output_type": "stream",
     "text": [
      "will downsample the matrix, N= 1791\n",
      "\n",
      "will build balanced knn graph on 79329 cells and 1526 genes, this can be a bit heavy for >20,000 cells\n",
      "\n",
      "sim graph is missing 17 nodes, out of 79329\n",
      "\n"
     ]
    }
   ],
   "source": [
    "gen_cgraph(\"elf5_embexe\")"
   ]
  },
  {
   "cell_type": "code",
   "execution_count": 15,
   "id": "027e6ef9",
   "metadata": {},
   "outputs": [],
   "source": [
    "source(\"scripts/elf5/transfer_cell_type_annotation.R\")\n",
    "transfer_color_chimera_tetraploid(mat_nm = \"elf5_embexe\",ref_mc_id = \"embexe_recolored\")"
   ]
  },
  {
   "cell_type": "code",
   "execution_count": 8,
   "id": "ba46ad1a",
   "metadata": {},
   "outputs": [
    {
     "name": "stderr",
     "output_type": "stream",
     "text": [
      "Loading required package: slam\n",
      "\n",
      "Loading required package: sparsesvd\n",
      "\n"
     ]
    }
   ],
   "source": [
    "source(\"scripts/elf5/transfer_time_annotation.r\")"
   ]
  },
  {
   "cell_type": "code",
   "execution_count": 9,
   "id": "e0a23f32",
   "metadata": {},
   "outputs": [],
   "source": [
    "mat_nm = \"elf5_embexe\""
   ]
  },
  {
   "cell_type": "code",
   "execution_count": 15,
   "id": "e4e230c6",
   "metadata": {},
   "outputs": [],
   "source": [
    "mc_wt = scdb_mc(\"embexe_recolored\")"
   ]
  },
  {
   "cell_type": "code",
   "execution_count": 16,
   "id": "994b2ae0",
   "metadata": {},
   "outputs": [
    {
     "data": {
      "text/html": [
       "<table class=\"dataframe\">\n",
       "<caption>A data.frame: 50 × 3</caption>\n",
       "<thead>\n",
       "\t<tr><th></th><th scope=col>group</th><th scope=col>color</th><th scope=col>gene</th></tr>\n",
       "\t<tr><th></th><th scope=col>&lt;chr&gt;</th><th scope=col>&lt;chr&gt;</th><th scope=col>&lt;chr&gt;</th></tr>\n",
       "</thead>\n",
       "<tbody>\n",
       "\t<tr><th scope=row>1</th><td>Forebrain/Midbrain/Hindbrain   </td><td>#647A4F</td><td></td></tr>\n",
       "\t<tr><th scope=row>2</th><td>Rostral neural plate           </td><td>#649146</td><td></td></tr>\n",
       "\t<tr><th scope=row>3</th><td>Surface ectoderm               </td><td>#f7f79e</td><td></td></tr>\n",
       "\t<tr><th scope=row>4</th><td>Neural crest                   </td><td>#C3C388</td><td></td></tr>\n",
       "\t<tr><th scope=row>5</th><td>Caudal neural plate            </td><td>#354E23</td><td></td></tr>\n",
       "\t<tr><th scope=row>6</th><td>Neural tube/Floor plate        </td><td>#CDE088</td><td></td></tr>\n",
       "\t<tr><th scope=row>7</th><td>Definitive ectoderm            </td><td>#90BF75</td><td></td></tr>\n",
       "\t<tr><th scope=row>8</th><td>Tail bud - neural              </td><td>#8e7e59</td><td></td></tr>\n",
       "\t<tr><th scope=row>9</th><td>Epiblast                       </td><td>#635547</td><td></td></tr>\n",
       "\t<tr><th scope=row>10</th><td>PGC                            </td><td>#FACB12</td><td></td></tr>\n",
       "\t<tr><th scope=row>11</th><td>Caudal epiblast                </td><td>#9e6762</td><td></td></tr>\n",
       "\t<tr><th scope=row>12</th><td>Primitive streak               </td><td>#DABE99</td><td></td></tr>\n",
       "\t<tr><th scope=row>13</th><td>Tail bud - mesoderm            </td><td>#703C37</td><td></td></tr>\n",
       "\t<tr><th scope=row>14</th><td>Late nascent mesoderm          </td><td>#DFCDE4</td><td></td></tr>\n",
       "\t<tr><th scope=row>15</th><td>Early nascent mesoderm         </td><td>#C594BF</td><td></td></tr>\n",
       "\t<tr><th scope=row>16</th><td>Caudal mesoderm                </td><td>#1a3f52</td><td></td></tr>\n",
       "\t<tr><th scope=row>17</th><td>Presomitic mesoderm            </td><td>#A8DBF7</td><td></td></tr>\n",
       "\t<tr><th scope=row>18</th><td>Somitic mesoderm               </td><td>#1AA2EB</td><td></td></tr>\n",
       "\t<tr><th scope=row>19</th><td>Paraxial mesoderm              </td><td>#408DA1</td><td></td></tr>\n",
       "\t<tr><th scope=row>20</th><td>Rostral mesoderm               </td><td>#8DB5CE</td><td></td></tr>\n",
       "\t<tr><th scope=row>21</th><td>Cardiopharyngeal mesoderm      </td><td>#53f1fc</td><td></td></tr>\n",
       "\t<tr><th scope=row>22</th><td>Cardiomyocytes                 </td><td>#B51D8D</td><td></td></tr>\n",
       "\t<tr><th scope=row>23</th><td>Amnion/Chorion progenitor      </td><td>#cc7818</td><td></td></tr>\n",
       "\t<tr><th scope=row>24</th><td>Amnion/Chorion                 </td><td>#824A09</td><td></td></tr>\n",
       "\t<tr><th scope=row>25</th><td>Lateral &amp; intermediate mesoderm</td><td>#45d1c5</td><td></td></tr>\n",
       "\t<tr><th scope=row>26</th><td>ExE mesoderm                   </td><td>#8870ad</td><td></td></tr>\n",
       "\t<tr><th scope=row>27</th><td>Allantois                      </td><td>#532C8A</td><td></td></tr>\n",
       "\t<tr><th scope=row>28</th><td>Haematoendothelial progenitors </td><td>#FBBE92</td><td></td></tr>\n",
       "\t<tr><th scope=row>29</th><td>Endothelial cells              </td><td>#ff891c</td><td></td></tr>\n",
       "\t<tr><th scope=row>30</th><td>Blood progenitors              </td><td>#c9a997</td><td></td></tr>\n",
       "\t<tr><th scope=row>31</th><td>Erythroid 1                    </td><td>#C72228</td><td></td></tr>\n",
       "\t<tr><th scope=row>32</th><td>Erythroid 2                    </td><td>#D96B2B</td><td></td></tr>\n",
       "\t<tr><th scope=row>33</th><td>Erythroid 3                    </td><td>#FF5608</td><td></td></tr>\n",
       "\t<tr><th scope=row>34</th><td>Anterior Primitive Streak      </td><td>#c19f70</td><td></td></tr>\n",
       "\t<tr><th scope=row>35</th><td>Node/Notochord                 </td><td>#0F4A9C</td><td></td></tr>\n",
       "\t<tr><th scope=row>36</th><td>Definitive endoderm            </td><td>#F397C0</td><td></td></tr>\n",
       "\t<tr><th scope=row>37</th><td>Gut                            </td><td>#EF5A9D</td><td></td></tr>\n",
       "\t<tr><th scope=row>38</th><td>Hindgut                        </td><td>#F25CD4</td><td></td></tr>\n",
       "\t<tr><th scope=row>39</th><td>Visceral endoderm              </td><td>#F6BFCB</td><td></td></tr>\n",
       "\t<tr><th scope=row>40</th><td>Visceral endoderm - anterior   </td><td>#BA9BA1</td><td></td></tr>\n",
       "\t<tr><th scope=row>41</th><td>ExE visceral endoderm          </td><td>#7F6874</td><td></td></tr>\n",
       "\t<tr><th scope=row>42</th><td>Parietal endoderm              </td><td>#1A1A1A</td><td></td></tr>\n",
       "\t<tr><th scope=row>43</th><td>Chorion                        </td><td>#ffad1e</td><td></td></tr>\n",
       "\t<tr><th scope=row>44</th><td>Chorion progenitors            </td><td>#ffd854</td><td></td></tr>\n",
       "\t<tr><th scope=row>45</th><td>TSC2                           </td><td>#b2b2b2</td><td></td></tr>\n",
       "\t<tr><th scope=row>46</th><td>SpT-Gly                        </td><td>#19ce5b</td><td></td></tr>\n",
       "\t<tr><th scope=row>47</th><td>EPC progenitors                </td><td>#d6616b</td><td></td></tr>\n",
       "\t<tr><th scope=row>48</th><td>TGC progenitors                </td><td>#67000d</td><td></td></tr>\n",
       "\t<tr><th scope=row>49</th><td>p-TGC                          </td><td>#2e7ebc</td><td></td></tr>\n",
       "\t<tr><th scope=row>50</th><td>SpA-TGC                        </td><td>#ff78fa</td><td></td></tr>\n",
       "</tbody>\n",
       "</table>\n"
      ],
      "text/latex": [
       "A data.frame: 50 × 3\n",
       "\\begin{tabular}{r|lll}\n",
       "  & group & color & gene\\\\\n",
       "  & <chr> & <chr> & <chr>\\\\\n",
       "\\hline\n",
       "\t1 & Forebrain/Midbrain/Hindbrain    & \\#647A4F & \\\\\n",
       "\t2 & Rostral neural plate            & \\#649146 & \\\\\n",
       "\t3 & Surface ectoderm                & \\#f7f79e & \\\\\n",
       "\t4 & Neural crest                    & \\#C3C388 & \\\\\n",
       "\t5 & Caudal neural plate             & \\#354E23 & \\\\\n",
       "\t6 & Neural tube/Floor plate         & \\#CDE088 & \\\\\n",
       "\t7 & Definitive ectoderm             & \\#90BF75 & \\\\\n",
       "\t8 & Tail bud - neural               & \\#8e7e59 & \\\\\n",
       "\t9 & Epiblast                        & \\#635547 & \\\\\n",
       "\t10 & PGC                             & \\#FACB12 & \\\\\n",
       "\t11 & Caudal epiblast                 & \\#9e6762 & \\\\\n",
       "\t12 & Primitive streak                & \\#DABE99 & \\\\\n",
       "\t13 & Tail bud - mesoderm             & \\#703C37 & \\\\\n",
       "\t14 & Late nascent mesoderm           & \\#DFCDE4 & \\\\\n",
       "\t15 & Early nascent mesoderm          & \\#C594BF & \\\\\n",
       "\t16 & Caudal mesoderm                 & \\#1a3f52 & \\\\\n",
       "\t17 & Presomitic mesoderm             & \\#A8DBF7 & \\\\\n",
       "\t18 & Somitic mesoderm                & \\#1AA2EB & \\\\\n",
       "\t19 & Paraxial mesoderm               & \\#408DA1 & \\\\\n",
       "\t20 & Rostral mesoderm                & \\#8DB5CE & \\\\\n",
       "\t21 & Cardiopharyngeal mesoderm       & \\#53f1fc & \\\\\n",
       "\t22 & Cardiomyocytes                  & \\#B51D8D & \\\\\n",
       "\t23 & Amnion/Chorion progenitor       & \\#cc7818 & \\\\\n",
       "\t24 & Amnion/Chorion                  & \\#824A09 & \\\\\n",
       "\t25 & Lateral \\& intermediate mesoderm & \\#45d1c5 & \\\\\n",
       "\t26 & ExE mesoderm                    & \\#8870ad & \\\\\n",
       "\t27 & Allantois                       & \\#532C8A & \\\\\n",
       "\t28 & Haematoendothelial progenitors  & \\#FBBE92 & \\\\\n",
       "\t29 & Endothelial cells               & \\#ff891c & \\\\\n",
       "\t30 & Blood progenitors               & \\#c9a997 & \\\\\n",
       "\t31 & Erythroid 1                     & \\#C72228 & \\\\\n",
       "\t32 & Erythroid 2                     & \\#D96B2B & \\\\\n",
       "\t33 & Erythroid 3                     & \\#FF5608 & \\\\\n",
       "\t34 & Anterior Primitive Streak       & \\#c19f70 & \\\\\n",
       "\t35 & Node/Notochord                  & \\#0F4A9C & \\\\\n",
       "\t36 & Definitive endoderm             & \\#F397C0 & \\\\\n",
       "\t37 & Gut                             & \\#EF5A9D & \\\\\n",
       "\t38 & Hindgut                         & \\#F25CD4 & \\\\\n",
       "\t39 & Visceral endoderm               & \\#F6BFCB & \\\\\n",
       "\t40 & Visceral endoderm - anterior    & \\#BA9BA1 & \\\\\n",
       "\t41 & ExE visceral endoderm           & \\#7F6874 & \\\\\n",
       "\t42 & Parietal endoderm               & \\#1A1A1A & \\\\\n",
       "\t43 & Chorion                         & \\#ffad1e & \\\\\n",
       "\t44 & Chorion progenitors             & \\#ffd854 & \\\\\n",
       "\t45 & TSC2                            & \\#b2b2b2 & \\\\\n",
       "\t46 & SpT-Gly                         & \\#19ce5b & \\\\\n",
       "\t47 & EPC progenitors                 & \\#d6616b & \\\\\n",
       "\t48 & TGC progenitors                 & \\#67000d & \\\\\n",
       "\t49 & p-TGC                           & \\#2e7ebc & \\\\\n",
       "\t50 & SpA-TGC                         & \\#ff78fa & \\\\\n",
       "\\end{tabular}\n"
      ],
      "text/markdown": [
       "\n",
       "A data.frame: 50 × 3\n",
       "\n",
       "| <!--/--> | group &lt;chr&gt; | color &lt;chr&gt; | gene &lt;chr&gt; |\n",
       "|---|---|---|---|\n",
       "| 1 | Forebrain/Midbrain/Hindbrain    | #647A4F | <!----> |\n",
       "| 2 | Rostral neural plate            | #649146 | <!----> |\n",
       "| 3 | Surface ectoderm                | #f7f79e | <!----> |\n",
       "| 4 | Neural crest                    | #C3C388 | <!----> |\n",
       "| 5 | Caudal neural plate             | #354E23 | <!----> |\n",
       "| 6 | Neural tube/Floor plate         | #CDE088 | <!----> |\n",
       "| 7 | Definitive ectoderm             | #90BF75 | <!----> |\n",
       "| 8 | Tail bud - neural               | #8e7e59 | <!----> |\n",
       "| 9 | Epiblast                        | #635547 | <!----> |\n",
       "| 10 | PGC                             | #FACB12 | <!----> |\n",
       "| 11 | Caudal epiblast                 | #9e6762 | <!----> |\n",
       "| 12 | Primitive streak                | #DABE99 | <!----> |\n",
       "| 13 | Tail bud - mesoderm             | #703C37 | <!----> |\n",
       "| 14 | Late nascent mesoderm           | #DFCDE4 | <!----> |\n",
       "| 15 | Early nascent mesoderm          | #C594BF | <!----> |\n",
       "| 16 | Caudal mesoderm                 | #1a3f52 | <!----> |\n",
       "| 17 | Presomitic mesoderm             | #A8DBF7 | <!----> |\n",
       "| 18 | Somitic mesoderm                | #1AA2EB | <!----> |\n",
       "| 19 | Paraxial mesoderm               | #408DA1 | <!----> |\n",
       "| 20 | Rostral mesoderm                | #8DB5CE | <!----> |\n",
       "| 21 | Cardiopharyngeal mesoderm       | #53f1fc | <!----> |\n",
       "| 22 | Cardiomyocytes                  | #B51D8D | <!----> |\n",
       "| 23 | Amnion/Chorion progenitor       | #cc7818 | <!----> |\n",
       "| 24 | Amnion/Chorion                  | #824A09 | <!----> |\n",
       "| 25 | Lateral &amp; intermediate mesoderm | #45d1c5 | <!----> |\n",
       "| 26 | ExE mesoderm                    | #8870ad | <!----> |\n",
       "| 27 | Allantois                       | #532C8A | <!----> |\n",
       "| 28 | Haematoendothelial progenitors  | #FBBE92 | <!----> |\n",
       "| 29 | Endothelial cells               | #ff891c | <!----> |\n",
       "| 30 | Blood progenitors               | #c9a997 | <!----> |\n",
       "| 31 | Erythroid 1                     | #C72228 | <!----> |\n",
       "| 32 | Erythroid 2                     | #D96B2B | <!----> |\n",
       "| 33 | Erythroid 3                     | #FF5608 | <!----> |\n",
       "| 34 | Anterior Primitive Streak       | #c19f70 | <!----> |\n",
       "| 35 | Node/Notochord                  | #0F4A9C | <!----> |\n",
       "| 36 | Definitive endoderm             | #F397C0 | <!----> |\n",
       "| 37 | Gut                             | #EF5A9D | <!----> |\n",
       "| 38 | Hindgut                         | #F25CD4 | <!----> |\n",
       "| 39 | Visceral endoderm               | #F6BFCB | <!----> |\n",
       "| 40 | Visceral endoderm - anterior    | #BA9BA1 | <!----> |\n",
       "| 41 | ExE visceral endoderm           | #7F6874 | <!----> |\n",
       "| 42 | Parietal endoderm               | #1A1A1A | <!----> |\n",
       "| 43 | Chorion                         | #ffad1e | <!----> |\n",
       "| 44 | Chorion progenitors             | #ffd854 | <!----> |\n",
       "| 45 | TSC2                            | #b2b2b2 | <!----> |\n",
       "| 46 | SpT-Gly                         | #19ce5b | <!----> |\n",
       "| 47 | EPC progenitors                 | #d6616b | <!----> |\n",
       "| 48 | TGC progenitors                 | #67000d | <!----> |\n",
       "| 49 | p-TGC                           | #2e7ebc | <!----> |\n",
       "| 50 | SpA-TGC                         | #ff78fa | <!----> |\n",
       "\n"
      ],
      "text/plain": [
       "   group                           color   gene\n",
       "1  Forebrain/Midbrain/Hindbrain    #647A4F     \n",
       "2  Rostral neural plate            #649146     \n",
       "3  Surface ectoderm                #f7f79e     \n",
       "4  Neural crest                    #C3C388     \n",
       "5  Caudal neural plate             #354E23     \n",
       "6  Neural tube/Floor plate         #CDE088     \n",
       "7  Definitive ectoderm             #90BF75     \n",
       "8  Tail bud - neural               #8e7e59     \n",
       "9  Epiblast                        #635547     \n",
       "10 PGC                             #FACB12     \n",
       "11 Caudal epiblast                 #9e6762     \n",
       "12 Primitive streak                #DABE99     \n",
       "13 Tail bud - mesoderm             #703C37     \n",
       "14 Late nascent mesoderm           #DFCDE4     \n",
       "15 Early nascent mesoderm          #C594BF     \n",
       "16 Caudal mesoderm                 #1a3f52     \n",
       "17 Presomitic mesoderm             #A8DBF7     \n",
       "18 Somitic mesoderm                #1AA2EB     \n",
       "19 Paraxial mesoderm               #408DA1     \n",
       "20 Rostral mesoderm                #8DB5CE     \n",
       "21 Cardiopharyngeal mesoderm       #53f1fc     \n",
       "22 Cardiomyocytes                  #B51D8D     \n",
       "23 Amnion/Chorion progenitor       #cc7818     \n",
       "24 Amnion/Chorion                  #824A09     \n",
       "25 Lateral & intermediate mesoderm #45d1c5     \n",
       "26 ExE mesoderm                    #8870ad     \n",
       "27 Allantois                       #532C8A     \n",
       "28 Haematoendothelial progenitors  #FBBE92     \n",
       "29 Endothelial cells               #ff891c     \n",
       "30 Blood progenitors               #c9a997     \n",
       "31 Erythroid 1                     #C72228     \n",
       "32 Erythroid 2                     #D96B2B     \n",
       "33 Erythroid 3                     #FF5608     \n",
       "34 Anterior Primitive Streak       #c19f70     \n",
       "35 Node/Notochord                  #0F4A9C     \n",
       "36 Definitive endoderm             #F397C0     \n",
       "37 Gut                             #EF5A9D     \n",
       "38 Hindgut                         #F25CD4     \n",
       "39 Visceral endoderm               #F6BFCB     \n",
       "40 Visceral endoderm - anterior    #BA9BA1     \n",
       "41 ExE visceral endoderm           #7F6874     \n",
       "42 Parietal endoderm               #1A1A1A     \n",
       "43 Chorion                         #ffad1e     \n",
       "44 Chorion progenitors             #ffd854     \n",
       "45 TSC2                            #b2b2b2     \n",
       "46 SpT-Gly                         #19ce5b     \n",
       "47 EPC progenitors                 #d6616b     \n",
       "48 TGC progenitors                 #67000d     \n",
       "49 p-TGC                           #2e7ebc     \n",
       "50 SpA-TGC                         #ff78fa     "
      ]
     },
     "metadata": {},
     "output_type": "display_data"
    }
   ],
   "source": [
    "mc_wt@color_key"
   ]
  },
  {
   "cell_type": "code",
   "execution_count": 17,
   "id": "e1d9996c",
   "metadata": {},
   "outputs": [],
   "source": [
    "elf5_timing(mat_nm = \"elf5_embexe\",excluded_colors = mc_wt@color_key$color[39:50])"
   ]
  },
  {
   "cell_type": "code",
   "execution_count": null,
   "id": "16573f39",
   "metadata": {},
   "outputs": [],
   "source": []
  }
 ],
 "metadata": {
  "kernelspec": {
   "display_name": "R",
   "language": "R",
   "name": "ir353"
  },
  "language_info": {
   "codemirror_mode": "r",
   "file_extension": ".r",
   "mimetype": "text/x-r-source",
   "name": "R",
   "pygments_lexer": "r",
   "version": "4.0.5"
  }
 },
 "nbformat": 4,
 "nbformat_minor": 5
}
