{
 "cells": [
  {
   "cell_type": "markdown",
   "id": "38c5c0d9",
   "metadata": {},
   "source": [
    "### Split transcriptional manifold into embryonic and EXE part"
   ]
  },
  {
   "cell_type": "code",
   "execution_count": 1,
   "id": "2dd68326",
   "metadata": {},
   "outputs": [],
   "source": [
    "setwd(here::here())"
   ]
  },
  {
   "cell_type": "code",
   "execution_count": 2,
   "id": "55c71854",
   "metadata": {},
   "outputs": [
    {
     "name": "stderr",
     "output_type": "stream",
     "text": [
      "\n",
      "Attaching package: 'dplyr'\n",
      "\n",
      "\n",
      "The following objects are masked from 'package:stats':\n",
      "\n",
      "    filter, lag\n",
      "\n",
      "\n",
      "The following objects are masked from 'package:base':\n",
      "\n",
      "    intersect, setdiff, setequal, union\n",
      "\n",
      "\n"
     ]
    }
   ],
   "source": [
    "library(\"metacell\")\n",
    "library(tgstat)\n",
    "library(dplyr)\n",
    "library(Matrix)"
   ]
  },
  {
   "cell_type": "code",
   "execution_count": 3,
   "id": "39f62b5e",
   "metadata": {},
   "outputs": [
    {
     "name": "stderr",
     "output_type": "stream",
     "text": [
      "initializing scdb to scrna_db/\n",
      "\n"
     ]
    }
   ],
   "source": [
    "scdb_init(\"scrna_db/\",force_reinit = T)\n",
    "scfigs_init('figs')"
   ]
  },
  {
   "cell_type": "code",
   "execution_count": 4,
   "id": "d3410e2f",
   "metadata": {},
   "outputs": [
    {
     "data": {
      "text/html": [
       "<table class=\"dataframe\">\n",
       "<caption>A data.frame: 50 × 3</caption>\n",
       "<thead>\n",
       "\t<tr><th></th><th scope=col>group</th><th scope=col>color</th><th scope=col>gene</th></tr>\n",
       "\t<tr><th></th><th scope=col>&lt;chr&gt;</th><th scope=col>&lt;chr&gt;</th><th scope=col>&lt;chr&gt;</th></tr>\n",
       "</thead>\n",
       "<tbody>\n",
       "\t<tr><th scope=row>1</th><td>Forebrain/Midbrain/Hindbrain   </td><td>#647A4F</td><td></td></tr>\n",
       "\t<tr><th scope=row>2</th><td>Rostral neural plate           </td><td>#649146</td><td></td></tr>\n",
       "\t<tr><th scope=row>3</th><td>Surface ectoderm               </td><td>#f7f79e</td><td></td></tr>\n",
       "\t<tr><th scope=row>4</th><td>Neural crest                   </td><td>#C3C388</td><td></td></tr>\n",
       "\t<tr><th scope=row>5</th><td>Caudal neural plate            </td><td>#354E23</td><td></td></tr>\n",
       "\t<tr><th scope=row>6</th><td>Neural tube/Floor plate        </td><td>#CDE088</td><td></td></tr>\n",
       "\t<tr><th scope=row>7</th><td>Definitive ectoderm            </td><td>#90BF75</td><td></td></tr>\n",
       "\t<tr><th scope=row>8</th><td>Tail bud - neural              </td><td>#8e7e59</td><td></td></tr>\n",
       "\t<tr><th scope=row>9</th><td>Epiblast                       </td><td>#635547</td><td></td></tr>\n",
       "\t<tr><th scope=row>10</th><td>PGC                            </td><td>#FACB12</td><td></td></tr>\n",
       "\t<tr><th scope=row>11</th><td>Caudal epiblast                </td><td>#9e6762</td><td></td></tr>\n",
       "\t<tr><th scope=row>12</th><td>Primitive streak               </td><td>#DABE99</td><td></td></tr>\n",
       "\t<tr><th scope=row>13</th><td>Tail bud - mesoderm            </td><td>#703C37</td><td></td></tr>\n",
       "\t<tr><th scope=row>14</th><td>Late nascent mesoderm          </td><td>#DFCDE4</td><td></td></tr>\n",
       "\t<tr><th scope=row>15</th><td>Early nascent mesoderm         </td><td>#C594BF</td><td></td></tr>\n",
       "\t<tr><th scope=row>16</th><td>Caudal mesoderm                </td><td>#1a3f52</td><td></td></tr>\n",
       "\t<tr><th scope=row>17</th><td>Presomitic mesoderm            </td><td>#A8DBF7</td><td></td></tr>\n",
       "\t<tr><th scope=row>18</th><td>Somitic mesoderm               </td><td>#1AA2EB</td><td></td></tr>\n",
       "\t<tr><th scope=row>19</th><td>Paraxial mesoderm              </td><td>#408DA1</td><td></td></tr>\n",
       "\t<tr><th scope=row>20</th><td>Rostral mesoderm               </td><td>#8DB5CE</td><td></td></tr>\n",
       "\t<tr><th scope=row>21</th><td>Cardiopharyngeal mesoderm      </td><td>#53f1fc</td><td></td></tr>\n",
       "\t<tr><th scope=row>22</th><td>Cardiomyocytes                 </td><td>#B51D8D</td><td></td></tr>\n",
       "\t<tr><th scope=row>23</th><td>Amnion/Chorion progenitor      </td><td>#cc7818</td><td></td></tr>\n",
       "\t<tr><th scope=row>24</th><td>Amnion/Chorion                 </td><td>#824A09</td><td></td></tr>\n",
       "\t<tr><th scope=row>25</th><td>Lateral &amp; intermediate mesoderm</td><td>#45d1c5</td><td></td></tr>\n",
       "\t<tr><th scope=row>26</th><td>ExE mesoderm                   </td><td>#8870ad</td><td></td></tr>\n",
       "\t<tr><th scope=row>27</th><td>Allantois                      </td><td>#532C8A</td><td></td></tr>\n",
       "\t<tr><th scope=row>28</th><td>Haematoendothelial progenitors </td><td>#FBBE92</td><td></td></tr>\n",
       "\t<tr><th scope=row>29</th><td>Endothelial cells              </td><td>#ff891c</td><td></td></tr>\n",
       "\t<tr><th scope=row>30</th><td>Blood progenitors              </td><td>#c9a997</td><td></td></tr>\n",
       "\t<tr><th scope=row>31</th><td>Erythroid 1                    </td><td>#C72228</td><td></td></tr>\n",
       "\t<tr><th scope=row>32</th><td>Erythroid 2                    </td><td>#D96B2B</td><td></td></tr>\n",
       "\t<tr><th scope=row>33</th><td>Erythroid 3                    </td><td>#FF5608</td><td></td></tr>\n",
       "\t<tr><th scope=row>34</th><td>Anterior Primitive Streak      </td><td>#c19f70</td><td></td></tr>\n",
       "\t<tr><th scope=row>35</th><td>Node/Notochord                 </td><td>#0F4A9C</td><td></td></tr>\n",
       "\t<tr><th scope=row>36</th><td>Definitive endoderm            </td><td>#F397C0</td><td></td></tr>\n",
       "\t<tr><th scope=row>37</th><td>Gut                            </td><td>#EF5A9D</td><td></td></tr>\n",
       "\t<tr><th scope=row>38</th><td>Hindgut                        </td><td>#F25CD4</td><td></td></tr>\n",
       "\t<tr><th scope=row>39</th><td>Visceral endoderm              </td><td>#F6BFCB</td><td></td></tr>\n",
       "\t<tr><th scope=row>40</th><td>Visceral endoderm - anterior   </td><td>#BA9BA1</td><td></td></tr>\n",
       "\t<tr><th scope=row>41</th><td>ExE visceral endoderm          </td><td>#7F6874</td><td></td></tr>\n",
       "\t<tr><th scope=row>42</th><td>Parietal endoderm              </td><td>#1A1A1A</td><td></td></tr>\n",
       "\t<tr><th scope=row>43</th><td>Chorion                        </td><td>#ffad1e</td><td></td></tr>\n",
       "\t<tr><th scope=row>44</th><td>Chorion progenitors            </td><td>#ffd854</td><td></td></tr>\n",
       "\t<tr><th scope=row>45</th><td>Intermediate Chorion           </td><td>#b2b2b2</td><td></td></tr>\n",
       "\t<tr><th scope=row>46</th><td>SpT-Gly                        </td><td>#19ce5b</td><td></td></tr>\n",
       "\t<tr><th scope=row>47</th><td>EPC progenitors                </td><td>#d6616b</td><td></td></tr>\n",
       "\t<tr><th scope=row>48</th><td>TGC progenitors                </td><td>#67000d</td><td></td></tr>\n",
       "\t<tr><th scope=row>49</th><td>p-TGC                          </td><td>#2e7ebc</td><td></td></tr>\n",
       "\t<tr><th scope=row>50</th><td>SpA-TGC                        </td><td>#ff78fa</td><td></td></tr>\n",
       "</tbody>\n",
       "</table>\n"
      ],
      "text/latex": [
       "A data.frame: 50 × 3\n",
       "\\begin{tabular}{r|lll}\n",
       "  & group & color & gene\\\\\n",
       "  & <chr> & <chr> & <chr>\\\\\n",
       "\\hline\n",
       "\t1 & Forebrain/Midbrain/Hindbrain    & \\#647A4F & \\\\\n",
       "\t2 & Rostral neural plate            & \\#649146 & \\\\\n",
       "\t3 & Surface ectoderm                & \\#f7f79e & \\\\\n",
       "\t4 & Neural crest                    & \\#C3C388 & \\\\\n",
       "\t5 & Caudal neural plate             & \\#354E23 & \\\\\n",
       "\t6 & Neural tube/Floor plate         & \\#CDE088 & \\\\\n",
       "\t7 & Definitive ectoderm             & \\#90BF75 & \\\\\n",
       "\t8 & Tail bud - neural               & \\#8e7e59 & \\\\\n",
       "\t9 & Epiblast                        & \\#635547 & \\\\\n",
       "\t10 & PGC                             & \\#FACB12 & \\\\\n",
       "\t11 & Caudal epiblast                 & \\#9e6762 & \\\\\n",
       "\t12 & Primitive streak                & \\#DABE99 & \\\\\n",
       "\t13 & Tail bud - mesoderm             & \\#703C37 & \\\\\n",
       "\t14 & Late nascent mesoderm           & \\#DFCDE4 & \\\\\n",
       "\t15 & Early nascent mesoderm          & \\#C594BF & \\\\\n",
       "\t16 & Caudal mesoderm                 & \\#1a3f52 & \\\\\n",
       "\t17 & Presomitic mesoderm             & \\#A8DBF7 & \\\\\n",
       "\t18 & Somitic mesoderm                & \\#1AA2EB & \\\\\n",
       "\t19 & Paraxial mesoderm               & \\#408DA1 & \\\\\n",
       "\t20 & Rostral mesoderm                & \\#8DB5CE & \\\\\n",
       "\t21 & Cardiopharyngeal mesoderm       & \\#53f1fc & \\\\\n",
       "\t22 & Cardiomyocytes                  & \\#B51D8D & \\\\\n",
       "\t23 & Amnion/Chorion progenitor       & \\#cc7818 & \\\\\n",
       "\t24 & Amnion/Chorion                  & \\#824A09 & \\\\\n",
       "\t25 & Lateral \\& intermediate mesoderm & \\#45d1c5 & \\\\\n",
       "\t26 & ExE mesoderm                    & \\#8870ad & \\\\\n",
       "\t27 & Allantois                       & \\#532C8A & \\\\\n",
       "\t28 & Haematoendothelial progenitors  & \\#FBBE92 & \\\\\n",
       "\t29 & Endothelial cells               & \\#ff891c & \\\\\n",
       "\t30 & Blood progenitors               & \\#c9a997 & \\\\\n",
       "\t31 & Erythroid 1                     & \\#C72228 & \\\\\n",
       "\t32 & Erythroid 2                     & \\#D96B2B & \\\\\n",
       "\t33 & Erythroid 3                     & \\#FF5608 & \\\\\n",
       "\t34 & Anterior Primitive Streak       & \\#c19f70 & \\\\\n",
       "\t35 & Node/Notochord                  & \\#0F4A9C & \\\\\n",
       "\t36 & Definitive endoderm             & \\#F397C0 & \\\\\n",
       "\t37 & Gut                             & \\#EF5A9D & \\\\\n",
       "\t38 & Hindgut                         & \\#F25CD4 & \\\\\n",
       "\t39 & Visceral endoderm               & \\#F6BFCB & \\\\\n",
       "\t40 & Visceral endoderm - anterior    & \\#BA9BA1 & \\\\\n",
       "\t41 & ExE visceral endoderm           & \\#7F6874 & \\\\\n",
       "\t42 & Parietal endoderm               & \\#1A1A1A & \\\\\n",
       "\t43 & Chorion                         & \\#ffad1e & \\\\\n",
       "\t44 & Chorion progenitors             & \\#ffd854 & \\\\\n",
       "\t45 & Intermediate Chorion            & \\#b2b2b2 & \\\\\n",
       "\t46 & SpT-Gly                         & \\#19ce5b & \\\\\n",
       "\t47 & EPC progenitors                 & \\#d6616b & \\\\\n",
       "\t48 & TGC progenitors                 & \\#67000d & \\\\\n",
       "\t49 & p-TGC                           & \\#2e7ebc & \\\\\n",
       "\t50 & SpA-TGC                         & \\#ff78fa & \\\\\n",
       "\\end{tabular}\n"
      ],
      "text/markdown": [
       "\n",
       "A data.frame: 50 × 3\n",
       "\n",
       "| <!--/--> | group &lt;chr&gt; | color &lt;chr&gt; | gene &lt;chr&gt; |\n",
       "|---|---|---|---|\n",
       "| 1 | Forebrain/Midbrain/Hindbrain    | #647A4F | <!----> |\n",
       "| 2 | Rostral neural plate            | #649146 | <!----> |\n",
       "| 3 | Surface ectoderm                | #f7f79e | <!----> |\n",
       "| 4 | Neural crest                    | #C3C388 | <!----> |\n",
       "| 5 | Caudal neural plate             | #354E23 | <!----> |\n",
       "| 6 | Neural tube/Floor plate         | #CDE088 | <!----> |\n",
       "| 7 | Definitive ectoderm             | #90BF75 | <!----> |\n",
       "| 8 | Tail bud - neural               | #8e7e59 | <!----> |\n",
       "| 9 | Epiblast                        | #635547 | <!----> |\n",
       "| 10 | PGC                             | #FACB12 | <!----> |\n",
       "| 11 | Caudal epiblast                 | #9e6762 | <!----> |\n",
       "| 12 | Primitive streak                | #DABE99 | <!----> |\n",
       "| 13 | Tail bud - mesoderm             | #703C37 | <!----> |\n",
       "| 14 | Late nascent mesoderm           | #DFCDE4 | <!----> |\n",
       "| 15 | Early nascent mesoderm          | #C594BF | <!----> |\n",
       "| 16 | Caudal mesoderm                 | #1a3f52 | <!----> |\n",
       "| 17 | Presomitic mesoderm             | #A8DBF7 | <!----> |\n",
       "| 18 | Somitic mesoderm                | #1AA2EB | <!----> |\n",
       "| 19 | Paraxial mesoderm               | #408DA1 | <!----> |\n",
       "| 20 | Rostral mesoderm                | #8DB5CE | <!----> |\n",
       "| 21 | Cardiopharyngeal mesoderm       | #53f1fc | <!----> |\n",
       "| 22 | Cardiomyocytes                  | #B51D8D | <!----> |\n",
       "| 23 | Amnion/Chorion progenitor       | #cc7818 | <!----> |\n",
       "| 24 | Amnion/Chorion                  | #824A09 | <!----> |\n",
       "| 25 | Lateral &amp; intermediate mesoderm | #45d1c5 | <!----> |\n",
       "| 26 | ExE mesoderm                    | #8870ad | <!----> |\n",
       "| 27 | Allantois                       | #532C8A | <!----> |\n",
       "| 28 | Haematoendothelial progenitors  | #FBBE92 | <!----> |\n",
       "| 29 | Endothelial cells               | #ff891c | <!----> |\n",
       "| 30 | Blood progenitors               | #c9a997 | <!----> |\n",
       "| 31 | Erythroid 1                     | #C72228 | <!----> |\n",
       "| 32 | Erythroid 2                     | #D96B2B | <!----> |\n",
       "| 33 | Erythroid 3                     | #FF5608 | <!----> |\n",
       "| 34 | Anterior Primitive Streak       | #c19f70 | <!----> |\n",
       "| 35 | Node/Notochord                  | #0F4A9C | <!----> |\n",
       "| 36 | Definitive endoderm             | #F397C0 | <!----> |\n",
       "| 37 | Gut                             | #EF5A9D | <!----> |\n",
       "| 38 | Hindgut                         | #F25CD4 | <!----> |\n",
       "| 39 | Visceral endoderm               | #F6BFCB | <!----> |\n",
       "| 40 | Visceral endoderm - anterior    | #BA9BA1 | <!----> |\n",
       "| 41 | ExE visceral endoderm           | #7F6874 | <!----> |\n",
       "| 42 | Parietal endoderm               | #1A1A1A | <!----> |\n",
       "| 43 | Chorion                         | #ffad1e | <!----> |\n",
       "| 44 | Chorion progenitors             | #ffd854 | <!----> |\n",
       "| 45 | Intermediate Chorion            | #b2b2b2 | <!----> |\n",
       "| 46 | SpT-Gly                         | #19ce5b | <!----> |\n",
       "| 47 | EPC progenitors                 | #d6616b | <!----> |\n",
       "| 48 | TGC progenitors                 | #67000d | <!----> |\n",
       "| 49 | p-TGC                           | #2e7ebc | <!----> |\n",
       "| 50 | SpA-TGC                         | #ff78fa | <!----> |\n",
       "\n"
      ],
      "text/plain": [
       "   group                           color   gene\n",
       "1  Forebrain/Midbrain/Hindbrain    #647A4F     \n",
       "2  Rostral neural plate            #649146     \n",
       "3  Surface ectoderm                #f7f79e     \n",
       "4  Neural crest                    #C3C388     \n",
       "5  Caudal neural plate             #354E23     \n",
       "6  Neural tube/Floor plate         #CDE088     \n",
       "7  Definitive ectoderm             #90BF75     \n",
       "8  Tail bud - neural               #8e7e59     \n",
       "9  Epiblast                        #635547     \n",
       "10 PGC                             #FACB12     \n",
       "11 Caudal epiblast                 #9e6762     \n",
       "12 Primitive streak                #DABE99     \n",
       "13 Tail bud - mesoderm             #703C37     \n",
       "14 Late nascent mesoderm           #DFCDE4     \n",
       "15 Early nascent mesoderm          #C594BF     \n",
       "16 Caudal mesoderm                 #1a3f52     \n",
       "17 Presomitic mesoderm             #A8DBF7     \n",
       "18 Somitic mesoderm                #1AA2EB     \n",
       "19 Paraxial mesoderm               #408DA1     \n",
       "20 Rostral mesoderm                #8DB5CE     \n",
       "21 Cardiopharyngeal mesoderm       #53f1fc     \n",
       "22 Cardiomyocytes                  #B51D8D     \n",
       "23 Amnion/Chorion progenitor       #cc7818     \n",
       "24 Amnion/Chorion                  #824A09     \n",
       "25 Lateral & intermediate mesoderm #45d1c5     \n",
       "26 ExE mesoderm                    #8870ad     \n",
       "27 Allantois                       #532C8A     \n",
       "28 Haematoendothelial progenitors  #FBBE92     \n",
       "29 Endothelial cells               #ff891c     \n",
       "30 Blood progenitors               #c9a997     \n",
       "31 Erythroid 1                     #C72228     \n",
       "32 Erythroid 2                     #D96B2B     \n",
       "33 Erythroid 3                     #FF5608     \n",
       "34 Anterior Primitive Streak       #c19f70     \n",
       "35 Node/Notochord                  #0F4A9C     \n",
       "36 Definitive endoderm             #F397C0     \n",
       "37 Gut                             #EF5A9D     \n",
       "38 Hindgut                         #F25CD4     \n",
       "39 Visceral endoderm               #F6BFCB     \n",
       "40 Visceral endoderm - anterior    #BA9BA1     \n",
       "41 ExE visceral endoderm           #7F6874     \n",
       "42 Parietal endoderm               #1A1A1A     \n",
       "43 Chorion                         #ffad1e     \n",
       "44 Chorion progenitors             #ffd854     \n",
       "45 Intermediate Chorion            #b2b2b2     \n",
       "46 SpT-Gly                         #19ce5b     \n",
       "47 EPC progenitors                 #d6616b     \n",
       "48 TGC progenitors                 #67000d     \n",
       "49 p-TGC                           #2e7ebc     \n",
       "50 SpA-TGC                         #ff78fa     "
      ]
     },
     "metadata": {},
     "output_type": "display_data"
    }
   ],
   "source": [
    "mc = scdb_mc(\"embexe_recolored\")\n",
    "mat = scdb_mat(\"embexe\")\n",
    "\n",
    "mc@color_key"
   ]
  },
  {
   "cell_type": "code",
   "execution_count": 5,
   "id": "d167f302",
   "metadata": {},
   "outputs": [],
   "source": [
    "# first create a matrix and metacell object with embryonic cells only\n",
    "mc_f = c(1:ncol(mc@e_gc))[(mc@colors %in% mc@color_key$color[1:41])]\n",
    "\n",
    "df_old_to_new_mc_id = data.frame(metacell_id_embexe = mc_f,metacell_id_emb = c(1:length(mc_f)))\n",
    "write.table(x = df_old_to_new_mc_id,file = 'data/embexe_to_emb.old_to_new_metacell_ids.tsv',sep = '\\t')"
   ]
  },
  {
   "cell_type": "code",
   "execution_count": 6,
   "id": "3da1ed89",
   "metadata": {},
   "outputs": [
    {
     "name": "stderr",
     "output_type": "stream",
     "text": [
      "add batch counts\n",
      "\n",
      "compute footprints\n",
      "\n",
      "compute absolute ps\n",
      "\n",
      "compute coverage ps\n",
      "\n",
      "Warning message in gzfile(file, \"wb\"):\n",
      "\"cannot open compressed file 'scrna_db//mc.emb.Rda', probable reason 'Permission denied'\"\n"
     ]
    },
    {
     "ename": "ERROR",
     "evalue": "Error in gzfile(file, \"wb\"): cannot open the connection\n",
     "output_type": "error",
     "traceback": [
      "Error in gzfile(file, \"wb\"): cannot open the connection\nTraceback:\n",
      "1. mcell_new_mc(mc_id = \"emb\", mc = cells_to_mc, outliers = character(0), \n .     scmat = mat_emb)",
      "2. scdb_add_mc(mc_id, tgMCCov(mc, outliers, scmat))",
      "3. .scdb_add_obj(id, \"mc\", mc)",
      "4. save(object, file = fn)",
      "5. gzfile(file, \"wb\")"
     ]
    }
   ],
   "source": [
    "old_to_new_mc = c(1:length(mc_f))\n",
    "names(old_to_new_mc) = mc_f\n",
    "cells_filtered = names(mc@mc)[mc@mc %in% mc_f]\n",
    "\n",
    "mat_emb = scm_new_matrix(mat = mat@mat[,cells_filtered],cell_metadata = mat@cell_metadata[cells_filtered,],stat_type = 'umi')\n",
    "\n",
    "\n",
    "new_colors = mc@colors[mc_f]\n",
    "\n",
    "new_color_key = mc@color_key[1:41,]\n",
    "rownames(new_color_key) = c(1:nrow(new_color_key))\n",
    "\n",
    "cells_to_mc = old_to_new_mc[as.character(mc@mc[cells_filtered])]\n",
    "names(cells_to_mc) = cells_filtered\n",
    "\n",
    "mcell_new_mc(mc_id = \"emb\",mc = cells_to_mc,outliers = character(0),scmat = mat_emb)\n",
    "\n"
   ]
  },
  {
   "cell_type": "code",
   "execution_count": null,
   "id": "8a67fe60",
   "metadata": {},
   "outputs": [],
   "source": [
    "mc = scdb_mc(\"emb\")"
   ]
  },
  {
   "cell_type": "code",
   "execution_count": null,
   "id": "6812304a",
   "metadata": {},
   "outputs": [],
   "source": [
    "mc@colors = new_colors\n",
    "mc@color_key = new_color_key\n",
    "scdb_add_mc(id = \"emb\",mc = mc)"
   ]
  },
  {
   "cell_type": "code",
   "execution_count": null,
   "id": "070651f7",
   "metadata": {},
   "outputs": [],
   "source": [
    "mat_emb@cell_metadata$age_group_emb = mat_emb@cell_metadata$age_group - 1"
   ]
  },
  {
   "cell_type": "code",
   "execution_count": null,
   "id": "0852bb06",
   "metadata": {},
   "outputs": [],
   "source": [
    "scdb_add_mat(id = \"emb\",mat = mat_emb)"
   ]
  },
  {
   "cell_type": "markdown",
   "id": "e0548852",
   "metadata": {},
   "source": [
    "In preparation for the network flow model of the embryonic manifold, we also create an mgraph object for the embryonic manifold."
   ]
  },
  {
   "cell_type": "code",
   "execution_count": null,
   "id": "982b4099",
   "metadata": {},
   "outputs": [],
   "source": [
    "source(\"scripts/gen_mgraph.r\")"
   ]
  },
  {
   "cell_type": "markdown",
   "id": "4ffcf2ac",
   "metadata": {},
   "source": [
    "### Next create ExE manifold"
   ]
  },
  {
   "cell_type": "code",
   "execution_count": 7,
   "id": "080f42f0",
   "metadata": {},
   "outputs": [],
   "source": [
    "# first create a matrix and metacell object with exe cells only\n",
    "mc_f = c(1:ncol(mc@e_gc))[(mc@colors %in% mc@color_key$color[43:50])]\n",
    "\n",
    "df_old_to_new_mc_id = data.frame(metacell_id_embexe = mc_f,metacell_id_exe = c(1:length(mc_f)))\n",
    "write.table(x = df_old_to_new_mc_id,file = 'data/embexe_to_exe.old_to_new_metacell_ids.tsv',sep = '\\t')"
   ]
  },
  {
   "cell_type": "code",
   "execution_count": null,
   "id": "6351e0d6",
   "metadata": {},
   "outputs": [],
   "source": [
    "old_to_new_mc = c(1:length(mc_f))\n",
    "names(old_to_new_mc) = mc_f\n",
    "cells_filtered = names(mc@mc)[mc@mc %in% mc_f]\n",
    "\n",
    "mat_exe = scm_new_matrix(mat = mat@mat[,cells_filtered],cell_metadata = mat@cell_metadata[cells_filtered,],stat_type = 'umi')\n",
    "\n",
    "\n",
    "new_colors = mc@colors[mc_f]\n",
    "\n",
    "new_color_key = mc@color_key[43:50,]\n",
    "rownames(new_color_key) = c(1:nrow(new_color_key))\n",
    "\n",
    "cells_to_mc = old_to_new_mc[as.character(mc@mc[cells_filtered])]\n",
    "names(cells_to_mc) = cells_filtered\n",
    "\n",
    "mcell_new_mc(mc_id = \"exe\",mc = cells_to_mc,outliers = character(0),scmat = mat_exe)\n",
    "\n"
   ]
  },
  {
   "cell_type": "code",
   "execution_count": null,
   "id": "ff42cf8a",
   "metadata": {},
   "outputs": [],
   "source": [
    "mc = scdb_mc(\"exe\")\n",
    "mc@colors = new_colors\n",
    "mc@color_key = new_color_key\n",
    "scdb_add_mc(id = \"exe\",mc = mc)"
   ]
  },
  {
   "cell_type": "code",
   "execution_count": null,
   "id": "3e38408d",
   "metadata": {},
   "outputs": [],
   "source": [
    "scdb_add_mat(id = \"exe\",mat = mat_exe)"
   ]
  },
  {
   "cell_type": "code",
   "execution_count": null,
   "id": "12824558",
   "metadata": {},
   "outputs": [],
   "source": []
  }
 ],
 "metadata": {
  "kernelspec": {
   "display_name": "R",
   "language": "R",
   "name": "ir353"
  },
  "language_info": {
   "codemirror_mode": "r",
   "file_extension": ".r",
   "mimetype": "text/x-r-source",
   "name": "R",
   "pygments_lexer": "r",
   "version": "4.0.5"
  }
 },
 "nbformat": 4,
 "nbformat_minor": 5
}
